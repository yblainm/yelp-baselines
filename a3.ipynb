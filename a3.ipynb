{
 "cells": [
  {
   "cell_type": "code",
   "execution_count": 3,
   "metadata": {
    "collapsed": true
   },
   "outputs": [],
   "source": [
    "from nltk import word_tokenize\n",
    "from sklearn.feature_extraction.text import CountVectorizer\n",
    "import re, numpy as np, os"
   ]
  },
  {
   "cell_type": "code",
   "execution_count": 4,
   "metadata": {},
   "outputs": [],
   "source": [
    "def prepare_data(path):\n",
    "\t\"\"\"\n",
    "\t:param text: raw text file\n",
    "\t:type text: str\n",
    "\t:return list of str lines, list of int labels\n",
    "\t\"\"\"\n",
    "\traw = []    # Raw lines\n",
    "\tlines = []  # Tokenized\n",
    "\tlabels = [] # Labels\n",
    "\twith open(path, mode=\"r\", encoding=\"utf-8\") as f:\n",
    "\t\ttext = f.readlines()\n",
    "\t\tfor line in text:\n",
    "\t\t\tif len(line) > 0:\n",
    "\t\t\t\traw.append(prepare_text(line[:-3]))     # :-2 to exclude \\t\n",
    "\t\t\t\tlines.append(prepare_text(line[:-3], token=True))\n",
    "\t\t\t\tlabels.append(int(line[-2]))            # The label\n",
    "\treturn raw, lines, labels\n",
    "\n",
    "\n",
    "def prepare_text(text, token=False):\n",
    "\treturn word_tokenize(re.sub(r'\\W', ' ', text.lower().replace('\\'',''))) \\\n",
    "\t\tif token else re.sub(r'\\W', ' ', text.lower().replace('\\'',''))\n",
    "\n",
    "\n",
    "def datafromfile(path):\n",
    "\twith open(path, mode=\"r\", encoding=\"utf-8\") as f:\n",
    "\t\ttext = f.read()\n",
    "\t\tf.close()\n",
    "\n",
    "\traw, lines, labels = prepare_data(path)\n",
    "\treturn text, raw, lines, labels\n",
    "\n",
    "\n",
    "def export_vocabulary(path, raw, vectorizer):\n",
    "\t\"\"\"\n",
    "\n",
    "\t:param raw: entire raw corpus text string\n",
    "\t:param vectorizer: pre-fit vectorizer\n",
    "\t:type vectorizer CountVectorizer\n",
    "\t:type raw list\n",
    "\t\"\"\"\n",
    "\n",
    "\tx = vectorizer.transform(raw)\n",
    "\t# [word, id, frequency]\n",
    "\tfeaturenames = vectorizer.get_feature_names()\n",
    "\tindices = { k : featurenames.index(k) for k in vectorizer.vocabulary_.keys()}\n",
    "\tvocab = [k+\" \"+str(indices[k])+\" \"+str(x[0,indices[k]])+\"\\n\" for k,v in vectorizer.vocabulary_.items()]\n",
    "\twith open(path, \"w\") as f:\n",
    "\t\tf.writelines(vocab)\n",
    "\t\tf.close()\n",
    "\treturn vocab\n",
    "\n",
    "\n",
    "def export_data(fname, x_tokens, vectorizer, y):\n",
    "\t'''\n",
    "\n",
    "\t:param vectorizer:\n",
    "\t:type vectorizer CountVectorizer\n",
    "\t:return:\n",
    "\t'''\n",
    "\tout = \"\"\n",
    "\tfor i in range(0, len(y)):\n",
    "\t\tfor token in x_tokens[i]:\n",
    "\t\t\tidx = vectorizer.vocabulary_.get(token)\n",
    "\t\t\tif idx:\n",
    "\t\t\t\tout += str(vectorizer.vocabulary_[token])\n",
    "\t\t\t\tout += \" \"\n",
    "\t\tout = out[:-1] + \"\\t\" + str(y[i]) + \"\\n\"\n",
    "\twith open(fname, mode=\"w\", encoding=\"utf-8\") as f:\n",
    "\t\tf.write(out)\n",
    "\t\tf.close()"
   ]
  },
  {
   "cell_type": "code",
   "execution_count": null,
   "metadata": {},
   "outputs": [],
   "source": [
    "yelp_train_raw, yelp_train_rawlines, yelp_train_tokenlines, yelp_train_y = \\\n",
    "\tdatafromfile(os.path.join(\"data\",\"yelp-train.txt\"))\n",
    "yelp_valid_raw, yelp_valid_rawlines, yelp_valid_tokenlines, yelp_valid_y = \\\n",
    "\tdatafromfile(os.path.join(\"data\",\"yelp-valid.txt\"))\n",
    "yelp_test_raw, yelp_test_rawlines, yelp_test_tokenlines, yelp_test_y = \\\n",
    "\tdatafromfile(os.path.join(\"data\",\"yelp-test.txt\"))\n",
    "\n",
    "yelp_vectorizer_bbow = CountVectorizer(max_features=10000, binary=True)\n",
    "yelp_bbow_train_x = yelp_vectorizer_bbow.fit_transform(np.array(yelp_train_rawlines))\n",
    "yelp_bbow_valid_x = yelp_vectorizer_bbow.transform(np.array(yelp_valid_rawlines))\n",
    "yelp_bbow_test_x = yelp_vectorizer_bbow.transform(np.array(yelp_test_rawlines))\n",
    "\n",
    "yelp_train_y = np.array(yelp_train_y)\n",
    "yelp_valid_y = np.array(yelp_valid_y)\n",
    "yelp_test_y = np.array(yelp_test_y)\n",
    "\n",
    "yelp_vectorizer = CountVectorizer(max_features=10000)\n",
    "yelp_fbow_train_x = yelp_vectorizer.fit_transform(np.array(yelp_train_rawlines))\n",
    "yelp_fbow_valid_x = yelp_vectorizer.transform(np.array(yelp_valid_rawlines))\n",
    "yelp_fbow_test_x = yelp_vectorizer.transform(np.array(yelp_test_rawlines))\n"
   ]
  },
  {
   "cell_type": "code",
   "execution_count": null,
   "metadata": {},
   "outputs": [],
   "source": [
    "IMDB_train_raw, IMDB_train_rawlines, IMDB_train_tokenlines, IMDB_train_y = \\\n",
    "\tdatafromfile(os.path.join(\"data\",\"IMDB-train.txt\"))\n",
    "IMDB_valid_raw, IMDB_valid_rawlines, IMDB_valid_tokenlines, IMDB_valid_y = \\\n",
    "\tdatafromfile(os.path.join(\"data\",\"IMDB-valid.txt\"))\n",
    "IMDB_test_raw, IMDB_test_rawlines, IMDB_test_tokenlines, IMDB_test_y = \\\n",
    "\tdatafromfile(os.path.join(\"data\",\"IMDB-test.txt\"))\n",
    "\n",
    "IMDB_vectorizer_bbow = CountVectorizer(max_features=10000, binary=True)\n",
    "IMDB_bbow_train_x = IMDB_vectorizer_bbow.fit_transform(np.array(IMDB_train_rawlines))\n",
    "IMDB_bbow_valid_x = IMDB_vectorizer_bbow.transform(np.array(IMDB_valid_rawlines))\n",
    "IMDB_bbow_test_x = IMDB_vectorizer_bbow.transform(np.array(IMDB_test_rawlines))\n",
    "\n",
    "IMDB_train_y = np.array(IMDB_train_y)\n",
    "IMDB_valid_y = np.array(IMDB_valid_y)\n",
    "IMDB_test_y = np.array(IMDB_test_y)\n",
    "\n",
    "IMDB_vectorizer_fbow = CountVectorizer(max_features=10000)\n",
    "IMDB_fbow_train_x = IMDB_vectorizer_fbow.fit_transform(np.array(IMDB_train_rawlines))\n",
    "IMDB_fbow_valid_x = IMDB_vectorizer_fbow.transform(np.array(IMDB_valid_rawlines))\n",
    "IMDB_fbow_test_x = IMDB_vectorizer_fbow.transform(np.array(IMDB_test_rawlines))\n"
   ]
  },
  {
   "cell_type": "code",
   "execution_count": 8,
   "metadata": {},
   "outputs": [],
   "source": [
    "from sklearn.dummy import DummyClassifier"
   ]
  },
  {
   "cell_type": "code",
   "execution_count": 9,
   "metadata": {},
   "outputs": [],
   "source": [
    "randomClassifier = DummyClassifier(strategy=\"uniform\")\n",
    "majorityClassifier = DummyClassifier(strategy=\"most_frequent\")"
   ]
  },
  {
   "cell_type": "code",
   "execution_count": 10,
   "metadata": {},
   "outputs": [
    {
     "data": {
      "text/plain": [
       "DummyClassifier(constant=None, random_state=None, strategy='most_frequent')"
      ]
     },
     "execution_count": 10,
     "metadata": {},
     "output_type": "execute_result"
    }
   ],
   "source": [
    "randomClassifier.fit(IMDB_bbow_train_x, IMDB_train_y)\n",
    "majorityClassifier.fit(IMDB_bbow_train_x, IMDB_train_y)"
   ]
  },
  {
   "cell_type": "code",
   "execution_count": 11,
   "metadata": {},
   "outputs": [],
   "source": [
    "from sklearn.metrics import f1_score"
   ]
  },
  {
   "cell_type": "code",
   "execution_count": 12,
   "metadata": {},
   "outputs": [
    {
     "name": "stdout",
     "output_type": "stream",
     "text": [
      "0.5056697519733943\n"
     ]
    }
   ],
   "source": [
    "IMDB_bbow_test_pred = randomClassifier.predict(IMDB_bbow_test_x)\n",
    "print(f1_score(IMDB_test_y,IMDB_bbow_test_pred))"
   ]
  },
  {
   "cell_type": "code",
   "execution_count": 13,
   "metadata": {},
   "outputs": [
    {
     "name": "stdout",
     "output_type": "stream",
     "text": [
      "0.0\n"
     ]
    },
    {
     "name": "stderr",
     "output_type": "stream",
     "text": [
      "C:\\Program Files\\Python37\\lib\\site-packages\\sklearn\\metrics\\classification.py:1143: UndefinedMetricWarning: F-score is ill-defined and being set to 0.0 due to no predicted samples.\n  'precision', 'predicted', average, warn_for)\n"
     ]
    }
   ],
   "source": [
    "IMDB_bbow_test_pred = majorityClassifier.predict(IMDB_bbow_test_x)\n",
    "print(f1_score(IMDB_test_y,IMDB_bbow_test_pred))"
   ]
  },
  {
   "cell_type": "code",
   "execution_count": 14,
   "metadata": {},
   "outputs": [],
   "source": [
    "import parfit.parfit as pf\n",
    "from sklearn.model_selection import ParameterGrid"
   ]
  },
  {
   "cell_type": "code",
   "execution_count": 17,
   "metadata": {},
   "outputs": [],
   "source": [
    "from sklearn.naive_bayes import BernoulliNB, GaussianNB\n",
    "from sklearn.svm import LinearSVC\n",
    "from sklearn.tree import DecisionTreeClassifier"
   ]
  },
  {
   "cell_type": "code",
   "execution_count": 62,
   "metadata": {},
   "outputs": [],
   "source": [
    "params_bnb = ParameterGrid({\n",
    "    'alpha' : np.logspace(0,3,10)\n",
    "})\n",
    "params_gnb = ParameterGrid({\n",
    "    'var_smoothing' : np.logspace(-9, 1, 10)\n",
    "})\n",
    "params_svc = ParameterGrid({\n",
    "    'loss' : ['squared_hinge'],\n",
    "\t'dual' : [False, True],\n",
    "\t'C' : np.logspace(-1, 1, 5)\n",
    "})\n",
    "depths = [None]\n",
    "depths.extend(np.logspace(0, 2, 5).tolist())\n",
    "maxfeatures = [None, 'auto', 'sqrt', 'log2']\n",
    "params_tree = ParameterGrid({\n",
    "\t'criterion' : ['gini', 'entropy'],\n",
    "\t'max_depth' : depths,\n",
    "    'splitter' : ['best', 'random'],\n",
    "    'max_features' : maxfeatures\n",
    "})"
   ]
  },
  {
   "cell_type": "code",
   "execution_count": 65,
   "metadata": {},
   "outputs": [
    {
     "name": "stdout",
     "output_type": "stream",
     "text": [
      "[{'alpha': array([   1.        ,    2.15443469,    4.64158883,   10.        ,\n         21.5443469 ,   46.41588834,  100.        ,  215.443469  ,\n        464.15888336, 1000.        ])}]\n[{'var_smoothing': array([1.00000000e-09, 1.29154967e-08, 1.66810054e-07, 2.15443469e-06,\n       2.78255940e-05, 3.59381366e-04, 4.64158883e-03, 5.99484250e-02,\n       7.74263683e-01, 1.00000000e+01])}]\n[{'loss': ['squared_hinge'], 'dual': [False, True], 'C': array([ 0.1       ,  0.31622777,  1.        ,  3.16227766, 10.        ])}]\n[{'criterion': ['gini', 'entropy'], 'max_depth': [None, 1.0, 3.1622776601683795, 10.0, 31.622776601683793, 100.0], 'splitter': ['best', 'random'], 'max_features': [None, 'auto', 'sqrt', 'log2']}]\n"
     ]
    }
   ],
   "source": [
    "print(params_bnb.param_grid, params_gnb.param_grid, params_svc.param_grid, params_tree.param_grid, sep='\\n')"
   ]
  },
  {
   "cell_type": "code",
   "execution_count": 66,
   "metadata": {
    "collapsed": true
   },
   "outputs": [
    {
     "name": "stdout",
     "output_type": "stream",
     "text": [
      "-------------FITTING MODELS-------------\n"
     ]
    },
    {
     "name": "stderr",
     "output_type": "stream",
     "text": [
      "[Parallel(n_jobs=-1)]: Using backend LokyBackend with 4 concurrent workers.\n"
     ]
    },
    {
     "name": "stderr",
     "output_type": "stream",
     "text": [
      "[Parallel(n_jobs=-1)]: Done   5 out of  10 | elapsed:    7.8s remaining:    7.8s\n[Parallel(n_jobs=-1)]: Done   7 out of  10 | elapsed:    7.9s remaining:    3.3s\n[Parallel(n_jobs=-1)]: Done  10 out of  10 | elapsed:    7.9s finished\n[Parallel(n_jobs=-1)]: Using backend LokyBackend with 4 concurrent workers.\n[Parallel(n_jobs=-1)]: Done   3 out of  10 | elapsed:    0.0s remaining:    0.2s\n"
     ]
    },
    {
     "name": "stdout",
     "output_type": "stream",
     "text": [
      "-------------SCORING MODELS-------------\n"
     ]
    },
    {
     "name": "stderr",
     "output_type": "stream",
     "text": [
      "[Parallel(n_jobs=-1)]: Done  10 out of  10 | elapsed:    0.2s finished\n"
     ]
    },
    {
     "data": {
      "image/png": "[encoded data removed]",
      "text/plain": [
       "<Figure size 576x432 with 1 Axes>"
      ]
     },
     "metadata": {},
     "output_type": "display_data"
    }
   ],
   "source": [
    "best_bbow_nb, best_bbow_nb_score_valid, all_models, all_scores = pf.bestFit(\n",
    "    BernoulliNB, params_bnb, IMDB_bbow_train_x, IMDB_train_y, IMDB_bbow_valid_x, IMDB_valid_y, metric=f1_score)"
   ]
  },
  {
   "cell_type": "code",
   "execution_count": 67,
   "metadata": {
    "collapsed": false
   },
   "outputs": [
    {
     "name": "stdout",
     "output_type": "stream",
     "text": [
      "BernoulliNB(alpha=2.154434690031884, binarize=0.0, class_prior=None,\n      fit_prior=True)\n0.8413021363173957\n[BernoulliNB(alpha=1.0, binarize=0.0, class_prior=None, fit_prior=True), BernoulliNB(alpha=2.154434690031884, binarize=0.0, class_prior=None,\n      fit_prior=True), BernoulliNB(alpha=4.641588833612778, binarize=0.0, class_prior=None,\n      fit_prior=True), BernoulliNB(alpha=10.0, binarize=0.0, class_prior=None, fit_prior=True), BernoulliNB(alpha=21.544346900318832, binarize=0.0, class_prior=None,\n      fit_prior=True), BernoulliNB(alpha=46.41588833612777, binarize=0.0, class_prior=None,\n      fit_prior=True), BernoulliNB(alpha=100.0, binarize=0.0, class_prior=None, fit_prior=True), BernoulliNB(alpha=215.44346900318823, binarize=0.0, class_prior=None,\n      fit_prior=True), BernoulliNB(alpha=464.15888336127773, binarize=0.0, class_prior=None,\n      fit_prior=True), BernoulliNB(alpha=1000.0, binarize=0.0, class_prior=None, fit_prior=True)]\n[0.8407268297634758, 0.8413021363173957, 0.8387888707037643, 0.8362211221122112, 0.8320267586495244, 0.8200470185937166, 0.7961250550418317, 0.7682843472317156, 0.7231503579952268, 0.6632988128315231]\n"
     ]
    }
   ],
   "source": [
    "print(best_bbow_nb, best_bbow_nb_score_valid, all_models, all_scores, sep='\\n')"
   ]
  },
  {
   "cell_type": "code",
   "execution_count": 68,
   "metadata": {
    "collapsed": true
   },
   "outputs": [
    {
     "name": "stdout",
     "output_type": "stream",
     "text": [
      "-------------FITTING MODELS-------------\n"
     ]
    },
    {
     "name": "stderr",
     "output_type": "stream",
     "text": [
      "[Parallel(n_jobs=1)]: Using backend SequentialBackend with 1 concurrent workers.\n"
     ]
    },
    {
     "name": "stderr",
     "output_type": "stream",
     "text": [
      "[Parallel(n_jobs=1)]: Done   1 out of   1 | elapsed:    1.0s remaining:    0.0s\n"
     ]
    },
    {
     "name": "stderr",
     "output_type": "stream",
     "text": [
      "[Parallel(n_jobs=1)]: Done   2 out of   2 | elapsed:    1.7s remaining:    0.0s\n"
     ]
    },
    {
     "name": "stderr",
     "output_type": "stream",
     "text": [
      "[Parallel(n_jobs=1)]: Done   3 out of   3 | elapsed:    3.3s remaining:    0.0s\n"
     ]
    },
    {
     "name": "stderr",
     "output_type": "stream",
     "text": [
      "[Parallel(n_jobs=1)]: Done   4 out of   4 | elapsed:    4.5s remaining:    0.0s\n"
     ]
    },
    {
     "name": "stderr",
     "output_type": "stream",
     "text": [
      "[Parallel(n_jobs=1)]: Done   5 out of   5 | elapsed:   10.2s remaining:    0.0s\n"
     ]
    },
    {
     "name": "stderr",
     "output_type": "stream",
     "text": [
      "[Parallel(n_jobs=1)]: Done   6 out of   6 | elapsed:   12.8s remaining:    0.0s\n"
     ]
    },
    {
     "name": "stderr",
     "output_type": "stream",
     "text": [
      "[Parallel(n_jobs=1)]: Done   7 out of   7 | elapsed:   26.0s remaining:    0.0s\n"
     ]
    },
    {
     "name": "stderr",
     "output_type": "stream",
     "text": [
      "[Parallel(n_jobs=1)]: Done   8 out of   8 | elapsed:   29.7s remaining:    0.0s\n"
     ]
    },
    {
     "name": "stderr",
     "output_type": "stream",
     "text": [
      "[Parallel(n_jobs=1)]: Done   9 out of   9 | elapsed:   46.5s remaining:    0.0s\n"
     ]
    },
    {
     "name": "stdout",
     "output_type": "stream",
     "text": [
      "-------------SCORING MODELS-------------\nThis model/metric cannot use predict_proba. Using predict for scoring instead.\nThis model/metric cannot use predict_proba. Using predict for scoring instead.\nThis model/metric cannot use predict_proba. Using predict for scoring instead.\nThis model/metric cannot use predict_proba. Using predict for scoring instead.\nThis model/metric cannot use predict_proba. Using predict for scoring instead.\nThis model/metric cannot use predict_proba. Using predict for scoring instead.\nThis model/metric cannot use predict_proba. Using predict for scoring instead.\nThis model/metric cannot use predict_proba. Using predict for scoring instead.\nThis model/metric cannot use predict_proba. Using predict for scoring instead.\nThis model/metric cannot use predict_proba. Using predict for scoring instead.\n"
     ]
    },
    {
     "name": "stderr",
     "output_type": "stream",
     "text": [
      "[Parallel(n_jobs=1)]: Done  10 out of  10 | elapsed:   49.0s finished\n[Parallel(n_jobs=1)]: Using backend SequentialBackend with 1 concurrent workers.\n[Parallel(n_jobs=1)]: Done  10 out of  10 | elapsed:    0.0s finished\n"
     ]
    },
    {
     "data": {
      "image/png": "[encoded data removed]",
      "text/plain": [
       "<Figure size 144x288 with 2 Axes>"
      ]
     },
     "metadata": {},
     "output_type": "display_data"
    }
   ],
   "source": [
    "best_bbow_svc, best_bbow_svc_score_valid, all_models, all_scores = pf.bestFit(\n",
    "    LinearSVC, params_svc, IMDB_bbow_train_x, IMDB_train_y, IMDB_bbow_valid_x, IMDB_valid_y, metric=f1_score, n_jobs=1)"
   ]
  },
  {
   "cell_type": "code",
   "execution_count": 69,
   "metadata": {
    "collapsed": true
   },
   "outputs": [
    {
     "name": "stdout",
     "output_type": "stream",
     "text": [
      "LinearSVC(C=0.1, class_weight=None, dual=False, fit_intercept=True,\n     intercept_scaling=1, loss='squared_hinge', max_iter=1000,\n     multi_class='ovr', penalty='l2', random_state=None, tol=0.0001,\n     verbose=0)\n0.8577142285771424\n[LinearSVC(C=0.1, class_weight=None, dual=False, fit_intercept=True,\n     intercept_scaling=1, loss='squared_hinge', max_iter=1000,\n     multi_class='ovr', penalty='l2', random_state=None, tol=0.0001,\n     verbose=0), LinearSVC(C=0.1, class_weight=None, dual=True, fit_intercept=True,\n     intercept_scaling=1, loss='squared_hinge', max_iter=1000,\n     multi_class='ovr', penalty='l2', random_state=None, tol=0.0001,\n     verbose=0), LinearSVC(C=0.31622776601683794, class_weight=None, dual=False,\n     fit_intercept=True, intercept_scaling=1, loss='squared_hinge',\n     max_iter=1000, multi_class='ovr', penalty='l2', random_state=None,\n     tol=0.0001, verbose=0), LinearSVC(C=0.31622776601683794, class_weight=None, dual=True,\n     fit_intercept=True, intercept_scaling=1, loss='squared_hinge',\n     max_iter=1000, multi_class='ovr', penalty='l2', random_state=None,\n     tol=0.0001, verbose=0), LinearSVC(C=1.0, class_weight=None, dual=False, fit_intercept=True,\n     intercept_scaling=1, loss='squared_hinge', max_iter=1000,\n     multi_class='ovr', penalty='l2', random_state=None, tol=0.0001,\n     verbose=0), LinearSVC(C=1.0, class_weight=None, dual=True, fit_intercept=True,\n     intercept_scaling=1, loss='squared_hinge', max_iter=1000,\n     multi_class='ovr', penalty='l2', random_state=None, tol=0.0001,\n     verbose=0), LinearSVC(C=3.1622776601683795, class_weight=None, dual=False,\n     fit_intercept=True, intercept_scaling=1, loss='squared_hinge',\n     max_iter=1000, multi_class='ovr', penalty='l2', random_state=None,\n     tol=0.0001, verbose=0), LinearSVC(C=3.1622776601683795, class_weight=None, dual=True,\n     fit_intercept=True, intercept_scaling=1, loss='squared_hinge',\n     max_iter=1000, multi_class='ovr', penalty='l2', random_state=None,\n     tol=0.0001, verbose=0), LinearSVC(C=10.0, class_weight=None, dual=False, fit_intercept=True,\n     intercept_scaling=1, loss='squared_hinge', max_iter=1000,\n     multi_class='ovr', penalty='l2', random_state=None, tol=0.0001,\n     verbose=0), LinearSVC(C=10.0, class_weight=None, dual=True, fit_intercept=True,\n     intercept_scaling=1, loss='squared_hinge', max_iter=1000,\n     multi_class='ovr', penalty='l2', random_state=None, tol=0.0001,\n     verbose=0)]\n[0.8577142285771424, 0.8577142285771424, 0.846608556256888, 0.8467241033860949, 0.8392337779560727, 0.8381468110709989, 0.8357429718875502, 0.8367285499247367, 0.8374661178596526, 0.8349066077525608]\n"
     ]
    }
   ],
   "source": [
    "print(best_bbow_svc, best_bbow_svc_score_valid, all_models, all_scores, sep='\\n')"
   ]
  },
  {
   "cell_type": "code",
   "execution_count": 70,
   "metadata": {
    "collapsed": false
   },
   "outputs": [
    {
     "name": "stdout",
     "output_type": "stream",
     "text": [
      "-------------FITTING MODELS-------------\n"
     ]
    },
    {
     "name": "stderr",
     "output_type": "stream",
     "text": [
      "[Parallel(n_jobs=-1)]: Using backend LokyBackend with 4 concurrent workers.\n"
     ]
    },
    {
     "name": "stderr",
     "output_type": "stream",
     "text": [
      "[Parallel(n_jobs=-1)]: Done   5 tasks      | elapsed:    1.7s\n"
     ]
    },
    {
     "name": "stderr",
     "output_type": "stream",
     "text": [
      "[Parallel(n_jobs=-1)]: Done  10 tasks      | elapsed:    2.1s\n"
     ]
    },
    {
     "name": "stderr",
     "output_type": "stream",
     "text": [
      "[Parallel(n_jobs=-1)]: Done  17 tasks      | elapsed:    2.7s\n"
     ]
    },
    {
     "name": "stderr",
     "output_type": "stream",
     "text": [
      "[Parallel(n_jobs=-1)]: Done  24 tasks      | elapsed:    5.0s\n"
     ]
    },
    {
     "name": "stderr",
     "output_type": "stream",
     "text": [
      "[Parallel(n_jobs=-1)]: Done  33 tasks      | elapsed:   13.7s\n"
     ]
    },
    {
     "name": "stderr",
     "output_type": "stream",
     "text": [
      "[Parallel(n_jobs=-1)]: Done  42 tasks      | elapsed:   15.4s\n"
     ]
    },
    {
     "name": "stderr",
     "output_type": "stream",
     "text": [
      "[Parallel(n_jobs=-1)]: Done  53 tasks      | elapsed:   26.8s\n"
     ]
    },
    {
     "name": "stderr",
     "output_type": "stream",
     "text": [
      "[Parallel(n_jobs=-1)]: Done  64 tasks      | elapsed:   27.1s\n"
     ]
    },
    {
     "name": "stderr",
     "output_type": "stream",
     "text": [
      "[Parallel(n_jobs=-1)]: Done  77 tasks      | elapsed:   27.6s\n"
     ]
    },
    {
     "name": "stderr",
     "output_type": "stream",
     "text": [
      "[Parallel(n_jobs=-1)]: Done  96 out of  96 | elapsed:   39.5s finished\n[Parallel(n_jobs=-1)]: Using backend LokyBackend with 4 concurrent workers.\n"
     ]
    },
    {
     "name": "stdout",
     "output_type": "stream",
     "text": [
      "-------------SCORING MODELS-------------\n"
     ]
    },
    {
     "name": "stdout",
     "output_type": "stream",
     "text": [
      "Too many dimensions to plot.\n"
     ]
    },
    {
     "name": "stderr",
     "output_type": "stream",
     "text": [
      "[Parallel(n_jobs=-1)]: Done  96 out of  96 | elapsed:    1.1s finished\n"
     ]
    }
   ],
   "source": [
    "best_bbow_tree, best_bbow_tree_score_valid, all_models, all_scores = pf.bestFit(\n",
    "    DecisionTreeClassifier, params_tree, IMDB_bbow_train_x, IMDB_train_y, IMDB_bbow_valid_x, IMDB_valid_y, metric=f1_score)"
   ]
  },
  {
   "cell_type": "code",
   "execution_count": 72,
   "metadata": {
    "collapsed": true
   },
   "outputs": [
    {
     "name": "stdout",
     "output_type": "stream",
     "text": [
      "DecisionTreeClassifier(class_weight=None, criterion='gini', max_depth=10.0,\n            max_features=None, max_leaf_nodes=None,\n            min_impurity_decrease=0.0, min_impurity_split=None,\n            min_samples_leaf=1, min_samples_split=2,\n            min_weight_fraction_leaf=0.0, presort=False, random_state=None,\n            splitter='best')\n0.7514430014430014\n[DecisionTreeClassifier(class_weight=None, criterion='gini', max_depth=None,\n            max_features=None, max_leaf_nodes=None,\n            min_impurity_decrease=0.0, min_impurity_split=None,\n            min_samples_leaf=1, min_samples_split=2,\n            min_weight_fraction_leaf=0.0, presort=False, random_state=None,\n            splitter='best'), DecisionTreeClassifier(class_weight=None, criterion='gini', max_depth=None,\n            max_features=None, max_leaf_nodes=None,\n            min_impurity_decrease=0.0, min_impurity_split=None,\n            min_samples_leaf=1, min_samples_split=2,\n            min_weight_fraction_leaf=0.0, presort=False, random_state=None,\n            splitter='random'), DecisionTreeClassifier(class_weight=None, criterion='gini', max_depth=None,\n            max_features='auto', max_leaf_nodes=None,\n            min_impurity_decrease=0.0, min_impurity_split=None,\n            min_samples_leaf=1, min_samples_split=2,\n            min_weight_fraction_leaf=0.0, presort=False, random_state=None,\n            splitter='best'), DecisionTreeClassifier(class_weight=None, criterion='gini', max_depth=None,\n            max_features='auto', max_leaf_nodes=None,\n            min_impurity_decrease=0.0, min_impurity_split=None,\n            min_samples_leaf=1, min_samples_split=2,\n            min_weight_fraction_leaf=0.0, presort=False, random_state=None,\n            splitter='random'), DecisionTreeClassifier(class_weight=None, criterion='gini', max_depth=None,\n            max_features='sqrt', max_leaf_nodes=None,\n            min_impurity_decrease=0.0, min_impurity_split=None,\n            min_samples_leaf=1, min_samples_split=2,\n            min_weight_fraction_leaf=0.0, presort=False, random_state=None,\n            splitter='best'), DecisionTreeClassifier(class_weight=None, criterion='gini', max_depth=None,\n            max_features='sqrt', max_leaf_nodes=None,\n            min_impurity_decrease=0.0, min_impurity_split=None,\n            min_samples_leaf=1, min_samples_split=2,\n            min_weight_fraction_leaf=0.0, presort=False, random_state=None,\n            splitter='random'), DecisionTreeClassifier(class_weight=None, criterion='gini', max_depth=None,\n            max_features='log2', max_leaf_nodes=None,\n            min_impurity_decrease=0.0, min_impurity_split=None,\n            min_samples_leaf=1, min_samples_split=2,\n            min_weight_fraction_leaf=0.0, presort=False, random_state=None,\n            splitter='best'), DecisionTreeClassifier(class_weight=None, criterion='gini', max_depth=None,\n            max_features='log2', max_leaf_nodes=None,\n            min_impurity_decrease=0.0, min_impurity_split=None,\n            min_samples_leaf=1, min_samples_split=2,\n            min_weight_fraction_leaf=0.0, presort=False, random_state=None,\n            splitter='random'), DecisionTreeClassifier(class_weight=None, criterion='gini', max_depth=1.0,\n            max_features=None, max_leaf_nodes=None,\n            min_impurity_decrease=0.0, min_impurity_split=None,\n            min_samples_leaf=1, min_samples_split=2,\n            min_weight_fraction_leaf=0.0, presort=False, random_state=None,\n            splitter='best'), DecisionTreeClassifier(class_weight=None, criterion='gini', max_depth=1.0,\n            max_features=None, max_leaf_nodes=None,\n            min_impurity_decrease=0.0, min_impurity_split=None,\n            min_samples_leaf=1, min_samples_split=2,\n            min_weight_fraction_leaf=0.0, presort=False, random_state=None,\n            splitter='random'), DecisionTreeClassifier(class_weight=None, criterion='gini', max_depth=1.0,\n            max_features='auto', max_leaf_nodes=None,\n            min_impurity_decrease=0.0, min_impurity_split=None,\n            min_samples_leaf=1, min_samples_split=2,\n            min_weight_fraction_leaf=0.0, presort=False, random_state=None,\n            splitter='best'), DecisionTreeClassifier(class_weight=None, criterion='gini', max_depth=1.0,\n            max_features='auto', max_leaf_nodes=None,\n            min_impurity_decrease=0.0, min_impurity_split=None,\n            min_samples_leaf=1, min_samples_split=2,\n            min_weight_fraction_leaf=0.0, presort=False, random_state=None,\n            splitter='random'), DecisionTreeClassifier(class_weight=None, criterion='gini', max_depth=1.0,\n            max_features='sqrt', max_leaf_nodes=None,\n            min_impurity_decrease=0.0, min_impurity_split=None,\n            min_samples_leaf=1, min_samples_split=2,\n            min_weight_fraction_leaf=0.0, presort=False, random_state=None,\n            splitter='best'), DecisionTreeClassifier(class_weight=None, criterion='gini', max_depth=1.0,\n            max_features='sqrt', max_leaf_nodes=None,\n            min_impurity_decrease=0.0, min_impurity_split=None,\n            min_samples_leaf=1, min_samples_split=2,\n            min_weight_fraction_leaf=0.0, presort=False, random_state=None,\n            splitter='random'), DecisionTreeClassifier(class_weight=None, criterion='gini', max_depth=1.0,\n            max_features='log2', max_leaf_nodes=None,\n            min_impurity_decrease=0.0, min_impurity_split=None,\n            min_samples_leaf=1, min_samples_split=2,\n            min_weight_fraction_leaf=0.0, presort=False, random_state=None,\n            splitter='best'), DecisionTreeClassifier(class_weight=None, criterion='gini', max_depth=1.0,\n            max_features='log2', max_leaf_nodes=None,\n            min_impurity_decrease=0.0, min_impurity_split=None,\n            min_samples_leaf=1, min_samples_split=2,\n            min_weight_fraction_leaf=0.0, presort=False, random_state=None,\n            splitter='random'), DecisionTreeClassifier(class_weight=None, criterion='gini',\n            max_depth=3.1622776601683795, max_features=None,\n            max_leaf_nodes=None, min_impurity_decrease=0.0,\n            min_impurity_split=None, min_samples_leaf=1,\n            min_samples_split=2, min_weight_fraction_leaf=0.0,\n            presort=False, random_state=None, splitter='best'), DecisionTreeClassifier(class_weight=None, criterion='gini',\n            max_depth=3.1622776601683795, max_features=None,\n            max_leaf_nodes=None, min_impurity_decrease=0.0,\n            min_impurity_split=None, min_samples_leaf=1,\n            min_samples_split=2, min_weight_fraction_leaf=0.0,\n            presort=False, random_state=None, splitter='random'), DecisionTreeClassifier(class_weight=None, criterion='gini',\n            max_depth=3.1622776601683795, max_features='auto',\n            max_leaf_nodes=None, min_impurity_decrease=0.0,\n            min_impurity_split=None, min_samples_leaf=1,\n            min_samples_split=2, min_weight_fraction_leaf=0.0,\n            presort=False, random_state=None, splitter='best'), DecisionTreeClassifier(class_weight=None, criterion='gini',\n            max_depth=3.1622776601683795, max_features='auto',\n            max_leaf_nodes=None, min_impurity_decrease=0.0,\n            min_impurity_split=None, min_samples_leaf=1,\n            min_samples_split=2, min_weight_fraction_leaf=0.0,\n            presort=False, random_state=None, splitter='random'), DecisionTreeClassifier(class_weight=None, criterion='gini',\n            max_depth=3.1622776601683795, max_features='sqrt',\n            max_leaf_nodes=None, min_impurity_decrease=0.0,\n            min_impurity_split=None, min_samples_leaf=1,\n            min_samples_split=2, min_weight_fraction_leaf=0.0,\n            presort=False, random_state=None, splitter='best'), DecisionTreeClassifier(class_weight=None, criterion='gini',\n            max_depth=3.1622776601683795, max_features='sqrt',\n            max_leaf_nodes=None, min_impurity_decrease=0.0,\n            min_impurity_split=None, min_samples_leaf=1,\n            min_samples_split=2, min_weight_fraction_leaf=0.0,\n            presort=False, random_state=None, splitter='random'), DecisionTreeClassifier(class_weight=None, criterion='gini',\n            max_depth=3.1622776601683795, max_features='log2',\n            max_leaf_nodes=None, min_impurity_decrease=0.0,\n            min_impurity_split=None, min_samples_leaf=1,\n            min_samples_split=2, min_weight_fraction_leaf=0.0,\n            presort=False, random_state=None, splitter='best'), DecisionTreeClassifier(class_weight=None, criterion='gini',\n            max_depth=3.1622776601683795, max_features='log2',\n            max_leaf_nodes=None, min_impurity_decrease=0.0,\n            min_impurity_split=None, min_samples_leaf=1,\n            min_samples_split=2, min_weight_fraction_leaf=0.0,\n            presort=False, random_state=None, splitter='random'), DecisionTreeClassifier(class_weight=None, criterion='gini', max_depth=10.0,\n            max_features=None, max_leaf_nodes=None,\n            min_impurity_decrease=0.0, min_impurity_split=None,\n            min_samples_leaf=1, min_samples_split=2,\n            min_weight_fraction_leaf=0.0, presort=False, random_state=None,\n            splitter='best'), DecisionTreeClassifier(class_weight=None, criterion='gini', max_depth=10.0,\n            max_features=None, max_leaf_nodes=None,\n            min_impurity_decrease=0.0, min_impurity_split=None,\n            min_samples_leaf=1, min_samples_split=2,\n            min_weight_fraction_leaf=0.0, presort=False, random_state=None,\n            splitter='random'), DecisionTreeClassifier(class_weight=None, criterion='gini', max_depth=10.0,\n            max_features='auto', max_leaf_nodes=None,\n            min_impurity_decrease=0.0, min_impurity_split=None,\n            min_samples_leaf=1, min_samples_split=2,\n            min_weight_fraction_leaf=0.0, presort=False, random_state=None,\n            splitter='best'), DecisionTreeClassifier(class_weight=None, criterion='gini', max_depth=10.0,\n            max_features='auto', max_leaf_nodes=None,\n            min_impurity_decrease=0.0, min_impurity_split=None,\n            min_samples_leaf=1, min_samples_split=2,\n            min_weight_fraction_leaf=0.0, presort=False, random_state=None,\n            splitter='random'), DecisionTreeClassifier(class_weight=None, criterion='gini', max_depth=10.0,\n            max_features='sqrt', max_leaf_nodes=None,\n            min_impurity_decrease=0.0, min_impurity_split=None,\n            min_samples_leaf=1, min_samples_split=2,\n            min_weight_fraction_leaf=0.0, presort=False, random_state=None,\n            splitter='best'), DecisionTreeClassifier(class_weight=None, criterion='gini', max_depth=10.0,\n            max_features='sqrt', max_leaf_nodes=None,\n            min_impurity_decrease=0.0, min_impurity_split=None,\n            min_samples_leaf=1, min_samples_split=2,\n            min_weight_fraction_leaf=0.0, presort=False, random_state=None,\n            splitter='random'), DecisionTreeClassifier(class_weight=None, criterion='gini', max_depth=10.0,\n            max_features='log2', max_leaf_nodes=None,\n            min_impurity_decrease=0.0, min_impurity_split=None,\n            min_samples_leaf=1, min_samples_split=2,\n            min_weight_fraction_leaf=0.0, presort=False, random_state=None,\n            splitter='best'), DecisionTreeClassifier(class_weight=None, criterion='gini', max_depth=10.0,\n            max_features='log2', max_leaf_nodes=None,\n            min_impurity_decrease=0.0, min_impurity_split=None,\n            min_samples_leaf=1, min_samples_split=2,\n            min_weight_fraction_leaf=0.0, presort=False, random_state=None,\n            splitter='random'), DecisionTreeClassifier(class_weight=None, criterion='gini',\n            max_depth=31.622776601683793, max_features=None,\n            max_leaf_nodes=None, min_impurity_decrease=0.0,\n            min_impurity_split=None, min_samples_leaf=1,\n            min_samples_split=2, min_weight_fraction_leaf=0.0,\n            presort=False, random_state=None, splitter='best'), DecisionTreeClassifier(class_weight=None, criterion='gini',\n            max_depth=31.622776601683793, max_features=None,\n            max_leaf_nodes=None, min_impurity_decrease=0.0,\n            min_impurity_split=None, min_samples_leaf=1,\n            min_samples_split=2, min_weight_fraction_leaf=0.0,\n            presort=False, random_state=None, splitter='random'), DecisionTreeClassifier(class_weight=None, criterion='gini',\n            max_depth=31.622776601683793, max_features='auto',\n            max_leaf_nodes=None, min_impurity_decrease=0.0,\n            min_impurity_split=None, min_samples_leaf=1,\n            min_samples_split=2, min_weight_fraction_leaf=0.0,\n            presort=False, random_state=None, splitter='best'), DecisionTreeClassifier(class_weight=None, criterion='gini',\n            max_depth=31.622776601683793, max_features='auto',\n            max_leaf_nodes=None, min_impurity_decrease=0.0,\n            min_impurity_split=None, min_samples_leaf=1,\n            min_samples_split=2, min_weight_fraction_leaf=0.0,\n            presort=False, random_state=None, splitter='random'), DecisionTreeClassifier(class_weight=None, criterion='gini',\n            max_depth=31.622776601683793, max_features='sqrt',\n            max_leaf_nodes=None, min_impurity_decrease=0.0,\n            min_impurity_split=None, min_samples_leaf=1,\n            min_samples_split=2, min_weight_fraction_leaf=0.0,\n            presort=False, random_state=None, splitter='best'), DecisionTreeClassifier(class_weight=None, criterion='gini',\n            max_depth=31.622776601683793, max_features='sqrt',\n            max_leaf_nodes=None, min_impurity_decrease=0.0,\n            min_impurity_split=None, min_samples_leaf=1,\n            min_samples_split=2, min_weight_fraction_leaf=0.0,\n            presort=False, random_state=None, splitter='random'), DecisionTreeClassifier(class_weight=None, criterion='gini',\n            max_depth=31.622776601683793, max_features='log2',\n            max_leaf_nodes=None, min_impurity_decrease=0.0,\n            min_impurity_split=None, min_samples_leaf=1,\n            min_samples_split=2, min_weight_fraction_leaf=0.0,\n            presort=False, random_state=None, splitter='best'), DecisionTreeClassifier(class_weight=None, criterion='gini',\n            max_depth=31.622776601683793, max_features='log2',\n            max_leaf_nodes=None, min_impurity_decrease=0.0,\n            min_impurity_split=None, min_samples_leaf=1,\n            min_samples_split=2, min_weight_fraction_leaf=0.0,\n            presort=False, random_state=None, splitter='random'), DecisionTreeClassifier(class_weight=None, criterion='gini', max_depth=100.0,\n            max_features=None, max_leaf_nodes=None,\n            min_impurity_decrease=0.0, min_impurity_split=None,\n            min_samples_leaf=1, min_samples_split=2,\n            min_weight_fraction_leaf=0.0, presort=False, random_state=None,\n            splitter='best'), DecisionTreeClassifier(class_weight=None, criterion='gini', max_depth=100.0,\n            max_features=None, max_leaf_nodes=None,\n            min_impurity_decrease=0.0, min_impurity_split=None,\n            min_samples_leaf=1, min_samples_split=2,\n            min_weight_fraction_leaf=0.0, presort=False, random_state=None,\n            splitter='random'), DecisionTreeClassifier(class_weight=None, criterion='gini', max_depth=100.0,\n            max_features='auto', max_leaf_nodes=None,\n            min_impurity_decrease=0.0, min_impurity_split=None,\n            min_samples_leaf=1, min_samples_split=2,\n            min_weight_fraction_leaf=0.0, presort=False, random_state=None,\n            splitter='best'), DecisionTreeClassifier(class_weight=None, criterion='gini', max_depth=100.0,\n            max_features='auto', max_leaf_nodes=None,\n            min_impurity_decrease=0.0, min_impurity_split=None,\n            min_samples_leaf=1, min_samples_split=2,\n            min_weight_fraction_leaf=0.0, presort=False, random_state=None,\n            splitter='random'), DecisionTreeClassifier(class_weight=None, criterion='gini', max_depth=100.0,\n            max_features='sqrt', max_leaf_nodes=None,\n            min_impurity_decrease=0.0, min_impurity_split=None,\n            min_samples_leaf=1, min_samples_split=2,\n            min_weight_fraction_leaf=0.0, presort=False, random_state=None,\n            splitter='best'), DecisionTreeClassifier(class_weight=None, criterion='gini', max_depth=100.0,\n            max_features='sqrt', max_leaf_nodes=None,\n            min_impurity_decrease=0.0, min_impurity_split=None,\n            min_samples_leaf=1, min_samples_split=2,\n            min_weight_fraction_leaf=0.0, presort=False, random_state=None,\n            splitter='random'), DecisionTreeClassifier(class_weight=None, criterion='gini', max_depth=100.0,\n            max_features='log2', max_leaf_nodes=None,\n            min_impurity_decrease=0.0, min_impurity_split=None,\n            min_samples_leaf=1, min_samples_split=2,\n            min_weight_fraction_leaf=0.0, presort=False, random_state=None,\n            splitter='best'), DecisionTreeClassifier(class_weight=None, criterion='gini', max_depth=100.0,\n            max_features='log2', max_leaf_nodes=None,\n            min_impurity_decrease=0.0, min_impurity_split=None,\n            min_samples_leaf=1, min_samples_split=2,\n            min_weight_fraction_leaf=0.0, presort=False, random_state=None,\n            splitter='random'), DecisionTreeClassifier(class_weight=None, criterion='entropy', max_depth=None,\n            max_features=None, max_leaf_nodes=None,\n            min_impurity_decrease=0.0, min_impurity_split=None,\n            min_samples_leaf=1, min_samples_split=2,\n            min_weight_fraction_leaf=0.0, presort=False, random_state=None,\n            splitter='best'), DecisionTreeClassifier(class_weight=None, criterion='entropy', max_depth=None,\n            max_features=None, max_leaf_nodes=None,\n            min_impurity_decrease=0.0, min_impurity_split=None,\n            min_samples_leaf=1, min_samples_split=2,\n            min_weight_fraction_leaf=0.0, presort=False, random_state=None,\n            splitter='random'), DecisionTreeClassifier(class_weight=None, criterion='entropy', max_depth=None,\n            max_features='auto', max_leaf_nodes=None,\n            min_impurity_decrease=0.0, min_impurity_split=None,\n            min_samples_leaf=1, min_samples_split=2,\n            min_weight_fraction_leaf=0.0, presort=False, random_state=None,\n            splitter='best'), DecisionTreeClassifier(class_weight=None, criterion='entropy', max_depth=None,\n            max_features='auto', max_leaf_nodes=None,\n            min_impurity_decrease=0.0, min_impurity_split=None,\n            min_samples_leaf=1, min_samples_split=2,\n            min_weight_fraction_leaf=0.0, presort=False, random_state=None,\n            splitter='random'), DecisionTreeClassifier(class_weight=None, criterion='entropy', max_depth=None,\n            max_features='sqrt', max_leaf_nodes=None,\n            min_impurity_decrease=0.0, min_impurity_split=None,\n            min_samples_leaf=1, min_samples_split=2,\n            min_weight_fraction_leaf=0.0, presort=False, random_state=None,\n            splitter='best'), DecisionTreeClassifier(class_weight=None, criterion='entropy', max_depth=None,\n            max_features='sqrt', max_leaf_nodes=None,\n            min_impurity_decrease=0.0, min_impurity_split=None,\n            min_samples_leaf=1, min_samples_split=2,\n            min_weight_fraction_leaf=0.0, presort=False, random_state=None,\n            splitter='random'), DecisionTreeClassifier(class_weight=None, criterion='entropy', max_depth=None,\n            max_features='log2', max_leaf_nodes=None,\n            min_impurity_decrease=0.0, min_impurity_split=None,\n            min_samples_leaf=1, min_samples_split=2,\n            min_weight_fraction_leaf=0.0, presort=False, random_state=None,\n            splitter='best'), DecisionTreeClassifier(class_weight=None, criterion='entropy', max_depth=None,\n            max_features='log2', max_leaf_nodes=None,\n            min_impurity_decrease=0.0, min_impurity_split=None,\n            min_samples_leaf=1, min_samples_split=2,\n            min_weight_fraction_leaf=0.0, presort=False, random_state=None,\n            splitter='random'), DecisionTreeClassifier(class_weight=None, criterion='entropy', max_depth=1.0,\n            max_features=None, max_leaf_nodes=None,\n            min_impurity_decrease=0.0, min_impurity_split=None,\n            min_samples_leaf=1, min_samples_split=2,\n            min_weight_fraction_leaf=0.0, presort=False, random_state=None,\n            splitter='best'), DecisionTreeClassifier(class_weight=None, criterion='entropy', max_depth=1.0,\n            max_features=None, max_leaf_nodes=None,\n            min_impurity_decrease=0.0, min_impurity_split=None,\n            min_samples_leaf=1, min_samples_split=2,\n            min_weight_fraction_leaf=0.0, presort=False, random_state=None,\n            splitter='random'), DecisionTreeClassifier(class_weight=None, criterion='entropy', max_depth=1.0,\n            max_features='auto', max_leaf_nodes=None,\n            min_impurity_decrease=0.0, min_impurity_split=None,\n            min_samples_leaf=1, min_samples_split=2,\n            min_weight_fraction_leaf=0.0, presort=False, random_state=None,\n            splitter='best'), DecisionTreeClassifier(class_weight=None, criterion='entropy', max_depth=1.0,\n            max_features='auto', max_leaf_nodes=None,\n            min_impurity_decrease=0.0, min_impurity_split=None,\n            min_samples_leaf=1, min_samples_split=2,\n            min_weight_fraction_leaf=0.0, presort=False, random_state=None,\n            splitter='random'), DecisionTreeClassifier(class_weight=None, criterion='entropy', max_depth=1.0,\n            max_features='sqrt', max_leaf_nodes=None,\n            min_impurity_decrease=0.0, min_impurity_split=None,\n            min_samples_leaf=1, min_samples_split=2,\n            min_weight_fraction_leaf=0.0, presort=False, random_state=None,\n            splitter='best'), DecisionTreeClassifier(class_weight=None, criterion='entropy', max_depth=1.0,\n            max_features='sqrt', max_leaf_nodes=None,\n            min_impurity_decrease=0.0, min_impurity_split=None,\n            min_samples_leaf=1, min_samples_split=2,\n            min_weight_fraction_leaf=0.0, presort=False, random_state=None,\n            splitter='random'), DecisionTreeClassifier(class_weight=None, criterion='entropy', max_depth=1.0,\n            max_features='log2', max_leaf_nodes=None,\n            min_impurity_decrease=0.0, min_impurity_split=None,\n            min_samples_leaf=1, min_samples_split=2,\n            min_weight_fraction_leaf=0.0, presort=False, random_state=None,\n            splitter='best'), DecisionTreeClassifier(class_weight=None, criterion='entropy', max_depth=1.0,\n            max_features='log2', max_leaf_nodes=None,\n            min_impurity_decrease=0.0, min_impurity_split=None,\n            min_samples_leaf=1, min_samples_split=2,\n            min_weight_fraction_leaf=0.0, presort=False, random_state=None,\n            splitter='random'), DecisionTreeClassifier(class_weight=None, criterion='entropy',\n            max_depth=3.1622776601683795, max_features=None,\n            max_leaf_nodes=None, min_impurity_decrease=0.0,\n            min_impurity_split=None, min_samples_leaf=1,\n            min_samples_split=2, min_weight_fraction_leaf=0.0,\n            presort=False, random_state=None, splitter='best'), DecisionTreeClassifier(class_weight=None, criterion='entropy',\n            max_depth=3.1622776601683795, max_features=None,\n            max_leaf_nodes=None, min_impurity_decrease=0.0,\n            min_impurity_split=None, min_samples_leaf=1,\n            min_samples_split=2, min_weight_fraction_leaf=0.0,\n            presort=False, random_state=None, splitter='random'), DecisionTreeClassifier(class_weight=None, criterion='entropy',\n            max_depth=3.1622776601683795, max_features='auto',\n            max_leaf_nodes=None, min_impurity_decrease=0.0,\n            min_impurity_split=None, min_samples_leaf=1,\n            min_samples_split=2, min_weight_fraction_leaf=0.0,\n            presort=False, random_state=None, splitter='best'), DecisionTreeClassifier(class_weight=None, criterion='entropy',\n            max_depth=3.1622776601683795, max_features='auto',\n            max_leaf_nodes=None, min_impurity_decrease=0.0,\n            min_impurity_split=None, min_samples_leaf=1,\n            min_samples_split=2, min_weight_fraction_leaf=0.0,\n            presort=False, random_state=None, splitter='random'), DecisionTreeClassifier(class_weight=None, criterion='entropy',\n            max_depth=3.1622776601683795, max_features='sqrt',\n            max_leaf_nodes=None, min_impurity_decrease=0.0,\n            min_impurity_split=None, min_samples_leaf=1,\n            min_samples_split=2, min_weight_fraction_leaf=0.0,\n            presort=False, random_state=None, splitter='best'), DecisionTreeClassifier(class_weight=None, criterion='entropy',\n            max_depth=3.1622776601683795, max_features='sqrt',\n            max_leaf_nodes=None, min_impurity_decrease=0.0,\n            min_impurity_split=None, min_samples_leaf=1,\n            min_samples_split=2, min_weight_fraction_leaf=0.0,\n            presort=False, random_state=None, splitter='random'), DecisionTreeClassifier(class_weight=None, criterion='entropy',\n            max_depth=3.1622776601683795, max_features='log2',\n            max_leaf_nodes=None, min_impurity_decrease=0.0,\n            min_impurity_split=None, min_samples_leaf=1,\n            min_samples_split=2, min_weight_fraction_leaf=0.0,\n            presort=False, random_state=None, splitter='best'), DecisionTreeClassifier(class_weight=None, criterion='entropy',\n            max_depth=3.1622776601683795, max_features='log2',\n            max_leaf_nodes=None, min_impurity_decrease=0.0,\n            min_impurity_split=None, min_samples_leaf=1,\n            min_samples_split=2, min_weight_fraction_leaf=0.0,\n            presort=False, random_state=None, splitter='random'), DecisionTreeClassifier(class_weight=None, criterion='entropy', max_depth=10.0,\n            max_features=None, max_leaf_nodes=None,\n            min_impurity_decrease=0.0, min_impurity_split=None,\n            min_samples_leaf=1, min_samples_split=2,\n            min_weight_fraction_leaf=0.0, presort=False, random_state=None,\n            splitter='best'), DecisionTreeClassifier(class_weight=None, criterion='entropy', max_depth=10.0,\n            max_features=None, max_leaf_nodes=None,\n            min_impurity_decrease=0.0, min_impurity_split=None,\n            min_samples_leaf=1, min_samples_split=2,\n            min_weight_fraction_leaf=0.0, presort=False, random_state=None,\n            splitter='random'), DecisionTreeClassifier(class_weight=None, criterion='entropy', max_depth=10.0,\n            max_features='auto', max_leaf_nodes=None,\n            min_impurity_decrease=0.0, min_impurity_split=None,\n            min_samples_leaf=1, min_samples_split=2,\n            min_weight_fraction_leaf=0.0, presort=False, random_state=None,\n            splitter='best'), DecisionTreeClassifier(class_weight=None, criterion='entropy', max_depth=10.0,\n            max_features='auto', max_leaf_nodes=None,\n            min_impurity_decrease=0.0, min_impurity_split=None,\n            min_samples_leaf=1, min_samples_split=2,\n            min_weight_fraction_leaf=0.0, presort=False, random_state=None,\n            splitter='random'), DecisionTreeClassifier(class_weight=None, criterion='entropy', max_depth=10.0,\n            max_features='sqrt', max_leaf_nodes=None,\n            min_impurity_decrease=0.0, min_impurity_split=None,\n            min_samples_leaf=1, min_samples_split=2,\n            min_weight_fraction_leaf=0.0, presort=False, random_state=None,\n            splitter='best'), DecisionTreeClassifier(class_weight=None, criterion='entropy', max_depth=10.0,\n            max_features='sqrt', max_leaf_nodes=None,\n            min_impurity_decrease=0.0, min_impurity_split=None,\n            min_samples_leaf=1, min_samples_split=2,\n            min_weight_fraction_leaf=0.0, presort=False, random_state=None,\n            splitter='random'), DecisionTreeClassifier(class_weight=None, criterion='entropy', max_depth=10.0,\n            max_features='log2', max_leaf_nodes=None,\n            min_impurity_decrease=0.0, min_impurity_split=None,\n            min_samples_leaf=1, min_samples_split=2,\n            min_weight_fraction_leaf=0.0, presort=False, random_state=None,\n            splitter='best'), DecisionTreeClassifier(class_weight=None, criterion='entropy', max_depth=10.0,\n            max_features='log2', max_leaf_nodes=None,\n            min_impurity_decrease=0.0, min_impurity_split=None,\n            min_samples_leaf=1, min_samples_split=2,\n            min_weight_fraction_leaf=0.0, presort=False, random_state=None,\n            splitter='random'), DecisionTreeClassifier(class_weight=None, criterion='entropy',\n            max_depth=31.622776601683793, max_features=None,\n            max_leaf_nodes=None, min_impurity_decrease=0.0,\n            min_impurity_split=None, min_samples_leaf=1,\n            min_samples_split=2, min_weight_fraction_leaf=0.0,\n            presort=False, random_state=None, splitter='best'), DecisionTreeClassifier(class_weight=None, criterion='entropy',\n            max_depth=31.622776601683793, max_features=None,\n            max_leaf_nodes=None, min_impurity_decrease=0.0,\n            min_impurity_split=None, min_samples_leaf=1,\n            min_samples_split=2, min_weight_fraction_leaf=0.0,\n            presort=False, random_state=None, splitter='random'), DecisionTreeClassifier(class_weight=None, criterion='entropy',\n            max_depth=31.622776601683793, max_features='auto',\n            max_leaf_nodes=None, min_impurity_decrease=0.0,\n            min_impurity_split=None, min_samples_leaf=1,\n            min_samples_split=2, min_weight_fraction_leaf=0.0,\n            presort=False, random_state=None, splitter='best'), DecisionTreeClassifier(class_weight=None, criterion='entropy',\n            max_depth=31.622776601683793, max_features='auto',\n            max_leaf_nodes=None, min_impurity_decrease=0.0,\n            min_impurity_split=None, min_samples_leaf=1,\n            min_samples_split=2, min_weight_fraction_leaf=0.0,\n            presort=False, random_state=None, splitter='random'), DecisionTreeClassifier(class_weight=None, criterion='entropy',\n            max_depth=31.622776601683793, max_features='sqrt',\n            max_leaf_nodes=None, min_impurity_decrease=0.0,\n            min_impurity_split=None, min_samples_leaf=1,\n            min_samples_split=2, min_weight_fraction_leaf=0.0,\n            presort=False, random_state=None, splitter='best'), DecisionTreeClassifier(class_weight=None, criterion='entropy',\n            max_depth=31.622776601683793, max_features='sqrt',\n            max_leaf_nodes=None, min_impurity_decrease=0.0,\n            min_impurity_split=None, min_samples_leaf=1,\n            min_samples_split=2, min_weight_fraction_leaf=0.0,\n            presort=False, random_state=None, splitter='random'), DecisionTreeClassifier(class_weight=None, criterion='entropy',\n            max_depth=31.622776601683793, max_features='log2',\n            max_leaf_nodes=None, min_impurity_decrease=0.0,\n            min_impurity_split=None, min_samples_leaf=1,\n            min_samples_split=2, min_weight_fraction_leaf=0.0,\n            presort=False, random_state=None, splitter='best'), DecisionTreeClassifier(class_weight=None, criterion='entropy',\n            max_depth=31.622776601683793, max_features='log2',\n            max_leaf_nodes=None, min_impurity_decrease=0.0,\n            min_impurity_split=None, min_samples_leaf=1,\n            min_samples_split=2, min_weight_fraction_leaf=0.0,\n            presort=False, random_state=None, splitter='random'), DecisionTreeClassifier(class_weight=None, criterion='entropy',\n            max_depth=100.0, max_features=None, max_leaf_nodes=None,\n            min_impurity_decrease=0.0, min_impurity_split=None,\n            min_samples_leaf=1, min_samples_split=2,\n            min_weight_fraction_leaf=0.0, presort=False, random_state=None,\n            splitter='best'), DecisionTreeClassifier(class_weight=None, criterion='entropy',\n            max_depth=100.0, max_features=None, max_leaf_nodes=None,\n            min_impurity_decrease=0.0, min_impurity_split=None,\n            min_samples_leaf=1, min_samples_split=2,\n            min_weight_fraction_leaf=0.0, presort=False, random_state=None,\n            splitter='random'), DecisionTreeClassifier(class_weight=None, criterion='entropy',\n            max_depth=100.0, max_features='auto', max_leaf_nodes=None,\n            min_impurity_decrease=0.0, min_impurity_split=None,\n            min_samples_leaf=1, min_samples_split=2,\n            min_weight_fraction_leaf=0.0, presort=False, random_state=None,\n            splitter='best'), DecisionTreeClassifier(class_weight=None, criterion='entropy',\n            max_depth=100.0, max_features='auto', max_leaf_nodes=None,\n            min_impurity_decrease=0.0, min_impurity_split=None,\n            min_samples_leaf=1, min_samples_split=2,\n            min_weight_fraction_leaf=0.0, presort=False, random_state=None,\n            splitter='random'), DecisionTreeClassifier(class_weight=None, criterion='entropy',\n            max_depth=100.0, max_features='sqrt', max_leaf_nodes=None,\n            min_impurity_decrease=0.0, min_impurity_split=None,\n            min_samples_leaf=1, min_samples_split=2,\n            min_weight_fraction_leaf=0.0, presort=False, random_state=None,\n            splitter='best'), DecisionTreeClassifier(class_weight=None, criterion='entropy',\n            max_depth=100.0, max_features='sqrt', max_leaf_nodes=None,\n            min_impurity_decrease=0.0, min_impurity_split=None,\n            min_samples_leaf=1, min_samples_split=2,\n            min_weight_fraction_leaf=0.0, presort=False, random_state=None,\n            splitter='random'), DecisionTreeClassifier(class_weight=None, criterion='entropy',\n            max_depth=100.0, max_features='log2', max_leaf_nodes=None,\n            min_impurity_decrease=0.0, min_impurity_split=None,\n            min_samples_leaf=1, min_samples_split=2,\n            min_weight_fraction_leaf=0.0, presort=False, random_state=None,\n            splitter='best'), DecisionTreeClassifier(class_weight=None, criterion='entropy',\n            max_depth=100.0, max_features='log2', max_leaf_nodes=None,\n            min_impurity_decrease=0.0, min_impurity_split=None,\n            min_samples_leaf=1, min_samples_split=2,\n            min_weight_fraction_leaf=0.0, presort=False, random_state=None,\n            splitter='random')]\n[0.7017578905313624, 0.6956608878645155, 0.649311789347696, 0.6603212373587151, 0.6585785057122637, 0.6485616576141621, 0.5914064054107817, 0.6211007351480231, 0.6953013763644993, 0.6953013763644993, 0.04732350659425912, 0.6676587972671312, 0.05948242564696794, 0.6736453201970444, 0.6667112210118292, 0.6687198714515266, 0.7220356063150822, 0.7220356063150822, 0.6993998908892527, 0.5518091184048393, 0.2173472831589605, 0.6792738275340394, 0.6675222912726291, 0.048396389475705785, 0.7514430014430014, 0.7508563187308455, 0.65, 0.680188595320701, 0.7165967645296585, 0.44411204786510744, 0.6257572181575013, 0.6653137918075911, 0.7248413860419718, 0.7248976408656659, 0.6451550009748489, 0.6655589402750853, 0.6818479992503045, 0.6390785852614412, 0.6448156891229344, 0.6156480980710294, 0.6964285714285715, 0.6992978936810431, 0.6773264475121661, 0.6622490357036891, 0.6547737691847718, 0.6548829860768243, 0.627816627816628, 0.6353325643983084, 0.7053072625698324, 0.7049854549102216, 0.6569298952457695, 0.6426559356136822, 0.6475983824834796, 0.6456147297564838, 0.6098745447187375, 0.5935000506226589, 0.6953013763644993, 0.6953013763644993, 0.6262227561352325, 0.12742980561555078, 0.6666666666666667, 0.6700900393922341, 0.684170419120194, 0.653583369675825, 0.7220356063150822, 0.7220356063150822, 0.6444519621109607, 0.6942235558889722, 0.6507198560287943, 0.48712422007941014, 0.06541879372282094, 0.6643887104489852, 0.7434859154929577, 0.7419439810343313, 0.6580936658267442, 0.5582191780821918, 0.5459358111834124, 0.37545126353790614, 0.6949180599238537, 0.6305950951809295, 0.712153936775967, 0.7165964121164592, 0.6619446233097231, 0.6439370877727042, 0.6729393315691463, 0.6711694326514859, 0.6006185772722737, 0.5259711916193802, 0.7032413931950876, 0.7003110263870773, 0.6767066283562865, 0.669706582077716, 0.6639253836124763, 0.638950110198357, 0.5805054151624549, 0.5836743044189853]\n"
     ]
    }
   ],
   "source": [
    "print(best_bbow_tree, best_bbow_tree_score_valid, all_models, all_scores, sep='\\n')"
   ]
  },
  {
   "cell_type": "code",
   "execution_count": 73,
   "metadata": {},
   "outputs": [
    {
     "name": "stdout",
     "output_type": "stream",
     "text": [
      "Best BerNB F1: 0.8300405059105563\nBest LinSVC F1: 0.8490452744085506\nBest D-tree F1: 0.7557849897115628\n"
     ]
    }
   ],
   "source": [
    "print(\"Best BerNB F1:\", f1_score(IMDB_test_y, best_bbow_nb.predict(IMDB_bbow_test_x)))\n",
    "print(\"Best LinSVC F1:\", f1_score(IMDB_test_y, best_bbow_svc.predict(IMDB_bbow_test_x)))\n",
    "print(\"Best D-tree F1:\", f1_score(IMDB_test_y, best_bbow_tree.predict(IMDB_bbow_test_x)))"
   ]
  },
  {
   "cell_type": "code",
   "execution_count": 74,
   "metadata": {},
   "outputs": [
    {
     "ename": "NameError",
     "evalue": "name 'IMDB_train_x' is not defined",
     "traceback": [
      "\u001b[0;31m---------------------------------------------------------------------------\u001b[0m",
      "\u001b[0;31mNameError\u001b[0m                                 Traceback (most recent call last)",
      "\u001b[0;32m<ipython-input-74-5bec35533b92>\u001b[0m in \u001b[0;36m<module>\u001b[0;34m()\u001b[0m\n\u001b[1;32m      1\u001b[0m best_fbow_NB, best_fbow_NB_score, all_models, all_scores = pf.bestFit(\n\u001b[0;32m----> 2\u001b[0;31m     GaussianNB, params_gnb, IMDB_train_x, IMDB_train_y, IMDB_valid_x, IMDB_valid_y, metric=f1_score)\n\u001b[0m",
      "\u001b[0;31mNameError\u001b[0m: name 'IMDB_train_x' is not defined"
     ],
     "output_type": "error"
    }
   ],
   "source": [
    "best_fbow_NB, best_fbow_NB_score, all_models, all_scores = pf.bestFit(\n",
    "    GaussianNB, params_gnb, IMDB_fbow_train_x, IMDB_train_y, IMDB_fbow_valid_x, IMDB_valid_y, metric=f1_score)"
   ]
  },
  {
   "cell_type": "code",
   "execution_count": null,
   "metadata": {},
   "outputs": [],
   "source": [
    "best_fbow_svc, best_fbow_svc_score, all_models, all_scores = pf.bestFit(\n",
    "    LinearSVC, params_svc, IMDB_fbow_train_x, IMDB_train_y, IMDB_fbow_valid_x, IMDB_valid_y, metric=f1_score, n_jobs=1)"
   ]
  },
  {
   "cell_type": "code",
   "execution_count": null,
   "metadata": {},
   "outputs": [],
   "source": [
    "best_fbow_tree, best_fbow_tree_score, all_models, all_scores = pf.bestFit(\n",
    "    DecisionTreeClassifier, params_tree, IMDB_fbow_train_x, IMDB_train_y, IMDB_fbow_valid_x, IMDB_valid_y, metric=f1_score)"
   ]
  }
 ],
 "metadata": {
  "kernelspec": {
   "display_name": "Python 2",
   "language": "python",
   "name": "python2"
  },
  "language_info": {
   "codemirror_mode": {
    "name": "ipython",
    "version": 2
   },
   "file_extension": ".py",
   "mimetype": "text/x-python",
   "name": "python",
   "nbconvert_exporter": "python",
   "pygments_lexer": "ipython2",
   "version": "2.7.6"
  }
 },
 "nbformat": 4,
 "nbformat_minor": 0
}
