{
 "cells": [
  {
   "cell_type": "code",
   "execution_count": 75,
   "metadata": {
    "collapsed": true
   },
   "outputs": [],
   "source": [
    "from nltk import word_tokenize\n",
    "from sklearn.feature_extraction.text import CountVectorizer\n",
    "import re, numpy as np, os"
   ]
  },
  {
   "cell_type": "code",
   "execution_count": 76,
   "metadata": {},
   "outputs": [],
   "source": [
    "def prepare_data(path):\n",
    "\t\"\"\"\n",
    "\t:param text: raw text file\n",
    "\t:type text: str\n",
    "\t:return list of str lines, list of int labels\n",
    "\t\"\"\"\n",
    "\traw = []    # Raw lines\n",
    "\tlines = []  # Tokenized\n",
    "\tlabels = [] # Labels\n",
    "\twith open(path, mode=\"r\", encoding=\"utf-8\") as f:\n",
    "\t\ttext = f.readlines()\n",
    "\t\tfor line in text:\n",
    "\t\t\tif len(line) > 0:\n",
    "\t\t\t\traw.append(prepare_text(line[:-3]))     # :-2 to exclude \\t\n",
    "\t\t\t\tlines.append(prepare_text(line[:-3], token=True))\n",
    "\t\t\t\tlabels.append(int(line[-2]))            # The label\n",
    "\treturn raw, lines, labels\n",
    "\n",
    "\n",
    "def prepare_text(text, token=False):\n",
    "\treturn word_tokenize(re.sub(r'\\W', ' ', text.lower().replace('\\'',''))) \\\n",
    "\t\tif token else re.sub(r'\\W', ' ', text.lower().replace('\\'',''))\n",
    "\n",
    "\n",
    "def datafromfile(path):\n",
    "\twith open(path, mode=\"r\", encoding=\"utf-8\") as f:\n",
    "\t\ttext = f.read()\n",
    "\t\tf.close()\n",
    "\n",
    "\traw, lines, labels = prepare_data(path)\n",
    "\treturn text, raw, lines, labels\n",
    "\n",
    "\n",
    "def export_vocabulary(path, raw, vectorizer):\n",
    "\t\"\"\"\n",
    "\n",
    "\t:param raw: entire raw corpus text string\n",
    "\t:param vectorizer: pre-fit vectorizer\n",
    "\t:type vectorizer CountVectorizer\n",
    "\t:type raw list\n",
    "\t\"\"\"\n",
    "\n",
    "\tx = vectorizer.transform(raw)\n",
    "\t# [word, id, frequency]\n",
    "\tfeaturenames = vectorizer.get_feature_names()\n",
    "\tindices = { k : featurenames.index(k) for k in vectorizer.vocabulary_.keys()}\n",
    "\tvocab = [k+\" \"+str(indices[k])+\" \"+str(x[0,indices[k]])+\"\\n\" for k,v in vectorizer.vocabulary_.items()]\n",
    "\twith open(path, \"w\") as f:\n",
    "\t\tf.writelines(vocab)\n",
    "\t\tf.close()\n",
    "\treturn vocab\n",
    "\n",
    "\n",
    "def export_data(fname, x_tokens, vectorizer, y):\n",
    "\t'''\n",
    "\n",
    "\t:param vectorizer:\n",
    "\t:type vectorizer CountVectorizer\n",
    "\t:return:\n",
    "\t'''\n",
    "\tout = \"\"\n",
    "\tfor i in range(0, len(y)):\n",
    "\t\tfor token in x_tokens[i]:\n",
    "\t\t\tidx = vectorizer.vocabulary_.get(token)\n",
    "\t\t\tif idx:\n",
    "\t\t\t\tout += str(vectorizer.vocabulary_[token])\n",
    "\t\t\t\tout += \" \"\n",
    "\t\tout = out[:-1] + \"\\t\" + str(y[i]) + \"\\n\"\n",
    "\twith open(fname, mode=\"w\", encoding=\"utf-8\") as f:\n",
    "\t\tf.write(out)\n",
    "\t\tf.close()"
   ]
  },
  {
   "cell_type": "code",
   "execution_count": 77,
   "metadata": {},
   "outputs": [],
   "source": [
    "yelp_train_raw, yelp_train_rawlines, yelp_train_tokenlines, yelp_train_y = \\\n",
    "\tdatafromfile(os.path.join(\"data\",\"yelp-train.txt\"))\n",
    "yelp_valid_raw, yelp_valid_rawlines, yelp_valid_tokenlines, yelp_valid_y = \\\n",
    "\tdatafromfile(os.path.join(\"data\",\"yelp-valid.txt\"))\n",
    "yelp_test_raw, yelp_test_rawlines, yelp_test_tokenlines, yelp_test_y = \\\n",
    "\tdatafromfile(os.path.join(\"data\",\"yelp-test.txt\"))\n",
    "\n",
    "yelp_vectorizer_bbow = CountVectorizer(max_features=10000, binary=True)\n",
    "yelp_bbow_train_x = yelp_vectorizer_bbow.fit_transform(np.array(yelp_train_rawlines))\n",
    "yelp_bbow_valid_x = yelp_vectorizer_bbow.transform(np.array(yelp_valid_rawlines))\n",
    "yelp_bbow_test_x = yelp_vectorizer_bbow.transform(np.array(yelp_test_rawlines))\n",
    "\n",
    "yelp_train_y = np.array(yelp_train_y)\n",
    "yelp_valid_y = np.array(yelp_valid_y)\n",
    "yelp_test_y = np.array(yelp_test_y)\n",
    "\n",
    "yelp_vectorizer = CountVectorizer(max_features=10000)\n",
    "yelp_fbow_train_x = yelp_vectorizer.fit_transform(np.array(yelp_train_rawlines))\n",
    "yelp_fbow_valid_x = yelp_vectorizer.transform(np.array(yelp_valid_rawlines))\n",
    "yelp_fbow_test_x = yelp_vectorizer.transform(np.array(yelp_test_rawlines))\n"
   ]
  },
  {
   "cell_type": "code",
   "execution_count": 78,
   "metadata": {},
   "outputs": [],
   "source": [
    "IMDB_train_raw, IMDB_train_rawlines, IMDB_train_tokenlines, IMDB_train_y = \\\n",
    "\tdatafromfile(os.path.join(\"data\",\"IMDB-train.txt\"))\n",
    "IMDB_valid_raw, IMDB_valid_rawlines, IMDB_valid_tokenlines, IMDB_valid_y = \\\n",
    "\tdatafromfile(os.path.join(\"data\",\"IMDB-valid.txt\"))\n",
    "IMDB_test_raw, IMDB_test_rawlines, IMDB_test_tokenlines, IMDB_test_y = \\\n",
    "\tdatafromfile(os.path.join(\"data\",\"IMDB-test.txt\"))\n",
    "\n",
    "IMDB_vectorizer_bbow = CountVectorizer(max_features=10000, binary=True)\n",
    "IMDB_bbow_train_x = IMDB_vectorizer_bbow.fit_transform(np.array(IMDB_train_rawlines))\n",
    "IMDB_bbow_valid_x = IMDB_vectorizer_bbow.transform(np.array(IMDB_valid_rawlines))\n",
    "IMDB_bbow_test_x = IMDB_vectorizer_bbow.transform(np.array(IMDB_test_rawlines))\n",
    "\n",
    "IMDB_train_y = np.array(IMDB_train_y)\n",
    "IMDB_valid_y = np.array(IMDB_valid_y)\n",
    "IMDB_test_y = np.array(IMDB_test_y)\n",
    "\n",
    "IMDB_vectorizer_fbow = CountVectorizer(max_features=10000)\n",
    "IMDB_fbow_train_x = IMDB_vectorizer_fbow.fit_transform(np.array(IMDB_train_rawlines))\n",
    "IMDB_fbow_valid_x = IMDB_vectorizer_fbow.transform(np.array(IMDB_valid_rawlines))\n",
    "IMDB_fbow_test_x = IMDB_vectorizer_fbow.transform(np.array(IMDB_test_rawlines))\n"
   ]
  },
  {
   "cell_type": "markdown",
   "metadata": {},
   "source": [
    "# IMDB"
   ]
  },
  {
   "cell_type": "code",
   "execution_count": 79,
   "metadata": {},
   "outputs": [],
   "source": [
    "from sklearn.dummy import DummyClassifier"
   ]
  },
  {
   "cell_type": "code",
   "execution_count": 80,
   "metadata": {},
   "outputs": [],
   "source": [
    "randomClassifier = DummyClassifier(strategy=\"uniform\")\n",
    "majorityClassifier = DummyClassifier(strategy=\"most_frequent\")"
   ]
  },
  {
   "cell_type": "markdown",
   "metadata": {},
   "source": [
    "## BBOW"
   ]
  },
  {
   "cell_type": "code",
   "execution_count": 81,
   "metadata": {},
   "outputs": [
    {
     "data": {
      "text/plain": [
       "DummyClassifier(constant=None, random_state=None, strategy='most_frequent')"
      ]
     },
     "execution_count": 81,
     "metadata": {},
     "output_type": "execute_result"
    }
   ],
   "source": [
    "randomClassifier.fit(IMDB_bbow_train_x, IMDB_train_y)\n",
    "majorityClassifier.fit(IMDB_bbow_train_x, IMDB_train_y)"
   ]
  },
  {
   "cell_type": "code",
   "execution_count": 82,
   "metadata": {},
   "outputs": [],
   "source": [
    "from sklearn.metrics import f1_score"
   ]
  },
  {
   "cell_type": "code",
   "execution_count": 104,
   "metadata": {},
   "outputs": [
    {
     "name": "stdout",
     "output_type": "stream",
     "text": [
      "0.5021426568945492\n0.0\n"
     ]
    }
   ],
   "source": [
    "IMDB_bbow_test_pred = randomClassifier.predict(IMDB_bbow_test_x)\n",
    "print(f1_score(IMDB_test_y,IMDB_bbow_test_pred))\n",
    "IMDB_bbow_test_pred = majorityClassifier.predict(IMDB_bbow_test_x)\n",
    "print(f1_score(IMDB_test_y,IMDB_bbow_test_pred))"
   ]
  },
  {
   "cell_type": "code",
   "execution_count": 85,
   "metadata": {},
   "outputs": [],
   "source": [
    "import parfit.parfit as pf\n",
    "from sklearn.model_selection import ParameterGrid"
   ]
  },
  {
   "cell_type": "code",
   "execution_count": 86,
   "metadata": {},
   "outputs": [],
   "source": [
    "from sklearn.naive_bayes import BernoulliNB, GaussianNB\n",
    "from sklearn.svm import LinearSVC\n",
    "from sklearn.tree import DecisionTreeClassifier"
   ]
  },
  {
   "cell_type": "code",
   "execution_count": 87,
   "metadata": {},
   "outputs": [],
   "source": [
    "params_bnb = ParameterGrid({\n",
    "    'alpha' : np.logspace(0,3,10)\n",
    "})\n",
    "params_gnb = ParameterGrid({\n",
    "    'var_smoothing' : np.logspace(-9, 1, 10)\n",
    "})\n",
    "params_svc = ParameterGrid({\n",
    "    'loss' : ['squared_hinge'],\n",
    "\t'dual' : [False, True],\n",
    "\t'C' : np.logspace(-1, 1, 5)\n",
    "})\n",
    "depths = [None]\n",
    "depths.extend(np.logspace(0, 2, 5).tolist())\n",
    "maxfeatures = [None, 'auto', 'sqrt', 'log2']\n",
    "params_tree = ParameterGrid({\n",
    "\t'criterion' : ['gini', 'entropy'],\n",
    "\t'max_depth' : depths,\n",
    "    'splitter' : ['best', 'random'],\n",
    "    'max_features' : maxfeatures\n",
    "})"
   ]
  },
  {
   "cell_type": "code",
   "execution_count": 88,
   "metadata": {},
   "outputs": [
    {
     "name": "stdout",
     "output_type": "stream",
     "text": [
      "[{'alpha': array([   1.        ,    2.15443469,    4.64158883,   10.        ,\n         21.5443469 ,   46.41588834,  100.        ,  215.443469  ,\n        464.15888336, 1000.        ])}]\n[{'var_smoothing': array([1.00000000e-09, 1.29154967e-08, 1.66810054e-07, 2.15443469e-06,\n       2.78255940e-05, 3.59381366e-04, 4.64158883e-03, 5.99484250e-02,\n       7.74263683e-01, 1.00000000e+01])}]\n[{'loss': ['squared_hinge'], 'dual': [False, True], 'C': array([ 0.1       ,  0.31622777,  1.        ,  3.16227766, 10.        ])}]\n[{'criterion': ['gini', 'entropy'], 'max_depth': [None, 1.0, 3.1622776601683795, 10.0, 31.622776601683793, 100.0], 'splitter': ['best', 'random'], 'max_features': [None, 'auto', 'sqrt', 'log2']}]\n"
     ]
    }
   ],
   "source": [
    "print(params_bnb.param_grid, params_gnb.param_grid, params_svc.param_grid, params_tree.param_grid, sep='\\n')"
   ]
  },
  {
   "cell_type": "code",
   "execution_count": 89,
   "metadata": {
    "collapsed": true
   },
   "outputs": [
    {
     "name": "stdout",
     "output_type": "stream",
     "text": [
      "-------------FITTING MODELS-------------\n"
     ]
    },
    {
     "name": "stderr",
     "output_type": "stream",
     "text": [
      "[Parallel(n_jobs=-1)]: Using backend LokyBackend with 4 concurrent workers.\n"
     ]
    },
    {
     "name": "stderr",
     "output_type": "stream",
     "text": [
      "[Parallel(n_jobs=-1)]: Done   5 out of  10 | elapsed:    5.9s remaining:    5.9s\n[Parallel(n_jobs=-1)]: Done   7 out of  10 | elapsed:    5.9s remaining:    2.5s\n[Parallel(n_jobs=-1)]: Done  10 out of  10 | elapsed:    6.0s finished\n[Parallel(n_jobs=-1)]: Using backend LokyBackend with 4 concurrent workers.\n"
     ]
    },
    {
     "name": "stdout",
     "output_type": "stream",
     "text": [
      "-------------SCORING MODELS-------------\n"
     ]
    },
    {
     "name": "stderr",
     "output_type": "stream",
     "text": [
      "[Parallel(n_jobs=-1)]: Done   3 out of  10 | elapsed:    0.0s remaining:    0.1s\n[Parallel(n_jobs=-1)]: Done  10 out of  10 | elapsed:    0.2s finished\n"
     ]
    },
    {
     "data": {
      "image/png": "[encoded data removed]",
      "text/plain": [
       "<Figure size 576x432 with 1 Axes>"
      ]
     },
     "metadata": {},
     "output_type": "display_data"
    }
   ],
   "source": [
    "best_bbow_nb, best_bbow_nb_score_valid, all_models, all_scores = pf.bestFit(\n",
    "    BernoulliNB, params_bnb, IMDB_bbow_train_x, IMDB_train_y, IMDB_bbow_valid_x, IMDB_valid_y, metric=f1_score)"
   ]
  },
  {
   "cell_type": "code",
   "execution_count": 90,
   "metadata": {
    "collapsed": false
   },
   "outputs": [
    {
     "name": "stdout",
     "output_type": "stream",
     "text": [
      "BernoulliNB(alpha=2.154434690031884, binarize=0.0, class_prior=None,\n      fit_prior=True)\n0.8413021363173957\n[BernoulliNB(alpha=1.0, binarize=0.0, class_prior=None, fit_prior=True), BernoulliNB(alpha=2.154434690031884, binarize=0.0, class_prior=None,\n      fit_prior=True), BernoulliNB(alpha=4.641588833612778, binarize=0.0, class_prior=None,\n      fit_prior=True), BernoulliNB(alpha=10.0, binarize=0.0, class_prior=None, fit_prior=True), BernoulliNB(alpha=21.544346900318832, binarize=0.0, class_prior=None,\n      fit_prior=True), BernoulliNB(alpha=46.41588833612777, binarize=0.0, class_prior=None,\n      fit_prior=True), BernoulliNB(alpha=100.0, binarize=0.0, class_prior=None, fit_prior=True), BernoulliNB(alpha=215.44346900318823, binarize=0.0, class_prior=None,\n      fit_prior=True), BernoulliNB(alpha=464.15888336127773, binarize=0.0, class_prior=None,\n      fit_prior=True), BernoulliNB(alpha=1000.0, binarize=0.0, class_prior=None, fit_prior=True)]\n[0.8407268297634758, 0.8413021363173957, 0.8387888707037643, 0.8362211221122112, 0.8320267586495244, 0.8200470185937166, 0.7961250550418317, 0.7682843472317156, 0.7231503579952268, 0.6632988128315231]\n"
     ]
    }
   ],
   "source": [
    "print(best_bbow_nb, best_bbow_nb_score_valid, all_models, all_scores, sep='\\n')"
   ]
  },
  {
   "cell_type": "code",
   "execution_count": 91,
   "metadata": {
    "collapsed": false
   },
   "outputs": [
    {
     "name": "stdout",
     "output_type": "stream",
     "text": [
      "-------------FITTING MODELS-------------\n"
     ]
    },
    {
     "name": "stderr",
     "output_type": "stream",
     "text": [
      "[Parallel(n_jobs=1)]: Using backend SequentialBackend with 1 concurrent workers.\n"
     ]
    },
    {
     "name": "stderr",
     "output_type": "stream",
     "text": [
      "[Parallel(n_jobs=1)]: Done   1 out of   1 | elapsed:    1.1s remaining:    0.0s\n"
     ]
    },
    {
     "name": "stderr",
     "output_type": "stream",
     "text": [
      "[Parallel(n_jobs=1)]: Done   2 out of   2 | elapsed:    1.9s remaining:    0.0s\n"
     ]
    },
    {
     "name": "stderr",
     "output_type": "stream",
     "text": [
      "[Parallel(n_jobs=1)]: Done   3 out of   3 | elapsed:    3.5s remaining:    0.0s\n"
     ]
    },
    {
     "name": "stderr",
     "output_type": "stream",
     "text": [
      "[Parallel(n_jobs=1)]: Done   4 out of   4 | elapsed:    4.8s remaining:    0.0s\n"
     ]
    },
    {
     "name": "stderr",
     "output_type": "stream",
     "text": [
      "[Parallel(n_jobs=1)]: Done   5 out of   5 | elapsed:   10.6s remaining:    0.0s\n"
     ]
    },
    {
     "name": "stderr",
     "output_type": "stream",
     "text": [
      "[Parallel(n_jobs=1)]: Done   6 out of   6 | elapsed:   13.2s remaining:    0.0s\n"
     ]
    },
    {
     "name": "stderr",
     "output_type": "stream",
     "text": [
      "[Parallel(n_jobs=1)]: Done   7 out of   7 | elapsed:   25.7s remaining:    0.0s\n"
     ]
    },
    {
     "name": "stderr",
     "output_type": "stream",
     "text": [
      "[Parallel(n_jobs=1)]: Done   8 out of   8 | elapsed:   28.2s remaining:    0.0s\n"
     ]
    },
    {
     "name": "stderr",
     "output_type": "stream",
     "text": [
      "[Parallel(n_jobs=1)]: Done   9 out of   9 | elapsed:   45.0s remaining:    0.0s\n"
     ]
    },
    {
     "name": "stdout",
     "output_type": "stream",
     "text": [
      "-------------SCORING MODELS-------------\nThis model/metric cannot use predict_proba. Using predict for scoring instead.\nThis model/metric cannot use predict_proba. Using predict for scoring instead.\nThis model/metric cannot use predict_proba. Using predict for scoring instead.\nThis model/metric cannot use predict_proba. Using predict for scoring instead.\nThis model/metric cannot use predict_proba. Using predict for scoring instead.\nThis model/metric cannot use predict_proba. Using predict for scoring instead.\nThis model/metric cannot use predict_proba. Using predict for scoring instead.\nThis model/metric cannot use predict_proba. Using predict for scoring instead.\nThis model/metric cannot use predict_proba. Using predict for scoring instead.\nThis model/metric cannot use predict_proba. Using predict for scoring instead.\n"
     ]
    },
    {
     "name": "stderr",
     "output_type": "stream",
     "text": [
      "[Parallel(n_jobs=1)]: Done  10 out of  10 | elapsed:   47.5s finished\n[Parallel(n_jobs=1)]: Using backend SequentialBackend with 1 concurrent workers.\n[Parallel(n_jobs=1)]: Done  10 out of  10 | elapsed:    0.0s finished\n"
     ]
    },
    {
     "data": {
      "image/png": "[encoded data removed]",
      "text/plain": [
       "<Figure size 144x288 with 2 Axes>"
      ]
     },
     "metadata": {},
     "output_type": "display_data"
    }
   ],
   "source": [
    "best_bbow_svc, best_bbow_svc_score_valid, all_models, all_scores = pf.bestFit(\n",
    "    LinearSVC, params_svc, IMDB_bbow_train_x, IMDB_train_y, IMDB_bbow_valid_x, IMDB_valid_y, metric=f1_score, n_jobs=1)"
   ]
  },
  {
   "cell_type": "code",
   "execution_count": 92,
   "metadata": {
    "collapsed": true
   },
   "outputs": [
    {
     "name": "stdout",
     "output_type": "stream",
     "text": [
      "LinearSVC(C=0.1, class_weight=None, dual=False, fit_intercept=True,\n     intercept_scaling=1, loss='squared_hinge', max_iter=1000,\n     multi_class='ovr', penalty='l2', random_state=None, tol=0.0001,\n     verbose=0)\n0.8577142285771424\n[LinearSVC(C=0.1, class_weight=None, dual=False, fit_intercept=True,\n     intercept_scaling=1, loss='squared_hinge', max_iter=1000,\n     multi_class='ovr', penalty='l2', random_state=None, tol=0.0001,\n     verbose=0), LinearSVC(C=0.1, class_weight=None, dual=True, fit_intercept=True,\n     intercept_scaling=1, loss='squared_hinge', max_iter=1000,\n     multi_class='ovr', penalty='l2', random_state=None, tol=0.0001,\n     verbose=0), LinearSVC(C=0.31622776601683794, class_weight=None, dual=False,\n     fit_intercept=True, intercept_scaling=1, loss='squared_hinge',\n     max_iter=1000, multi_class='ovr', penalty='l2', random_state=None,\n     tol=0.0001, verbose=0), LinearSVC(C=0.31622776601683794, class_weight=None, dual=True,\n     fit_intercept=True, intercept_scaling=1, loss='squared_hinge',\n     max_iter=1000, multi_class='ovr', penalty='l2', random_state=None,\n     tol=0.0001, verbose=0), LinearSVC(C=1.0, class_weight=None, dual=False, fit_intercept=True,\n     intercept_scaling=1, loss='squared_hinge', max_iter=1000,\n     multi_class='ovr', penalty='l2', random_state=None, tol=0.0001,\n     verbose=0), LinearSVC(C=1.0, class_weight=None, dual=True, fit_intercept=True,\n     intercept_scaling=1, loss='squared_hinge', max_iter=1000,\n     multi_class='ovr', penalty='l2', random_state=None, tol=0.0001,\n     verbose=0), LinearSVC(C=3.1622776601683795, class_weight=None, dual=False,\n     fit_intercept=True, intercept_scaling=1, loss='squared_hinge',\n     max_iter=1000, multi_class='ovr', penalty='l2', random_state=None,\n     tol=0.0001, verbose=0), LinearSVC(C=3.1622776601683795, class_weight=None, dual=True,\n     fit_intercept=True, intercept_scaling=1, loss='squared_hinge',\n     max_iter=1000, multi_class='ovr', penalty='l2', random_state=None,\n     tol=0.0001, verbose=0), LinearSVC(C=10.0, class_weight=None, dual=False, fit_intercept=True,\n     intercept_scaling=1, loss='squared_hinge', max_iter=1000,\n     multi_class='ovr', penalty='l2', random_state=None, tol=0.0001,\n     verbose=0), LinearSVC(C=10.0, class_weight=None, dual=True, fit_intercept=True,\n     intercept_scaling=1, loss='squared_hinge', max_iter=1000,\n     multi_class='ovr', penalty='l2', random_state=None, tol=0.0001,\n     verbose=0)]\n[0.8577142285771424, 0.8577142285771424, 0.846608556256888, 0.8467241033860949, 0.8392337779560727, 0.8381468110709989, 0.8357429718875502, 0.8367285499247367, 0.8374661178596526, 0.8349066077525608]\n"
     ]
    }
   ],
   "source": [
    "print(best_bbow_svc, best_bbow_svc_score_valid, all_models, all_scores, sep='\\n')"
   ]
  },
  {
   "cell_type": "code",
   "execution_count": 93,
   "metadata": {
    "collapsed": false
   },
   "outputs": [
    {
     "name": "stdout",
     "output_type": "stream",
     "text": [
      "-------------FITTING MODELS-------------\n"
     ]
    },
    {
     "name": "stderr",
     "output_type": "stream",
     "text": [
      "[Parallel(n_jobs=-1)]: Using backend LokyBackend with 4 concurrent workers.\n"
     ]
    },
    {
     "name": "stderr",
     "output_type": "stream",
     "text": [
      "[Parallel(n_jobs=-1)]: Done   5 tasks      | elapsed:    1.2s\n"
     ]
    },
    {
     "name": "stderr",
     "output_type": "stream",
     "text": [
      "[Parallel(n_jobs=-1)]: Done  10 tasks      | elapsed:    1.4s\n"
     ]
    },
    {
     "name": "stderr",
     "output_type": "stream",
     "text": [
      "[Parallel(n_jobs=-1)]: Done  17 tasks      | elapsed:    1.8s\n"
     ]
    },
    {
     "name": "stderr",
     "output_type": "stream",
     "text": [
      "[Parallel(n_jobs=-1)]: Done  24 tasks      | elapsed:    3.5s\n"
     ]
    },
    {
     "name": "stderr",
     "output_type": "stream",
     "text": [
      "[Parallel(n_jobs=-1)]: Done  33 tasks      | elapsed:   11.2s\n"
     ]
    },
    {
     "name": "stderr",
     "output_type": "stream",
     "text": [
      "[Parallel(n_jobs=-1)]: Done  42 tasks      | elapsed:   12.7s\n"
     ]
    },
    {
     "name": "stderr",
     "output_type": "stream",
     "text": [
      "[Parallel(n_jobs=-1)]: Done  53 tasks      | elapsed:   24.0s\n"
     ]
    },
    {
     "name": "stderr",
     "output_type": "stream",
     "text": [
      "[Parallel(n_jobs=-1)]: Done  64 tasks      | elapsed:   24.4s\n"
     ]
    },
    {
     "name": "stderr",
     "output_type": "stream",
     "text": [
      "[Parallel(n_jobs=-1)]: Done  77 tasks      | elapsed:   24.9s\n"
     ]
    },
    {
     "name": "stderr",
     "output_type": "stream",
     "text": [
      "[Parallel(n_jobs=-1)]: Done  96 out of  96 | elapsed:   36.9s finished\n[Parallel(n_jobs=-1)]: Using backend LokyBackend with 4 concurrent workers.\n"
     ]
    },
    {
     "name": "stdout",
     "output_type": "stream",
     "text": [
      "-------------SCORING MODELS-------------\n"
     ]
    },
    {
     "name": "stdout",
     "output_type": "stream",
     "text": [
      "Too many dimensions to plot.\n"
     ]
    },
    {
     "name": "stderr",
     "output_type": "stream",
     "text": [
      "[Parallel(n_jobs=-1)]: Done  96 out of  96 | elapsed:    1.0s finished\n"
     ]
    }
   ],
   "source": [
    "best_bbow_tree, best_bbow_tree_score_valid, all_models, all_scores = pf.bestFit(\n",
    "    DecisionTreeClassifier, params_tree, IMDB_bbow_train_x, IMDB_train_y, IMDB_bbow_valid_x, IMDB_valid_y, metric=f1_score)"
   ]
  },
  {
   "cell_type": "code",
   "execution_count": 94,
   "metadata": {
    "collapsed": true
   },
   "outputs": [
    {
     "name": "stdout",
     "output_type": "stream",
     "text": [
      "DecisionTreeClassifier(class_weight=None, criterion='gini', max_depth=10.0,\n            max_features=None, max_leaf_nodes=None,\n            min_impurity_decrease=0.0, min_impurity_split=None,\n            min_samples_leaf=1, min_samples_split=2,\n            min_weight_fraction_leaf=0.0, presort=False, random_state=None,\n            splitter='best')\n0.751105096977898\n[DecisionTreeClassifier(class_weight=None, criterion='gini', max_depth=None,\n            max_features=None, max_leaf_nodes=None,\n            min_impurity_decrease=0.0, min_impurity_split=None,\n            min_samples_leaf=1, min_samples_split=2,\n            min_weight_fraction_leaf=0.0, presort=False, random_state=None,\n            splitter='best'), DecisionTreeClassifier(class_weight=None, criterion='gini', max_depth=None,\n            max_features=None, max_leaf_nodes=None,\n            min_impurity_decrease=0.0, min_impurity_split=None,\n            min_samples_leaf=1, min_samples_split=2,\n            min_weight_fraction_leaf=0.0, presort=False, random_state=None,\n            splitter='random'), DecisionTreeClassifier(class_weight=None, criterion='gini', max_depth=None,\n            max_features='auto', max_leaf_nodes=None,\n            min_impurity_decrease=0.0, min_impurity_split=None,\n            min_samples_leaf=1, min_samples_split=2,\n            min_weight_fraction_leaf=0.0, presort=False, random_state=None,\n            splitter='best'), DecisionTreeClassifier(class_weight=None, criterion='gini', max_depth=None,\n            max_features='auto', max_leaf_nodes=None,\n            min_impurity_decrease=0.0, min_impurity_split=None,\n            min_samples_leaf=1, min_samples_split=2,\n            min_weight_fraction_leaf=0.0, presort=False, random_state=None,\n            splitter='random'), DecisionTreeClassifier(class_weight=None, criterion='gini', max_depth=None,\n            max_features='sqrt', max_leaf_nodes=None,\n            min_impurity_decrease=0.0, min_impurity_split=None,\n            min_samples_leaf=1, min_samples_split=2,\n            min_weight_fraction_leaf=0.0, presort=False, random_state=None,\n            splitter='best'), DecisionTreeClassifier(class_weight=None, criterion='gini', max_depth=None,\n            max_features='sqrt', max_leaf_nodes=None,\n            min_impurity_decrease=0.0, min_impurity_split=None,\n            min_samples_leaf=1, min_samples_split=2,\n            min_weight_fraction_leaf=0.0, presort=False, random_state=None,\n            splitter='random'), DecisionTreeClassifier(class_weight=None, criterion='gini', max_depth=None,\n            max_features='log2', max_leaf_nodes=None,\n            min_impurity_decrease=0.0, min_impurity_split=None,\n            min_samples_leaf=1, min_samples_split=2,\n            min_weight_fraction_leaf=0.0, presort=False, random_state=None,\n            splitter='best'), DecisionTreeClassifier(class_weight=None, criterion='gini', max_depth=None,\n            max_features='log2', max_leaf_nodes=None,\n            min_impurity_decrease=0.0, min_impurity_split=None,\n            min_samples_leaf=1, min_samples_split=2,\n            min_weight_fraction_leaf=0.0, presort=False, random_state=None,\n            splitter='random'), DecisionTreeClassifier(class_weight=None, criterion='gini', max_depth=1.0,\n            max_features=None, max_leaf_nodes=None,\n            min_impurity_decrease=0.0, min_impurity_split=None,\n            min_samples_leaf=1, min_samples_split=2,\n            min_weight_fraction_leaf=0.0, presort=False, random_state=None,\n            splitter='best'), DecisionTreeClassifier(class_weight=None, criterion='gini', max_depth=1.0,\n            max_features=None, max_leaf_nodes=None,\n            min_impurity_decrease=0.0, min_impurity_split=None,\n            min_samples_leaf=1, min_samples_split=2,\n            min_weight_fraction_leaf=0.0, presort=False, random_state=None,\n            splitter='random'), DecisionTreeClassifier(class_weight=None, criterion='gini', max_depth=1.0,\n            max_features='auto', max_leaf_nodes=None,\n            min_impurity_decrease=0.0, min_impurity_split=None,\n            min_samples_leaf=1, min_samples_split=2,\n            min_weight_fraction_leaf=0.0, presort=False, random_state=None,\n            splitter='best'), DecisionTreeClassifier(class_weight=None, criterion='gini', max_depth=1.0,\n            max_features='auto', max_leaf_nodes=None,\n            min_impurity_decrease=0.0, min_impurity_split=None,\n            min_samples_leaf=1, min_samples_split=2,\n            min_weight_fraction_leaf=0.0, presort=False, random_state=None,\n            splitter='random'), DecisionTreeClassifier(class_weight=None, criterion='gini', max_depth=1.0,\n            max_features='sqrt', max_leaf_nodes=None,\n            min_impurity_decrease=0.0, min_impurity_split=None,\n            min_samples_leaf=1, min_samples_split=2,\n            min_weight_fraction_leaf=0.0, presort=False, random_state=None,\n            splitter='best'), DecisionTreeClassifier(class_weight=None, criterion='gini', max_depth=1.0,\n            max_features='sqrt', max_leaf_nodes=None,\n            min_impurity_decrease=0.0, min_impurity_split=None,\n            min_samples_leaf=1, min_samples_split=2,\n            min_weight_fraction_leaf=0.0, presort=False, random_state=None,\n            splitter='random'), DecisionTreeClassifier(class_weight=None, criterion='gini', max_depth=1.0,\n            max_features='log2', max_leaf_nodes=None,\n            min_impurity_decrease=0.0, min_impurity_split=None,\n            min_samples_leaf=1, min_samples_split=2,\n            min_weight_fraction_leaf=0.0, presort=False, random_state=None,\n            splitter='best'), DecisionTreeClassifier(class_weight=None, criterion='gini', max_depth=1.0,\n            max_features='log2', max_leaf_nodes=None,\n            min_impurity_decrease=0.0, min_impurity_split=None,\n            min_samples_leaf=1, min_samples_split=2,\n            min_weight_fraction_leaf=0.0, presort=False, random_state=None,\n            splitter='random'), DecisionTreeClassifier(class_weight=None, criterion='gini',\n            max_depth=3.1622776601683795, max_features=None,\n            max_leaf_nodes=None, min_impurity_decrease=0.0,\n            min_impurity_split=None, min_samples_leaf=1,\n            min_samples_split=2, min_weight_fraction_leaf=0.0,\n            presort=False, random_state=None, splitter='best'), DecisionTreeClassifier(class_weight=None, criterion='gini',\n            max_depth=3.1622776601683795, max_features=None,\n            max_leaf_nodes=None, min_impurity_decrease=0.0,\n            min_impurity_split=None, min_samples_leaf=1,\n            min_samples_split=2, min_weight_fraction_leaf=0.0,\n            presort=False, random_state=None, splitter='random'), DecisionTreeClassifier(class_weight=None, criterion='gini',\n            max_depth=3.1622776601683795, max_features='auto',\n            max_leaf_nodes=None, min_impurity_decrease=0.0,\n            min_impurity_split=None, min_samples_leaf=1,\n            min_samples_split=2, min_weight_fraction_leaf=0.0,\n            presort=False, random_state=None, splitter='best'), DecisionTreeClassifier(class_weight=None, criterion='gini',\n            max_depth=3.1622776601683795, max_features='auto',\n            max_leaf_nodes=None, min_impurity_decrease=0.0,\n            min_impurity_split=None, min_samples_leaf=1,\n            min_samples_split=2, min_weight_fraction_leaf=0.0,\n            presort=False, random_state=None, splitter='random'), DecisionTreeClassifier(class_weight=None, criterion='gini',\n            max_depth=3.1622776601683795, max_features='sqrt',\n            max_leaf_nodes=None, min_impurity_decrease=0.0,\n            min_impurity_split=None, min_samples_leaf=1,\n            min_samples_split=2, min_weight_fraction_leaf=0.0,\n            presort=False, random_state=None, splitter='best'), DecisionTreeClassifier(class_weight=None, criterion='gini',\n            max_depth=3.1622776601683795, max_features='sqrt',\n            max_leaf_nodes=None, min_impurity_decrease=0.0,\n            min_impurity_split=None, min_samples_leaf=1,\n            min_samples_split=2, min_weight_fraction_leaf=0.0,\n            presort=False, random_state=None, splitter='random'), DecisionTreeClassifier(class_weight=None, criterion='gini',\n            max_depth=3.1622776601683795, max_features='log2',\n            max_leaf_nodes=None, min_impurity_decrease=0.0,\n            min_impurity_split=None, min_samples_leaf=1,\n            min_samples_split=2, min_weight_fraction_leaf=0.0,\n            presort=False, random_state=None, splitter='best'), DecisionTreeClassifier(class_weight=None, criterion='gini',\n            max_depth=3.1622776601683795, max_features='log2',\n            max_leaf_nodes=None, min_impurity_decrease=0.0,\n            min_impurity_split=None, min_samples_leaf=1,\n            min_samples_split=2, min_weight_fraction_leaf=0.0,\n            presort=False, random_state=None, splitter='random'), DecisionTreeClassifier(class_weight=None, criterion='gini', max_depth=10.0,\n            max_features=None, max_leaf_nodes=None,\n            min_impurity_decrease=0.0, min_impurity_split=None,\n            min_samples_leaf=1, min_samples_split=2,\n            min_weight_fraction_leaf=0.0, presort=False, random_state=None,\n            splitter='best'), DecisionTreeClassifier(class_weight=None, criterion='gini', max_depth=10.0,\n            max_features=None, max_leaf_nodes=None,\n            min_impurity_decrease=0.0, min_impurity_split=None,\n            min_samples_leaf=1, min_samples_split=2,\n            min_weight_fraction_leaf=0.0, presort=False, random_state=None,\n            splitter='random'), DecisionTreeClassifier(class_weight=None, criterion='gini', max_depth=10.0,\n            max_features='auto', max_leaf_nodes=None,\n            min_impurity_decrease=0.0, min_impurity_split=None,\n            min_samples_leaf=1, min_samples_split=2,\n            min_weight_fraction_leaf=0.0, presort=False, random_state=None,\n            splitter='best'), DecisionTreeClassifier(class_weight=None, criterion='gini', max_depth=10.0,\n            max_features='auto', max_leaf_nodes=None,\n            min_impurity_decrease=0.0, min_impurity_split=None,\n            min_samples_leaf=1, min_samples_split=2,\n            min_weight_fraction_leaf=0.0, presort=False, random_state=None,\n            splitter='random'), DecisionTreeClassifier(class_weight=None, criterion='gini', max_depth=10.0,\n            max_features='sqrt', max_leaf_nodes=None,\n            min_impurity_decrease=0.0, min_impurity_split=None,\n            min_samples_leaf=1, min_samples_split=2,\n            min_weight_fraction_leaf=0.0, presort=False, random_state=None,\n            splitter='best'), DecisionTreeClassifier(class_weight=None, criterion='gini', max_depth=10.0,\n            max_features='sqrt', max_leaf_nodes=None,\n            min_impurity_decrease=0.0, min_impurity_split=None,\n            min_samples_leaf=1, min_samples_split=2,\n            min_weight_fraction_leaf=0.0, presort=False, random_state=None,\n            splitter='random'), DecisionTreeClassifier(class_weight=None, criterion='gini', max_depth=10.0,\n            max_features='log2', max_leaf_nodes=None,\n            min_impurity_decrease=0.0, min_impurity_split=None,\n            min_samples_leaf=1, min_samples_split=2,\n            min_weight_fraction_leaf=0.0, presort=False, random_state=None,\n            splitter='best'), DecisionTreeClassifier(class_weight=None, criterion='gini', max_depth=10.0,\n            max_features='log2', max_leaf_nodes=None,\n            min_impurity_decrease=0.0, min_impurity_split=None,\n            min_samples_leaf=1, min_samples_split=2,\n            min_weight_fraction_leaf=0.0, presort=False, random_state=None,\n            splitter='random'), DecisionTreeClassifier(class_weight=None, criterion='gini',\n            max_depth=31.622776601683793, max_features=None,\n            max_leaf_nodes=None, min_impurity_decrease=0.0,\n            min_impurity_split=None, min_samples_leaf=1,\n            min_samples_split=2, min_weight_fraction_leaf=0.0,\n            presort=False, random_state=None, splitter='best'), DecisionTreeClassifier(class_weight=None, criterion='gini',\n            max_depth=31.622776601683793, max_features=None,\n            max_leaf_nodes=None, min_impurity_decrease=0.0,\n            min_impurity_split=None, min_samples_leaf=1,\n            min_samples_split=2, min_weight_fraction_leaf=0.0,\n            presort=False, random_state=None, splitter='random'), DecisionTreeClassifier(class_weight=None, criterion='gini',\n            max_depth=31.622776601683793, max_features='auto',\n            max_leaf_nodes=None, min_impurity_decrease=0.0,\n            min_impurity_split=None, min_samples_leaf=1,\n            min_samples_split=2, min_weight_fraction_leaf=0.0,\n            presort=False, random_state=None, splitter='best'), DecisionTreeClassifier(class_weight=None, criterion='gini',\n            max_depth=31.622776601683793, max_features='auto',\n            max_leaf_nodes=None, min_impurity_decrease=0.0,\n            min_impurity_split=None, min_samples_leaf=1,\n            min_samples_split=2, min_weight_fraction_leaf=0.0,\n            presort=False, random_state=None, splitter='random'), DecisionTreeClassifier(class_weight=None, criterion='gini',\n            max_depth=31.622776601683793, max_features='sqrt',\n            max_leaf_nodes=None, min_impurity_decrease=0.0,\n            min_impurity_split=None, min_samples_leaf=1,\n            min_samples_split=2, min_weight_fraction_leaf=0.0,\n            presort=False, random_state=None, splitter='best'), DecisionTreeClassifier(class_weight=None, criterion='gini',\n            max_depth=31.622776601683793, max_features='sqrt',\n            max_leaf_nodes=None, min_impurity_decrease=0.0,\n            min_impurity_split=None, min_samples_leaf=1,\n            min_samples_split=2, min_weight_fraction_leaf=0.0,\n            presort=False, random_state=None, splitter='random'), DecisionTreeClassifier(class_weight=None, criterion='gini',\n            max_depth=31.622776601683793, max_features='log2',\n            max_leaf_nodes=None, min_impurity_decrease=0.0,\n            min_impurity_split=None, min_samples_leaf=1,\n            min_samples_split=2, min_weight_fraction_leaf=0.0,\n            presort=False, random_state=None, splitter='best'), DecisionTreeClassifier(class_weight=None, criterion='gini',\n            max_depth=31.622776601683793, max_features='log2',\n            max_leaf_nodes=None, min_impurity_decrease=0.0,\n            min_impurity_split=None, min_samples_leaf=1,\n            min_samples_split=2, min_weight_fraction_leaf=0.0,\n            presort=False, random_state=None, splitter='random'), DecisionTreeClassifier(class_weight=None, criterion='gini', max_depth=100.0,\n            max_features=None, max_leaf_nodes=None,\n            min_impurity_decrease=0.0, min_impurity_split=None,\n            min_samples_leaf=1, min_samples_split=2,\n            min_weight_fraction_leaf=0.0, presort=False, random_state=None,\n            splitter='best'), DecisionTreeClassifier(class_weight=None, criterion='gini', max_depth=100.0,\n            max_features=None, max_leaf_nodes=None,\n            min_impurity_decrease=0.0, min_impurity_split=None,\n            min_samples_leaf=1, min_samples_split=2,\n            min_weight_fraction_leaf=0.0, presort=False, random_state=None,\n            splitter='random'), DecisionTreeClassifier(class_weight=None, criterion='gini', max_depth=100.0,\n            max_features='auto', max_leaf_nodes=None,\n            min_impurity_decrease=0.0, min_impurity_split=None,\n            min_samples_leaf=1, min_samples_split=2,\n            min_weight_fraction_leaf=0.0, presort=False, random_state=None,\n            splitter='best'), DecisionTreeClassifier(class_weight=None, criterion='gini', max_depth=100.0,\n            max_features='auto', max_leaf_nodes=None,\n            min_impurity_decrease=0.0, min_impurity_split=None,\n            min_samples_leaf=1, min_samples_split=2,\n            min_weight_fraction_leaf=0.0, presort=False, random_state=None,\n            splitter='random'), DecisionTreeClassifier(class_weight=None, criterion='gini', max_depth=100.0,\n            max_features='sqrt', max_leaf_nodes=None,\n            min_impurity_decrease=0.0, min_impurity_split=None,\n            min_samples_leaf=1, min_samples_split=2,\n            min_weight_fraction_leaf=0.0, presort=False, random_state=None,\n            splitter='best'), DecisionTreeClassifier(class_weight=None, criterion='gini', max_depth=100.0,\n            max_features='sqrt', max_leaf_nodes=None,\n            min_impurity_decrease=0.0, min_impurity_split=None,\n            min_samples_leaf=1, min_samples_split=2,\n            min_weight_fraction_leaf=0.0, presort=False, random_state=None,\n            splitter='random'), DecisionTreeClassifier(class_weight=None, criterion='gini', max_depth=100.0,\n            max_features='log2', max_leaf_nodes=None,\n            min_impurity_decrease=0.0, min_impurity_split=None,\n            min_samples_leaf=1, min_samples_split=2,\n            min_weight_fraction_leaf=0.0, presort=False, random_state=None,\n            splitter='best'), DecisionTreeClassifier(class_weight=None, criterion='gini', max_depth=100.0,\n            max_features='log2', max_leaf_nodes=None,\n            min_impurity_decrease=0.0, min_impurity_split=None,\n            min_samples_leaf=1, min_samples_split=2,\n            min_weight_fraction_leaf=0.0, presort=False, random_state=None,\n            splitter='random'), DecisionTreeClassifier(class_weight=None, criterion='entropy', max_depth=None,\n            max_features=None, max_leaf_nodes=None,\n            min_impurity_decrease=0.0, min_impurity_split=None,\n            min_samples_leaf=1, min_samples_split=2,\n            min_weight_fraction_leaf=0.0, presort=False, random_state=None,\n            splitter='best'), DecisionTreeClassifier(class_weight=None, criterion='entropy', max_depth=None,\n            max_features=None, max_leaf_nodes=None,\n            min_impurity_decrease=0.0, min_impurity_split=None,\n            min_samples_leaf=1, min_samples_split=2,\n            min_weight_fraction_leaf=0.0, presort=False, random_state=None,\n            splitter='random'), DecisionTreeClassifier(class_weight=None, criterion='entropy', max_depth=None,\n            max_features='auto', max_leaf_nodes=None,\n            min_impurity_decrease=0.0, min_impurity_split=None,\n            min_samples_leaf=1, min_samples_split=2,\n            min_weight_fraction_leaf=0.0, presort=False, random_state=None,\n            splitter='best'), DecisionTreeClassifier(class_weight=None, criterion='entropy', max_depth=None,\n            max_features='auto', max_leaf_nodes=None,\n            min_impurity_decrease=0.0, min_impurity_split=None,\n            min_samples_leaf=1, min_samples_split=2,\n            min_weight_fraction_leaf=0.0, presort=False, random_state=None,\n            splitter='random'), DecisionTreeClassifier(class_weight=None, criterion='entropy', max_depth=None,\n            max_features='sqrt', max_leaf_nodes=None,\n            min_impurity_decrease=0.0, min_impurity_split=None,\n            min_samples_leaf=1, min_samples_split=2,\n            min_weight_fraction_leaf=0.0, presort=False, random_state=None,\n            splitter='best'), DecisionTreeClassifier(class_weight=None, criterion='entropy', max_depth=None,\n            max_features='sqrt', max_leaf_nodes=None,\n            min_impurity_decrease=0.0, min_impurity_split=None,\n            min_samples_leaf=1, min_samples_split=2,\n            min_weight_fraction_leaf=0.0, presort=False, random_state=None,\n            splitter='random'), DecisionTreeClassifier(class_weight=None, criterion='entropy', max_depth=None,\n            max_features='log2', max_leaf_nodes=None,\n            min_impurity_decrease=0.0, min_impurity_split=None,\n            min_samples_leaf=1, min_samples_split=2,\n            min_weight_fraction_leaf=0.0, presort=False, random_state=None,\n            splitter='best'), DecisionTreeClassifier(class_weight=None, criterion='entropy', max_depth=None,\n            max_features='log2', max_leaf_nodes=None,\n            min_impurity_decrease=0.0, min_impurity_split=None,\n            min_samples_leaf=1, min_samples_split=2,\n            min_weight_fraction_leaf=0.0, presort=False, random_state=None,\n            splitter='random'), DecisionTreeClassifier(class_weight=None, criterion='entropy', max_depth=1.0,\n            max_features=None, max_leaf_nodes=None,\n            min_impurity_decrease=0.0, min_impurity_split=None,\n            min_samples_leaf=1, min_samples_split=2,\n            min_weight_fraction_leaf=0.0, presort=False, random_state=None,\n            splitter='best'), DecisionTreeClassifier(class_weight=None, criterion='entropy', max_depth=1.0,\n            max_features=None, max_leaf_nodes=None,\n            min_impurity_decrease=0.0, min_impurity_split=None,\n            min_samples_leaf=1, min_samples_split=2,\n            min_weight_fraction_leaf=0.0, presort=False, random_state=None,\n            splitter='random'), DecisionTreeClassifier(class_weight=None, criterion='entropy', max_depth=1.0,\n            max_features='auto', max_leaf_nodes=None,\n            min_impurity_decrease=0.0, min_impurity_split=None,\n            min_samples_leaf=1, min_samples_split=2,\n            min_weight_fraction_leaf=0.0, presort=False, random_state=None,\n            splitter='best'), DecisionTreeClassifier(class_weight=None, criterion='entropy', max_depth=1.0,\n            max_features='auto', max_leaf_nodes=None,\n            min_impurity_decrease=0.0, min_impurity_split=None,\n            min_samples_leaf=1, min_samples_split=2,\n            min_weight_fraction_leaf=0.0, presort=False, random_state=None,\n            splitter='random'), DecisionTreeClassifier(class_weight=None, criterion='entropy', max_depth=1.0,\n            max_features='sqrt', max_leaf_nodes=None,\n            min_impurity_decrease=0.0, min_impurity_split=None,\n            min_samples_leaf=1, min_samples_split=2,\n            min_weight_fraction_leaf=0.0, presort=False, random_state=None,\n            splitter='best'), DecisionTreeClassifier(class_weight=None, criterion='entropy', max_depth=1.0,\n            max_features='sqrt', max_leaf_nodes=None,\n            min_impurity_decrease=0.0, min_impurity_split=None,\n            min_samples_leaf=1, min_samples_split=2,\n            min_weight_fraction_leaf=0.0, presort=False, random_state=None,\n            splitter='random'), DecisionTreeClassifier(class_weight=None, criterion='entropy', max_depth=1.0,\n            max_features='log2', max_leaf_nodes=None,\n            min_impurity_decrease=0.0, min_impurity_split=None,\n            min_samples_leaf=1, min_samples_split=2,\n            min_weight_fraction_leaf=0.0, presort=False, random_state=None,\n            splitter='best'), DecisionTreeClassifier(class_weight=None, criterion='entropy', max_depth=1.0,\n            max_features='log2', max_leaf_nodes=None,\n            min_impurity_decrease=0.0, min_impurity_split=None,\n            min_samples_leaf=1, min_samples_split=2,\n            min_weight_fraction_leaf=0.0, presort=False, random_state=None,\n            splitter='random'), DecisionTreeClassifier(class_weight=None, criterion='entropy',\n            max_depth=3.1622776601683795, max_features=None,\n            max_leaf_nodes=None, min_impurity_decrease=0.0,\n            min_impurity_split=None, min_samples_leaf=1,\n            min_samples_split=2, min_weight_fraction_leaf=0.0,\n            presort=False, random_state=None, splitter='best'), DecisionTreeClassifier(class_weight=None, criterion='entropy',\n            max_depth=3.1622776601683795, max_features=None,\n            max_leaf_nodes=None, min_impurity_decrease=0.0,\n            min_impurity_split=None, min_samples_leaf=1,\n            min_samples_split=2, min_weight_fraction_leaf=0.0,\n            presort=False, random_state=None, splitter='random'), DecisionTreeClassifier(class_weight=None, criterion='entropy',\n            max_depth=3.1622776601683795, max_features='auto',\n            max_leaf_nodes=None, min_impurity_decrease=0.0,\n            min_impurity_split=None, min_samples_leaf=1,\n            min_samples_split=2, min_weight_fraction_leaf=0.0,\n            presort=False, random_state=None, splitter='best'), DecisionTreeClassifier(class_weight=None, criterion='entropy',\n            max_depth=3.1622776601683795, max_features='auto',\n            max_leaf_nodes=None, min_impurity_decrease=0.0,\n            min_impurity_split=None, min_samples_leaf=1,\n            min_samples_split=2, min_weight_fraction_leaf=0.0,\n            presort=False, random_state=None, splitter='random'), DecisionTreeClassifier(class_weight=None, criterion='entropy',\n            max_depth=3.1622776601683795, max_features='sqrt',\n            max_leaf_nodes=None, min_impurity_decrease=0.0,\n            min_impurity_split=None, min_samples_leaf=1,\n            min_samples_split=2, min_weight_fraction_leaf=0.0,\n            presort=False, random_state=None, splitter='best'), DecisionTreeClassifier(class_weight=None, criterion='entropy',\n            max_depth=3.1622776601683795, max_features='sqrt',\n            max_leaf_nodes=None, min_impurity_decrease=0.0,\n            min_impurity_split=None, min_samples_leaf=1,\n            min_samples_split=2, min_weight_fraction_leaf=0.0,\n            presort=False, random_state=None, splitter='random'), DecisionTreeClassifier(class_weight=None, criterion='entropy',\n            max_depth=3.1622776601683795, max_features='log2',\n            max_leaf_nodes=None, min_impurity_decrease=0.0,\n            min_impurity_split=None, min_samples_leaf=1,\n            min_samples_split=2, min_weight_fraction_leaf=0.0,\n            presort=False, random_state=None, splitter='best'), DecisionTreeClassifier(class_weight=None, criterion='entropy',\n            max_depth=3.1622776601683795, max_features='log2',\n            max_leaf_nodes=None, min_impurity_decrease=0.0,\n            min_impurity_split=None, min_samples_leaf=1,\n            min_samples_split=2, min_weight_fraction_leaf=0.0,\n            presort=False, random_state=None, splitter='random'), DecisionTreeClassifier(class_weight=None, criterion='entropy', max_depth=10.0,\n            max_features=None, max_leaf_nodes=None,\n            min_impurity_decrease=0.0, min_impurity_split=None,\n            min_samples_leaf=1, min_samples_split=2,\n            min_weight_fraction_leaf=0.0, presort=False, random_state=None,\n            splitter='best'), DecisionTreeClassifier(class_weight=None, criterion='entropy', max_depth=10.0,\n            max_features=None, max_leaf_nodes=None,\n            min_impurity_decrease=0.0, min_impurity_split=None,\n            min_samples_leaf=1, min_samples_split=2,\n            min_weight_fraction_leaf=0.0, presort=False, random_state=None,\n            splitter='random'), DecisionTreeClassifier(class_weight=None, criterion='entropy', max_depth=10.0,\n            max_features='auto', max_leaf_nodes=None,\n            min_impurity_decrease=0.0, min_impurity_split=None,\n            min_samples_leaf=1, min_samples_split=2,\n            min_weight_fraction_leaf=0.0, presort=False, random_state=None,\n            splitter='best'), DecisionTreeClassifier(class_weight=None, criterion='entropy', max_depth=10.0,\n            max_features='auto', max_leaf_nodes=None,\n            min_impurity_decrease=0.0, min_impurity_split=None,\n            min_samples_leaf=1, min_samples_split=2,\n            min_weight_fraction_leaf=0.0, presort=False, random_state=None,\n            splitter='random'), DecisionTreeClassifier(class_weight=None, criterion='entropy', max_depth=10.0,\n            max_features='sqrt', max_leaf_nodes=None,\n            min_impurity_decrease=0.0, min_impurity_split=None,\n            min_samples_leaf=1, min_samples_split=2,\n            min_weight_fraction_leaf=0.0, presort=False, random_state=None,\n            splitter='best'), DecisionTreeClassifier(class_weight=None, criterion='entropy', max_depth=10.0,\n            max_features='sqrt', max_leaf_nodes=None,\n            min_impurity_decrease=0.0, min_impurity_split=None,\n            min_samples_leaf=1, min_samples_split=2,\n            min_weight_fraction_leaf=0.0, presort=False, random_state=None,\n            splitter='random'), DecisionTreeClassifier(class_weight=None, criterion='entropy', max_depth=10.0,\n            max_features='log2', max_leaf_nodes=None,\n            min_impurity_decrease=0.0, min_impurity_split=None,\n            min_samples_leaf=1, min_samples_split=2,\n            min_weight_fraction_leaf=0.0, presort=False, random_state=None,\n            splitter='best'), DecisionTreeClassifier(class_weight=None, criterion='entropy', max_depth=10.0,\n            max_features='log2', max_leaf_nodes=None,\n            min_impurity_decrease=0.0, min_impurity_split=None,\n            min_samples_leaf=1, min_samples_split=2,\n            min_weight_fraction_leaf=0.0, presort=False, random_state=None,\n            splitter='random'), DecisionTreeClassifier(class_weight=None, criterion='entropy',\n            max_depth=31.622776601683793, max_features=None,\n            max_leaf_nodes=None, min_impurity_decrease=0.0,\n            min_impurity_split=None, min_samples_leaf=1,\n            min_samples_split=2, min_weight_fraction_leaf=0.0,\n            presort=False, random_state=None, splitter='best'), DecisionTreeClassifier(class_weight=None, criterion='entropy',\n            max_depth=31.622776601683793, max_features=None,\n            max_leaf_nodes=None, min_impurity_decrease=0.0,\n            min_impurity_split=None, min_samples_leaf=1,\n            min_samples_split=2, min_weight_fraction_leaf=0.0,\n            presort=False, random_state=None, splitter='random'), DecisionTreeClassifier(class_weight=None, criterion='entropy',\n            max_depth=31.622776601683793, max_features='auto',\n            max_leaf_nodes=None, min_impurity_decrease=0.0,\n            min_impurity_split=None, min_samples_leaf=1,\n            min_samples_split=2, min_weight_fraction_leaf=0.0,\n            presort=False, random_state=None, splitter='best'), DecisionTreeClassifier(class_weight=None, criterion='entropy',\n            max_depth=31.622776601683793, max_features='auto',\n            max_leaf_nodes=None, min_impurity_decrease=0.0,\n            min_impurity_split=None, min_samples_leaf=1,\n            min_samples_split=2, min_weight_fraction_leaf=0.0,\n            presort=False, random_state=None, splitter='random'), DecisionTreeClassifier(class_weight=None, criterion='entropy',\n            max_depth=31.622776601683793, max_features='sqrt',\n            max_leaf_nodes=None, min_impurity_decrease=0.0,\n            min_impurity_split=None, min_samples_leaf=1,\n            min_samples_split=2, min_weight_fraction_leaf=0.0,\n            presort=False, random_state=None, splitter='best'), DecisionTreeClassifier(class_weight=None, criterion='entropy',\n            max_depth=31.622776601683793, max_features='sqrt',\n            max_leaf_nodes=None, min_impurity_decrease=0.0,\n            min_impurity_split=None, min_samples_leaf=1,\n            min_samples_split=2, min_weight_fraction_leaf=0.0,\n            presort=False, random_state=None, splitter='random'), DecisionTreeClassifier(class_weight=None, criterion='entropy',\n            max_depth=31.622776601683793, max_features='log2',\n            max_leaf_nodes=None, min_impurity_decrease=0.0,\n            min_impurity_split=None, min_samples_leaf=1,\n            min_samples_split=2, min_weight_fraction_leaf=0.0,\n            presort=False, random_state=None, splitter='best'), DecisionTreeClassifier(class_weight=None, criterion='entropy',\n            max_depth=31.622776601683793, max_features='log2',\n            max_leaf_nodes=None, min_impurity_decrease=0.0,\n            min_impurity_split=None, min_samples_leaf=1,\n            min_samples_split=2, min_weight_fraction_leaf=0.0,\n            presort=False, random_state=None, splitter='random'), DecisionTreeClassifier(class_weight=None, criterion='entropy',\n            max_depth=100.0, max_features=None, max_leaf_nodes=None,\n            min_impurity_decrease=0.0, min_impurity_split=None,\n            min_samples_leaf=1, min_samples_split=2,\n            min_weight_fraction_leaf=0.0, presort=False, random_state=None,\n            splitter='best'), DecisionTreeClassifier(class_weight=None, criterion='entropy',\n            max_depth=100.0, max_features=None, max_leaf_nodes=None,\n            min_impurity_decrease=0.0, min_impurity_split=None,\n            min_samples_leaf=1, min_samples_split=2,\n            min_weight_fraction_leaf=0.0, presort=False, random_state=None,\n            splitter='random'), DecisionTreeClassifier(class_weight=None, criterion='entropy',\n            max_depth=100.0, max_features='auto', max_leaf_nodes=None,\n            min_impurity_decrease=0.0, min_impurity_split=None,\n            min_samples_leaf=1, min_samples_split=2,\n            min_weight_fraction_leaf=0.0, presort=False, random_state=None,\n            splitter='best'), DecisionTreeClassifier(class_weight=None, criterion='entropy',\n            max_depth=100.0, max_features='auto', max_leaf_nodes=None,\n            min_impurity_decrease=0.0, min_impurity_split=None,\n            min_samples_leaf=1, min_samples_split=2,\n            min_weight_fraction_leaf=0.0, presort=False, random_state=None,\n            splitter='random'), DecisionTreeClassifier(class_weight=None, criterion='entropy',\n            max_depth=100.0, max_features='sqrt', max_leaf_nodes=None,\n            min_impurity_decrease=0.0, min_impurity_split=None,\n            min_samples_leaf=1, min_samples_split=2,\n            min_weight_fraction_leaf=0.0, presort=False, random_state=None,\n            splitter='best'), DecisionTreeClassifier(class_weight=None, criterion='entropy',\n            max_depth=100.0, max_features='sqrt', max_leaf_nodes=None,\n            min_impurity_decrease=0.0, min_impurity_split=None,\n            min_samples_leaf=1, min_samples_split=2,\n            min_weight_fraction_leaf=0.0, presort=False, random_state=None,\n            splitter='random'), DecisionTreeClassifier(class_weight=None, criterion='entropy',\n            max_depth=100.0, max_features='log2', max_leaf_nodes=None,\n            min_impurity_decrease=0.0, min_impurity_split=None,\n            min_samples_leaf=1, min_samples_split=2,\n            min_weight_fraction_leaf=0.0, presort=False, random_state=None,\n            splitter='best'), DecisionTreeClassifier(class_weight=None, criterion='entropy',\n            max_depth=100.0, max_features='log2', max_leaf_nodes=None,\n            min_impurity_decrease=0.0, min_impurity_split=None,\n            min_samples_leaf=1, min_samples_split=2,\n            min_weight_fraction_leaf=0.0, presort=False, random_state=None,\n            splitter='random')]\n[0.695591322603219, 0.6993693062368607, 0.6423754403623552, 0.6483046634185144, 0.6786530247342802, 0.6411406919932197, 0.5936581906595075, 0.5972814763369382, 0.6953013763644993, 0.6953013763644993, 0.6676069581570286, 0.09616463985032742, 0.6677818668450988, 0.20460893854748605, 0.0067702110712863405, 0.6780292575213912, 0.7220356063150822, 0.7220356063150822, 0.2206357300696923, 0.6770164907196577, 0.6012081868181407, 0.5919238982721802, 0.04935909699636502, 0.6692690806299636, 0.751105096977898, 0.7505865367262228, 0.3937575030012005, 0.698672783876782, 0.648243045387994, 0.5472560975609757, 0.6286767652480564, 0.6811430294805096, 0.7250121418164158, 0.7257939581719597, 0.6644416897110708, 0.6496950924402285, 0.6648294212676993, 0.6675252625321973, 0.5452718544155409, 0.5384951881014872, 0.6927698778289605, 0.6975060337892196, 0.6539771588859948, 0.6514788169464429, 0.6385409359655275, 0.6621928352906346, 0.6041148991153961, 0.6337464251668254, 0.7015445939212755, 0.7036, 0.6462373153822968, 0.6527238322876208, 0.6397908917261487, 0.6528414755732802, 0.6118143459915613, 0.5913728659460551, 0.6953013763644993, 0.6953013763644993, 0.6346598202824134, 0.048611111111111105, 0.671343766864544, 0.6619447118690688, 0.008341608738828202, 0.4877837837837838, 0.7220356063150822, 0.7220356063150822, 0.685054610811558, 0.67596551482442, 0.5170637475853188, 0.6406933290927883, 0.6846121826002498, 0.10716925351071692, 0.7435559074513943, 0.7429778990930702, 0.4893673577884105, 0.6034136546184738, 0.660895417978314, 0.3798219584569733, 0.6680745703466356, 0.6573302867251418, 0.7109228799369645, 0.7170923379174853, 0.6222834729142372, 0.6929162498863326, 0.6708873088536087, 0.6527562111801242, 0.6502402795980777, 0.4612999095490373, 0.7026215729437664, 0.7020014080257466, 0.6490839540970406, 0.6561658857541621, 0.6778583490612894, 0.6662671061831985, 0.5896662645757941, 0.5690242863229655]\n"
     ]
    }
   ],
   "source": [
    "print(best_bbow_tree, best_bbow_tree_score_valid, all_models, all_scores, sep='\\n')"
   ]
  },
  {
   "cell_type": "code",
   "execution_count": 108,
   "metadata": {},
   "outputs": [
    {
     "name": "stdout",
     "output_type": "stream",
     "text": [
      "Best BerNB Test F1: 0.8300405059105563 \tValid: 0.8413021363173957 \tTrain: 0.8690508566766386\nBest LinSVC Test F1: 0.8490452744085506 \tValid: 0.8577142285771424 \tTrain: 0.997600319957339\nBest D-tree Test F1: 0.7558634625099229 \tValid: 0.751105096977898 \tTrain: 0.7927529299210715\n"
     ]
    }
   ],
   "source": [
    "print(\"Best BerNB Test F1:\", f1_score(IMDB_test_y, best_bbow_nb.predict(IMDB_bbow_test_x)),\n",
    "      \"\\tValid:\", best_bbow_nb_score_valid, \"\\tTrain:\", f1_score(IMDB_train_y, best_bbow_nb.predict(IMDB_bbow_train_x)))\n",
    "print(\"Best LinSVC Test F1:\", f1_score(IMDB_test_y, best_bbow_svc.predict(IMDB_bbow_test_x)),\n",
    "      \"\\tValid:\", best_bbow_svc_score_valid, \"\\tTrain:\", f1_score(IMDB_train_y, best_bbow_svc.predict(IMDB_bbow_train_x)))\n",
    "print(\"Best D-tree Test F1:\", f1_score(IMDB_test_y, best_bbow_tree.predict(IMDB_bbow_test_x)),\n",
    "      \"\\tValid:\", best_bbow_tree_score_valid, \"\\tTrain:\", f1_score(IMDB_train_y, best_bbow_tree.predict(IMDB_bbow_train_x)))"
   ]
  },
  {
   "cell_type": "markdown",
   "metadata": {},
   "source": [
    "## FBOW"
   ]
  },
  {
   "cell_type": "code",
   "execution_count": 105,
   "metadata": {},
   "outputs": [
    {
     "data": {
      "text/plain": [
       "DummyClassifier(constant=None, random_state=None, strategy='most_frequent')"
      ]
     },
     "execution_count": 105,
     "metadata": {},
     "output_type": "execute_result"
    }
   ],
   "source": [
    "randomClassifier.fit(IMDB_fbow_train_x, IMDB_train_y)\n",
    "majorityClassifier.fit(IMDB_fbow_train_x, IMDB_train_y)"
   ]
  },
  {
   "cell_type": "code",
   "execution_count": 106,
   "metadata": {},
   "outputs": [
    {
     "name": "stdout",
     "output_type": "stream",
     "text": [
      "0.49818942624929585\n0.0\n"
     ]
    }
   ],
   "source": [
    "IMDB_fbow_test_pred = randomClassifier.predict(IMDB_fbow_test_x)\n",
    "print(f1_score(IMDB_test_y,IMDB_fbow_test_pred))\n",
    "IMDB_fbow_test_pred = majorityClassifier.predict(IMDB_fbow_test_x)\n",
    "print(f1_score(IMDB_test_y,IMDB_fbow_test_pred))"
   ]
  },
  {
   "cell_type": "code",
   "execution_count": 97,
   "metadata": {},
   "outputs": [
    {
     "name": "stdout",
     "output_type": "stream",
     "text": [
      "-------------FITTING MODELS-------------\n"
     ]
    },
    {
     "name": "stderr",
     "output_type": "stream",
     "text": [
      "[Parallel(n_jobs=-1)]: Using backend LokyBackend with 4 concurrent workers.\n"
     ]
    },
    {
     "name": "stderr",
     "output_type": "stream",
     "text": [
      "[Parallel(n_jobs=-1)]: Done   5 out of  10 | elapsed:   48.5s remaining:   48.5s\n"
     ]
    },
    {
     "name": "stderr",
     "output_type": "stream",
     "text": [
      "[Parallel(n_jobs=-1)]: Done   7 out of  10 | elapsed:   48.8s remaining:   20.9s\n"
     ]
    },
    {
     "name": "stderr",
     "output_type": "stream",
     "text": [
      "[Parallel(n_jobs=-1)]: Done  10 out of  10 | elapsed:   53.8s finished\n"
     ]
    },
    {
     "name": "stdout",
     "output_type": "stream",
     "text": [
      "-------------SCORING MODELS-------------\n"
     ]
    },
    {
     "name": "stderr",
     "output_type": "stream",
     "text": [
      "[Parallel(n_jobs=-1)]: Using backend LokyBackend with 4 concurrent workers.\n"
     ]
    },
    {
     "name": "stderr",
     "output_type": "stream",
     "text": [
      "[Parallel(n_jobs=-1)]: Done  10 out of  10 | elapsed:   46.5s finished\n"
     ]
    },
    {
     "data": {
      "image/png": "[encoded data removed]",
      "text/plain": [
       "<Figure size 576x432 with 1 Axes>"
      ]
     },
     "metadata": {},
     "output_type": "display_data"
    }
   ],
   "source": [
    "best_fbow_NB, best_fbow_NB_score, all_models, all_scores = pf.bestFit(\n",
    "    GaussianNB, params_gnb, IMDB_fbow_train_x.toarray(), IMDB_train_y, IMDB_fbow_valid_x.toarray(), IMDB_valid_y, metric=f1_score)"
   ]
  },
  {
   "cell_type": "code",
   "execution_count": 100,
   "metadata": {},
   "outputs": [
    {
     "name": "stdout",
     "output_type": "stream",
     "text": [
      "GaussianNB(priors=None, var_smoothing=1.668100537200059e-07)\n0.6679117544064433\n[LinearSVC(C=0.1, class_weight=None, dual=False, fit_intercept=True,\n     intercept_scaling=1, loss='squared_hinge', max_iter=1000,\n     multi_class='ovr', penalty='l2', random_state=None, tol=0.0001,\n     verbose=0), LinearSVC(C=0.1, class_weight=None, dual=True, fit_intercept=True,\n     intercept_scaling=1, loss='squared_hinge', max_iter=1000,\n     multi_class='ovr', penalty='l2', random_state=None, tol=0.0001,\n     verbose=0), LinearSVC(C=0.31622776601683794, class_weight=None, dual=False,\n     fit_intercept=True, intercept_scaling=1, loss='squared_hinge',\n     max_iter=1000, multi_class='ovr', penalty='l2', random_state=None,\n     tol=0.0001, verbose=0), LinearSVC(C=0.31622776601683794, class_weight=None, dual=True,\n     fit_intercept=True, intercept_scaling=1, loss='squared_hinge',\n     max_iter=1000, multi_class='ovr', penalty='l2', random_state=None,\n     tol=0.0001, verbose=0), LinearSVC(C=1.0, class_weight=None, dual=False, fit_intercept=True,\n     intercept_scaling=1, loss='squared_hinge', max_iter=1000,\n     multi_class='ovr', penalty='l2', random_state=None, tol=0.0001,\n     verbose=0), LinearSVC(C=1.0, class_weight=None, dual=True, fit_intercept=True,\n     intercept_scaling=1, loss='squared_hinge', max_iter=1000,\n     multi_class='ovr', penalty='l2', random_state=None, tol=0.0001,\n     verbose=0), LinearSVC(C=3.1622776601683795, class_weight=None, dual=False,\n     fit_intercept=True, intercept_scaling=1, loss='squared_hinge',\n     max_iter=1000, multi_class='ovr', penalty='l2', random_state=None,\n     tol=0.0001, verbose=0), LinearSVC(C=3.1622776601683795, class_weight=None, dual=True,\n     fit_intercept=True, intercept_scaling=1, loss='squared_hinge',\n     max_iter=1000, multi_class='ovr', penalty='l2', random_state=None,\n     tol=0.0001, verbose=0), LinearSVC(C=10.0, class_weight=None, dual=False, fit_intercept=True,\n     intercept_scaling=1, loss='squared_hinge', max_iter=1000,\n     multi_class='ovr', penalty='l2', random_state=None, tol=0.0001,\n     verbose=0), LinearSVC(C=10.0, class_weight=None, dual=True, fit_intercept=True,\n     intercept_scaling=1, loss='squared_hinge', max_iter=1000,\n     multi_class='ovr', penalty='l2', random_state=None, tol=0.0001,\n     verbose=0)]\n[0.8588282343531293, 0.8587423772868139, 0.8516927993608309, 0.8508430609597926, 0.8472166599919904, 0.8459154084591541, 0.8457920544381067, 0.8429900930651456, 0.8469928950265186, 0.8435278806687356]\n"
     ]
    }
   ],
   "source": [
    "print(best_fbow_NB, best_fbow_NB_score, all_models, all_scores, sep='\\n')"
   ]
  },
  {
   "cell_type": "code",
   "execution_count": 98,
   "metadata": {},
   "outputs": [
    {
     "name": "stdout",
     "output_type": "stream",
     "text": [
      "-------------FITTING MODELS-------------\n"
     ]
    },
    {
     "name": "stderr",
     "output_type": "stream",
     "text": [
      "[Parallel(n_jobs=1)]: Using backend SequentialBackend with 1 concurrent workers.\n"
     ]
    },
    {
     "name": "stderr",
     "output_type": "stream",
     "text": [
      "[Parallel(n_jobs=1)]: Done   1 out of   1 | elapsed:    7.5s remaining:    0.0s\n"
     ]
    },
    {
     "name": "stderr",
     "output_type": "stream",
     "text": [
      "[Parallel(n_jobs=1)]: Done   2 out of   2 | elapsed:   10.8s remaining:    0.0s\n"
     ]
    },
    {
     "name": "stderr",
     "output_type": "stream",
     "text": [
      "[Parallel(n_jobs=1)]: Done   3 out of   3 | elapsed:   29.4s remaining:    0.0s\n"
     ]
    },
    {
     "name": "stderr",
     "output_type": "stream",
     "text": [
      "[Parallel(n_jobs=1)]: Done   4 out of   4 | elapsed:   33.0s remaining:    0.0s\n"
     ]
    },
    {
     "name": "stderr",
     "output_type": "stream",
     "text": [
      "[Parallel(n_jobs=1)]: Done   5 out of   5 | elapsed:  1.0min remaining:    0.0s\n"
     ]
    },
    {
     "name": "stderr",
     "output_type": "stream",
     "text": [
      "[Parallel(n_jobs=1)]: Done   6 out of   6 | elapsed:  1.1min remaining:    0.0s\n"
     ]
    },
    {
     "name": "stderr",
     "output_type": "stream",
     "text": [
      "[Parallel(n_jobs=1)]: Done   7 out of   7 | elapsed:  1.6min remaining:    0.0s\n"
     ]
    },
    {
     "name": "stderr",
     "output_type": "stream",
     "text": [
      "[Parallel(n_jobs=1)]: Done   8 out of   8 | elapsed:  1.6min remaining:    0.0s\n"
     ]
    },
    {
     "name": "stderr",
     "output_type": "stream",
     "text": [
      "[Parallel(n_jobs=1)]: Done   9 out of   9 | elapsed:  2.0min remaining:    0.0s\n"
     ]
    },
    {
     "name": "stderr",
     "output_type": "stream",
     "text": [
      "[Parallel(n_jobs=1)]: Done  10 out of  10 | elapsed:  2.0min finished\n[Parallel(n_jobs=1)]: Using backend SequentialBackend with 1 concurrent workers.\n[Parallel(n_jobs=1)]: Done  10 out of  10 | elapsed:    0.0s finished\n"
     ]
    },
    {
     "name": "stdout",
     "output_type": "stream",
     "text": [
      "-------------SCORING MODELS-------------\nThis model/metric cannot use predict_proba. Using predict for scoring instead.\nThis model/metric cannot use predict_proba. Using predict for scoring instead.\nThis model/metric cannot use predict_proba. Using predict for scoring instead.\nThis model/metric cannot use predict_proba. Using predict for scoring instead.\nThis model/metric cannot use predict_proba. Using predict for scoring instead.\nThis model/metric cannot use predict_proba. Using predict for scoring instead.\nThis model/metric cannot use predict_proba. Using predict for scoring instead.\nThis model/metric cannot use predict_proba. Using predict for scoring instead.\nThis model/metric cannot use predict_proba. Using predict for scoring instead.\nThis model/metric cannot use predict_proba. Using predict for scoring instead.\n"
     ]
    },
    {
     "data": {
      "image/png": "[encoded data removed]",
      "text/plain": [
       "<Figure size 144x288 with 2 Axes>"
      ]
     },
     "metadata": {},
     "output_type": "display_data"
    }
   ],
   "source": [
    "best_fbow_svc, best_fbow_svc_score, all_models, all_scores = pf.bestFit(\n",
    "    LinearSVC, params_svc, IMDB_fbow_train_x, IMDB_train_y, IMDB_fbow_valid_x, IMDB_valid_y, metric=f1_score, n_jobs=1)"
   ]
  },
  {
   "cell_type": "code",
   "execution_count": 101,
   "metadata": {},
   "outputs": [
    {
     "name": "stdout",
     "output_type": "stream",
     "text": [
      "LinearSVC(C=0.1, class_weight=None, dual=False, fit_intercept=True,\n     intercept_scaling=1, loss='squared_hinge', max_iter=1000,\n     multi_class='ovr', penalty='l2', random_state=None, tol=0.0001,\n     verbose=0)\n0.8588282343531293\n[LinearSVC(C=0.1, class_weight=None, dual=False, fit_intercept=True,\n     intercept_scaling=1, loss='squared_hinge', max_iter=1000,\n     multi_class='ovr', penalty='l2', random_state=None, tol=0.0001,\n     verbose=0), LinearSVC(C=0.1, class_weight=None, dual=True, fit_intercept=True,\n     intercept_scaling=1, loss='squared_hinge', max_iter=1000,\n     multi_class='ovr', penalty='l2', random_state=None, tol=0.0001,\n     verbose=0), LinearSVC(C=0.31622776601683794, class_weight=None, dual=False,\n     fit_intercept=True, intercept_scaling=1, loss='squared_hinge',\n     max_iter=1000, multi_class='ovr', penalty='l2', random_state=None,\n     tol=0.0001, verbose=0), LinearSVC(C=0.31622776601683794, class_weight=None, dual=True,\n     fit_intercept=True, intercept_scaling=1, loss='squared_hinge',\n     max_iter=1000, multi_class='ovr', penalty='l2', random_state=None,\n     tol=0.0001, verbose=0), LinearSVC(C=1.0, class_weight=None, dual=False, fit_intercept=True,\n     intercept_scaling=1, loss='squared_hinge', max_iter=1000,\n     multi_class='ovr', penalty='l2', random_state=None, tol=0.0001,\n     verbose=0), LinearSVC(C=1.0, class_weight=None, dual=True, fit_intercept=True,\n     intercept_scaling=1, loss='squared_hinge', max_iter=1000,\n     multi_class='ovr', penalty='l2', random_state=None, tol=0.0001,\n     verbose=0), LinearSVC(C=3.1622776601683795, class_weight=None, dual=False,\n     fit_intercept=True, intercept_scaling=1, loss='squared_hinge',\n     max_iter=1000, multi_class='ovr', penalty='l2', random_state=None,\n     tol=0.0001, verbose=0), LinearSVC(C=3.1622776601683795, class_weight=None, dual=True,\n     fit_intercept=True, intercept_scaling=1, loss='squared_hinge',\n     max_iter=1000, multi_class='ovr', penalty='l2', random_state=None,\n     tol=0.0001, verbose=0), LinearSVC(C=10.0, class_weight=None, dual=False, fit_intercept=True,\n     intercept_scaling=1, loss='squared_hinge', max_iter=1000,\n     multi_class='ovr', penalty='l2', random_state=None, tol=0.0001,\n     verbose=0), LinearSVC(C=10.0, class_weight=None, dual=True, fit_intercept=True,\n     intercept_scaling=1, loss='squared_hinge', max_iter=1000,\n     multi_class='ovr', penalty='l2', random_state=None, tol=0.0001,\n     verbose=0)]\n[0.8588282343531293, 0.8587423772868139, 0.8516927993608309, 0.8508430609597926, 0.8472166599919904, 0.8459154084591541, 0.8457920544381067, 0.8429900930651456, 0.8469928950265186, 0.8435278806687356]\n"
     ]
    }
   ],
   "source": [
    "print(best_fbow_svc, best_fbow_svc_score, all_models, all_scores, sep='\\n')"
   ]
  },
  {
   "cell_type": "code",
   "execution_count": 102,
   "metadata": {},
   "outputs": [
    {
     "name": "stdout",
     "output_type": "stream",
     "text": [
      "-------------FITTING MODELS-------------\n"
     ]
    },
    {
     "name": "stderr",
     "output_type": "stream",
     "text": [
      "[Parallel(n_jobs=-1)]: Using backend LokyBackend with 4 concurrent workers.\n"
     ]
    },
    {
     "name": "stderr",
     "output_type": "stream",
     "text": [
      "[Parallel(n_jobs=-1)]: Done   5 tasks      | elapsed:    1.2s\n"
     ]
    },
    {
     "name": "stderr",
     "output_type": "stream",
     "text": [
      "[Parallel(n_jobs=-1)]: Done  10 tasks      | elapsed:    1.4s\n"
     ]
    },
    {
     "name": "stderr",
     "output_type": "stream",
     "text": [
      "[Parallel(n_jobs=-1)]: Done  17 tasks      | elapsed:    1.9s\n"
     ]
    },
    {
     "name": "stderr",
     "output_type": "stream",
     "text": [
      "[Parallel(n_jobs=-1)]: Done  24 tasks      | elapsed:    3.3s\n"
     ]
    },
    {
     "name": "stderr",
     "output_type": "stream",
     "text": [
      "[Parallel(n_jobs=-1)]: Done  33 tasks      | elapsed:   12.0s\n"
     ]
    },
    {
     "name": "stderr",
     "output_type": "stream",
     "text": [
      "[Parallel(n_jobs=-1)]: Done  42 tasks      | elapsed:   13.4s\n"
     ]
    },
    {
     "name": "stderr",
     "output_type": "stream",
     "text": [
      "[Parallel(n_jobs=-1)]: Done  53 tasks      | elapsed:   24.5s\n"
     ]
    },
    {
     "name": "stderr",
     "output_type": "stream",
     "text": [
      "[Parallel(n_jobs=-1)]: Done  64 tasks      | elapsed:   24.9s\n"
     ]
    },
    {
     "name": "stderr",
     "output_type": "stream",
     "text": [
      "[Parallel(n_jobs=-1)]: Done  77 tasks      | elapsed:   25.4s\n"
     ]
    },
    {
     "name": "stderr",
     "output_type": "stream",
     "text": [
      "[Parallel(n_jobs=-1)]: Done  96 out of  96 | elapsed:   37.4s finished\n[Parallel(n_jobs=-1)]: Using backend LokyBackend with 4 concurrent workers.\n"
     ]
    },
    {
     "name": "stdout",
     "output_type": "stream",
     "text": [
      "-------------SCORING MODELS-------------\n"
     ]
    },
    {
     "name": "stdout",
     "output_type": "stream",
     "text": [
      "Too many dimensions to plot.\n"
     ]
    },
    {
     "name": "stderr",
     "output_type": "stream",
     "text": [
      "[Parallel(n_jobs=-1)]: Done  96 out of  96 | elapsed:    1.0s finished\n"
     ]
    }
   ],
   "source": [
    "best_fbow_tree, best_fbow_tree_score, all_models, all_scores = pf.bestFit(\n",
    "    DecisionTreeClassifier, params_tree, IMDB_fbow_train_x, IMDB_train_y, IMDB_fbow_valid_x, IMDB_valid_y, metric=f1_score)"
   ]
  },
  {
   "cell_type": "code",
   "execution_count": 103,
   "metadata": {},
   "outputs": [
    {
     "name": "stdout",
     "output_type": "stream",
     "text": [
      "DecisionTreeClassifier(class_weight=None, criterion='gini', max_depth=10.0,\n            max_features=None, max_leaf_nodes=None,\n            min_impurity_decrease=0.0, min_impurity_split=None,\n            min_samples_leaf=1, min_samples_split=2,\n            min_weight_fraction_leaf=0.0, presort=False, random_state=None,\n            splitter='random')\n0.7536606373815676\n[DecisionTreeClassifier(class_weight=None, criterion='gini', max_depth=None,\n            max_features=None, max_leaf_nodes=None,\n            min_impurity_decrease=0.0, min_impurity_split=None,\n            min_samples_leaf=1, min_samples_split=2,\n            min_weight_fraction_leaf=0.0, presort=False, random_state=None,\n            splitter='best'), DecisionTreeClassifier(class_weight=None, criterion='gini', max_depth=None,\n            max_features=None, max_leaf_nodes=None,\n            min_impurity_decrease=0.0, min_impurity_split=None,\n            min_samples_leaf=1, min_samples_split=2,\n            min_weight_fraction_leaf=0.0, presort=False, random_state=None,\n            splitter='random'), DecisionTreeClassifier(class_weight=None, criterion='gini', max_depth=None,\n            max_features='auto', max_leaf_nodes=None,\n            min_impurity_decrease=0.0, min_impurity_split=None,\n            min_samples_leaf=1, min_samples_split=2,\n            min_weight_fraction_leaf=0.0, presort=False, random_state=None,\n            splitter='best'), DecisionTreeClassifier(class_weight=None, criterion='gini', max_depth=None,\n            max_features='auto', max_leaf_nodes=None,\n            min_impurity_decrease=0.0, min_impurity_split=None,\n            min_samples_leaf=1, min_samples_split=2,\n            min_weight_fraction_leaf=0.0, presort=False, random_state=None,\n            splitter='random'), DecisionTreeClassifier(class_weight=None, criterion='gini', max_depth=None,\n            max_features='sqrt', max_leaf_nodes=None,\n            min_impurity_decrease=0.0, min_impurity_split=None,\n            min_samples_leaf=1, min_samples_split=2,\n            min_weight_fraction_leaf=0.0, presort=False, random_state=None,\n            splitter='best'), DecisionTreeClassifier(class_weight=None, criterion='gini', max_depth=None,\n            max_features='sqrt', max_leaf_nodes=None,\n            min_impurity_decrease=0.0, min_impurity_split=None,\n            min_samples_leaf=1, min_samples_split=2,\n            min_weight_fraction_leaf=0.0, presort=False, random_state=None,\n            splitter='random'), DecisionTreeClassifier(class_weight=None, criterion='gini', max_depth=None,\n            max_features='log2', max_leaf_nodes=None,\n            min_impurity_decrease=0.0, min_impurity_split=None,\n            min_samples_leaf=1, min_samples_split=2,\n            min_weight_fraction_leaf=0.0, presort=False, random_state=None,\n            splitter='best'), DecisionTreeClassifier(class_weight=None, criterion='gini', max_depth=None,\n            max_features='log2', max_leaf_nodes=None,\n            min_impurity_decrease=0.0, min_impurity_split=None,\n            min_samples_leaf=1, min_samples_split=2,\n            min_weight_fraction_leaf=0.0, presort=False, random_state=None,\n            splitter='random'), DecisionTreeClassifier(class_weight=None, criterion='gini', max_depth=1.0,\n            max_features=None, max_leaf_nodes=None,\n            min_impurity_decrease=0.0, min_impurity_split=None,\n            min_samples_leaf=1, min_samples_split=2,\n            min_weight_fraction_leaf=0.0, presort=False, random_state=None,\n            splitter='best'), DecisionTreeClassifier(class_weight=None, criterion='gini', max_depth=1.0,\n            max_features=None, max_leaf_nodes=None,\n            min_impurity_decrease=0.0, min_impurity_split=None,\n            min_samples_leaf=1, min_samples_split=2,\n            min_weight_fraction_leaf=0.0, presort=False, random_state=None,\n            splitter='random'), DecisionTreeClassifier(class_weight=None, criterion='gini', max_depth=1.0,\n            max_features='auto', max_leaf_nodes=None,\n            min_impurity_decrease=0.0, min_impurity_split=None,\n            min_samples_leaf=1, min_samples_split=2,\n            min_weight_fraction_leaf=0.0, presort=False, random_state=None,\n            splitter='best'), DecisionTreeClassifier(class_weight=None, criterion='gini', max_depth=1.0,\n            max_features='auto', max_leaf_nodes=None,\n            min_impurity_decrease=0.0, min_impurity_split=None,\n            min_samples_leaf=1, min_samples_split=2,\n            min_weight_fraction_leaf=0.0, presort=False, random_state=None,\n            splitter='random'), DecisionTreeClassifier(class_weight=None, criterion='gini', max_depth=1.0,\n            max_features='sqrt', max_leaf_nodes=None,\n            min_impurity_decrease=0.0, min_impurity_split=None,\n            min_samples_leaf=1, min_samples_split=2,\n            min_weight_fraction_leaf=0.0, presort=False, random_state=None,\n            splitter='best'), DecisionTreeClassifier(class_weight=None, criterion='gini', max_depth=1.0,\n            max_features='sqrt', max_leaf_nodes=None,\n            min_impurity_decrease=0.0, min_impurity_split=None,\n            min_samples_leaf=1, min_samples_split=2,\n            min_weight_fraction_leaf=0.0, presort=False, random_state=None,\n            splitter='random'), DecisionTreeClassifier(class_weight=None, criterion='gini', max_depth=1.0,\n            max_features='log2', max_leaf_nodes=None,\n            min_impurity_decrease=0.0, min_impurity_split=None,\n            min_samples_leaf=1, min_samples_split=2,\n            min_weight_fraction_leaf=0.0, presort=False, random_state=None,\n            splitter='best'), DecisionTreeClassifier(class_weight=None, criterion='gini', max_depth=1.0,\n            max_features='log2', max_leaf_nodes=None,\n            min_impurity_decrease=0.0, min_impurity_split=None,\n            min_samples_leaf=1, min_samples_split=2,\n            min_weight_fraction_leaf=0.0, presort=False, random_state=None,\n            splitter='random'), DecisionTreeClassifier(class_weight=None, criterion='gini',\n            max_depth=3.1622776601683795, max_features=None,\n            max_leaf_nodes=None, min_impurity_decrease=0.0,\n            min_impurity_split=None, min_samples_leaf=1,\n            min_samples_split=2, min_weight_fraction_leaf=0.0,\n            presort=False, random_state=None, splitter='best'), DecisionTreeClassifier(class_weight=None, criterion='gini',\n            max_depth=3.1622776601683795, max_features=None,\n            max_leaf_nodes=None, min_impurity_decrease=0.0,\n            min_impurity_split=None, min_samples_leaf=1,\n            min_samples_split=2, min_weight_fraction_leaf=0.0,\n            presort=False, random_state=None, splitter='random'), DecisionTreeClassifier(class_weight=None, criterion='gini',\n            max_depth=3.1622776601683795, max_features='auto',\n            max_leaf_nodes=None, min_impurity_decrease=0.0,\n            min_impurity_split=None, min_samples_leaf=1,\n            min_samples_split=2, min_weight_fraction_leaf=0.0,\n            presort=False, random_state=None, splitter='best'), DecisionTreeClassifier(class_weight=None, criterion='gini',\n            max_depth=3.1622776601683795, max_features='auto',\n            max_leaf_nodes=None, min_impurity_decrease=0.0,\n            min_impurity_split=None, min_samples_leaf=1,\n            min_samples_split=2, min_weight_fraction_leaf=0.0,\n            presort=False, random_state=None, splitter='random'), DecisionTreeClassifier(class_weight=None, criterion='gini',\n            max_depth=3.1622776601683795, max_features='sqrt',\n            max_leaf_nodes=None, min_impurity_decrease=0.0,\n            min_impurity_split=None, min_samples_leaf=1,\n            min_samples_split=2, min_weight_fraction_leaf=0.0,\n            presort=False, random_state=None, splitter='best'), DecisionTreeClassifier(class_weight=None, criterion='gini',\n            max_depth=3.1622776601683795, max_features='sqrt',\n            max_leaf_nodes=None, min_impurity_decrease=0.0,\n            min_impurity_split=None, min_samples_leaf=1,\n            min_samples_split=2, min_weight_fraction_leaf=0.0,\n            presort=False, random_state=None, splitter='random'), DecisionTreeClassifier(class_weight=None, criterion='gini',\n            max_depth=3.1622776601683795, max_features='log2',\n            max_leaf_nodes=None, min_impurity_decrease=0.0,\n            min_impurity_split=None, min_samples_leaf=1,\n            min_samples_split=2, min_weight_fraction_leaf=0.0,\n            presort=False, random_state=None, splitter='best'), DecisionTreeClassifier(class_weight=None, criterion='gini',\n            max_depth=3.1622776601683795, max_features='log2',\n            max_leaf_nodes=None, min_impurity_decrease=0.0,\n            min_impurity_split=None, min_samples_leaf=1,\n            min_samples_split=2, min_weight_fraction_leaf=0.0,\n            presort=False, random_state=None, splitter='random'), DecisionTreeClassifier(class_weight=None, criterion='gini', max_depth=10.0,\n            max_features=None, max_leaf_nodes=None,\n            min_impurity_decrease=0.0, min_impurity_split=None,\n            min_samples_leaf=1, min_samples_split=2,\n            min_weight_fraction_leaf=0.0, presort=False, random_state=None,\n            splitter='best'), DecisionTreeClassifier(class_weight=None, criterion='gini', max_depth=10.0,\n            max_features=None, max_leaf_nodes=None,\n            min_impurity_decrease=0.0, min_impurity_split=None,\n            min_samples_leaf=1, min_samples_split=2,\n            min_weight_fraction_leaf=0.0, presort=False, random_state=None,\n            splitter='random'), DecisionTreeClassifier(class_weight=None, criterion='gini', max_depth=10.0,\n            max_features='auto', max_leaf_nodes=None,\n            min_impurity_decrease=0.0, min_impurity_split=None,\n            min_samples_leaf=1, min_samples_split=2,\n            min_weight_fraction_leaf=0.0, presort=False, random_state=None,\n            splitter='best'), DecisionTreeClassifier(class_weight=None, criterion='gini', max_depth=10.0,\n            max_features='auto', max_leaf_nodes=None,\n            min_impurity_decrease=0.0, min_impurity_split=None,\n            min_samples_leaf=1, min_samples_split=2,\n            min_weight_fraction_leaf=0.0, presort=False, random_state=None,\n            splitter='random'), DecisionTreeClassifier(class_weight=None, criterion='gini', max_depth=10.0,\n            max_features='sqrt', max_leaf_nodes=None,\n            min_impurity_decrease=0.0, min_impurity_split=None,\n            min_samples_leaf=1, min_samples_split=2,\n            min_weight_fraction_leaf=0.0, presort=False, random_state=None,\n            splitter='best'), DecisionTreeClassifier(class_weight=None, criterion='gini', max_depth=10.0,\n            max_features='sqrt', max_leaf_nodes=None,\n            min_impurity_decrease=0.0, min_impurity_split=None,\n            min_samples_leaf=1, min_samples_split=2,\n            min_weight_fraction_leaf=0.0, presort=False, random_state=None,\n            splitter='random'), DecisionTreeClassifier(class_weight=None, criterion='gini', max_depth=10.0,\n            max_features='log2', max_leaf_nodes=None,\n            min_impurity_decrease=0.0, min_impurity_split=None,\n            min_samples_leaf=1, min_samples_split=2,\n            min_weight_fraction_leaf=0.0, presort=False, random_state=None,\n            splitter='best'), DecisionTreeClassifier(class_weight=None, criterion='gini', max_depth=10.0,\n            max_features='log2', max_leaf_nodes=None,\n            min_impurity_decrease=0.0, min_impurity_split=None,\n            min_samples_leaf=1, min_samples_split=2,\n            min_weight_fraction_leaf=0.0, presort=False, random_state=None,\n            splitter='random'), DecisionTreeClassifier(class_weight=None, criterion='gini',\n            max_depth=31.622776601683793, max_features=None,\n            max_leaf_nodes=None, min_impurity_decrease=0.0,\n            min_impurity_split=None, min_samples_leaf=1,\n            min_samples_split=2, min_weight_fraction_leaf=0.0,\n            presort=False, random_state=None, splitter='best'), DecisionTreeClassifier(class_weight=None, criterion='gini',\n            max_depth=31.622776601683793, max_features=None,\n            max_leaf_nodes=None, min_impurity_decrease=0.0,\n            min_impurity_split=None, min_samples_leaf=1,\n            min_samples_split=2, min_weight_fraction_leaf=0.0,\n            presort=False, random_state=None, splitter='random'), DecisionTreeClassifier(class_weight=None, criterion='gini',\n            max_depth=31.622776601683793, max_features='auto',\n            max_leaf_nodes=None, min_impurity_decrease=0.0,\n            min_impurity_split=None, min_samples_leaf=1,\n            min_samples_split=2, min_weight_fraction_leaf=0.0,\n            presort=False, random_state=None, splitter='best'), DecisionTreeClassifier(class_weight=None, criterion='gini',\n            max_depth=31.622776601683793, max_features='auto',\n            max_leaf_nodes=None, min_impurity_decrease=0.0,\n            min_impurity_split=None, min_samples_leaf=1,\n            min_samples_split=2, min_weight_fraction_leaf=0.0,\n            presort=False, random_state=None, splitter='random'), DecisionTreeClassifier(class_weight=None, criterion='gini',\n            max_depth=31.622776601683793, max_features='sqrt',\n            max_leaf_nodes=None, min_impurity_decrease=0.0,\n            min_impurity_split=None, min_samples_leaf=1,\n            min_samples_split=2, min_weight_fraction_leaf=0.0,\n            presort=False, random_state=None, splitter='best'), DecisionTreeClassifier(class_weight=None, criterion='gini',\n            max_depth=31.622776601683793, max_features='sqrt',\n            max_leaf_nodes=None, min_impurity_decrease=0.0,\n            min_impurity_split=None, min_samples_leaf=1,\n            min_samples_split=2, min_weight_fraction_leaf=0.0,\n            presort=False, random_state=None, splitter='random'), DecisionTreeClassifier(class_weight=None, criterion='gini',\n            max_depth=31.622776601683793, max_features='log2',\n            max_leaf_nodes=None, min_impurity_decrease=0.0,\n            min_impurity_split=None, min_samples_leaf=1,\n            min_samples_split=2, min_weight_fraction_leaf=0.0,\n            presort=False, random_state=None, splitter='best'), DecisionTreeClassifier(class_weight=None, criterion='gini',\n            max_depth=31.622776601683793, max_features='log2',\n            max_leaf_nodes=None, min_impurity_decrease=0.0,\n            min_impurity_split=None, min_samples_leaf=1,\n            min_samples_split=2, min_weight_fraction_leaf=0.0,\n            presort=False, random_state=None, splitter='random'), DecisionTreeClassifier(class_weight=None, criterion='gini', max_depth=100.0,\n            max_features=None, max_leaf_nodes=None,\n            min_impurity_decrease=0.0, min_impurity_split=None,\n            min_samples_leaf=1, min_samples_split=2,\n            min_weight_fraction_leaf=0.0, presort=False, random_state=None,\n            splitter='best'), DecisionTreeClassifier(class_weight=None, criterion='gini', max_depth=100.0,\n            max_features=None, max_leaf_nodes=None,\n            min_impurity_decrease=0.0, min_impurity_split=None,\n            min_samples_leaf=1, min_samples_split=2,\n            min_weight_fraction_leaf=0.0, presort=False, random_state=None,\n            splitter='random'), DecisionTreeClassifier(class_weight=None, criterion='gini', max_depth=100.0,\n            max_features='auto', max_leaf_nodes=None,\n            min_impurity_decrease=0.0, min_impurity_split=None,\n            min_samples_leaf=1, min_samples_split=2,\n            min_weight_fraction_leaf=0.0, presort=False, random_state=None,\n            splitter='best'), DecisionTreeClassifier(class_weight=None, criterion='gini', max_depth=100.0,\n            max_features='auto', max_leaf_nodes=None,\n            min_impurity_decrease=0.0, min_impurity_split=None,\n            min_samples_leaf=1, min_samples_split=2,\n            min_weight_fraction_leaf=0.0, presort=False, random_state=None,\n            splitter='random'), DecisionTreeClassifier(class_weight=None, criterion='gini', max_depth=100.0,\n            max_features='sqrt', max_leaf_nodes=None,\n            min_impurity_decrease=0.0, min_impurity_split=None,\n            min_samples_leaf=1, min_samples_split=2,\n            min_weight_fraction_leaf=0.0, presort=False, random_state=None,\n            splitter='best'), DecisionTreeClassifier(class_weight=None, criterion='gini', max_depth=100.0,\n            max_features='sqrt', max_leaf_nodes=None,\n            min_impurity_decrease=0.0, min_impurity_split=None,\n            min_samples_leaf=1, min_samples_split=2,\n            min_weight_fraction_leaf=0.0, presort=False, random_state=None,\n            splitter='random'), DecisionTreeClassifier(class_weight=None, criterion='gini', max_depth=100.0,\n            max_features='log2', max_leaf_nodes=None,\n            min_impurity_decrease=0.0, min_impurity_split=None,\n            min_samples_leaf=1, min_samples_split=2,\n            min_weight_fraction_leaf=0.0, presort=False, random_state=None,\n            splitter='best'), DecisionTreeClassifier(class_weight=None, criterion='gini', max_depth=100.0,\n            max_features='log2', max_leaf_nodes=None,\n            min_impurity_decrease=0.0, min_impurity_split=None,\n            min_samples_leaf=1, min_samples_split=2,\n            min_weight_fraction_leaf=0.0, presort=False, random_state=None,\n            splitter='random'), DecisionTreeClassifier(class_weight=None, criterion='entropy', max_depth=None,\n            max_features=None, max_leaf_nodes=None,\n            min_impurity_decrease=0.0, min_impurity_split=None,\n            min_samples_leaf=1, min_samples_split=2,\n            min_weight_fraction_leaf=0.0, presort=False, random_state=None,\n            splitter='best'), DecisionTreeClassifier(class_weight=None, criterion='entropy', max_depth=None,\n            max_features=None, max_leaf_nodes=None,\n            min_impurity_decrease=0.0, min_impurity_split=None,\n            min_samples_leaf=1, min_samples_split=2,\n            min_weight_fraction_leaf=0.0, presort=False, random_state=None,\n            splitter='random'), DecisionTreeClassifier(class_weight=None, criterion='entropy', max_depth=None,\n            max_features='auto', max_leaf_nodes=None,\n            min_impurity_decrease=0.0, min_impurity_split=None,\n            min_samples_leaf=1, min_samples_split=2,\n            min_weight_fraction_leaf=0.0, presort=False, random_state=None,\n            splitter='best'), DecisionTreeClassifier(class_weight=None, criterion='entropy', max_depth=None,\n            max_features='auto', max_leaf_nodes=None,\n            min_impurity_decrease=0.0, min_impurity_split=None,\n            min_samples_leaf=1, min_samples_split=2,\n            min_weight_fraction_leaf=0.0, presort=False, random_state=None,\n            splitter='random'), DecisionTreeClassifier(class_weight=None, criterion='entropy', max_depth=None,\n            max_features='sqrt', max_leaf_nodes=None,\n            min_impurity_decrease=0.0, min_impurity_split=None,\n            min_samples_leaf=1, min_samples_split=2,\n            min_weight_fraction_leaf=0.0, presort=False, random_state=None,\n            splitter='best'), DecisionTreeClassifier(class_weight=None, criterion='entropy', max_depth=None,\n            max_features='sqrt', max_leaf_nodes=None,\n            min_impurity_decrease=0.0, min_impurity_split=None,\n            min_samples_leaf=1, min_samples_split=2,\n            min_weight_fraction_leaf=0.0, presort=False, random_state=None,\n            splitter='random'), DecisionTreeClassifier(class_weight=None, criterion='entropy', max_depth=None,\n            max_features='log2', max_leaf_nodes=None,\n            min_impurity_decrease=0.0, min_impurity_split=None,\n            min_samples_leaf=1, min_samples_split=2,\n            min_weight_fraction_leaf=0.0, presort=False, random_state=None,\n            splitter='best'), DecisionTreeClassifier(class_weight=None, criterion='entropy', max_depth=None,\n            max_features='log2', max_leaf_nodes=None,\n            min_impurity_decrease=0.0, min_impurity_split=None,\n            min_samples_leaf=1, min_samples_split=2,\n            min_weight_fraction_leaf=0.0, presort=False, random_state=None,\n            splitter='random'), DecisionTreeClassifier(class_weight=None, criterion='entropy', max_depth=1.0,\n            max_features=None, max_leaf_nodes=None,\n            min_impurity_decrease=0.0, min_impurity_split=None,\n            min_samples_leaf=1, min_samples_split=2,\n            min_weight_fraction_leaf=0.0, presort=False, random_state=None,\n            splitter='best'), DecisionTreeClassifier(class_weight=None, criterion='entropy', max_depth=1.0,\n            max_features=None, max_leaf_nodes=None,\n            min_impurity_decrease=0.0, min_impurity_split=None,\n            min_samples_leaf=1, min_samples_split=2,\n            min_weight_fraction_leaf=0.0, presort=False, random_state=None,\n            splitter='random'), DecisionTreeClassifier(class_weight=None, criterion='entropy', max_depth=1.0,\n            max_features='auto', max_leaf_nodes=None,\n            min_impurity_decrease=0.0, min_impurity_split=None,\n            min_samples_leaf=1, min_samples_split=2,\n            min_weight_fraction_leaf=0.0, presort=False, random_state=None,\n            splitter='best'), DecisionTreeClassifier(class_weight=None, criterion='entropy', max_depth=1.0,\n            max_features='auto', max_leaf_nodes=None,\n            min_impurity_decrease=0.0, min_impurity_split=None,\n            min_samples_leaf=1, min_samples_split=2,\n            min_weight_fraction_leaf=0.0, presort=False, random_state=None,\n            splitter='random'), DecisionTreeClassifier(class_weight=None, criterion='entropy', max_depth=1.0,\n            max_features='sqrt', max_leaf_nodes=None,\n            min_impurity_decrease=0.0, min_impurity_split=None,\n            min_samples_leaf=1, min_samples_split=2,\n            min_weight_fraction_leaf=0.0, presort=False, random_state=None,\n            splitter='best'), DecisionTreeClassifier(class_weight=None, criterion='entropy', max_depth=1.0,\n            max_features='sqrt', max_leaf_nodes=None,\n            min_impurity_decrease=0.0, min_impurity_split=None,\n            min_samples_leaf=1, min_samples_split=2,\n            min_weight_fraction_leaf=0.0, presort=False, random_state=None,\n            splitter='random'), DecisionTreeClassifier(class_weight=None, criterion='entropy', max_depth=1.0,\n            max_features='log2', max_leaf_nodes=None,\n            min_impurity_decrease=0.0, min_impurity_split=None,\n            min_samples_leaf=1, min_samples_split=2,\n            min_weight_fraction_leaf=0.0, presort=False, random_state=None,\n            splitter='best'), DecisionTreeClassifier(class_weight=None, criterion='entropy', max_depth=1.0,\n            max_features='log2', max_leaf_nodes=None,\n            min_impurity_decrease=0.0, min_impurity_split=None,\n            min_samples_leaf=1, min_samples_split=2,\n            min_weight_fraction_leaf=0.0, presort=False, random_state=None,\n            splitter='random'), DecisionTreeClassifier(class_weight=None, criterion='entropy',\n            max_depth=3.1622776601683795, max_features=None,\n            max_leaf_nodes=None, min_impurity_decrease=0.0,\n            min_impurity_split=None, min_samples_leaf=1,\n            min_samples_split=2, min_weight_fraction_leaf=0.0,\n            presort=False, random_state=None, splitter='best'), DecisionTreeClassifier(class_weight=None, criterion='entropy',\n            max_depth=3.1622776601683795, max_features=None,\n            max_leaf_nodes=None, min_impurity_decrease=0.0,\n            min_impurity_split=None, min_samples_leaf=1,\n            min_samples_split=2, min_weight_fraction_leaf=0.0,\n            presort=False, random_state=None, splitter='random'), DecisionTreeClassifier(class_weight=None, criterion='entropy',\n            max_depth=3.1622776601683795, max_features='auto',\n            max_leaf_nodes=None, min_impurity_decrease=0.0,\n            min_impurity_split=None, min_samples_leaf=1,\n            min_samples_split=2, min_weight_fraction_leaf=0.0,\n            presort=False, random_state=None, splitter='best'), DecisionTreeClassifier(class_weight=None, criterion='entropy',\n            max_depth=3.1622776601683795, max_features='auto',\n            max_leaf_nodes=None, min_impurity_decrease=0.0,\n            min_impurity_split=None, min_samples_leaf=1,\n            min_samples_split=2, min_weight_fraction_leaf=0.0,\n            presort=False, random_state=None, splitter='random'), DecisionTreeClassifier(class_weight=None, criterion='entropy',\n            max_depth=3.1622776601683795, max_features='sqrt',\n            max_leaf_nodes=None, min_impurity_decrease=0.0,\n            min_impurity_split=None, min_samples_leaf=1,\n            min_samples_split=2, min_weight_fraction_leaf=0.0,\n            presort=False, random_state=None, splitter='best'), DecisionTreeClassifier(class_weight=None, criterion='entropy',\n            max_depth=3.1622776601683795, max_features='sqrt',\n            max_leaf_nodes=None, min_impurity_decrease=0.0,\n            min_impurity_split=None, min_samples_leaf=1,\n            min_samples_split=2, min_weight_fraction_leaf=0.0,\n            presort=False, random_state=None, splitter='random'), DecisionTreeClassifier(class_weight=None, criterion='entropy',\n            max_depth=3.1622776601683795, max_features='log2',\n            max_leaf_nodes=None, min_impurity_decrease=0.0,\n            min_impurity_split=None, min_samples_leaf=1,\n            min_samples_split=2, min_weight_fraction_leaf=0.0,\n            presort=False, random_state=None, splitter='best'), DecisionTreeClassifier(class_weight=None, criterion='entropy',\n            max_depth=3.1622776601683795, max_features='log2',\n            max_leaf_nodes=None, min_impurity_decrease=0.0,\n            min_impurity_split=None, min_samples_leaf=1,\n            min_samples_split=2, min_weight_fraction_leaf=0.0,\n            presort=False, random_state=None, splitter='random'), DecisionTreeClassifier(class_weight=None, criterion='entropy', max_depth=10.0,\n            max_features=None, max_leaf_nodes=None,\n            min_impurity_decrease=0.0, min_impurity_split=None,\n            min_samples_leaf=1, min_samples_split=2,\n            min_weight_fraction_leaf=0.0, presort=False, random_state=None,\n            splitter='best'), DecisionTreeClassifier(class_weight=None, criterion='entropy', max_depth=10.0,\n            max_features=None, max_leaf_nodes=None,\n            min_impurity_decrease=0.0, min_impurity_split=None,\n            min_samples_leaf=1, min_samples_split=2,\n            min_weight_fraction_leaf=0.0, presort=False, random_state=None,\n            splitter='random'), DecisionTreeClassifier(class_weight=None, criterion='entropy', max_depth=10.0,\n            max_features='auto', max_leaf_nodes=None,\n            min_impurity_decrease=0.0, min_impurity_split=None,\n            min_samples_leaf=1, min_samples_split=2,\n            min_weight_fraction_leaf=0.0, presort=False, random_state=None,\n            splitter='best'), DecisionTreeClassifier(class_weight=None, criterion='entropy', max_depth=10.0,\n            max_features='auto', max_leaf_nodes=None,\n            min_impurity_decrease=0.0, min_impurity_split=None,\n            min_samples_leaf=1, min_samples_split=2,\n            min_weight_fraction_leaf=0.0, presort=False, random_state=None,\n            splitter='random'), DecisionTreeClassifier(class_weight=None, criterion='entropy', max_depth=10.0,\n            max_features='sqrt', max_leaf_nodes=None,\n            min_impurity_decrease=0.0, min_impurity_split=None,\n            min_samples_leaf=1, min_samples_split=2,\n            min_weight_fraction_leaf=0.0, presort=False, random_state=None,\n            splitter='best'), DecisionTreeClassifier(class_weight=None, criterion='entropy', max_depth=10.0,\n            max_features='sqrt', max_leaf_nodes=None,\n            min_impurity_decrease=0.0, min_impurity_split=None,\n            min_samples_leaf=1, min_samples_split=2,\n            min_weight_fraction_leaf=0.0, presort=False, random_state=None,\n            splitter='random'), DecisionTreeClassifier(class_weight=None, criterion='entropy', max_depth=10.0,\n            max_features='log2', max_leaf_nodes=None,\n            min_impurity_decrease=0.0, min_impurity_split=None,\n            min_samples_leaf=1, min_samples_split=2,\n            min_weight_fraction_leaf=0.0, presort=False, random_state=None,\n            splitter='best'), DecisionTreeClassifier(class_weight=None, criterion='entropy', max_depth=10.0,\n            max_features='log2', max_leaf_nodes=None,\n            min_impurity_decrease=0.0, min_impurity_split=None,\n            min_samples_leaf=1, min_samples_split=2,\n            min_weight_fraction_leaf=0.0, presort=False, random_state=None,\n            splitter='random'), DecisionTreeClassifier(class_weight=None, criterion='entropy',\n            max_depth=31.622776601683793, max_features=None,\n            max_leaf_nodes=None, min_impurity_decrease=0.0,\n            min_impurity_split=None, min_samples_leaf=1,\n            min_samples_split=2, min_weight_fraction_leaf=0.0,\n            presort=False, random_state=None, splitter='best'), DecisionTreeClassifier(class_weight=None, criterion='entropy',\n            max_depth=31.622776601683793, max_features=None,\n            max_leaf_nodes=None, min_impurity_decrease=0.0,\n            min_impurity_split=None, min_samples_leaf=1,\n            min_samples_split=2, min_weight_fraction_leaf=0.0,\n            presort=False, random_state=None, splitter='random'), DecisionTreeClassifier(class_weight=None, criterion='entropy',\n            max_depth=31.622776601683793, max_features='auto',\n            max_leaf_nodes=None, min_impurity_decrease=0.0,\n            min_impurity_split=None, min_samples_leaf=1,\n            min_samples_split=2, min_weight_fraction_leaf=0.0,\n            presort=False, random_state=None, splitter='best'), DecisionTreeClassifier(class_weight=None, criterion='entropy',\n            max_depth=31.622776601683793, max_features='auto',\n            max_leaf_nodes=None, min_impurity_decrease=0.0,\n            min_impurity_split=None, min_samples_leaf=1,\n            min_samples_split=2, min_weight_fraction_leaf=0.0,\n            presort=False, random_state=None, splitter='random'), DecisionTreeClassifier(class_weight=None, criterion='entropy',\n            max_depth=31.622776601683793, max_features='sqrt',\n            max_leaf_nodes=None, min_impurity_decrease=0.0,\n            min_impurity_split=None, min_samples_leaf=1,\n            min_samples_split=2, min_weight_fraction_leaf=0.0,\n            presort=False, random_state=None, splitter='best'), DecisionTreeClassifier(class_weight=None, criterion='entropy',\n            max_depth=31.622776601683793, max_features='sqrt',\n            max_leaf_nodes=None, min_impurity_decrease=0.0,\n            min_impurity_split=None, min_samples_leaf=1,\n            min_samples_split=2, min_weight_fraction_leaf=0.0,\n            presort=False, random_state=None, splitter='random'), DecisionTreeClassifier(class_weight=None, criterion='entropy',\n            max_depth=31.622776601683793, max_features='log2',\n            max_leaf_nodes=None, min_impurity_decrease=0.0,\n            min_impurity_split=None, min_samples_leaf=1,\n            min_samples_split=2, min_weight_fraction_leaf=0.0,\n            presort=False, random_state=None, splitter='best'), DecisionTreeClassifier(class_weight=None, criterion='entropy',\n            max_depth=31.622776601683793, max_features='log2',\n            max_leaf_nodes=None, min_impurity_decrease=0.0,\n            min_impurity_split=None, min_samples_leaf=1,\n            min_samples_split=2, min_weight_fraction_leaf=0.0,\n            presort=False, random_state=None, splitter='random'), DecisionTreeClassifier(class_weight=None, criterion='entropy',\n            max_depth=100.0, max_features=None, max_leaf_nodes=None,\n            min_impurity_decrease=0.0, min_impurity_split=None,\n            min_samples_leaf=1, min_samples_split=2,\n            min_weight_fraction_leaf=0.0, presort=False, random_state=None,\n            splitter='best'), DecisionTreeClassifier(class_weight=None, criterion='entropy',\n            max_depth=100.0, max_features=None, max_leaf_nodes=None,\n            min_impurity_decrease=0.0, min_impurity_split=None,\n            min_samples_leaf=1, min_samples_split=2,\n            min_weight_fraction_leaf=0.0, presort=False, random_state=None,\n            splitter='random'), DecisionTreeClassifier(class_weight=None, criterion='entropy',\n            max_depth=100.0, max_features='auto', max_leaf_nodes=None,\n            min_impurity_decrease=0.0, min_impurity_split=None,\n            min_samples_leaf=1, min_samples_split=2,\n            min_weight_fraction_leaf=0.0, presort=False, random_state=None,\n            splitter='best'), DecisionTreeClassifier(class_weight=None, criterion='entropy',\n            max_depth=100.0, max_features='auto', max_leaf_nodes=None,\n            min_impurity_decrease=0.0, min_impurity_split=None,\n            min_samples_leaf=1, min_samples_split=2,\n            min_weight_fraction_leaf=0.0, presort=False, random_state=None,\n            splitter='random'), DecisionTreeClassifier(class_weight=None, criterion='entropy',\n            max_depth=100.0, max_features='sqrt', max_leaf_nodes=None,\n            min_impurity_decrease=0.0, min_impurity_split=None,\n            min_samples_leaf=1, min_samples_split=2,\n            min_weight_fraction_leaf=0.0, presort=False, random_state=None,\n            splitter='best'), DecisionTreeClassifier(class_weight=None, criterion='entropy',\n            max_depth=100.0, max_features='sqrt', max_leaf_nodes=None,\n            min_impurity_decrease=0.0, min_impurity_split=None,\n            min_samples_leaf=1, min_samples_split=2,\n            min_weight_fraction_leaf=0.0, presort=False, random_state=None,\n            splitter='random'), DecisionTreeClassifier(class_weight=None, criterion='entropy',\n            max_depth=100.0, max_features='log2', max_leaf_nodes=None,\n            min_impurity_decrease=0.0, min_impurity_split=None,\n            min_samples_leaf=1, min_samples_split=2,\n            min_weight_fraction_leaf=0.0, presort=False, random_state=None,\n            splitter='best'), DecisionTreeClassifier(class_weight=None, criterion='entropy',\n            max_depth=100.0, max_features='log2', max_leaf_nodes=None,\n            min_impurity_decrease=0.0, min_impurity_split=None,\n            min_samples_leaf=1, min_samples_split=2,\n            min_weight_fraction_leaf=0.0, presort=False, random_state=None,\n            splitter='random')]\n[0.6997715761247394, 0.7012728719172633, 0.6427422597507036, 0.6455657801597736, 0.6519788655168977, 0.6557931377424165, 0.5950809838032393, 0.598314606741573, 0.6953013763644993, 0.6953013763644993, 0.6731964333963795, 0.6657881961301061, 0.11795060818282344, 0.0463678516228748, 0.6683434164910611, 0.6684491978609626, 0.7218765764250882, 0.7150301253867448, 0.6388103127778226, 0.6628986114018561, 0.6773552586502227, 0.6733716475095787, 0.6746382227053468, 0.6672033272959013, 0.7522123893805308, 0.7536606373815676, 0.6997874601487779, 0.6719258182824719, 0.5355555555555556, 0.33405639913232105, 0.543469387755102, 0.055853098699311404, 0.7211946050096341, 0.7284263959390862, 0.6563322608949985, 0.6528859060402685, 0.6397855006703104, 0.6111893741195412, 0.6251067463706235, 0.23177209077740218, 0.7036927036927036, 0.7147429485897179, 0.6434939396974856, 0.6439628482972136, 0.6482347090999503, 0.6750466463714033, 0.5869808063369554, 0.6443528719199394, 0.6992144774783733, 0.7051422865701448, 0.6531102874887308, 0.647978219219522, 0.6693171652917206, 0.6684636118598384, 0.6101395166044409, 0.6077646587952772, 0.6953013763644993, 0.16419491525423727, 0.6687319011381238, 0.6661607450845118, 0.6699745205846854, 0.051657671549730146, 0.019344650611922618, 0.655504047602574, 0.7218765764250882, 0.7055660514460107, 0.666984126984127, 0.6756420878210438, 0.6705963938973648, 0.1633144232422211, 0.683740568976258, 0.6667570682758153, 0.7444463879657163, 0.7427142610794965, 0.5055190375790648, 0.6613774476704929, 0.4656954302079442, 0.6855359928682861, 0.6849891327210265, 0.15166548547129693, 0.715640264342496, 0.7240367690201448, 0.6531635802469136, 0.687601165425704, 0.6454273636457367, 0.643982356647763, 0.6418621054487745, 0.6584499054820415, 0.6987713040031709, 0.7100287100287099, 0.6658753709198814, 0.6660090747681989, 0.6724224475454271, 0.6411689712660587, 0.6187346738597352, 0.5907892067356462]\n"
     ]
    }
   ],
   "source": [
    "print(best_fbow_tree, best_fbow_tree_score, all_models, all_scores, sep='\\n')"
   ]
  },
  {
   "cell_type": "markdown",
   "metadata": {},
   "source": [
    "# YELP\n",
    "## BBOW"
   ]
  },
  {
   "cell_type": "code",
   "execution_count": 110,
   "metadata": {},
   "outputs": [
    {
     "data": {
      "text/plain": [
       "DummyClassifier(constant=None, random_state=None, strategy='most_frequent')"
      ]
     },
     "execution_count": 110,
     "metadata": {},
     "output_type": "execute_result"
    }
   ],
   "source": [
    "randomClassifier.fit(yelp_bbow_train_x, yelp_train_y)\n",
    "majorityClassifier.fit(yelp_bbow_train_x, yelp_train_y)"
   ]
  },
  {
   "cell_type": "code",
   "execution_count": 117,
   "metadata": {},
   "outputs": [
    {
     "name": "stdout",
     "output_type": "stream",
     "text": [
      "0.22343805148469315\n0.18238490007401925\n"
     ]
    }
   ],
   "source": [
    "yelp_bbow_test_pred = randomClassifier.predict(yelp_bbow_test_x)\n",
    "print(f1_score(yelp_test_y,yelp_bbow_test_pred,average='weighted'))\n",
    "yelp_bbow_test_pred = majorityClassifier.predict(yelp_bbow_test_x)\n",
    "print(f1_score(yelp_test_y,yelp_bbow_test_pred,average='weighted'))\n"
   ]
  },
  {
   "cell_type": "code",
   "execution_count": 121,
   "metadata": {},
   "outputs": [
    {
     "name": "stdout",
     "output_type": "stream",
     "text": [
      "-------------FITTING MODELS-------------\n"
     ]
    },
    {
     "name": "stderr",
     "output_type": "stream",
     "text": [
      "[Parallel(n_jobs=-1)]: Using backend LokyBackend with 4 concurrent workers.\n"
     ]
    },
    {
     "name": "stderr",
     "output_type": "stream",
     "text": [
      "[Parallel(n_jobs=-1)]: Done   5 out of  10 | elapsed:    1.0s remaining:    1.0s\n[Parallel(n_jobs=-1)]: Done   7 out of  10 | elapsed:    1.0s remaining:    0.4s\n[Parallel(n_jobs=-1)]: Done  10 out of  10 | elapsed:    1.1s finished\n[Parallel(n_jobs=-1)]: Using backend LokyBackend with 4 concurrent workers.\n[Parallel(n_jobs=-1)]: Done   3 out of  10 | elapsed:    0.0s remaining:    0.0s\n"
     ]
    },
    {
     "name": "stdout",
     "output_type": "stream",
     "text": [
      "-------------SCORING MODELS-------------\n"
     ]
    },
    {
     "name": "stderr",
     "output_type": "stream",
     "text": [
      "[Parallel(n_jobs=-1)]: Done  10 out of  10 | elapsed:    0.0s finished\n"
     ]
    },
    {
     "data": {
      "image/png": "[encoded data removed]",
      "text/plain": [
       "<Figure size 576x432 with 1 Axes>"
      ]
     },
     "metadata": {},
     "output_type": "display_data"
    }
   ],
   "source": [
    "best_bbow_nb, best_bbow_nb_score_valid, all_models, all_scores = pf.bestFit(\n",
    "    BernoulliNB, params_bnb, yelp_bbow_train_x, yelp_train_y, yelp_bbow_valid_x, yelp_valid_y,\n",
    "    metric = lambda y_true, y_score, average=None, sample_weight=None, max_fpr=None: f1_score(y_true, y_score, average='weighted'))"
   ]
  },
  {
   "cell_type": "code",
   "execution_count": 122,
   "metadata": {},
   "outputs": [
    {
     "name": "stdout",
     "output_type": "stream",
     "text": [
      "BernoulliNB(alpha=1.0, binarize=0.0, class_prior=None, fit_prior=True)\n0.3705519931420435\n[BernoulliNB(alpha=1.0, binarize=0.0, class_prior=None, fit_prior=True), BernoulliNB(alpha=2.154434690031884, binarize=0.0, class_prior=None,\n      fit_prior=True), BernoulliNB(alpha=4.641588833612778, binarize=0.0, class_prior=None,\n      fit_prior=True), BernoulliNB(alpha=10.0, binarize=0.0, class_prior=None, fit_prior=True), BernoulliNB(alpha=21.544346900318832, binarize=0.0, class_prior=None,\n      fit_prior=True), BernoulliNB(alpha=46.41588833612777, binarize=0.0, class_prior=None,\n      fit_prior=True), BernoulliNB(alpha=100.0, binarize=0.0, class_prior=None, fit_prior=True), BernoulliNB(alpha=215.44346900318823, binarize=0.0, class_prior=None,\n      fit_prior=True), BernoulliNB(alpha=464.15888336127773, binarize=0.0, class_prior=None,\n      fit_prior=True), BernoulliNB(alpha=1000.0, binarize=0.0, class_prior=None, fit_prior=True)]\n[0.3705519931420435, 0.35730786311949564, 0.32915282335795815, 0.31323527905164056, 0.3007446682744597, 0.31190636195879834, 0.18692625368731566, 0.0, 0.0, 0.0]\n"
     ]
    }
   ],
   "source": [
    "print(best_bbow_nb, best_bbow_nb_score_valid, all_models, all_scores, sep='\\n')"
   ]
  },
  {
   "cell_type": "code",
   "execution_count": 123,
   "metadata": {},
   "outputs": [
    {
     "name": "stdout",
     "output_type": "stream",
     "text": [
      "-------------FITTING MODELS-------------\n"
     ]
    },
    {
     "name": "stderr",
     "output_type": "stream",
     "text": [
      "[Parallel(n_jobs=1)]: Using backend SequentialBackend with 1 concurrent workers.\n"
     ]
    },
    {
     "name": "stderr",
     "output_type": "stream",
     "text": [
      "[Parallel(n_jobs=1)]: Done   1 out of   1 | elapsed:    1.2s remaining:    0.0s\n"
     ]
    },
    {
     "name": "stderr",
     "output_type": "stream",
     "text": [
      "[Parallel(n_jobs=1)]: Done   2 out of   2 | elapsed:    2.2s remaining:    0.0s\n"
     ]
    },
    {
     "name": "stderr",
     "output_type": "stream",
     "text": [
      "[Parallel(n_jobs=1)]: Done   3 out of   3 | elapsed:    4.4s remaining:    0.0s\n"
     ]
    },
    {
     "name": "stderr",
     "output_type": "stream",
     "text": [
      "[Parallel(n_jobs=1)]: Done   4 out of   4 | elapsed:    6.3s remaining:    0.0s\n"
     ]
    },
    {
     "name": "stderr",
     "output_type": "stream",
     "text": [
      "[Parallel(n_jobs=1)]: Done   5 out of   5 | elapsed:   16.7s remaining:    0.0s\n"
     ]
    },
    {
     "name": "stderr",
     "output_type": "stream",
     "text": [
      "[Parallel(n_jobs=1)]: Done   6 out of   6 | elapsed:   19.5s remaining:    0.0s\n"
     ]
    },
    {
     "name": "stderr",
     "output_type": "stream",
     "text": [
      "[Parallel(n_jobs=1)]: Done   7 out of   7 | elapsed:   44.5s remaining:    0.0s\n"
     ]
    },
    {
     "name": "stderr",
     "output_type": "stream",
     "text": [
      "[Parallel(n_jobs=1)]: Done   8 out of   8 | elapsed:   47.8s remaining:    0.0s\n"
     ]
    },
    {
     "name": "stderr",
     "output_type": "stream",
     "text": [
      "[Parallel(n_jobs=1)]: Done   9 out of   9 | elapsed:  1.3min remaining:    0.0s\n"
     ]
    },
    {
     "name": "stdout",
     "output_type": "stream",
     "text": [
      "-------------SCORING MODELS-------------\nThis model/metric cannot use predict_proba. Using predict for scoring instead.\nThis model/metric cannot use predict_proba. Using predict for scoring instead.\nThis model/metric cannot use predict_proba. Using predict for scoring instead.\nThis model/metric cannot use predict_proba. Using predict for scoring instead.\nThis model/metric cannot use predict_proba. Using predict for scoring instead.\nThis model/metric cannot use predict_proba. Using predict for scoring instead.\nThis model/metric cannot use predict_proba. Using predict for scoring instead.\nThis model/metric cannot use predict_proba. Using predict for scoring instead.\nThis model/metric cannot use predict_proba. Using predict for scoring instead.\nThis model/metric cannot use predict_proba. Using predict for scoring instead.\n"
     ]
    },
    {
     "name": "stderr",
     "output_type": "stream",
     "text": [
      "[Parallel(n_jobs=1)]: Done  10 out of  10 | elapsed:  1.3min finished\n[Parallel(n_jobs=1)]: Using backend SequentialBackend with 1 concurrent workers.\n[Parallel(n_jobs=1)]: Done  10 out of  10 | elapsed:    0.0s finished\n"
     ]
    },
    {
     "data": {
      "image/png": "[encoded data removed]",
      "text/plain": [
       "<Figure size 144x288 with 2 Axes>"
      ]
     },
     "metadata": {},
     "output_type": "display_data"
    }
   ],
   "source": [
    "best_bbow_svc, best_bbow_svc_score_valid, all_models, all_scores = pf.bestFit(\n",
    "    LinearSVC, params_svc, yelp_bbow_train_x, yelp_train_y, yelp_bbow_valid_x, yelp_valid_y,\n",
    "    metric = lambda y_true, y_score, average=None, sample_weight=None, max_fpr=None: f1_score(y_true, y_score, average='weighted'), n_jobs=1)"
   ]
  },
  {
   "cell_type": "code",
   "execution_count": 124,
   "metadata": {},
   "outputs": [
    {
     "name": "stdout",
     "output_type": "stream",
     "text": [
      "LinearSVC(C=0.1, class_weight=None, dual=False, fit_intercept=True,\n     intercept_scaling=1, loss='squared_hinge', max_iter=1000,\n     multi_class='ovr', penalty='l2', random_state=None, tol=0.0001,\n     verbose=0)\n0.4656823924722863\n[LinearSVC(C=0.1, class_weight=None, dual=False, fit_intercept=True,\n     intercept_scaling=1, loss='squared_hinge', max_iter=1000,\n     multi_class='ovr', penalty='l2', random_state=None, tol=0.0001,\n     verbose=0), LinearSVC(C=0.1, class_weight=None, dual=True, fit_intercept=True,\n     intercept_scaling=1, loss='squared_hinge', max_iter=1000,\n     multi_class='ovr', penalty='l2', random_state=None, tol=0.0001,\n     verbose=0), LinearSVC(C=0.31622776601683794, class_weight=None, dual=False,\n     fit_intercept=True, intercept_scaling=1, loss='squared_hinge',\n     max_iter=1000, multi_class='ovr', penalty='l2', random_state=None,\n     tol=0.0001, verbose=0), LinearSVC(C=0.31622776601683794, class_weight=None, dual=True,\n     fit_intercept=True, intercept_scaling=1, loss='squared_hinge',\n     max_iter=1000, multi_class='ovr', penalty='l2', random_state=None,\n     tol=0.0001, verbose=0), LinearSVC(C=1.0, class_weight=None, dual=False, fit_intercept=True,\n     intercept_scaling=1, loss='squared_hinge', max_iter=1000,\n     multi_class='ovr', penalty='l2', random_state=None, tol=0.0001,\n     verbose=0), LinearSVC(C=1.0, class_weight=None, dual=True, fit_intercept=True,\n     intercept_scaling=1, loss='squared_hinge', max_iter=1000,\n     multi_class='ovr', penalty='l2', random_state=None, tol=0.0001,\n     verbose=0), LinearSVC(C=3.1622776601683795, class_weight=None, dual=False,\n     fit_intercept=True, intercept_scaling=1, loss='squared_hinge',\n     max_iter=1000, multi_class='ovr', penalty='l2', random_state=None,\n     tol=0.0001, verbose=0), LinearSVC(C=3.1622776601683795, class_weight=None, dual=True,\n     fit_intercept=True, intercept_scaling=1, loss='squared_hinge',\n     max_iter=1000, multi_class='ovr', penalty='l2', random_state=None,\n     tol=0.0001, verbose=0), LinearSVC(C=10.0, class_weight=None, dual=False, fit_intercept=True,\n     intercept_scaling=1, loss='squared_hinge', max_iter=1000,\n     multi_class='ovr', penalty='l2', random_state=None, tol=0.0001,\n     verbose=0), LinearSVC(C=10.0, class_weight=None, dual=True, fit_intercept=True,\n     intercept_scaling=1, loss='squared_hinge', max_iter=1000,\n     multi_class='ovr', penalty='l2', random_state=None, tol=0.0001,\n     verbose=0)]\n[0.4656823924722863, 0.4656823924722863, 0.4523593483629472, 0.4523593483629472, 0.44220694775378055, 0.4412779156728508, 0.4397433165238846, 0.4435521682499596, 0.4442970111082992, 0.43721192357061045]\n"
     ]
    }
   ],
   "source": [
    "print(best_bbow_svc, best_bbow_svc_score_valid, all_models, all_scores, sep='\\n')"
   ]
  },
  {
   "cell_type": "code",
   "execution_count": 125,
   "metadata": {},
   "outputs": [
    {
     "name": "stdout",
     "output_type": "stream",
     "text": [
      "-------------FITTING MODELS-------------\n"
     ]
    },
    {
     "name": "stderr",
     "output_type": "stream",
     "text": [
      "[Parallel(n_jobs=-1)]: Using backend LokyBackend with 4 concurrent workers.\n"
     ]
    },
    {
     "name": "stderr",
     "output_type": "stream",
     "text": [
      "[Parallel(n_jobs=-1)]: Done   5 tasks      | elapsed:    0.5s\n[Parallel(n_jobs=-1)]: Done  10 tasks      | elapsed:    0.5s\n[Parallel(n_jobs=-1)]: Batch computation too fast (0.1885s.) Setting batch_size=2.\n"
     ]
    },
    {
     "name": "stderr",
     "output_type": "stream",
     "text": [
      "[Parallel(n_jobs=-1)]: Done  17 tasks      | elapsed:    0.7s\n[Parallel(n_jobs=-1)]: Batch computation too fast (0.1386s.) Setting batch_size=4.\n"
     ]
    },
    {
     "name": "stderr",
     "output_type": "stream",
     "text": [
      "[Parallel(n_jobs=-1)]: Done  30 tasks      | elapsed:    2.1s\n"
     ]
    },
    {
     "name": "stderr",
     "output_type": "stream",
     "text": [
      "[Parallel(n_jobs=-1)]: Done  60 tasks      | elapsed:    4.7s\n"
     ]
    },
    {
     "name": "stderr",
     "output_type": "stream",
     "text": [
      "[Parallel(n_jobs=-1)]: Batch computation too slow (2.5879s.) Setting batch_size=2.\n"
     ]
    },
    {
     "name": "stderr",
     "output_type": "stream",
     "text": [
      "[Parallel(n_jobs=-1)]: Done  96 out of  96 | elapsed:   14.0s finished\n[Parallel(n_jobs=-1)]: Using backend LokyBackend with 4 concurrent workers.\n"
     ]
    },
    {
     "name": "stdout",
     "output_type": "stream",
     "text": [
      "-------------SCORING MODELS-------------\n"
     ]
    },
    {
     "name": "stdout",
     "output_type": "stream",
     "text": [
      "Too many dimensions to plot.\n"
     ]
    },
    {
     "name": "stderr",
     "output_type": "stream",
     "text": [
      "[Parallel(n_jobs=-1)]: Done  96 out of  96 | elapsed:    0.1s finished\n"
     ]
    }
   ],
   "source": [
    "best_bbow_tree, best_bbow_tree_score_valid, all_models, all_scores = pf.bestFit(\n",
    "    DecisionTreeClassifier, params_tree, yelp_bbow_train_x, yelp_train_y, yelp_bbow_valid_x, yelp_valid_y,\n",
    "    metric = lambda y_true, y_score, average=None, sample_weight=None, max_fpr=None: f1_score(y_true, y_score, average='weighted'))"
   ]
  },
  {
   "cell_type": "code",
   "execution_count": 126,
   "metadata": {},
   "outputs": [
    {
     "name": "stdout",
     "output_type": "stream",
     "text": [
      "DecisionTreeClassifier(class_weight=None, criterion='gini', max_depth=10.0,\n            max_features=None, max_leaf_nodes=None,\n            min_impurity_decrease=0.0, min_impurity_split=None,\n            min_samples_leaf=1, min_samples_split=2,\n            min_weight_fraction_leaf=0.0, presort=False, random_state=None,\n            splitter='random')\n0.3613538425760625\n[DecisionTreeClassifier(class_weight=None, criterion='gini', max_depth=None,\n            max_features=None, max_leaf_nodes=None,\n            min_impurity_decrease=0.0, min_impurity_split=None,\n            min_samples_leaf=1, min_samples_split=2,\n            min_weight_fraction_leaf=0.0, presort=False, random_state=None,\n            splitter='best'), DecisionTreeClassifier(class_weight=None, criterion='gini', max_depth=None,\n            max_features=None, max_leaf_nodes=None,\n            min_impurity_decrease=0.0, min_impurity_split=None,\n            min_samples_leaf=1, min_samples_split=2,\n            min_weight_fraction_leaf=0.0, presort=False, random_state=None,\n            splitter='random'), DecisionTreeClassifier(class_weight=None, criterion='gini', max_depth=None,\n            max_features='auto', max_leaf_nodes=None,\n            min_impurity_decrease=0.0, min_impurity_split=None,\n            min_samples_leaf=1, min_samples_split=2,\n            min_weight_fraction_leaf=0.0, presort=False, random_state=None,\n            splitter='best'), DecisionTreeClassifier(class_weight=None, criterion='gini', max_depth=None,\n            max_features='auto', max_leaf_nodes=None,\n            min_impurity_decrease=0.0, min_impurity_split=None,\n            min_samples_leaf=1, min_samples_split=2,\n            min_weight_fraction_leaf=0.0, presort=False, random_state=None,\n            splitter='random'), DecisionTreeClassifier(class_weight=None, criterion='gini', max_depth=None,\n            max_features='sqrt', max_leaf_nodes=None,\n            min_impurity_decrease=0.0, min_impurity_split=None,\n            min_samples_leaf=1, min_samples_split=2,\n            min_weight_fraction_leaf=0.0, presort=False, random_state=None,\n            splitter='best'), DecisionTreeClassifier(class_weight=None, criterion='gini', max_depth=None,\n            max_features='sqrt', max_leaf_nodes=None,\n            min_impurity_decrease=0.0, min_impurity_split=None,\n            min_samples_leaf=1, min_samples_split=2,\n            min_weight_fraction_leaf=0.0, presort=False, random_state=None,\n            splitter='random'), DecisionTreeClassifier(class_weight=None, criterion='gini', max_depth=None,\n            max_features='log2', max_leaf_nodes=None,\n            min_impurity_decrease=0.0, min_impurity_split=None,\n            min_samples_leaf=1, min_samples_split=2,\n            min_weight_fraction_leaf=0.0, presort=False, random_state=None,\n            splitter='best'), DecisionTreeClassifier(class_weight=None, criterion='gini', max_depth=None,\n            max_features='log2', max_leaf_nodes=None,\n            min_impurity_decrease=0.0, min_impurity_split=None,\n            min_samples_leaf=1, min_samples_split=2,\n            min_weight_fraction_leaf=0.0, presort=False, random_state=None,\n            splitter='random'), DecisionTreeClassifier(class_weight=None, criterion='gini', max_depth=1.0,\n            max_features=None, max_leaf_nodes=None,\n            min_impurity_decrease=0.0, min_impurity_split=None,\n            min_samples_leaf=1, min_samples_split=2,\n            min_weight_fraction_leaf=0.0, presort=False, random_state=None,\n            splitter='best'), DecisionTreeClassifier(class_weight=None, criterion='gini', max_depth=1.0,\n            max_features=None, max_leaf_nodes=None,\n            min_impurity_decrease=0.0, min_impurity_split=None,\n            min_samples_leaf=1, min_samples_split=2,\n            min_weight_fraction_leaf=0.0, presort=False, random_state=None,\n            splitter='random'), DecisionTreeClassifier(class_weight=None, criterion='gini', max_depth=1.0,\n            max_features='auto', max_leaf_nodes=None,\n            min_impurity_decrease=0.0, min_impurity_split=None,\n            min_samples_leaf=1, min_samples_split=2,\n            min_weight_fraction_leaf=0.0, presort=False, random_state=None,\n            splitter='best'), DecisionTreeClassifier(class_weight=None, criterion='gini', max_depth=1.0,\n            max_features='auto', max_leaf_nodes=None,\n            min_impurity_decrease=0.0, min_impurity_split=None,\n            min_samples_leaf=1, min_samples_split=2,\n            min_weight_fraction_leaf=0.0, presort=False, random_state=None,\n            splitter='random'), DecisionTreeClassifier(class_weight=None, criterion='gini', max_depth=1.0,\n            max_features='sqrt', max_leaf_nodes=None,\n            min_impurity_decrease=0.0, min_impurity_split=None,\n            min_samples_leaf=1, min_samples_split=2,\n            min_weight_fraction_leaf=0.0, presort=False, random_state=None,\n            splitter='best'), DecisionTreeClassifier(class_weight=None, criterion='gini', max_depth=1.0,\n            max_features='sqrt', max_leaf_nodes=None,\n            min_impurity_decrease=0.0, min_impurity_split=None,\n            min_samples_leaf=1, min_samples_split=2,\n            min_weight_fraction_leaf=0.0, presort=False, random_state=None,\n            splitter='random'), DecisionTreeClassifier(class_weight=None, criterion='gini', max_depth=1.0,\n            max_features='log2', max_leaf_nodes=None,\n            min_impurity_decrease=0.0, min_impurity_split=None,\n            min_samples_leaf=1, min_samples_split=2,\n            min_weight_fraction_leaf=0.0, presort=False, random_state=None,\n            splitter='best'), DecisionTreeClassifier(class_weight=None, criterion='gini', max_depth=1.0,\n            max_features='log2', max_leaf_nodes=None,\n            min_impurity_decrease=0.0, min_impurity_split=None,\n            min_samples_leaf=1, min_samples_split=2,\n            min_weight_fraction_leaf=0.0, presort=False, random_state=None,\n            splitter='random'), DecisionTreeClassifier(class_weight=None, criterion='gini',\n            max_depth=3.1622776601683795, max_features=None,\n            max_leaf_nodes=None, min_impurity_decrease=0.0,\n            min_impurity_split=None, min_samples_leaf=1,\n            min_samples_split=2, min_weight_fraction_leaf=0.0,\n            presort=False, random_state=None, splitter='best'), DecisionTreeClassifier(class_weight=None, criterion='gini',\n            max_depth=3.1622776601683795, max_features=None,\n            max_leaf_nodes=None, min_impurity_decrease=0.0,\n            min_impurity_split=None, min_samples_leaf=1,\n            min_samples_split=2, min_weight_fraction_leaf=0.0,\n            presort=False, random_state=None, splitter='random'), DecisionTreeClassifier(class_weight=None, criterion='gini',\n            max_depth=3.1622776601683795, max_features='auto',\n            max_leaf_nodes=None, min_impurity_decrease=0.0,\n            min_impurity_split=None, min_samples_leaf=1,\n            min_samples_split=2, min_weight_fraction_leaf=0.0,\n            presort=False, random_state=None, splitter='best'), DecisionTreeClassifier(class_weight=None, criterion='gini',\n            max_depth=3.1622776601683795, max_features='auto',\n            max_leaf_nodes=None, min_impurity_decrease=0.0,\n            min_impurity_split=None, min_samples_leaf=1,\n            min_samples_split=2, min_weight_fraction_leaf=0.0,\n            presort=False, random_state=None, splitter='random'), DecisionTreeClassifier(class_weight=None, criterion='gini',\n            max_depth=3.1622776601683795, max_features='sqrt',\n            max_leaf_nodes=None, min_impurity_decrease=0.0,\n            min_impurity_split=None, min_samples_leaf=1,\n            min_samples_split=2, min_weight_fraction_leaf=0.0,\n            presort=False, random_state=None, splitter='best'), DecisionTreeClassifier(class_weight=None, criterion='gini',\n            max_depth=3.1622776601683795, max_features='sqrt',\n            max_leaf_nodes=None, min_impurity_decrease=0.0,\n            min_impurity_split=None, min_samples_leaf=1,\n            min_samples_split=2, min_weight_fraction_leaf=0.0,\n            presort=False, random_state=None, splitter='random'), DecisionTreeClassifier(class_weight=None, criterion='gini',\n            max_depth=3.1622776601683795, max_features='log2',\n            max_leaf_nodes=None, min_impurity_decrease=0.0,\n            min_impurity_split=None, min_samples_leaf=1,\n            min_samples_split=2, min_weight_fraction_leaf=0.0,\n            presort=False, random_state=None, splitter='best'), DecisionTreeClassifier(class_weight=None, criterion='gini',\n            max_depth=3.1622776601683795, max_features='log2',\n            max_leaf_nodes=None, min_impurity_decrease=0.0,\n            min_impurity_split=None, min_samples_leaf=1,\n            min_samples_split=2, min_weight_fraction_leaf=0.0,\n            presort=False, random_state=None, splitter='random'), DecisionTreeClassifier(class_weight=None, criterion='gini', max_depth=10.0,\n            max_features=None, max_leaf_nodes=None,\n            min_impurity_decrease=0.0, min_impurity_split=None,\n            min_samples_leaf=1, min_samples_split=2,\n            min_weight_fraction_leaf=0.0, presort=False, random_state=None,\n            splitter='best'), DecisionTreeClassifier(class_weight=None, criterion='gini', max_depth=10.0,\n            max_features=None, max_leaf_nodes=None,\n            min_impurity_decrease=0.0, min_impurity_split=None,\n            min_samples_leaf=1, min_samples_split=2,\n            min_weight_fraction_leaf=0.0, presort=False, random_state=None,\n            splitter='random'), DecisionTreeClassifier(class_weight=None, criterion='gini', max_depth=10.0,\n            max_features='auto', max_leaf_nodes=None,\n            min_impurity_decrease=0.0, min_impurity_split=None,\n            min_samples_leaf=1, min_samples_split=2,\n            min_weight_fraction_leaf=0.0, presort=False, random_state=None,\n            splitter='best'), DecisionTreeClassifier(class_weight=None, criterion='gini', max_depth=10.0,\n            max_features='auto', max_leaf_nodes=None,\n            min_impurity_decrease=0.0, min_impurity_split=None,\n            min_samples_leaf=1, min_samples_split=2,\n            min_weight_fraction_leaf=0.0, presort=False, random_state=None,\n            splitter='random'), DecisionTreeClassifier(class_weight=None, criterion='gini', max_depth=10.0,\n            max_features='sqrt', max_leaf_nodes=None,\n            min_impurity_decrease=0.0, min_impurity_split=None,\n            min_samples_leaf=1, min_samples_split=2,\n            min_weight_fraction_leaf=0.0, presort=False, random_state=None,\n            splitter='best'), DecisionTreeClassifier(class_weight=None, criterion='gini', max_depth=10.0,\n            max_features='sqrt', max_leaf_nodes=None,\n            min_impurity_decrease=0.0, min_impurity_split=None,\n            min_samples_leaf=1, min_samples_split=2,\n            min_weight_fraction_leaf=0.0, presort=False, random_state=None,\n            splitter='random'), DecisionTreeClassifier(class_weight=None, criterion='gini', max_depth=10.0,\n            max_features='log2', max_leaf_nodes=None,\n            min_impurity_decrease=0.0, min_impurity_split=None,\n            min_samples_leaf=1, min_samples_split=2,\n            min_weight_fraction_leaf=0.0, presort=False, random_state=None,\n            splitter='best'), DecisionTreeClassifier(class_weight=None, criterion='gini', max_depth=10.0,\n            max_features='log2', max_leaf_nodes=None,\n            min_impurity_decrease=0.0, min_impurity_split=None,\n            min_samples_leaf=1, min_samples_split=2,\n            min_weight_fraction_leaf=0.0, presort=False, random_state=None,\n            splitter='random'), DecisionTreeClassifier(class_weight=None, criterion='gini',\n            max_depth=31.622776601683793, max_features=None,\n            max_leaf_nodes=None, min_impurity_decrease=0.0,\n            min_impurity_split=None, min_samples_leaf=1,\n            min_samples_split=2, min_weight_fraction_leaf=0.0,\n            presort=False, random_state=None, splitter='best'), DecisionTreeClassifier(class_weight=None, criterion='gini',\n            max_depth=31.622776601683793, max_features=None,\n            max_leaf_nodes=None, min_impurity_decrease=0.0,\n            min_impurity_split=None, min_samples_leaf=1,\n            min_samples_split=2, min_weight_fraction_leaf=0.0,\n            presort=False, random_state=None, splitter='random'), DecisionTreeClassifier(class_weight=None, criterion='gini',\n            max_depth=31.622776601683793, max_features='auto',\n            max_leaf_nodes=None, min_impurity_decrease=0.0,\n            min_impurity_split=None, min_samples_leaf=1,\n            min_samples_split=2, min_weight_fraction_leaf=0.0,\n            presort=False, random_state=None, splitter='best'), DecisionTreeClassifier(class_weight=None, criterion='gini',\n            max_depth=31.622776601683793, max_features='auto',\n            max_leaf_nodes=None, min_impurity_decrease=0.0,\n            min_impurity_split=None, min_samples_leaf=1,\n            min_samples_split=2, min_weight_fraction_leaf=0.0,\n            presort=False, random_state=None, splitter='random'), DecisionTreeClassifier(class_weight=None, criterion='gini',\n            max_depth=31.622776601683793, max_features='sqrt',\n            max_leaf_nodes=None, min_impurity_decrease=0.0,\n            min_impurity_split=None, min_samples_leaf=1,\n            min_samples_split=2, min_weight_fraction_leaf=0.0,\n            presort=False, random_state=None, splitter='best'), DecisionTreeClassifier(class_weight=None, criterion='gini',\n            max_depth=31.622776601683793, max_features='sqrt',\n            max_leaf_nodes=None, min_impurity_decrease=0.0,\n            min_impurity_split=None, min_samples_leaf=1,\n            min_samples_split=2, min_weight_fraction_leaf=0.0,\n            presort=False, random_state=None, splitter='random'), DecisionTreeClassifier(class_weight=None, criterion='gini',\n            max_depth=31.622776601683793, max_features='log2',\n            max_leaf_nodes=None, min_impurity_decrease=0.0,\n            min_impurity_split=None, min_samples_leaf=1,\n            min_samples_split=2, min_weight_fraction_leaf=0.0,\n            presort=False, random_state=None, splitter='best'), DecisionTreeClassifier(class_weight=None, criterion='gini',\n            max_depth=31.622776601683793, max_features='log2',\n            max_leaf_nodes=None, min_impurity_decrease=0.0,\n            min_impurity_split=None, min_samples_leaf=1,\n            min_samples_split=2, min_weight_fraction_leaf=0.0,\n            presort=False, random_state=None, splitter='random'), DecisionTreeClassifier(class_weight=None, criterion='gini', max_depth=100.0,\n            max_features=None, max_leaf_nodes=None,\n            min_impurity_decrease=0.0, min_impurity_split=None,\n            min_samples_leaf=1, min_samples_split=2,\n            min_weight_fraction_leaf=0.0, presort=False, random_state=None,\n            splitter='best'), DecisionTreeClassifier(class_weight=None, criterion='gini', max_depth=100.0,\n            max_features=None, max_leaf_nodes=None,\n            min_impurity_decrease=0.0, min_impurity_split=None,\n            min_samples_leaf=1, min_samples_split=2,\n            min_weight_fraction_leaf=0.0, presort=False, random_state=None,\n            splitter='random'), DecisionTreeClassifier(class_weight=None, criterion='gini', max_depth=100.0,\n            max_features='auto', max_leaf_nodes=None,\n            min_impurity_decrease=0.0, min_impurity_split=None,\n            min_samples_leaf=1, min_samples_split=2,\n            min_weight_fraction_leaf=0.0, presort=False, random_state=None,\n            splitter='best'), DecisionTreeClassifier(class_weight=None, criterion='gini', max_depth=100.0,\n            max_features='auto', max_leaf_nodes=None,\n            min_impurity_decrease=0.0, min_impurity_split=None,\n            min_samples_leaf=1, min_samples_split=2,\n            min_weight_fraction_leaf=0.0, presort=False, random_state=None,\n            splitter='random'), DecisionTreeClassifier(class_weight=None, criterion='gini', max_depth=100.0,\n            max_features='sqrt', max_leaf_nodes=None,\n            min_impurity_decrease=0.0, min_impurity_split=None,\n            min_samples_leaf=1, min_samples_split=2,\n            min_weight_fraction_leaf=0.0, presort=False, random_state=None,\n            splitter='best'), DecisionTreeClassifier(class_weight=None, criterion='gini', max_depth=100.0,\n            max_features='sqrt', max_leaf_nodes=None,\n            min_impurity_decrease=0.0, min_impurity_split=None,\n            min_samples_leaf=1, min_samples_split=2,\n            min_weight_fraction_leaf=0.0, presort=False, random_state=None,\n            splitter='random'), DecisionTreeClassifier(class_weight=None, criterion='gini', max_depth=100.0,\n            max_features='log2', max_leaf_nodes=None,\n            min_impurity_decrease=0.0, min_impurity_split=None,\n            min_samples_leaf=1, min_samples_split=2,\n            min_weight_fraction_leaf=0.0, presort=False, random_state=None,\n            splitter='best'), DecisionTreeClassifier(class_weight=None, criterion='gini', max_depth=100.0,\n            max_features='log2', max_leaf_nodes=None,\n            min_impurity_decrease=0.0, min_impurity_split=None,\n            min_samples_leaf=1, min_samples_split=2,\n            min_weight_fraction_leaf=0.0, presort=False, random_state=None,\n            splitter='random'), DecisionTreeClassifier(class_weight=None, criterion='entropy', max_depth=None,\n            max_features=None, max_leaf_nodes=None,\n            min_impurity_decrease=0.0, min_impurity_split=None,\n            min_samples_leaf=1, min_samples_split=2,\n            min_weight_fraction_leaf=0.0, presort=False, random_state=None,\n            splitter='best'), DecisionTreeClassifier(class_weight=None, criterion='entropy', max_depth=None,\n            max_features=None, max_leaf_nodes=None,\n            min_impurity_decrease=0.0, min_impurity_split=None,\n            min_samples_leaf=1, min_samples_split=2,\n            min_weight_fraction_leaf=0.0, presort=False, random_state=None,\n            splitter='random'), DecisionTreeClassifier(class_weight=None, criterion='entropy', max_depth=None,\n            max_features='auto', max_leaf_nodes=None,\n            min_impurity_decrease=0.0, min_impurity_split=None,\n            min_samples_leaf=1, min_samples_split=2,\n            min_weight_fraction_leaf=0.0, presort=False, random_state=None,\n            splitter='best'), DecisionTreeClassifier(class_weight=None, criterion='entropy', max_depth=None,\n            max_features='auto', max_leaf_nodes=None,\n            min_impurity_decrease=0.0, min_impurity_split=None,\n            min_samples_leaf=1, min_samples_split=2,\n            min_weight_fraction_leaf=0.0, presort=False, random_state=None,\n            splitter='random'), DecisionTreeClassifier(class_weight=None, criterion='entropy', max_depth=None,\n            max_features='sqrt', max_leaf_nodes=None,\n            min_impurity_decrease=0.0, min_impurity_split=None,\n            min_samples_leaf=1, min_samples_split=2,\n            min_weight_fraction_leaf=0.0, presort=False, random_state=None,\n            splitter='best'), DecisionTreeClassifier(class_weight=None, criterion='entropy', max_depth=None,\n            max_features='sqrt', max_leaf_nodes=None,\n            min_impurity_decrease=0.0, min_impurity_split=None,\n            min_samples_leaf=1, min_samples_split=2,\n            min_weight_fraction_leaf=0.0, presort=False, random_state=None,\n            splitter='random'), DecisionTreeClassifier(class_weight=None, criterion='entropy', max_depth=None,\n            max_features='log2', max_leaf_nodes=None,\n            min_impurity_decrease=0.0, min_impurity_split=None,\n            min_samples_leaf=1, min_samples_split=2,\n            min_weight_fraction_leaf=0.0, presort=False, random_state=None,\n            splitter='best'), DecisionTreeClassifier(class_weight=None, criterion='entropy', max_depth=None,\n            max_features='log2', max_leaf_nodes=None,\n            min_impurity_decrease=0.0, min_impurity_split=None,\n            min_samples_leaf=1, min_samples_split=2,\n            min_weight_fraction_leaf=0.0, presort=False, random_state=None,\n            splitter='random'), DecisionTreeClassifier(class_weight=None, criterion='entropy', max_depth=1.0,\n            max_features=None, max_leaf_nodes=None,\n            min_impurity_decrease=0.0, min_impurity_split=None,\n            min_samples_leaf=1, min_samples_split=2,\n            min_weight_fraction_leaf=0.0, presort=False, random_state=None,\n            splitter='best'), DecisionTreeClassifier(class_weight=None, criterion='entropy', max_depth=1.0,\n            max_features=None, max_leaf_nodes=None,\n            min_impurity_decrease=0.0, min_impurity_split=None,\n            min_samples_leaf=1, min_samples_split=2,\n            min_weight_fraction_leaf=0.0, presort=False, random_state=None,\n            splitter='random'), DecisionTreeClassifier(class_weight=None, criterion='entropy', max_depth=1.0,\n            max_features='auto', max_leaf_nodes=None,\n            min_impurity_decrease=0.0, min_impurity_split=None,\n            min_samples_leaf=1, min_samples_split=2,\n            min_weight_fraction_leaf=0.0, presort=False, random_state=None,\n            splitter='best'), DecisionTreeClassifier(class_weight=None, criterion='entropy', max_depth=1.0,\n            max_features='auto', max_leaf_nodes=None,\n            min_impurity_decrease=0.0, min_impurity_split=None,\n            min_samples_leaf=1, min_samples_split=2,\n            min_weight_fraction_leaf=0.0, presort=False, random_state=None,\n            splitter='random'), DecisionTreeClassifier(class_weight=None, criterion='entropy', max_depth=1.0,\n            max_features='sqrt', max_leaf_nodes=None,\n            min_impurity_decrease=0.0, min_impurity_split=None,\n            min_samples_leaf=1, min_samples_split=2,\n            min_weight_fraction_leaf=0.0, presort=False, random_state=None,\n            splitter='best'), DecisionTreeClassifier(class_weight=None, criterion='entropy', max_depth=1.0,\n            max_features='sqrt', max_leaf_nodes=None,\n            min_impurity_decrease=0.0, min_impurity_split=None,\n            min_samples_leaf=1, min_samples_split=2,\n            min_weight_fraction_leaf=0.0, presort=False, random_state=None,\n            splitter='random'), DecisionTreeClassifier(class_weight=None, criterion='entropy', max_depth=1.0,\n            max_features='log2', max_leaf_nodes=None,\n            min_impurity_decrease=0.0, min_impurity_split=None,\n            min_samples_leaf=1, min_samples_split=2,\n            min_weight_fraction_leaf=0.0, presort=False, random_state=None,\n            splitter='best'), DecisionTreeClassifier(class_weight=None, criterion='entropy', max_depth=1.0,\n            max_features='log2', max_leaf_nodes=None,\n            min_impurity_decrease=0.0, min_impurity_split=None,\n            min_samples_leaf=1, min_samples_split=2,\n            min_weight_fraction_leaf=0.0, presort=False, random_state=None,\n            splitter='random'), DecisionTreeClassifier(class_weight=None, criterion='entropy',\n            max_depth=3.1622776601683795, max_features=None,\n            max_leaf_nodes=None, min_impurity_decrease=0.0,\n            min_impurity_split=None, min_samples_leaf=1,\n            min_samples_split=2, min_weight_fraction_leaf=0.0,\n            presort=False, random_state=None, splitter='best'), DecisionTreeClassifier(class_weight=None, criterion='entropy',\n            max_depth=3.1622776601683795, max_features=None,\n            max_leaf_nodes=None, min_impurity_decrease=0.0,\n            min_impurity_split=None, min_samples_leaf=1,\n            min_samples_split=2, min_weight_fraction_leaf=0.0,\n            presort=False, random_state=None, splitter='random'), DecisionTreeClassifier(class_weight=None, criterion='entropy',\n            max_depth=3.1622776601683795, max_features='auto',\n            max_leaf_nodes=None, min_impurity_decrease=0.0,\n            min_impurity_split=None, min_samples_leaf=1,\n            min_samples_split=2, min_weight_fraction_leaf=0.0,\n            presort=False, random_state=None, splitter='best'), DecisionTreeClassifier(class_weight=None, criterion='entropy',\n            max_depth=3.1622776601683795, max_features='auto',\n            max_leaf_nodes=None, min_impurity_decrease=0.0,\n            min_impurity_split=None, min_samples_leaf=1,\n            min_samples_split=2, min_weight_fraction_leaf=0.0,\n            presort=False, random_state=None, splitter='random'), DecisionTreeClassifier(class_weight=None, criterion='entropy',\n            max_depth=3.1622776601683795, max_features='sqrt',\n            max_leaf_nodes=None, min_impurity_decrease=0.0,\n            min_impurity_split=None, min_samples_leaf=1,\n            min_samples_split=2, min_weight_fraction_leaf=0.0,\n            presort=False, random_state=None, splitter='best'), DecisionTreeClassifier(class_weight=None, criterion='entropy',\n            max_depth=3.1622776601683795, max_features='sqrt',\n            max_leaf_nodes=None, min_impurity_decrease=0.0,\n            min_impurity_split=None, min_samples_leaf=1,\n            min_samples_split=2, min_weight_fraction_leaf=0.0,\n            presort=False, random_state=None, splitter='random'), DecisionTreeClassifier(class_weight=None, criterion='entropy',\n            max_depth=3.1622776601683795, max_features='log2',\n            max_leaf_nodes=None, min_impurity_decrease=0.0,\n            min_impurity_split=None, min_samples_leaf=1,\n            min_samples_split=2, min_weight_fraction_leaf=0.0,\n            presort=False, random_state=None, splitter='best'), DecisionTreeClassifier(class_weight=None, criterion='entropy',\n            max_depth=3.1622776601683795, max_features='log2',\n            max_leaf_nodes=None, min_impurity_decrease=0.0,\n            min_impurity_split=None, min_samples_leaf=1,\n            min_samples_split=2, min_weight_fraction_leaf=0.0,\n            presort=False, random_state=None, splitter='random'), DecisionTreeClassifier(class_weight=None, criterion='entropy', max_depth=10.0,\n            max_features=None, max_leaf_nodes=None,\n            min_impurity_decrease=0.0, min_impurity_split=None,\n            min_samples_leaf=1, min_samples_split=2,\n            min_weight_fraction_leaf=0.0, presort=False, random_state=None,\n            splitter='best'), DecisionTreeClassifier(class_weight=None, criterion='entropy', max_depth=10.0,\n            max_features=None, max_leaf_nodes=None,\n            min_impurity_decrease=0.0, min_impurity_split=None,\n            min_samples_leaf=1, min_samples_split=2,\n            min_weight_fraction_leaf=0.0, presort=False, random_state=None,\n            splitter='random'), DecisionTreeClassifier(class_weight=None, criterion='entropy', max_depth=10.0,\n            max_features='auto', max_leaf_nodes=None,\n            min_impurity_decrease=0.0, min_impurity_split=None,\n            min_samples_leaf=1, min_samples_split=2,\n            min_weight_fraction_leaf=0.0, presort=False, random_state=None,\n            splitter='best'), DecisionTreeClassifier(class_weight=None, criterion='entropy', max_depth=10.0,\n            max_features='auto', max_leaf_nodes=None,\n            min_impurity_decrease=0.0, min_impurity_split=None,\n            min_samples_leaf=1, min_samples_split=2,\n            min_weight_fraction_leaf=0.0, presort=False, random_state=None,\n            splitter='random'), DecisionTreeClassifier(class_weight=None, criterion='entropy', max_depth=10.0,\n            max_features='sqrt', max_leaf_nodes=None,\n            min_impurity_decrease=0.0, min_impurity_split=None,\n            min_samples_leaf=1, min_samples_split=2,\n            min_weight_fraction_leaf=0.0, presort=False, random_state=None,\n            splitter='best'), DecisionTreeClassifier(class_weight=None, criterion='entropy', max_depth=10.0,\n            max_features='sqrt', max_leaf_nodes=None,\n            min_impurity_decrease=0.0, min_impurity_split=None,\n            min_samples_leaf=1, min_samples_split=2,\n            min_weight_fraction_leaf=0.0, presort=False, random_state=None,\n            splitter='random'), DecisionTreeClassifier(class_weight=None, criterion='entropy', max_depth=10.0,\n            max_features='log2', max_leaf_nodes=None,\n            min_impurity_decrease=0.0, min_impurity_split=None,\n            min_samples_leaf=1, min_samples_split=2,\n            min_weight_fraction_leaf=0.0, presort=False, random_state=None,\n            splitter='best'), DecisionTreeClassifier(class_weight=None, criterion='entropy', max_depth=10.0,\n            max_features='log2', max_leaf_nodes=None,\n            min_impurity_decrease=0.0, min_impurity_split=None,\n            min_samples_leaf=1, min_samples_split=2,\n            min_weight_fraction_leaf=0.0, presort=False, random_state=None,\n            splitter='random'), DecisionTreeClassifier(class_weight=None, criterion='entropy',\n            max_depth=31.622776601683793, max_features=None,\n            max_leaf_nodes=None, min_impurity_decrease=0.0,\n            min_impurity_split=None, min_samples_leaf=1,\n            min_samples_split=2, min_weight_fraction_leaf=0.0,\n            presort=False, random_state=None, splitter='best'), DecisionTreeClassifier(class_weight=None, criterion='entropy',\n            max_depth=31.622776601683793, max_features=None,\n            max_leaf_nodes=None, min_impurity_decrease=0.0,\n            min_impurity_split=None, min_samples_leaf=1,\n            min_samples_split=2, min_weight_fraction_leaf=0.0,\n            presort=False, random_state=None, splitter='random'), DecisionTreeClassifier(class_weight=None, criterion='entropy',\n            max_depth=31.622776601683793, max_features='auto',\n            max_leaf_nodes=None, min_impurity_decrease=0.0,\n            min_impurity_split=None, min_samples_leaf=1,\n            min_samples_split=2, min_weight_fraction_leaf=0.0,\n            presort=False, random_state=None, splitter='best'), DecisionTreeClassifier(class_weight=None, criterion='entropy',\n            max_depth=31.622776601683793, max_features='auto',\n            max_leaf_nodes=None, min_impurity_decrease=0.0,\n            min_impurity_split=None, min_samples_leaf=1,\n            min_samples_split=2, min_weight_fraction_leaf=0.0,\n            presort=False, random_state=None, splitter='random'), DecisionTreeClassifier(class_weight=None, criterion='entropy',\n            max_depth=31.622776601683793, max_features='sqrt',\n            max_leaf_nodes=None, min_impurity_decrease=0.0,\n            min_impurity_split=None, min_samples_leaf=1,\n            min_samples_split=2, min_weight_fraction_leaf=0.0,\n            presort=False, random_state=None, splitter='best'), DecisionTreeClassifier(class_weight=None, criterion='entropy',\n            max_depth=31.622776601683793, max_features='sqrt',\n            max_leaf_nodes=None, min_impurity_decrease=0.0,\n            min_impurity_split=None, min_samples_leaf=1,\n            min_samples_split=2, min_weight_fraction_leaf=0.0,\n            presort=False, random_state=None, splitter='random'), DecisionTreeClassifier(class_weight=None, criterion='entropy',\n            max_depth=31.622776601683793, max_features='log2',\n            max_leaf_nodes=None, min_impurity_decrease=0.0,\n            min_impurity_split=None, min_samples_leaf=1,\n            min_samples_split=2, min_weight_fraction_leaf=0.0,\n            presort=False, random_state=None, splitter='best'), DecisionTreeClassifier(class_weight=None, criterion='entropy',\n            max_depth=31.622776601683793, max_features='log2',\n            max_leaf_nodes=None, min_impurity_decrease=0.0,\n            min_impurity_split=None, min_samples_leaf=1,\n            min_samples_split=2, min_weight_fraction_leaf=0.0,\n            presort=False, random_state=None, splitter='random'), DecisionTreeClassifier(class_weight=None, criterion='entropy',\n            max_depth=100.0, max_features=None, max_leaf_nodes=None,\n            min_impurity_decrease=0.0, min_impurity_split=None,\n            min_samples_leaf=1, min_samples_split=2,\n            min_weight_fraction_leaf=0.0, presort=False, random_state=None,\n            splitter='best'), DecisionTreeClassifier(class_weight=None, criterion='entropy',\n            max_depth=100.0, max_features=None, max_leaf_nodes=None,\n            min_impurity_decrease=0.0, min_impurity_split=None,\n            min_samples_leaf=1, min_samples_split=2,\n            min_weight_fraction_leaf=0.0, presort=False, random_state=None,\n            splitter='random'), DecisionTreeClassifier(class_weight=None, criterion='entropy',\n            max_depth=100.0, max_features='auto', max_leaf_nodes=None,\n            min_impurity_decrease=0.0, min_impurity_split=None,\n            min_samples_leaf=1, min_samples_split=2,\n            min_weight_fraction_leaf=0.0, presort=False, random_state=None,\n            splitter='best'), DecisionTreeClassifier(class_weight=None, criterion='entropy',\n            max_depth=100.0, max_features='auto', max_leaf_nodes=None,\n            min_impurity_decrease=0.0, min_impurity_split=None,\n            min_samples_leaf=1, min_samples_split=2,\n            min_weight_fraction_leaf=0.0, presort=False, random_state=None,\n            splitter='random'), DecisionTreeClassifier(class_weight=None, criterion='entropy',\n            max_depth=100.0, max_features='sqrt', max_leaf_nodes=None,\n            min_impurity_decrease=0.0, min_impurity_split=None,\n            min_samples_leaf=1, min_samples_split=2,\n            min_weight_fraction_leaf=0.0, presort=False, random_state=None,\n            splitter='best'), DecisionTreeClassifier(class_weight=None, criterion='entropy',\n            max_depth=100.0, max_features='sqrt', max_leaf_nodes=None,\n            min_impurity_decrease=0.0, min_impurity_split=None,\n            min_samples_leaf=1, min_samples_split=2,\n            min_weight_fraction_leaf=0.0, presort=False, random_state=None,\n            splitter='random'), DecisionTreeClassifier(class_weight=None, criterion='entropy',\n            max_depth=100.0, max_features='log2', max_leaf_nodes=None,\n            min_impurity_decrease=0.0, min_impurity_split=None,\n            min_samples_leaf=1, min_samples_split=2,\n            min_weight_fraction_leaf=0.0, presort=False, random_state=None,\n            splitter='best'), DecisionTreeClassifier(class_weight=None, criterion='entropy',\n            max_depth=100.0, max_features='log2', max_leaf_nodes=None,\n            min_impurity_decrease=0.0, min_impurity_split=None,\n            min_samples_leaf=1, min_samples_split=2,\n            min_weight_fraction_leaf=0.0, presort=False, random_state=None,\n            splitter='random')]\n[0.011586206896551722, 0.013621621621621623, 0.01629090909090909, 0.007084337349397591, 0.013236363636363638, 0.014429447852760735, 0.0050299401197604785, 0.007304347826086956, 0.30824366104973844, 0.30824366104973844, 0.18692625368731566, 0.1924296009891589, 0.27769189971070396, 0.18692625368731566, 0.18692625368731566, 0.18692625368731566, 0.28114153534606534, 0.28114153534606534, 0.2733325638846857, 0.2127164190375503, 0.30086959568355404, 0.2496890096366672, 0.189057562123794, 0.19668981902762303, 0.3578843385400563, 0.3613538425760625, 0.2695798847449422, 0.265618682074885, 0.31058086040617494, 0.27829231863247056, 0.1952166513291896, 0.224566679524632, 0.33407786396052114, 0.3354822914322229, 0.31481955187255656, 0.34176914319522134, 0.32105766827934473, 0.30502927494295234, 0.23733311934744572, 0.29144402569834876, 0.009333333333333334, 0.014933333333333333, 0.32217240534303426, 0.009333333333333334, 0.3262889146900078, 0.3166911934628371, 0.3114389446816792, 0.30466495365258234, 0.01285245901639344, 0.01328813559322034, 0.01, 0.012292682926829267, 0.009818181818181818, 0.010120481927710843, 0.011065868263473055, 0.01068208092485549, 0.26049240333261475, 0.26049240333261475, 0.20809704073089944, 0.2512374422575479, 0.2193755945951068, 0.18692625368731566, 0.18692625368731566, 0.18793799972151173, 0.2925456676802055, 0.2925456676802055, 0.26923970719750917, 0.25760777599823276, 0.1857620103473762, 0.21130853054485416, 0.18653874538745388, 0.21131410899011593, 0.3363533150942653, 0.33786660655171485, 0.2731769600503386, 0.31253308078748376, 0.30146809186406237, 0.30141088420614653, 0.27443877863234933, 0.24203253260090915, 0.34304222566865356, 0.35093297989452515, 0.29901760735127164, 0.32579225753133745, 0.31379912303775126, 0.3230792956515313, 0.2767143420518627, 0.3330534363507259, 0.013066666666666666, 0.014608695652173912, 0.0112, 0.31863365947686223, 0.32024206401987215, 0.009163636363636363, 0.302919034824165, 0.280318889908331]\n"
     ]
    }
   ],
   "source": [
    "print(best_bbow_tree, best_bbow_tree_score_valid, all_models, all_scores, sep='\\n')"
   ]
  },
  {
   "cell_type": "code",
   "execution_count": null,
   "metadata": {},
   "outputs": [],
   "source": [
    "print(\"Best BerNB Test F1:\", f1_score(yelp_test_y, best_bbow_nb.predict(yelp_bbow_test_x),average='weighted'),\n",
    "      \"\\tValid:\", best_bbow_nb_score_valid, \"\\tTrain:\", f1_score(yelp_train_y, best_bbow_nb.predict(yelp_bbow_train_x),average='weighted'))\n",
    "print(\"Best LinSVC Test F1:\", f1_score(yelp_test_y, best_bbow_svc.predict(yelp_bbow_test_x),average='weighted'),\n",
    "      \"\\tValid:\", best_bbow_svc_score_valid, \"\\tTrain:\", f1_score(yelp_train_y, best_bbow_svc.predict(yelp_bbow_train_x),average='weighted'))\n",
    "print(\"Best D-tree Test F1:\", f1_score(yelp_test_y, best_bbow_tree.predict(yelp_bbow_test_x),average='weighted'),\n",
    "      \"\\tValid:\", best_bbow_tree_score_valid, \"\\tTrain:\", f1_score(yelp_train_y, best_bbow_tree.predict(yelp_bbow_train_x),average='weighted'))"
   ]
  },
  {
   "cell_type": "markdown",
   "metadata": {},
   "source": [
    "## FBOW"
   ]
  }
 ],
 "metadata": {
  "kernelspec": {
   "display_name": "Python 2",
   "language": "python",
   "name": "python2"
  },
  "language_info": {
   "codemirror_mode": {
    "name": "ipython",
    "version": 2
   },
   "file_extension": ".py",
   "mimetype": "text/x-python",
   "name": "python",
   "nbconvert_exporter": "python",
   "pygments_lexer": "ipython2",
   "version": "2.7.6"
  }
 },
 "nbformat": 4,
 "nbformat_minor": 0
}
