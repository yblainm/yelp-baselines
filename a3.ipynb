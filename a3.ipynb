{
 "cells": [
  {
   "cell_type": "code",
   "execution_count": 1,
   "metadata": {
    "collapsed": true
   },
   "outputs": [],
   "source": [
    "from nltk import word_tokenize\n",
    "from sklearn.feature_extraction.text import CountVectorizer\n",
    "import re, numpy as np, os"
   ]
  },
  {
   "cell_type": "code",
   "execution_count": 2,
   "metadata": {},
   "outputs": [],
   "source": [
    "def prepare_data(path):\n",
    "\t\"\"\"\n",
    "\t:param text: raw text file\n",
    "\t:type text: str\n",
    "\t:return list of str lines, list of int labels\n",
    "\t\"\"\"\n",
    "\traw = []    # Raw lines\n",
    "\tlines = []  # Tokenized\n",
    "\tlabels = [] # Labels\n",
    "\twith open(path, mode=\"r\", encoding=\"utf-8\") as f:\n",
    "\t\ttext = f.readlines()\n",
    "\t\tfor line in text:\n",
    "\t\t\tif len(line) > 0:\n",
    "\t\t\t\traw.append(prepare_text(line[:-3]))     # :-2 to exclude \\t\n",
    "\t\t\t\tlines.append(prepare_text(line[:-3], token=True))\n",
    "\t\t\t\tlabels.append(int(line[-2]))            # The label\n",
    "\treturn raw, lines, labels\n",
    "\n",
    "\n",
    "def prepare_text(text, token=False):\n",
    "\treturn word_tokenize(re.sub(r'\\W', ' ', text.lower().replace('\\'',''))) \\\n",
    "\t\tif token else re.sub(r'\\W', ' ', text.lower().replace('\\'',''))\n",
    "\n",
    "\n",
    "def datafromfile(path):\n",
    "\twith open(path, mode=\"r\", encoding=\"utf-8\") as f:\n",
    "\t\ttext = f.read()\n",
    "\t\tf.close()\n",
    "\n",
    "\traw, lines, labels = prepare_data(path)\n",
    "\treturn text, raw, lines, labels\n",
    "\n",
    "\n",
    "def export_vocabulary(path, raw, vectorizer):\n",
    "\t\"\"\"\n",
    "\n",
    "\t:param raw: entire raw corpus text string\n",
    "\t:param vectorizer: pre-fit vectorizer\n",
    "\t:type vectorizer CountVectorizer\n",
    "\t:type raw list\n",
    "\t\"\"\"\n",
    "\n",
    "\tx = vectorizer.transform(raw)\n",
    "\t# [word, id, frequency]\n",
    "\tfeaturenames = vectorizer.get_feature_names()\n",
    "\tindices = { k : featurenames.index(k) for k in vectorizer.vocabulary_.keys()}\n",
    "\tvocab = [k+\" \"+str(indices[k])+\" \"+str(x[0,indices[k]])+\"\\n\" for k,v in vectorizer.vocabulary_.items()]\n",
    "\twith open(path, \"w\") as f:\n",
    "\t\tf.writelines(vocab)\n",
    "\t\tf.close()\n",
    "\treturn vocab\n",
    "\n",
    "\n",
    "def export_data(fname, x_tokens, vectorizer, y):\n",
    "\t'''\n",
    "\n",
    "\t:param vectorizer:\n",
    "\t:type vectorizer CountVectorizer\n",
    "\t:return:\n",
    "\t'''\n",
    "\tout = \"\"\n",
    "\tfor i in range(0, len(y)):\n",
    "\t\tfor token in x_tokens[i]:\n",
    "\t\t\tidx = vectorizer.vocabulary_.get(token)\n",
    "\t\t\tif idx:\n",
    "\t\t\t\tout += str(vectorizer.vocabulary_[token])\n",
    "\t\t\t\tout += \" \"\n",
    "\t\tout = out[:-1] + \"\\t\" + str(y[i]) + \"\\n\"\n",
    "\twith open(fname, mode=\"w\", encoding=\"utf-8\") as f:\n",
    "\t\tf.write(out)\n",
    "\t\tf.close()"
   ]
  },
  {
   "cell_type": "code",
   "execution_count": 3,
   "metadata": {},
   "outputs": [],
   "source": [
    "yelp_train_raw, yelp_train_rawlines, yelp_train_tokenlines, yelp_train_y = \\\n",
    "\tdatafromfile(os.path.join(\"data\",\"yelp-train.txt\"))\n",
    "yelp_valid_raw, yelp_valid_rawlines, yelp_valid_tokenlines, yelp_valid_y = \\\n",
    "\tdatafromfile(os.path.join(\"data\",\"yelp-valid.txt\"))\n",
    "yelp_test_raw, yelp_test_rawlines, yelp_test_tokenlines, yelp_test_y = \\\n",
    "\tdatafromfile(os.path.join(\"data\",\"yelp-test.txt\"))\n",
    "\n",
    "yelp_vectorizer_bbow = CountVectorizer(max_features=10000, binary=True)\n",
    "yelp_bbow_train_x = yelp_vectorizer_bbow.fit_transform(np.array(yelp_train_rawlines))\n",
    "yelp_bbow_valid_x = yelp_vectorizer_bbow.transform(np.array(yelp_valid_rawlines))\n",
    "yelp_bbow_test_x = yelp_vectorizer_bbow.transform(np.array(yelp_test_rawlines))\n",
    "\n",
    "yelp_train_y = np.array(yelp_train_y)\n",
    "yelp_valid_y = np.array(yelp_valid_y)\n",
    "yelp_test_y = np.array(yelp_test_y)\n",
    "\n",
    "yelp_vectorizer = CountVectorizer(max_features=10000)\n",
    "yelp_fbow_train_x = yelp_vectorizer.fit_transform(np.array(yelp_train_rawlines))\n",
    "yelp_fbow_valid_x = yelp_vectorizer.transform(np.array(yelp_valid_rawlines))\n",
    "yelp_fbow_test_x = yelp_vectorizer.transform(np.array(yelp_test_rawlines))\n"
   ]
  },
  {
   "cell_type": "code",
   "execution_count": 4,
   "metadata": {},
   "outputs": [],
   "source": [
    "IMDB_train_raw, IMDB_train_rawlines, IMDB_train_tokenlines, IMDB_train_y = \\\n",
    "\tdatafromfile(os.path.join(\"data\",\"IMDB-train.txt\"))\n",
    "IMDB_valid_raw, IMDB_valid_rawlines, IMDB_valid_tokenlines, IMDB_valid_y = \\\n",
    "\tdatafromfile(os.path.join(\"data\",\"IMDB-valid.txt\"))\n",
    "IMDB_test_raw, IMDB_test_rawlines, IMDB_test_tokenlines, IMDB_test_y = \\\n",
    "\tdatafromfile(os.path.join(\"data\",\"IMDB-test.txt\"))\n",
    "\n",
    "IMDB_vectorizer_bbow = CountVectorizer(max_features=10000, binary=True)\n",
    "IMDB_bbow_train_x = IMDB_vectorizer_bbow.fit_transform(np.array(IMDB_train_rawlines))\n",
    "IMDB_bbow_valid_x = IMDB_vectorizer_bbow.transform(np.array(IMDB_valid_rawlines))\n",
    "IMDB_bbow_test_x = IMDB_vectorizer_bbow.transform(np.array(IMDB_test_rawlines))\n",
    "\n",
    "IMDB_train_y = np.array(IMDB_train_y)\n",
    "IMDB_valid_y = np.array(IMDB_valid_y)\n",
    "IMDB_test_y = np.array(IMDB_test_y)\n",
    "\n",
    "IMDB_vectorizer_fbow = CountVectorizer(max_features=10000)\n",
    "IMDB_fbow_train_x = IMDB_vectorizer_fbow.fit_transform(np.array(IMDB_train_rawlines))\n",
    "IMDB_fbow_valid_x = IMDB_vectorizer_fbow.transform(np.array(IMDB_valid_rawlines))\n",
    "IMDB_fbow_test_x = IMDB_vectorizer_fbow.transform(np.array(IMDB_test_rawlines))\n"
   ]
  },
  {
   "cell_type": "markdown",
   "metadata": {},
   "source": [
    "# IMDB"
   ]
  },
  {
   "cell_type": "code",
   "execution_count": 5,
   "metadata": {},
   "outputs": [],
   "source": [
    "from sklearn.dummy import DummyClassifier"
   ]
  },
  {
   "cell_type": "code",
   "execution_count": 6,
   "metadata": {},
   "outputs": [],
   "source": [
    "randomClassifier = DummyClassifier(strategy=\"uniform\")\n",
    "majorityClassifier = DummyClassifier(strategy=\"most_frequent\")"
   ]
  },
  {
   "cell_type": "markdown",
   "metadata": {},
   "source": [
    "## BBOW"
   ]
  },
  {
   "cell_type": "code",
   "execution_count": 7,
   "metadata": {},
   "outputs": [
    {
     "data": {
      "text/plain": [
       "DummyClassifier(constant=None, random_state=None, strategy='most_frequent')"
      ]
     },
     "execution_count": 7,
     "metadata": {},
     "output_type": "execute_result"
    }
   ],
   "source": [
    "randomClassifier.fit(IMDB_bbow_train_x, IMDB_train_y)\n",
    "majorityClassifier.fit(IMDB_bbow_train_x, IMDB_train_y)"
   ]
  },
  {
   "cell_type": "code",
   "execution_count": 8,
   "metadata": {},
   "outputs": [],
   "source": [
    "from sklearn.metrics import f1_score"
   ]
  },
  {
   "cell_type": "code",
   "execution_count": 9,
   "metadata": {},
   "outputs": [
    {
     "name": "stdout",
     "output_type": "stream",
     "text": [
      "0.4996\n0.0\n"
     ]
    },
    {
     "name": "stderr",
     "output_type": "stream",
     "text": [
      "C:\\Program Files\\Python37\\lib\\site-packages\\sklearn\\metrics\\classification.py:1143: UndefinedMetricWarning: F-score is ill-defined and being set to 0.0 due to no predicted samples.\n  'precision', 'predicted', average, warn_for)\n"
     ]
    }
   ],
   "source": [
    "IMDB_bbow_test_pred = randomClassifier.predict(IMDB_bbow_test_x)\n",
    "print(f1_score(IMDB_test_y,IMDB_bbow_test_pred))\n",
    "IMDB_bbow_test_pred = majorityClassifier.predict(IMDB_bbow_test_x)\n",
    "print(f1_score(IMDB_test_y,IMDB_bbow_test_pred))"
   ]
  },
  {
   "cell_type": "code",
   "execution_count": 10,
   "metadata": {},
   "outputs": [],
   "source": [
    "import parfit.parfit as pf\n",
    "from sklearn.model_selection import ParameterGrid"
   ]
  },
  {
   "cell_type": "code",
   "execution_count": 11,
   "metadata": {},
   "outputs": [],
   "source": [
    "from sklearn.naive_bayes import BernoulliNB, GaussianNB\n",
    "from sklearn.svm import LinearSVC\n",
    "from sklearn.tree import DecisionTreeClassifier"
   ]
  },
  {
   "cell_type": "code",
   "execution_count": 12,
   "metadata": {},
   "outputs": [],
   "source": [
    "params_bnb = ParameterGrid({\n",
    "    'alpha' : np.logspace(0,3,10)\n",
    "})\n",
    "params_gnb = ParameterGrid({\n",
    "    'var_smoothing' : np.logspace(-9, 1, 10)\n",
    "})\n",
    "params_svc = ParameterGrid({\n",
    "    'loss' : ['squared_hinge'],\n",
    "\t'dual' : [False, True],\n",
    "\t'C' : np.logspace(-1, 1, 5)\n",
    "})\n",
    "depths = [None]\n",
    "depths.extend(np.logspace(0, 2, 5).tolist())\n",
    "maxfeatures = [None, 'auto', 'sqrt', 'log2']\n",
    "params_tree = ParameterGrid({\n",
    "\t'criterion' : ['gini', 'entropy'],\n",
    "\t'max_depth' : depths,\n",
    "    'splitter' : ['best', 'random'],\n",
    "    'max_features' : maxfeatures\n",
    "})"
   ]
  },
  {
   "cell_type": "code",
   "execution_count": 13,
   "metadata": {},
   "outputs": [
    {
     "name": "stdout",
     "output_type": "stream",
     "text": [
      "[{'alpha': array([   1.        ,    2.15443469,    4.64158883,   10.        ,\n         21.5443469 ,   46.41588834,  100.        ,  215.443469  ,\n        464.15888336, 1000.        ])}]\n[{'var_smoothing': array([1.00000000e-09, 1.29154967e-08, 1.66810054e-07, 2.15443469e-06,\n       2.78255940e-05, 3.59381366e-04, 4.64158883e-03, 5.99484250e-02,\n       7.74263683e-01, 1.00000000e+01])}]\n[{'loss': ['squared_hinge'], 'dual': [False, True], 'C': array([ 0.1       ,  0.31622777,  1.        ,  3.16227766, 10.        ])}]\n[{'criterion': ['gini', 'entropy'], 'max_depth': [None, 1.0, 3.1622776601683795, 10.0, 31.622776601683793, 100.0], 'splitter': ['best', 'random'], 'max_features': [None, 'auto', 'sqrt', 'log2']}]\n"
     ]
    }
   ],
   "source": [
    "print(params_bnb.param_grid, params_gnb.param_grid, params_svc.param_grid, params_tree.param_grid, sep='\\n')"
   ]
  },
  {
   "cell_type": "code",
   "execution_count": 14,
   "metadata": {
    "collapsed": true
   },
   "outputs": [
    {
     "name": "stdout",
     "output_type": "stream",
     "text": [
      "-------------FITTING MODELS-------------\n"
     ]
    },
    {
     "name": "stderr",
     "output_type": "stream",
     "text": [
      "[Parallel(n_jobs=-1)]: Using backend LokyBackend with 4 concurrent workers.\n"
     ]
    },
    {
     "name": "stderr",
     "output_type": "stream",
     "text": [
      "[Parallel(n_jobs=-1)]: Done   5 out of  10 | elapsed:    1.0s remaining:    1.0s\n[Parallel(n_jobs=-1)]: Done   7 out of  10 | elapsed:    1.0s remaining:    0.4s\n[Parallel(n_jobs=-1)]: Done  10 out of  10 | elapsed:    1.1s finished\n[Parallel(n_jobs=-1)]: Using backend LokyBackend with 4 concurrent workers.\n"
     ]
    },
    {
     "name": "stdout",
     "output_type": "stream",
     "text": [
      "-------------SCORING MODELS-------------\n"
     ]
    },
    {
     "name": "stderr",
     "output_type": "stream",
     "text": [
      "[Parallel(n_jobs=-1)]: Done   3 out of  10 | elapsed:    0.0s remaining:    0.2s\n[Parallel(n_jobs=-1)]: Done  10 out of  10 | elapsed:    0.2s finished\n"
     ]
    },
    {
     "data": {
      "image/png": "[encoded data removed]",
      "text/plain": [
       "<Figure size 576x432 with 1 Axes>"
      ]
     },
     "metadata": {},
     "output_type": "display_data"
    }
   ],
   "source": [
    "best_bbow_nb, best_bbow_nb_score_valid, all_models, all_scores = pf.bestFit(\n",
    "    BernoulliNB, params_bnb, IMDB_bbow_train_x, IMDB_train_y, IMDB_bbow_valid_x, IMDB_valid_y, metric=f1_score)"
   ]
  },
  {
   "cell_type": "code",
   "execution_count": 15,
   "metadata": {
    "collapsed": false
   },
   "outputs": [
    {
     "name": "stdout",
     "output_type": "stream",
     "text": [
      "BernoulliNB(alpha=2.154434690031884, binarize=0.0, class_prior=None,\n      fit_prior=True)\n0.8413021363173957\n[BernoulliNB(alpha=1.0, binarize=0.0, class_prior=None, fit_prior=True), BernoulliNB(alpha=2.154434690031884, binarize=0.0, class_prior=None,\n      fit_prior=True), BernoulliNB(alpha=4.641588833612778, binarize=0.0, class_prior=None,\n      fit_prior=True), BernoulliNB(alpha=10.0, binarize=0.0, class_prior=None, fit_prior=True), BernoulliNB(alpha=21.544346900318832, binarize=0.0, class_prior=None,\n      fit_prior=True), BernoulliNB(alpha=46.41588833612777, binarize=0.0, class_prior=None,\n      fit_prior=True), BernoulliNB(alpha=100.0, binarize=0.0, class_prior=None, fit_prior=True), BernoulliNB(alpha=215.44346900318823, binarize=0.0, class_prior=None,\n      fit_prior=True), BernoulliNB(alpha=464.15888336127773, binarize=0.0, class_prior=None,\n      fit_prior=True), BernoulliNB(alpha=1000.0, binarize=0.0, class_prior=None, fit_prior=True)]\n[0.8407268297634758, 0.8413021363173957, 0.8387888707037643, 0.8362211221122112, 0.8320267586495244, 0.8200470185937166, 0.7961250550418317, 0.7682843472317156, 0.7231503579952268, 0.6632988128315231]\n"
     ]
    }
   ],
   "source": [
    "print(best_bbow_nb, best_bbow_nb_score_valid, all_models, all_scores, sep='\\n')"
   ]
  },
  {
   "cell_type": "code",
   "execution_count": 16,
   "metadata": {
    "collapsed": false
   },
   "outputs": [
    {
     "name": "stdout",
     "output_type": "stream",
     "text": [
      "-------------FITTING MODELS-------------\n"
     ]
    },
    {
     "name": "stderr",
     "output_type": "stream",
     "text": [
      "[Parallel(n_jobs=1)]: Using backend SequentialBackend with 1 concurrent workers.\n"
     ]
    },
    {
     "name": "stderr",
     "output_type": "stream",
     "text": [
      "[Parallel(n_jobs=1)]: Done   1 out of   1 | elapsed:    0.8s remaining:    0.0s\n"
     ]
    },
    {
     "name": "stderr",
     "output_type": "stream",
     "text": [
      "[Parallel(n_jobs=1)]: Done   2 out of   2 | elapsed:    1.3s remaining:    0.0s\n"
     ]
    },
    {
     "name": "stderr",
     "output_type": "stream",
     "text": [
      "[Parallel(n_jobs=1)]: Done   3 out of   3 | elapsed:    2.6s remaining:    0.0s\n"
     ]
    },
    {
     "name": "stderr",
     "output_type": "stream",
     "text": [
      "[Parallel(n_jobs=1)]: Done   4 out of   4 | elapsed:    4.2s remaining:    0.0s\n"
     ]
    },
    {
     "name": "stderr",
     "output_type": "stream",
     "text": [
      "[Parallel(n_jobs=1)]: Done   5 out of   5 | elapsed:   10.0s remaining:    0.0s\n"
     ]
    },
    {
     "name": "stderr",
     "output_type": "stream",
     "text": [
      "[Parallel(n_jobs=1)]: Done   6 out of   6 | elapsed:   12.8s remaining:    0.0s\n"
     ]
    },
    {
     "name": "stderr",
     "output_type": "stream",
     "text": [
      "[Parallel(n_jobs=1)]: Done   7 out of   7 | elapsed:   26.1s remaining:    0.0s\n"
     ]
    },
    {
     "name": "stderr",
     "output_type": "stream",
     "text": [
      "[Parallel(n_jobs=1)]: Done   8 out of   8 | elapsed:   28.7s remaining:    0.0s\n"
     ]
    },
    {
     "name": "stderr",
     "output_type": "stream",
     "text": [
      "[Parallel(n_jobs=1)]: Done   9 out of   9 | elapsed:   45.2s remaining:    0.0s\n"
     ]
    },
    {
     "name": "stdout",
     "output_type": "stream",
     "text": [
      "-------------SCORING MODELS-------------\nThis model/metric cannot use predict_proba. Using predict for scoring instead.\nThis model/metric cannot use predict_proba. Using predict for scoring instead.\nThis model/metric cannot use predict_proba. Using predict for scoring instead.\nThis model/metric cannot use predict_proba. Using predict for scoring instead.\nThis model/metric cannot use predict_proba. Using predict for scoring instead.\nThis model/metric cannot use predict_proba. Using predict for scoring instead.\nThis model/metric cannot use predict_proba. Using predict for scoring instead.\nThis model/metric cannot use predict_proba. Using predict for scoring instead.\nThis model/metric cannot use predict_proba. Using predict for scoring instead.\nThis model/metric cannot use predict_proba. Using predict for scoring instead.\n"
     ]
    },
    {
     "name": "stderr",
     "output_type": "stream",
     "text": [
      "[Parallel(n_jobs=1)]: Done  10 out of  10 | elapsed:   47.6s finished\n[Parallel(n_jobs=1)]: Using backend SequentialBackend with 1 concurrent workers.\n[Parallel(n_jobs=1)]: Done  10 out of  10 | elapsed:    0.0s finished\n"
     ]
    },
    {
     "data": {
      "image/png": "[encoded data removed]",
      "text/plain": [
       "<Figure size 144x288 with 2 Axes>"
      ]
     },
     "metadata": {},
     "output_type": "display_data"
    }
   ],
   "source": [
    "best_bbow_svc, best_bbow_svc_score_valid, all_models, all_scores = pf.bestFit(\n",
    "    LinearSVC, params_svc, IMDB_bbow_train_x, IMDB_train_y, IMDB_bbow_valid_x, IMDB_valid_y, metric=f1_score, n_jobs=1)"
   ]
  },
  {
   "cell_type": "code",
   "execution_count": 17,
   "metadata": {
    "collapsed": true
   },
   "outputs": [],
   "source": [
    "print(best_bbow_svc, best_bbow_svc_score_valid, all_models, all_scores, sep='\\n')"
   ]
  },
  {
   "cell_type": "code",
   "execution_count": 18,
   "metadata": {
    "collapsed": false
   },
   "outputs": [
    {
     "name": "stdout",
     "output_type": "stream",
     "text": [
      "-------------FITTING MODELS-------------\n"
     ]
    },
    {
     "name": "stderr",
     "output_type": "stream",
     "text": [
      "[Parallel(n_jobs=-1)]: Using backend LokyBackend with 4 concurrent workers.\n"
     ]
    },
    {
     "name": "stderr",
     "output_type": "stream",
     "text": [
      "[Parallel(n_jobs=-1)]: Done   5 tasks      | elapsed:    1.0s\n[Parallel(n_jobs=-1)]: Done  10 tasks      | elapsed:    1.2s\n"
     ]
    },
    {
     "name": "stderr",
     "output_type": "stream",
     "text": [
      "[Parallel(n_jobs=-1)]: Done  17 tasks      | elapsed:    1.6s\n"
     ]
    },
    {
     "name": "stderr",
     "output_type": "stream",
     "text": [
      "[Parallel(n_jobs=-1)]: Done  24 tasks      | elapsed:    3.2s\n"
     ]
    },
    {
     "name": "stderr",
     "output_type": "stream",
     "text": [
      "[Parallel(n_jobs=-1)]: Done  33 tasks      | elapsed:   10.5s\n"
     ]
    },
    {
     "name": "stderr",
     "output_type": "stream",
     "text": [
      "[Parallel(n_jobs=-1)]: Done  42 tasks      | elapsed:   12.1s\n"
     ]
    },
    {
     "name": "stderr",
     "output_type": "stream",
     "text": [
      "[Parallel(n_jobs=-1)]: Done  53 tasks      | elapsed:   22.7s\n"
     ]
    },
    {
     "name": "stderr",
     "output_type": "stream",
     "text": [
      "[Parallel(n_jobs=-1)]: Done  64 tasks      | elapsed:   23.0s\n"
     ]
    },
    {
     "name": "stderr",
     "output_type": "stream",
     "text": [
      "[Parallel(n_jobs=-1)]: Done  77 tasks      | elapsed:   23.4s\n"
     ]
    },
    {
     "name": "stderr",
     "output_type": "stream",
     "text": [
      "[Parallel(n_jobs=-1)]: Done  96 out of  96 | elapsed:   34.5s finished\n[Parallel(n_jobs=-1)]: Using backend LokyBackend with 4 concurrent workers.\n"
     ]
    },
    {
     "name": "stdout",
     "output_type": "stream",
     "text": [
      "-------------SCORING MODELS-------------\n"
     ]
    },
    {
     "name": "stdout",
     "output_type": "stream",
     "text": [
      "Too many dimensions to plot.\n"
     ]
    },
    {
     "name": "stderr",
     "output_type": "stream",
     "text": [
      "[Parallel(n_jobs=-1)]: Done  96 out of  96 | elapsed:    1.0s finished\n"
     ]
    }
   ],
   "source": [
    "best_bbow_tree, best_bbow_tree_score_valid, all_models, all_scores = pf.bestFit(\n",
    "    DecisionTreeClassifier, params_tree, IMDB_bbow_train_x, IMDB_train_y, IMDB_bbow_valid_x, IMDB_valid_y, metric=f1_score)"
   ]
  },
  {
   "cell_type": "code",
   "execution_count": 19,
   "metadata": {
    "collapsed": true
   },
   "outputs": [
    {
     "name": "stdout",
     "output_type": "stream",
     "text": [
      "DecisionTreeClassifier(class_weight=None, criterion='gini', max_depth=10.0,\n            max_features=None, max_leaf_nodes=None,\n            min_impurity_decrease=0.0, min_impurity_split=None,\n            min_samples_leaf=1, min_samples_split=2,\n            min_weight_fraction_leaf=0.0, presort=False, random_state=None,\n            splitter='best')\n0.7512397439365252\n[DecisionTreeClassifier(class_weight=None, criterion='gini', max_depth=None,\n            max_features=None, max_leaf_nodes=None,\n            min_impurity_decrease=0.0, min_impurity_split=None,\n            min_samples_leaf=1, min_samples_split=2,\n            min_weight_fraction_leaf=0.0, presort=False, random_state=None,\n            splitter='best'), DecisionTreeClassifier(class_weight=None, criterion='gini', max_depth=None,\n            max_features=None, max_leaf_nodes=None,\n            min_impurity_decrease=0.0, min_impurity_split=None,\n            min_samples_leaf=1, min_samples_split=2,\n            min_weight_fraction_leaf=0.0, presort=False, random_state=None,\n            splitter='random'), DecisionTreeClassifier(class_weight=None, criterion='gini', max_depth=None,\n            max_features='auto', max_leaf_nodes=None,\n            min_impurity_decrease=0.0, min_impurity_split=None,\n            min_samples_leaf=1, min_samples_split=2,\n            min_weight_fraction_leaf=0.0, presort=False, random_state=None,\n            splitter='best'), DecisionTreeClassifier(class_weight=None, criterion='gini', max_depth=None,\n            max_features='auto', max_leaf_nodes=None,\n            min_impurity_decrease=0.0, min_impurity_split=None,\n            min_samples_leaf=1, min_samples_split=2,\n            min_weight_fraction_leaf=0.0, presort=False, random_state=None,\n            splitter='random'), DecisionTreeClassifier(class_weight=None, criterion='gini', max_depth=None,\n            max_features='sqrt', max_leaf_nodes=None,\n            min_impurity_decrease=0.0, min_impurity_split=None,\n            min_samples_leaf=1, min_samples_split=2,\n            min_weight_fraction_leaf=0.0, presort=False, random_state=None,\n            splitter='best'), DecisionTreeClassifier(class_weight=None, criterion='gini', max_depth=None,\n            max_features='sqrt', max_leaf_nodes=None,\n            min_impurity_decrease=0.0, min_impurity_split=None,\n            min_samples_leaf=1, min_samples_split=2,\n            min_weight_fraction_leaf=0.0, presort=False, random_state=None,\n            splitter='random'), DecisionTreeClassifier(class_weight=None, criterion='gini', max_depth=None,\n            max_features='log2', max_leaf_nodes=None,\n            min_impurity_decrease=0.0, min_impurity_split=None,\n            min_samples_leaf=1, min_samples_split=2,\n            min_weight_fraction_leaf=0.0, presort=False, random_state=None,\n            splitter='best'), DecisionTreeClassifier(class_weight=None, criterion='gini', max_depth=None,\n            max_features='log2', max_leaf_nodes=None,\n            min_impurity_decrease=0.0, min_impurity_split=None,\n            min_samples_leaf=1, min_samples_split=2,\n            min_weight_fraction_leaf=0.0, presort=False, random_state=None,\n            splitter='random'), DecisionTreeClassifier(class_weight=None, criterion='gini', max_depth=1.0,\n            max_features=None, max_leaf_nodes=None,\n            min_impurity_decrease=0.0, min_impurity_split=None,\n            min_samples_leaf=1, min_samples_split=2,\n            min_weight_fraction_leaf=0.0, presort=False, random_state=None,\n            splitter='best'), DecisionTreeClassifier(class_weight=None, criterion='gini', max_depth=1.0,\n            max_features=None, max_leaf_nodes=None,\n            min_impurity_decrease=0.0, min_impurity_split=None,\n            min_samples_leaf=1, min_samples_split=2,\n            min_weight_fraction_leaf=0.0, presort=False, random_state=None,\n            splitter='random'), DecisionTreeClassifier(class_weight=None, criterion='gini', max_depth=1.0,\n            max_features='auto', max_leaf_nodes=None,\n            min_impurity_decrease=0.0, min_impurity_split=None,\n            min_samples_leaf=1, min_samples_split=2,\n            min_weight_fraction_leaf=0.0, presort=False, random_state=None,\n            splitter='best'), DecisionTreeClassifier(class_weight=None, criterion='gini', max_depth=1.0,\n            max_features='auto', max_leaf_nodes=None,\n            min_impurity_decrease=0.0, min_impurity_split=None,\n            min_samples_leaf=1, min_samples_split=2,\n            min_weight_fraction_leaf=0.0, presort=False, random_state=None,\n            splitter='random'), DecisionTreeClassifier(class_weight=None, criterion='gini', max_depth=1.0,\n            max_features='sqrt', max_leaf_nodes=None,\n            min_impurity_decrease=0.0, min_impurity_split=None,\n            min_samples_leaf=1, min_samples_split=2,\n            min_weight_fraction_leaf=0.0, presort=False, random_state=None,\n            splitter='best'), DecisionTreeClassifier(class_weight=None, criterion='gini', max_depth=1.0,\n            max_features='sqrt', max_leaf_nodes=None,\n            min_impurity_decrease=0.0, min_impurity_split=None,\n            min_samples_leaf=1, min_samples_split=2,\n            min_weight_fraction_leaf=0.0, presort=False, random_state=None,\n            splitter='random'), DecisionTreeClassifier(class_weight=None, criterion='gini', max_depth=1.0,\n            max_features='log2', max_leaf_nodes=None,\n            min_impurity_decrease=0.0, min_impurity_split=None,\n            min_samples_leaf=1, min_samples_split=2,\n            min_weight_fraction_leaf=0.0, presort=False, random_state=None,\n            splitter='best'), DecisionTreeClassifier(class_weight=None, criterion='gini', max_depth=1.0,\n            max_features='log2', max_leaf_nodes=None,\n            min_impurity_decrease=0.0, min_impurity_split=None,\n            min_samples_leaf=1, min_samples_split=2,\n            min_weight_fraction_leaf=0.0, presort=False, random_state=None,\n            splitter='random'), DecisionTreeClassifier(class_weight=None, criterion='gini',\n            max_depth=3.1622776601683795, max_features=None,\n            max_leaf_nodes=None, min_impurity_decrease=0.0,\n            min_impurity_split=None, min_samples_leaf=1,\n            min_samples_split=2, min_weight_fraction_leaf=0.0,\n            presort=False, random_state=None, splitter='best'), DecisionTreeClassifier(class_weight=None, criterion='gini',\n            max_depth=3.1622776601683795, max_features=None,\n            max_leaf_nodes=None, min_impurity_decrease=0.0,\n            min_impurity_split=None, min_samples_leaf=1,\n            min_samples_split=2, min_weight_fraction_leaf=0.0,\n            presort=False, random_state=None, splitter='random'), DecisionTreeClassifier(class_weight=None, criterion='gini',\n            max_depth=3.1622776601683795, max_features='auto',\n            max_leaf_nodes=None, min_impurity_decrease=0.0,\n            min_impurity_split=None, min_samples_leaf=1,\n            min_samples_split=2, min_weight_fraction_leaf=0.0,\n            presort=False, random_state=None, splitter='best'), DecisionTreeClassifier(class_weight=None, criterion='gini',\n            max_depth=3.1622776601683795, max_features='auto',\n            max_leaf_nodes=None, min_impurity_decrease=0.0,\n            min_impurity_split=None, min_samples_leaf=1,\n            min_samples_split=2, min_weight_fraction_leaf=0.0,\n            presort=False, random_state=None, splitter='random'), DecisionTreeClassifier(class_weight=None, criterion='gini',\n            max_depth=3.1622776601683795, max_features='sqrt',\n            max_leaf_nodes=None, min_impurity_decrease=0.0,\n            min_impurity_split=None, min_samples_leaf=1,\n            min_samples_split=2, min_weight_fraction_leaf=0.0,\n            presort=False, random_state=None, splitter='best'), DecisionTreeClassifier(class_weight=None, criterion='gini',\n            max_depth=3.1622776601683795, max_features='sqrt',\n            max_leaf_nodes=None, min_impurity_decrease=0.0,\n            min_impurity_split=None, min_samples_leaf=1,\n            min_samples_split=2, min_weight_fraction_leaf=0.0,\n            presort=False, random_state=None, splitter='random'), DecisionTreeClassifier(class_weight=None, criterion='gini',\n            max_depth=3.1622776601683795, max_features='log2',\n            max_leaf_nodes=None, min_impurity_decrease=0.0,\n            min_impurity_split=None, min_samples_leaf=1,\n            min_samples_split=2, min_weight_fraction_leaf=0.0,\n            presort=False, random_state=None, splitter='best'), DecisionTreeClassifier(class_weight=None, criterion='gini',\n            max_depth=3.1622776601683795, max_features='log2',\n            max_leaf_nodes=None, min_impurity_decrease=0.0,\n            min_impurity_split=None, min_samples_leaf=1,\n            min_samples_split=2, min_weight_fraction_leaf=0.0,\n            presort=False, random_state=None, splitter='random'), DecisionTreeClassifier(class_weight=None, criterion='gini', max_depth=10.0,\n            max_features=None, max_leaf_nodes=None,\n            min_impurity_decrease=0.0, min_impurity_split=None,\n            min_samples_leaf=1, min_samples_split=2,\n            min_weight_fraction_leaf=0.0, presort=False, random_state=None,\n            splitter='best'), DecisionTreeClassifier(class_weight=None, criterion='gini', max_depth=10.0,\n            max_features=None, max_leaf_nodes=None,\n            min_impurity_decrease=0.0, min_impurity_split=None,\n            min_samples_leaf=1, min_samples_split=2,\n            min_weight_fraction_leaf=0.0, presort=False, random_state=None,\n            splitter='random'), DecisionTreeClassifier(class_weight=None, criterion='gini', max_depth=10.0,\n            max_features='auto', max_leaf_nodes=None,\n            min_impurity_decrease=0.0, min_impurity_split=None,\n            min_samples_leaf=1, min_samples_split=2,\n            min_weight_fraction_leaf=0.0, presort=False, random_state=None,\n            splitter='best'), DecisionTreeClassifier(class_weight=None, criterion='gini', max_depth=10.0,\n            max_features='auto', max_leaf_nodes=None,\n            min_impurity_decrease=0.0, min_impurity_split=None,\n            min_samples_leaf=1, min_samples_split=2,\n            min_weight_fraction_leaf=0.0, presort=False, random_state=None,\n            splitter='random'), DecisionTreeClassifier(class_weight=None, criterion='gini', max_depth=10.0,\n            max_features='sqrt', max_leaf_nodes=None,\n            min_impurity_decrease=0.0, min_impurity_split=None,\n            min_samples_leaf=1, min_samples_split=2,\n            min_weight_fraction_leaf=0.0, presort=False, random_state=None,\n            splitter='best'), DecisionTreeClassifier(class_weight=None, criterion='gini', max_depth=10.0,\n            max_features='sqrt', max_leaf_nodes=None,\n            min_impurity_decrease=0.0, min_impurity_split=None,\n            min_samples_leaf=1, min_samples_split=2,\n            min_weight_fraction_leaf=0.0, presort=False, random_state=None,\n            splitter='random'), DecisionTreeClassifier(class_weight=None, criterion='gini', max_depth=10.0,\n            max_features='log2', max_leaf_nodes=None,\n            min_impurity_decrease=0.0, min_impurity_split=None,\n            min_samples_leaf=1, min_samples_split=2,\n            min_weight_fraction_leaf=0.0, presort=False, random_state=None,\n            splitter='best'), DecisionTreeClassifier(class_weight=None, criterion='gini', max_depth=10.0,\n            max_features='log2', max_leaf_nodes=None,\n            min_impurity_decrease=0.0, min_impurity_split=None,\n            min_samples_leaf=1, min_samples_split=2,\n            min_weight_fraction_leaf=0.0, presort=False, random_state=None,\n            splitter='random'), DecisionTreeClassifier(class_weight=None, criterion='gini',\n            max_depth=31.622776601683793, max_features=None,\n            max_leaf_nodes=None, min_impurity_decrease=0.0,\n            min_impurity_split=None, min_samples_leaf=1,\n            min_samples_split=2, min_weight_fraction_leaf=0.0,\n            presort=False, random_state=None, splitter='best'), DecisionTreeClassifier(class_weight=None, criterion='gini',\n            max_depth=31.622776601683793, max_features=None,\n            max_leaf_nodes=None, min_impurity_decrease=0.0,\n            min_impurity_split=None, min_samples_leaf=1,\n            min_samples_split=2, min_weight_fraction_leaf=0.0,\n            presort=False, random_state=None, splitter='random'), DecisionTreeClassifier(class_weight=None, criterion='gini',\n            max_depth=31.622776601683793, max_features='auto',\n            max_leaf_nodes=None, min_impurity_decrease=0.0,\n            min_impurity_split=None, min_samples_leaf=1,\n            min_samples_split=2, min_weight_fraction_leaf=0.0,\n            presort=False, random_state=None, splitter='best'), DecisionTreeClassifier(class_weight=None, criterion='gini',\n            max_depth=31.622776601683793, max_features='auto',\n            max_leaf_nodes=None, min_impurity_decrease=0.0,\n            min_impurity_split=None, min_samples_leaf=1,\n            min_samples_split=2, min_weight_fraction_leaf=0.0,\n            presort=False, random_state=None, splitter='random'), DecisionTreeClassifier(class_weight=None, criterion='gini',\n            max_depth=31.622776601683793, max_features='sqrt',\n            max_leaf_nodes=None, min_impurity_decrease=0.0,\n            min_impurity_split=None, min_samples_leaf=1,\n            min_samples_split=2, min_weight_fraction_leaf=0.0,\n            presort=False, random_state=None, splitter='best'), DecisionTreeClassifier(class_weight=None, criterion='gini',\n            max_depth=31.622776601683793, max_features='sqrt',\n            max_leaf_nodes=None, min_impurity_decrease=0.0,\n            min_impurity_split=None, min_samples_leaf=1,\n            min_samples_split=2, min_weight_fraction_leaf=0.0,\n            presort=False, random_state=None, splitter='random'), DecisionTreeClassifier(class_weight=None, criterion='gini',\n            max_depth=31.622776601683793, max_features='log2',\n            max_leaf_nodes=None, min_impurity_decrease=0.0,\n            min_impurity_split=None, min_samples_leaf=1,\n            min_samples_split=2, min_weight_fraction_leaf=0.0,\n            presort=False, random_state=None, splitter='best'), DecisionTreeClassifier(class_weight=None, criterion='gini',\n            max_depth=31.622776601683793, max_features='log2',\n            max_leaf_nodes=None, min_impurity_decrease=0.0,\n            min_impurity_split=None, min_samples_leaf=1,\n            min_samples_split=2, min_weight_fraction_leaf=0.0,\n            presort=False, random_state=None, splitter='random'), DecisionTreeClassifier(class_weight=None, criterion='gini', max_depth=100.0,\n            max_features=None, max_leaf_nodes=None,\n            min_impurity_decrease=0.0, min_impurity_split=None,\n            min_samples_leaf=1, min_samples_split=2,\n            min_weight_fraction_leaf=0.0, presort=False, random_state=None,\n            splitter='best'), DecisionTreeClassifier(class_weight=None, criterion='gini', max_depth=100.0,\n            max_features=None, max_leaf_nodes=None,\n            min_impurity_decrease=0.0, min_impurity_split=None,\n            min_samples_leaf=1, min_samples_split=2,\n            min_weight_fraction_leaf=0.0, presort=False, random_state=None,\n            splitter='random'), DecisionTreeClassifier(class_weight=None, criterion='gini', max_depth=100.0,\n            max_features='auto', max_leaf_nodes=None,\n            min_impurity_decrease=0.0, min_impurity_split=None,\n            min_samples_leaf=1, min_samples_split=2,\n            min_weight_fraction_leaf=0.0, presort=False, random_state=None,\n            splitter='best'), DecisionTreeClassifier(class_weight=None, criterion='gini', max_depth=100.0,\n            max_features='auto', max_leaf_nodes=None,\n            min_impurity_decrease=0.0, min_impurity_split=None,\n            min_samples_leaf=1, min_samples_split=2,\n            min_weight_fraction_leaf=0.0, presort=False, random_state=None,\n            splitter='random'), DecisionTreeClassifier(class_weight=None, criterion='gini', max_depth=100.0,\n            max_features='sqrt', max_leaf_nodes=None,\n            min_impurity_decrease=0.0, min_impurity_split=None,\n            min_samples_leaf=1, min_samples_split=2,\n            min_weight_fraction_leaf=0.0, presort=False, random_state=None,\n            splitter='best'), DecisionTreeClassifier(class_weight=None, criterion='gini', max_depth=100.0,\n            max_features='sqrt', max_leaf_nodes=None,\n            min_impurity_decrease=0.0, min_impurity_split=None,\n            min_samples_leaf=1, min_samples_split=2,\n            min_weight_fraction_leaf=0.0, presort=False, random_state=None,\n            splitter='random'), DecisionTreeClassifier(class_weight=None, criterion='gini', max_depth=100.0,\n            max_features='log2', max_leaf_nodes=None,\n            min_impurity_decrease=0.0, min_impurity_split=None,\n            min_samples_leaf=1, min_samples_split=2,\n            min_weight_fraction_leaf=0.0, presort=False, random_state=None,\n            splitter='best'), DecisionTreeClassifier(class_weight=None, criterion='gini', max_depth=100.0,\n            max_features='log2', max_leaf_nodes=None,\n            min_impurity_decrease=0.0, min_impurity_split=None,\n            min_samples_leaf=1, min_samples_split=2,\n            min_weight_fraction_leaf=0.0, presort=False, random_state=None,\n            splitter='random'), DecisionTreeClassifier(class_weight=None, criterion='entropy', max_depth=None,\n            max_features=None, max_leaf_nodes=None,\n            min_impurity_decrease=0.0, min_impurity_split=None,\n            min_samples_leaf=1, min_samples_split=2,\n            min_weight_fraction_leaf=0.0, presort=False, random_state=None,\n            splitter='best'), DecisionTreeClassifier(class_weight=None, criterion='entropy', max_depth=None,\n            max_features=None, max_leaf_nodes=None,\n            min_impurity_decrease=0.0, min_impurity_split=None,\n            min_samples_leaf=1, min_samples_split=2,\n            min_weight_fraction_leaf=0.0, presort=False, random_state=None,\n            splitter='random'), DecisionTreeClassifier(class_weight=None, criterion='entropy', max_depth=None,\n            max_features='auto', max_leaf_nodes=None,\n            min_impurity_decrease=0.0, min_impurity_split=None,\n            min_samples_leaf=1, min_samples_split=2,\n            min_weight_fraction_leaf=0.0, presort=False, random_state=None,\n            splitter='best'), DecisionTreeClassifier(class_weight=None, criterion='entropy', max_depth=None,\n            max_features='auto', max_leaf_nodes=None,\n            min_impurity_decrease=0.0, min_impurity_split=None,\n            min_samples_leaf=1, min_samples_split=2,\n            min_weight_fraction_leaf=0.0, presort=False, random_state=None,\n            splitter='random'), DecisionTreeClassifier(class_weight=None, criterion='entropy', max_depth=None,\n            max_features='sqrt', max_leaf_nodes=None,\n            min_impurity_decrease=0.0, min_impurity_split=None,\n            min_samples_leaf=1, min_samples_split=2,\n            min_weight_fraction_leaf=0.0, presort=False, random_state=None,\n            splitter='best'), DecisionTreeClassifier(class_weight=None, criterion='entropy', max_depth=None,\n            max_features='sqrt', max_leaf_nodes=None,\n            min_impurity_decrease=0.0, min_impurity_split=None,\n            min_samples_leaf=1, min_samples_split=2,\n            min_weight_fraction_leaf=0.0, presort=False, random_state=None,\n            splitter='random'), DecisionTreeClassifier(class_weight=None, criterion='entropy', max_depth=None,\n            max_features='log2', max_leaf_nodes=None,\n            min_impurity_decrease=0.0, min_impurity_split=None,\n            min_samples_leaf=1, min_samples_split=2,\n            min_weight_fraction_leaf=0.0, presort=False, random_state=None,\n            splitter='best'), DecisionTreeClassifier(class_weight=None, criterion='entropy', max_depth=None,\n            max_features='log2', max_leaf_nodes=None,\n            min_impurity_decrease=0.0, min_impurity_split=None,\n            min_samples_leaf=1, min_samples_split=2,\n            min_weight_fraction_leaf=0.0, presort=False, random_state=None,\n            splitter='random'), DecisionTreeClassifier(class_weight=None, criterion='entropy', max_depth=1.0,\n            max_features=None, max_leaf_nodes=None,\n            min_impurity_decrease=0.0, min_impurity_split=None,\n            min_samples_leaf=1, min_samples_split=2,\n            min_weight_fraction_leaf=0.0, presort=False, random_state=None,\n            splitter='best'), DecisionTreeClassifier(class_weight=None, criterion='entropy', max_depth=1.0,\n            max_features=None, max_leaf_nodes=None,\n            min_impurity_decrease=0.0, min_impurity_split=None,\n            min_samples_leaf=1, min_samples_split=2,\n            min_weight_fraction_leaf=0.0, presort=False, random_state=None,\n            splitter='random'), DecisionTreeClassifier(class_weight=None, criterion='entropy', max_depth=1.0,\n            max_features='auto', max_leaf_nodes=None,\n            min_impurity_decrease=0.0, min_impurity_split=None,\n            min_samples_leaf=1, min_samples_split=2,\n            min_weight_fraction_leaf=0.0, presort=False, random_state=None,\n            splitter='best'), DecisionTreeClassifier(class_weight=None, criterion='entropy', max_depth=1.0,\n            max_features='auto', max_leaf_nodes=None,\n            min_impurity_decrease=0.0, min_impurity_split=None,\n            min_samples_leaf=1, min_samples_split=2,\n            min_weight_fraction_leaf=0.0, presort=False, random_state=None,\n            splitter='random'), DecisionTreeClassifier(class_weight=None, criterion='entropy', max_depth=1.0,\n            max_features='sqrt', max_leaf_nodes=None,\n            min_impurity_decrease=0.0, min_impurity_split=None,\n            min_samples_leaf=1, min_samples_split=2,\n            min_weight_fraction_leaf=0.0, presort=False, random_state=None,\n            splitter='best'), DecisionTreeClassifier(class_weight=None, criterion='entropy', max_depth=1.0,\n            max_features='sqrt', max_leaf_nodes=None,\n            min_impurity_decrease=0.0, min_impurity_split=None,\n            min_samples_leaf=1, min_samples_split=2,\n            min_weight_fraction_leaf=0.0, presort=False, random_state=None,\n            splitter='random'), DecisionTreeClassifier(class_weight=None, criterion='entropy', max_depth=1.0,\n            max_features='log2', max_leaf_nodes=None,\n            min_impurity_decrease=0.0, min_impurity_split=None,\n            min_samples_leaf=1, min_samples_split=2,\n            min_weight_fraction_leaf=0.0, presort=False, random_state=None,\n            splitter='best'), DecisionTreeClassifier(class_weight=None, criterion='entropy', max_depth=1.0,\n            max_features='log2', max_leaf_nodes=None,\n            min_impurity_decrease=0.0, min_impurity_split=None,\n            min_samples_leaf=1, min_samples_split=2,\n            min_weight_fraction_leaf=0.0, presort=False, random_state=None,\n            splitter='random'), DecisionTreeClassifier(class_weight=None, criterion='entropy',\n            max_depth=3.1622776601683795, max_features=None,\n            max_leaf_nodes=None, min_impurity_decrease=0.0,\n            min_impurity_split=None, min_samples_leaf=1,\n            min_samples_split=2, min_weight_fraction_leaf=0.0,\n            presort=False, random_state=None, splitter='best'), DecisionTreeClassifier(class_weight=None, criterion='entropy',\n            max_depth=3.1622776601683795, max_features=None,\n            max_leaf_nodes=None, min_impurity_decrease=0.0,\n            min_impurity_split=None, min_samples_leaf=1,\n            min_samples_split=2, min_weight_fraction_leaf=0.0,\n            presort=False, random_state=None, splitter='random'), DecisionTreeClassifier(class_weight=None, criterion='entropy',\n            max_depth=3.1622776601683795, max_features='auto',\n            max_leaf_nodes=None, min_impurity_decrease=0.0,\n            min_impurity_split=None, min_samples_leaf=1,\n            min_samples_split=2, min_weight_fraction_leaf=0.0,\n            presort=False, random_state=None, splitter='best'), DecisionTreeClassifier(class_weight=None, criterion='entropy',\n            max_depth=3.1622776601683795, max_features='auto',\n            max_leaf_nodes=None, min_impurity_decrease=0.0,\n            min_impurity_split=None, min_samples_leaf=1,\n            min_samples_split=2, min_weight_fraction_leaf=0.0,\n            presort=False, random_state=None, splitter='random'), DecisionTreeClassifier(class_weight=None, criterion='entropy',\n            max_depth=3.1622776601683795, max_features='sqrt',\n            max_leaf_nodes=None, min_impurity_decrease=0.0,\n            min_impurity_split=None, min_samples_leaf=1,\n            min_samples_split=2, min_weight_fraction_leaf=0.0,\n            presort=False, random_state=None, splitter='best'), DecisionTreeClassifier(class_weight=None, criterion='entropy',\n            max_depth=3.1622776601683795, max_features='sqrt',\n            max_leaf_nodes=None, min_impurity_decrease=0.0,\n            min_impurity_split=None, min_samples_leaf=1,\n            min_samples_split=2, min_weight_fraction_leaf=0.0,\n            presort=False, random_state=None, splitter='random'), DecisionTreeClassifier(class_weight=None, criterion='entropy',\n            max_depth=3.1622776601683795, max_features='log2',\n            max_leaf_nodes=None, min_impurity_decrease=0.0,\n            min_impurity_split=None, min_samples_leaf=1,\n            min_samples_split=2, min_weight_fraction_leaf=0.0,\n            presort=False, random_state=None, splitter='best'), DecisionTreeClassifier(class_weight=None, criterion='entropy',\n            max_depth=3.1622776601683795, max_features='log2',\n            max_leaf_nodes=None, min_impurity_decrease=0.0,\n            min_impurity_split=None, min_samples_leaf=1,\n            min_samples_split=2, min_weight_fraction_leaf=0.0,\n            presort=False, random_state=None, splitter='random'), DecisionTreeClassifier(class_weight=None, criterion='entropy', max_depth=10.0,\n            max_features=None, max_leaf_nodes=None,\n            min_impurity_decrease=0.0, min_impurity_split=None,\n            min_samples_leaf=1, min_samples_split=2,\n            min_weight_fraction_leaf=0.0, presort=False, random_state=None,\n            splitter='best'), DecisionTreeClassifier(class_weight=None, criterion='entropy', max_depth=10.0,\n            max_features=None, max_leaf_nodes=None,\n            min_impurity_decrease=0.0, min_impurity_split=None,\n            min_samples_leaf=1, min_samples_split=2,\n            min_weight_fraction_leaf=0.0, presort=False, random_state=None,\n            splitter='random'), DecisionTreeClassifier(class_weight=None, criterion='entropy', max_depth=10.0,\n            max_features='auto', max_leaf_nodes=None,\n            min_impurity_decrease=0.0, min_impurity_split=None,\n            min_samples_leaf=1, min_samples_split=2,\n            min_weight_fraction_leaf=0.0, presort=False, random_state=None,\n            splitter='best'), DecisionTreeClassifier(class_weight=None, criterion='entropy', max_depth=10.0,\n            max_features='auto', max_leaf_nodes=None,\n            min_impurity_decrease=0.0, min_impurity_split=None,\n            min_samples_leaf=1, min_samples_split=2,\n            min_weight_fraction_leaf=0.0, presort=False, random_state=None,\n            splitter='random'), DecisionTreeClassifier(class_weight=None, criterion='entropy', max_depth=10.0,\n            max_features='sqrt', max_leaf_nodes=None,\n            min_impurity_decrease=0.0, min_impurity_split=None,\n            min_samples_leaf=1, min_samples_split=2,\n            min_weight_fraction_leaf=0.0, presort=False, random_state=None,\n            splitter='best'), DecisionTreeClassifier(class_weight=None, criterion='entropy', max_depth=10.0,\n            max_features='sqrt', max_leaf_nodes=None,\n            min_impurity_decrease=0.0, min_impurity_split=None,\n            min_samples_leaf=1, min_samples_split=2,\n            min_weight_fraction_leaf=0.0, presort=False, random_state=None,\n            splitter='random'), DecisionTreeClassifier(class_weight=None, criterion='entropy', max_depth=10.0,\n            max_features='log2', max_leaf_nodes=None,\n            min_impurity_decrease=0.0, min_impurity_split=None,\n            min_samples_leaf=1, min_samples_split=2,\n            min_weight_fraction_leaf=0.0, presort=False, random_state=None,\n            splitter='best'), DecisionTreeClassifier(class_weight=None, criterion='entropy', max_depth=10.0,\n            max_features='log2', max_leaf_nodes=None,\n            min_impurity_decrease=0.0, min_impurity_split=None,\n            min_samples_leaf=1, min_samples_split=2,\n            min_weight_fraction_leaf=0.0, presort=False, random_state=None,\n            splitter='random'), DecisionTreeClassifier(class_weight=None, criterion='entropy',\n            max_depth=31.622776601683793, max_features=None,\n            max_leaf_nodes=None, min_impurity_decrease=0.0,\n            min_impurity_split=None, min_samples_leaf=1,\n            min_samples_split=2, min_weight_fraction_leaf=0.0,\n            presort=False, random_state=None, splitter='best'), DecisionTreeClassifier(class_weight=None, criterion='entropy',\n            max_depth=31.622776601683793, max_features=None,\n            max_leaf_nodes=None, min_impurity_decrease=0.0,\n            min_impurity_split=None, min_samples_leaf=1,\n            min_samples_split=2, min_weight_fraction_leaf=0.0,\n            presort=False, random_state=None, splitter='random'), DecisionTreeClassifier(class_weight=None, criterion='entropy',\n            max_depth=31.622776601683793, max_features='auto',\n            max_leaf_nodes=None, min_impurity_decrease=0.0,\n            min_impurity_split=None, min_samples_leaf=1,\n            min_samples_split=2, min_weight_fraction_leaf=0.0,\n            presort=False, random_state=None, splitter='best'), DecisionTreeClassifier(class_weight=None, criterion='entropy',\n            max_depth=31.622776601683793, max_features='auto',\n            max_leaf_nodes=None, min_impurity_decrease=0.0,\n            min_impurity_split=None, min_samples_leaf=1,\n            min_samples_split=2, min_weight_fraction_leaf=0.0,\n            presort=False, random_state=None, splitter='random'), DecisionTreeClassifier(class_weight=None, criterion='entropy',\n            max_depth=31.622776601683793, max_features='sqrt',\n            max_leaf_nodes=None, min_impurity_decrease=0.0,\n            min_impurity_split=None, min_samples_leaf=1,\n            min_samples_split=2, min_weight_fraction_leaf=0.0,\n            presort=False, random_state=None, splitter='best'), DecisionTreeClassifier(class_weight=None, criterion='entropy',\n            max_depth=31.622776601683793, max_features='sqrt',\n            max_leaf_nodes=None, min_impurity_decrease=0.0,\n            min_impurity_split=None, min_samples_leaf=1,\n            min_samples_split=2, min_weight_fraction_leaf=0.0,\n            presort=False, random_state=None, splitter='random'), DecisionTreeClassifier(class_weight=None, criterion='entropy',\n            max_depth=31.622776601683793, max_features='log2',\n            max_leaf_nodes=None, min_impurity_decrease=0.0,\n            min_impurity_split=None, min_samples_leaf=1,\n            min_samples_split=2, min_weight_fraction_leaf=0.0,\n            presort=False, random_state=None, splitter='best'), DecisionTreeClassifier(class_weight=None, criterion='entropy',\n            max_depth=31.622776601683793, max_features='log2',\n            max_leaf_nodes=None, min_impurity_decrease=0.0,\n            min_impurity_split=None, min_samples_leaf=1,\n            min_samples_split=2, min_weight_fraction_leaf=0.0,\n            presort=False, random_state=None, splitter='random'), DecisionTreeClassifier(class_weight=None, criterion='entropy',\n            max_depth=100.0, max_features=None, max_leaf_nodes=None,\n            min_impurity_decrease=0.0, min_impurity_split=None,\n            min_samples_leaf=1, min_samples_split=2,\n            min_weight_fraction_leaf=0.0, presort=False, random_state=None,\n            splitter='best'), DecisionTreeClassifier(class_weight=None, criterion='entropy',\n            max_depth=100.0, max_features=None, max_leaf_nodes=None,\n            min_impurity_decrease=0.0, min_impurity_split=None,\n            min_samples_leaf=1, min_samples_split=2,\n            min_weight_fraction_leaf=0.0, presort=False, random_state=None,\n            splitter='random'), DecisionTreeClassifier(class_weight=None, criterion='entropy',\n            max_depth=100.0, max_features='auto', max_leaf_nodes=None,\n            min_impurity_decrease=0.0, min_impurity_split=None,\n            min_samples_leaf=1, min_samples_split=2,\n            min_weight_fraction_leaf=0.0, presort=False, random_state=None,\n            splitter='best'), DecisionTreeClassifier(class_weight=None, criterion='entropy',\n            max_depth=100.0, max_features='auto', max_leaf_nodes=None,\n            min_impurity_decrease=0.0, min_impurity_split=None,\n            min_samples_leaf=1, min_samples_split=2,\n            min_weight_fraction_leaf=0.0, presort=False, random_state=None,\n            splitter='random'), DecisionTreeClassifier(class_weight=None, criterion='entropy',\n            max_depth=100.0, max_features='sqrt', max_leaf_nodes=None,\n            min_impurity_decrease=0.0, min_impurity_split=None,\n            min_samples_leaf=1, min_samples_split=2,\n            min_weight_fraction_leaf=0.0, presort=False, random_state=None,\n            splitter='best'), DecisionTreeClassifier(class_weight=None, criterion='entropy',\n            max_depth=100.0, max_features='sqrt', max_leaf_nodes=None,\n            min_impurity_decrease=0.0, min_impurity_split=None,\n            min_samples_leaf=1, min_samples_split=2,\n            min_weight_fraction_leaf=0.0, presort=False, random_state=None,\n            splitter='random'), DecisionTreeClassifier(class_weight=None, criterion='entropy',\n            max_depth=100.0, max_features='log2', max_leaf_nodes=None,\n            min_impurity_decrease=0.0, min_impurity_split=None,\n            min_samples_leaf=1, min_samples_split=2,\n            min_weight_fraction_leaf=0.0, presort=False, random_state=None,\n            splitter='best'), DecisionTreeClassifier(class_weight=None, criterion='entropy',\n            max_depth=100.0, max_features='log2', max_leaf_nodes=None,\n            min_impurity_decrease=0.0, min_impurity_split=None,\n            min_samples_leaf=1, min_samples_split=2,\n            min_weight_fraction_leaf=0.0, presort=False, random_state=None,\n            splitter='random')]\n[0.6929038751887266, 0.6958091036695409, 0.6623583217339432, 0.6473642172523961, 0.6544257060173635, 0.6512562814070352, 0.601096163428002, 0.5867011745968546, 0.6953013763644993, 0.6953013763644993, 0.6738034394640514, 0.3924837898637025, 0.671343766864544, 0.26555504091400334, 0.664476386036961, 0.015807152736613317, 0.7220356063150822, 0.7220356063150822, 0.6932474943302364, 0.6409373975745657, 0.5975065128395981, 0.6778816199376948, 0.11317999269806497, 0.6682438826551306, 0.7512397439365252, 0.7510822510822511, 0.6607266435986159, 0.672782874617737, 0.6755514705882353, 0.6425563083684307, 0.6871963418119463, 0.2977536793183579, 0.7228563067017852, 0.7241077506564233, 0.6518637596704512, 0.6609631836970103, 0.6629531722054381, 0.6530852105778648, 0.6227307110438729, 0.6197437285688503, 0.7027081043269711, 0.701070107010701, 0.6457505957108816, 0.6549472626820694, 0.6633852335509793, 0.6803408640507332, 0.5932083122149012, 0.6029588164734107, 0.7009769362473562, 0.7037259615384616, 0.6674752375176874, 0.6484, 0.6585462467815408, 0.656039603960396, 0.5993394054649184, 0.6170468187274911, 0.6953013763644993, 0.6953013763644993, 0.6738034394640514, 0.6717199558985667, 0.6120559016669473, 0.09616463985032742, 0.6677361138961299, 0.04228083785880527, 0.7220356063150822, 0.7220356063150822, 0.19711042311661503, 0.24899866488651537, 0.6836756449435007, 0.6661353427039559, 0.0765315739868049, 0.2696875, 0.7420519594892118, 0.7424602127846656, 0.6253704801422644, 0.6580190567699575, 0.6407397334783791, 0.7199332777314428, 0.6808027799446847, 0.4692830728856019, 0.7119113573407203, 0.7172888015717092, 0.6388398980991574, 0.6918615528531338, 0.6666666666666666, 0.6608226567768039, 0.6340457442819647, 0.6008815868563413, 0.7009853207319525, 0.7019576508190173, 0.6513770655983976, 0.6661395532713975, 0.6533560750476572, 0.6687146962639976, 0.6290154458447833, 0.5644855880496529]\n"
     ]
    }
   ],
   "source": [
    "print(best_bbow_tree, best_bbow_tree_score_valid, all_models, all_scores, sep='\\n')"
   ]
  },
  {
   "cell_type": "code",
   "execution_count": 20,
   "metadata": {},
   "outputs": [
    {
     "name": "stdout",
     "output_type": "stream",
     "text": [
      "Best BerNB Test F1: 0.8300405059105563 \tValid: 0.8413021363173957 \tTrain: 0.8690508566766386\nBest LinSVC Test F1: 0.8490452744085506 \tValid: 0.8577142285771424 \tTrain: 0.997600319957339\n"
     ]
    },
    {
     "name": "stdout",
     "output_type": "stream",
     "text": [
      "Best D-tree Test F1: 0.7559770653780967 \tValid: 0.7512397439365252 \tTrain: 0.7927777113476026\n"
     ]
    }
   ],
   "source": [
    "print(\"Best BerNB Test F1:\", f1_score(IMDB_test_y, best_bbow_nb.predict(IMDB_bbow_test_x)),\n",
    "      \"\\tValid:\", best_bbow_nb_score_valid, \"\\tTrain:\", f1_score(IMDB_train_y, best_bbow_nb.predict(IMDB_bbow_train_x)))\n",
    "print(\"Best LinSVC Test F1:\", f1_score(IMDB_test_y, best_bbow_svc.predict(IMDB_bbow_test_x)),\n",
    "      \"\\tValid:\", best_bbow_svc_score_valid, \"\\tTrain:\", f1_score(IMDB_train_y, best_bbow_svc.predict(IMDB_bbow_train_x)))\n",
    "print(\"Best D-tree Test F1:\", f1_score(IMDB_test_y, best_bbow_tree.predict(IMDB_bbow_test_x)),\n",
    "      \"\\tValid:\", best_bbow_tree_score_valid, \"\\tTrain:\", f1_score(IMDB_train_y, best_bbow_tree.predict(IMDB_bbow_train_x)))"
   ]
  },
  {
   "cell_type": "markdown",
   "metadata": {},
   "source": [
    "## FBOW"
   ]
  },
  {
   "cell_type": "code",
   "execution_count": 21,
   "metadata": {},
   "outputs": [
    {
     "data": {
      "text/plain": [
       "DummyClassifier(constant=None, random_state=None, strategy='most_frequent')"
      ]
     },
     "execution_count": 21,
     "metadata": {},
     "output_type": "execute_result"
    }
   ],
   "source": [
    "randomClassifier.fit(IMDB_fbow_train_x, IMDB_train_y)\n",
    "majorityClassifier.fit(IMDB_fbow_train_x, IMDB_train_y)"
   ]
  },
  {
   "cell_type": "code",
   "execution_count": 22,
   "metadata": {},
   "outputs": [
    {
     "name": "stdout",
     "output_type": "stream",
     "text": [
      "0.5003794990612391\n0.0\n"
     ]
    }
   ],
   "source": [
    "IMDB_fbow_test_pred = randomClassifier.predict(IMDB_fbow_test_x)\n",
    "print(f1_score(IMDB_test_y,IMDB_fbow_test_pred))\n",
    "IMDB_fbow_test_pred = majorityClassifier.predict(IMDB_fbow_test_x)\n",
    "print(f1_score(IMDB_test_y,IMDB_fbow_test_pred))"
   ]
  },
  {
   "cell_type": "code",
   "execution_count": 23,
   "metadata": {},
   "outputs": [
    {
     "name": "stdout",
     "output_type": "stream",
     "text": [
      "-------------FITTING MODELS-------------\n"
     ]
    },
    {
     "name": "stderr",
     "output_type": "stream",
     "text": [
      "[Parallel(n_jobs=-1)]: Using backend LokyBackend with 4 concurrent workers.\n"
     ]
    },
    {
     "name": "stderr",
     "output_type": "stream",
     "text": [
      "[Parallel(n_jobs=-1)]: Done   5 out of  10 | elapsed:   35.8s remaining:   35.8s\n[Parallel(n_jobs=-1)]: Done   7 out of  10 | elapsed:   35.8s remaining:   15.3s\n"
     ]
    },
    {
     "name": "stderr",
     "output_type": "stream",
     "text": [
      "[Parallel(n_jobs=-1)]: Done  10 out of  10 | elapsed:   40.6s finished\n"
     ]
    },
    {
     "name": "stdout",
     "output_type": "stream",
     "text": [
      "-------------SCORING MODELS-------------\n"
     ]
    },
    {
     "name": "stderr",
     "output_type": "stream",
     "text": [
      "[Parallel(n_jobs=-1)]: Using backend LokyBackend with 4 concurrent workers.\n"
     ]
    },
    {
     "name": "stderr",
     "output_type": "stream",
     "text": [
      "[Parallel(n_jobs=-1)]: Done  10 out of  10 | elapsed:   34.2s finished\n"
     ]
    },
    {
     "data": {
      "image/png": "[encoded data removed]",
      "text/plain": [
       "<Figure size 576x432 with 1 Axes>"
      ]
     },
     "metadata": {},
     "output_type": "display_data"
    }
   ],
   "source": [
    "best_fbow_nb, best_fbow_nb_score_valid, all_models, all_scores = pf.bestFit(\n",
    "    GaussianNB, params_gnb, IMDB_fbow_train_x.toarray(), IMDB_train_y, IMDB_fbow_valid_x.toarray(), IMDB_valid_y, metric=f1_score)"
   ]
  },
  {
   "cell_type": "code",
   "execution_count": 24,
   "metadata": {
    "collapsed": true
   },
   "outputs": [
    {
     "name": "stdout",
     "output_type": "stream",
     "text": [
      "GaussianNB(priors=None, var_smoothing=1.668100537200059e-07)\n0.6679117544064433\n[GaussianNB(priors=None, var_smoothing=1e-09), GaussianNB(priors=None, var_smoothing=1.2915496650148827e-08), GaussianNB(priors=None, var_smoothing=1.668100537200059e-07), GaussianNB(priors=None, var_smoothing=2.1544346900318865e-06), GaussianNB(priors=None, var_smoothing=2.782559402207126e-05), GaussianNB(priors=None, var_smoothing=0.00035938136638046257), GaussianNB(priors=None, var_smoothing=0.004641588833612782), GaussianNB(priors=None, var_smoothing=0.05994842503189421), GaussianNB(priors=None, var_smoothing=0.7742636826811278), GaussianNB(priors=None, var_smoothing=10.0)]\n[0.6564235905921285, 0.6609532754167645, 0.6679117544064433, 0.6641393199857837, 0.5574565539539269, 0.29955216453806605, 0.1754010695187166, 0.21357921207041078, 0.18838622552329506, 0.14465967655944553]\n"
     ]
    }
   ],
   "source": [
    "print(best_fbow_nb, best_fbow_nb_score_valid, all_models, all_scores, sep='\\n')"
   ]
  },
  {
   "cell_type": "code",
   "execution_count": 25,
   "metadata": {
    "collapsed": true
   },
   "outputs": [
    {
     "name": "stdout",
     "output_type": "stream",
     "text": [
      "-------------FITTING MODELS-------------\n"
     ]
    },
    {
     "name": "stderr",
     "output_type": "stream",
     "text": [
      "[Parallel(n_jobs=1)]: Using backend SequentialBackend with 1 concurrent workers.\n"
     ]
    },
    {
     "name": "stderr",
     "output_type": "stream",
     "text": [
      "[Parallel(n_jobs=1)]: Done   1 out of   1 | elapsed:    6.6s remaining:    0.0s\n"
     ]
    },
    {
     "name": "stderr",
     "output_type": "stream",
     "text": [
      "[Parallel(n_jobs=1)]: Done   2 out of   2 | elapsed:    9.7s remaining:    0.0s\n"
     ]
    },
    {
     "name": "stderr",
     "output_type": "stream",
     "text": [
      "[Parallel(n_jobs=1)]: Done   3 out of   3 | elapsed:   26.1s remaining:    0.0s\n"
     ]
    },
    {
     "name": "stderr",
     "output_type": "stream",
     "text": [
      "[Parallel(n_jobs=1)]: Done   4 out of   4 | elapsed:   28.9s remaining:    0.0s\n"
     ]
    },
    {
     "name": "stderr",
     "output_type": "stream",
     "text": [
      "[Parallel(n_jobs=1)]: Done   5 out of   5 | elapsed:   57.6s remaining:    0.0s\n"
     ]
    },
    {
     "name": "stderr",
     "output_type": "stream",
     "text": [
      "[Parallel(n_jobs=1)]: Done   6 out of   6 | elapsed:  1.0min remaining:    0.0s\n"
     ]
    },
    {
     "name": "stderr",
     "output_type": "stream",
     "text": [
      "[Parallel(n_jobs=1)]: Done   7 out of   7 | elapsed:  1.5min remaining:    0.0s\n"
     ]
    },
    {
     "name": "stderr",
     "output_type": "stream",
     "text": [
      "[Parallel(n_jobs=1)]: Done   8 out of   8 | elapsed:  1.5min remaining:    0.0s\n"
     ]
    },
    {
     "name": "stderr",
     "output_type": "stream",
     "text": [
      "[Parallel(n_jobs=1)]: Done   9 out of   9 | elapsed:  1.8min remaining:    0.0s\n"
     ]
    },
    {
     "name": "stderr",
     "output_type": "stream",
     "text": [
      "[Parallel(n_jobs=1)]: Done  10 out of  10 | elapsed:  1.9min finished\n[Parallel(n_jobs=1)]: Using backend SequentialBackend with 1 concurrent workers.\n[Parallel(n_jobs=1)]: Done  10 out of  10 | elapsed:    0.0s finished\n"
     ]
    },
    {
     "name": "stdout",
     "output_type": "stream",
     "text": [
      "-------------SCORING MODELS-------------\nThis model/metric cannot use predict_proba. Using predict for scoring instead.\nThis model/metric cannot use predict_proba. Using predict for scoring instead.\nThis model/metric cannot use predict_proba. Using predict for scoring instead.\nThis model/metric cannot use predict_proba. Using predict for scoring instead.\nThis model/metric cannot use predict_proba. Using predict for scoring instead.\nThis model/metric cannot use predict_proba. Using predict for scoring instead.\nThis model/metric cannot use predict_proba. Using predict for scoring instead.\nThis model/metric cannot use predict_proba. Using predict for scoring instead.\nThis model/metric cannot use predict_proba. Using predict for scoring instead.\nThis model/metric cannot use predict_proba. Using predict for scoring instead.\n"
     ]
    },
    {
     "data": {
      "image/png": "[encoded data removed]",
      "text/plain": [
       "<Figure size 144x288 with 2 Axes>"
      ]
     },
     "metadata": {},
     "output_type": "display_data"
    }
   ],
   "source": [
    "best_fbow_svc, best_fbow_svc_score_valid, all_models, all_scores = pf.bestFit(\n",
    "    LinearSVC, params_svc, IMDB_fbow_train_x, IMDB_train_y, IMDB_fbow_valid_x, IMDB_valid_y, metric=f1_score, n_jobs=1)"
   ]
  },
  {
   "cell_type": "code",
   "execution_count": 26,
   "metadata": {
    "collapsed": true
   },
   "outputs": [
    {
     "name": "stdout",
     "output_type": "stream",
     "text": [
      "LinearSVC(C=0.1, class_weight=None, dual=False, fit_intercept=True,\n     intercept_scaling=1, loss='squared_hinge', max_iter=1000,\n     multi_class='ovr', penalty='l2', random_state=None, tol=0.0001,\n     verbose=0)\n0.8588282343531293\n[LinearSVC(C=0.1, class_weight=None, dual=False, fit_intercept=True,\n     intercept_scaling=1, loss='squared_hinge', max_iter=1000,\n     multi_class='ovr', penalty='l2', random_state=None, tol=0.0001,\n     verbose=0), LinearSVC(C=0.1, class_weight=None, dual=True, fit_intercept=True,\n     intercept_scaling=1, loss='squared_hinge', max_iter=1000,\n     multi_class='ovr', penalty='l2', random_state=None, tol=0.0001,\n     verbose=0), LinearSVC(C=0.31622776601683794, class_weight=None, dual=False,\n     fit_intercept=True, intercept_scaling=1, loss='squared_hinge',\n     max_iter=1000, multi_class='ovr', penalty='l2', random_state=None,\n     tol=0.0001, verbose=0), LinearSVC(C=0.31622776601683794, class_weight=None, dual=True,\n     fit_intercept=True, intercept_scaling=1, loss='squared_hinge',\n     max_iter=1000, multi_class='ovr', penalty='l2', random_state=None,\n     tol=0.0001, verbose=0), LinearSVC(C=1.0, class_weight=None, dual=False, fit_intercept=True,\n     intercept_scaling=1, loss='squared_hinge', max_iter=1000,\n     multi_class='ovr', penalty='l2', random_state=None, tol=0.0001,\n     verbose=0), LinearSVC(C=1.0, class_weight=None, dual=True, fit_intercept=True,\n     intercept_scaling=1, loss='squared_hinge', max_iter=1000,\n     multi_class='ovr', penalty='l2', random_state=None, tol=0.0001,\n     verbose=0), LinearSVC(C=3.1622776601683795, class_weight=None, dual=False,\n     fit_intercept=True, intercept_scaling=1, loss='squared_hinge',\n     max_iter=1000, multi_class='ovr', penalty='l2', random_state=None,\n     tol=0.0001, verbose=0), LinearSVC(C=3.1622776601683795, class_weight=None, dual=True,\n     fit_intercept=True, intercept_scaling=1, loss='squared_hinge',\n     max_iter=1000, multi_class='ovr', penalty='l2', random_state=None,\n     tol=0.0001, verbose=0), LinearSVC(C=10.0, class_weight=None, dual=False, fit_intercept=True,\n     intercept_scaling=1, loss='squared_hinge', max_iter=1000,\n     multi_class='ovr', penalty='l2', random_state=None, tol=0.0001,\n     verbose=0), LinearSVC(C=10.0, class_weight=None, dual=True, fit_intercept=True,\n     intercept_scaling=1, loss='squared_hinge', max_iter=1000,\n     multi_class='ovr', penalty='l2', random_state=None, tol=0.0001,\n     verbose=0)]\n[0.8588282343531293, 0.8588282343531293, 0.8516927993608309, 0.851412034727073, 0.8472166599919904, 0.8456845684568456, 0.8457920544381067, 0.8433276604264691, 0.8469928950265186, 0.8433276604264691]\n"
     ]
    }
   ],
   "source": [
    "print(best_fbow_svc, best_fbow_svc_score_valid, all_models, all_scores, sep='\\n')"
   ]
  },
  {
   "cell_type": "code",
   "execution_count": 27,
   "metadata": {
    "collapsed": true
   },
   "outputs": [
    {
     "name": "stdout",
     "output_type": "stream",
     "text": [
      "-------------FITTING MODELS-------------\n"
     ]
    },
    {
     "name": "stderr",
     "output_type": "stream",
     "text": [
      "[Parallel(n_jobs=-1)]: Using backend LokyBackend with 4 concurrent workers.\n"
     ]
    },
    {
     "name": "stderr",
     "output_type": "stream",
     "text": [
      "[Parallel(n_jobs=-1)]: Done   5 tasks      | elapsed:    1.1s\n"
     ]
    },
    {
     "name": "stderr",
     "output_type": "stream",
     "text": [
      "[Parallel(n_jobs=-1)]: Done  10 tasks      | elapsed:    1.3s\n"
     ]
    },
    {
     "name": "stderr",
     "output_type": "stream",
     "text": [
      "[Parallel(n_jobs=-1)]: Done  17 tasks      | elapsed:    1.7s\n"
     ]
    },
    {
     "name": "stderr",
     "output_type": "stream",
     "text": [
      "[Parallel(n_jobs=-1)]: Done  24 tasks      | elapsed:    3.5s\n"
     ]
    },
    {
     "name": "stderr",
     "output_type": "stream",
     "text": [
      "[Parallel(n_jobs=-1)]: Done  33 tasks      | elapsed:   11.5s\n"
     ]
    },
    {
     "name": "stderr",
     "output_type": "stream",
     "text": [
      "[Parallel(n_jobs=-1)]: Done  42 tasks      | elapsed:   12.3s\n"
     ]
    },
    {
     "name": "stderr",
     "output_type": "stream",
     "text": [
      "[Parallel(n_jobs=-1)]: Done  53 tasks      | elapsed:   23.9s\n"
     ]
    },
    {
     "name": "stderr",
     "output_type": "stream",
     "text": [
      "[Parallel(n_jobs=-1)]: Done  64 tasks      | elapsed:   24.4s\n"
     ]
    },
    {
     "name": "stderr",
     "output_type": "stream",
     "text": [
      "[Parallel(n_jobs=-1)]: Done  77 tasks      | elapsed:   24.8s\n"
     ]
    }
   ],
   "source": [
    "best_fbow_tree, best_fbow_tree_score_valid, all_models, all_scores = pf.bestFit(\n",
    "    DecisionTreeClassifier, params_tree, IMDB_fbow_train_x, IMDB_train_y, IMDB_fbow_valid_x, IMDB_valid_y, metric=f1_score)"
   ]
  },
  {
   "cell_type": "code",
   "execution_count": 28,
   "metadata": {
    "collapsed": true
   },
   "outputs": [
    {
     "ename": "NameError",
     "evalue": "name 'best_fbow_tree_score_valid' is not defined",
     "traceback": [
      "\u001b[0;31m---------------------------------------------------------------------------\u001b[0m",
      "\u001b[0;31mNameError\u001b[0m                                 Traceback (most recent call last)",
      "\u001b[0;32m<ipython-input-28-7e59eec32bfd>\u001b[0m in \u001b[0;36m<module>\u001b[0;34m()\u001b[0m\n\u001b[0;32m----> 1\u001b[0;31m \u001b[0mprint\u001b[0m\u001b[0;34m(\u001b[0m\u001b[0mbest_fbow_tree\u001b[0m\u001b[0;34m,\u001b[0m \u001b[0mbest_fbow_tree_score_valid\u001b[0m\u001b[0;34m,\u001b[0m \u001b[0mall_models\u001b[0m\u001b[0;34m,\u001b[0m \u001b[0mall_scores\u001b[0m\u001b[0;34m,\u001b[0m \u001b[0msep\u001b[0m\u001b[0;34m=\u001b[0m\u001b[0;34m'\\n'\u001b[0m\u001b[0;34m)\u001b[0m\u001b[0;34m\u001b[0m\u001b[0m\n\u001b[0m",
      "\u001b[0;31mNameError\u001b[0m: name 'best_fbow_tree_score_valid' is not defined"
     ],
     "output_type": "error"
    }
   ],
   "source": [
    "print(best_fbow_tree, best_fbow_tree_score_valid, all_models, all_scores, sep='\\n')"
   ]
  },
  {
   "cell_type": "code",
   "execution_count": 29,
   "metadata": {},
   "outputs": [
    {
     "ename": "TypeError",
     "evalue": "A sparse matrix was passed, but dense data is required. Use X.toarray() to convert to a dense numpy array.",
     "traceback": [
      "\u001b[0;31m---------------------------------------------------------------------------\u001b[0m",
      "\u001b[0;31mTypeError\u001b[0m                                 Traceback (most recent call last)",
      "\u001b[0;32m<ipython-input-29-c041a0ca6809>\u001b[0m in \u001b[0;36m<module>\u001b[0;34m()\u001b[0m\n\u001b[1;32m      1\u001b[0m print(\"Best GNB Test F1:\", f1_score(IMDB_test_y, best_fbow_nb.predict(IMDB_fbow_test_x.toarray())),\n\u001b[0;32m----> 2\u001b[0;31m       \"\\tValid:\", best_fbow_nb_score_valid, \"\\tTrain:\", f1_score(IMDB_train_y, best_fbow_nb.predict(IMDB_fbow_train_x)))\n\u001b[0m\u001b[1;32m      3\u001b[0m print(\"Best LinSVC Test F1:\", f1_score(IMDB_test_y, best_fbow_svc.predict(IMDB_fbow_test_x)),\n\u001b[1;32m      4\u001b[0m       \"\\tValid:\", best_fbow_svc_score_valid, \"\\tTrain:\", f1_score(IMDB_train_y, best_fbow_svc.predict(IMDB_fbow_train_x)))\n\u001b[1;32m      5\u001b[0m print(\"Best D-tree Test F1:\", f1_score(IMDB_test_y, best_fbow_tree.predict(IMDB_fbow_test_x)),\n",
      "\u001b[0;32mC:\\Program Files\\Python37\\lib\\site-packages\\sklearn\\naive_bayes.py\u001b[0m in \u001b[0;36mpredict\u001b[0;34m(self, X)\u001b[0m\n\u001b[1;32m     64\u001b[0m             \u001b[0mPredicted\u001b[0m \u001b[0mtarget\u001b[0m \u001b[0mvalues\u001b[0m \u001b[0;32mfor\u001b[0m \u001b[0mX\u001b[0m\u001b[0;34m\u001b[0m\u001b[0m\n\u001b[1;32m     65\u001b[0m         \"\"\"\n\u001b[0;32m---> 66\u001b[0;31m         \u001b[0mjll\u001b[0m \u001b[0;34m=\u001b[0m \u001b[0mself\u001b[0m\u001b[0;34m.\u001b[0m\u001b[0m_joint_log_likelihood\u001b[0m\u001b[0;34m(\u001b[0m\u001b[0mX\u001b[0m\u001b[0;34m)\u001b[0m\u001b[0;34m\u001b[0m\u001b[0m\n\u001b[0m\u001b[1;32m     67\u001b[0m         \u001b[0;32mreturn\u001b[0m \u001b[0mself\u001b[0m\u001b[0;34m.\u001b[0m\u001b[0mclasses_\u001b[0m\u001b[0;34m[\u001b[0m\u001b[0mnp\u001b[0m\u001b[0;34m.\u001b[0m\u001b[0margmax\u001b[0m\u001b[0;34m(\u001b[0m\u001b[0mjll\u001b[0m\u001b[0;34m,\u001b[0m \u001b[0maxis\u001b[0m\u001b[0;34m=\u001b[0m\u001b[0;36m1\u001b[0m\u001b[0;34m)\u001b[0m\u001b[0;34m]\u001b[0m\u001b[0;34m\u001b[0m\u001b[0m\n\u001b[1;32m     68\u001b[0m \u001b[0;34m\u001b[0m\u001b[0m\n",
      "\u001b[0;32mC:\\Program Files\\Python37\\lib\\site-packages\\sklearn\\naive_bayes.py\u001b[0m in \u001b[0;36m_joint_log_likelihood\u001b[0;34m(self, X)\u001b[0m\n\u001b[1;32m    430\u001b[0m         \u001b[0mcheck_is_fitted\u001b[0m\u001b[0;34m(\u001b[0m\u001b[0mself\u001b[0m\u001b[0;34m,\u001b[0m \u001b[0;34m\"classes_\"\u001b[0m\u001b[0;34m)\u001b[0m\u001b[0;34m\u001b[0m\u001b[0m\n\u001b[1;32m    431\u001b[0m \u001b[0;34m\u001b[0m\u001b[0m\n\u001b[0;32m--> 432\u001b[0;31m         \u001b[0mX\u001b[0m \u001b[0;34m=\u001b[0m \u001b[0mcheck_array\u001b[0m\u001b[0;34m(\u001b[0m\u001b[0mX\u001b[0m\u001b[0;34m)\u001b[0m\u001b[0;34m\u001b[0m\u001b[0m\n\u001b[0m\u001b[1;32m    433\u001b[0m         \u001b[0mjoint_log_likelihood\u001b[0m \u001b[0;34m=\u001b[0m \u001b[0;34m[\u001b[0m\u001b[0;34m]\u001b[0m\u001b[0;34m\u001b[0m\u001b[0m\n\u001b[1;32m    434\u001b[0m         \u001b[0;32mfor\u001b[0m \u001b[0mi\u001b[0m \u001b[0;32min\u001b[0m \u001b[0mrange\u001b[0m\u001b[0;34m(\u001b[0m\u001b[0mnp\u001b[0m\u001b[0;34m.\u001b[0m\u001b[0msize\u001b[0m\u001b[0;34m(\u001b[0m\u001b[0mself\u001b[0m\u001b[0;34m.\u001b[0m\u001b[0mclasses_\u001b[0m\u001b[0;34m)\u001b[0m\u001b[0;34m)\u001b[0m\u001b[0;34m:\u001b[0m\u001b[0;34m\u001b[0m\u001b[0m\n",
      "\u001b[0;32mC:\\Program Files\\Python37\\lib\\site-packages\\sklearn\\utils\\validation.py\u001b[0m in \u001b[0;36mcheck_array\u001b[0;34m(array, accept_sparse, accept_large_sparse, dtype, order, copy, force_all_finite, ensure_2d, allow_nd, ensure_min_samples, ensure_min_features, warn_on_dtype, estimator)\u001b[0m\n\u001b[1;32m    510\u001b[0m                                       \u001b[0mdtype\u001b[0m\u001b[0;34m=\u001b[0m\u001b[0mdtype\u001b[0m\u001b[0;34m,\u001b[0m \u001b[0mcopy\u001b[0m\u001b[0;34m=\u001b[0m\u001b[0mcopy\u001b[0m\u001b[0;34m,\u001b[0m\u001b[0;34m\u001b[0m\u001b[0m\n\u001b[1;32m    511\u001b[0m                                       \u001b[0mforce_all_finite\u001b[0m\u001b[0;34m=\u001b[0m\u001b[0mforce_all_finite\u001b[0m\u001b[0;34m,\u001b[0m\u001b[0;34m\u001b[0m\u001b[0m\n\u001b[0;32m--> 512\u001b[0;31m                                       accept_large_sparse=accept_large_sparse)\n\u001b[0m\u001b[1;32m    513\u001b[0m     \u001b[0;32melse\u001b[0m\u001b[0;34m:\u001b[0m\u001b[0;34m\u001b[0m\u001b[0m\n\u001b[1;32m    514\u001b[0m         \u001b[0;31m# If np.array(..) gives ComplexWarning, then we convert the warning\u001b[0m\u001b[0;34m\u001b[0m\u001b[0;34m\u001b[0m\u001b[0m\n",
      "\u001b[0;32mC:\\Program Files\\Python37\\lib\\site-packages\\sklearn\\utils\\validation.py\u001b[0m in \u001b[0;36m_ensure_sparse_format\u001b[0;34m(spmatrix, accept_sparse, dtype, copy, force_all_finite, accept_large_sparse)\u001b[0m\n\u001b[1;32m    311\u001b[0m \u001b[0;34m\u001b[0m\u001b[0m\n\u001b[1;32m    312\u001b[0m     \u001b[0;32mif\u001b[0m \u001b[0maccept_sparse\u001b[0m \u001b[0;32mis\u001b[0m \u001b[0;32mFalse\u001b[0m\u001b[0;34m:\u001b[0m\u001b[0;34m\u001b[0m\u001b[0m\n\u001b[0;32m--> 313\u001b[0;31m         raise TypeError('A sparse matrix was passed, but dense '\n\u001b[0m\u001b[1;32m    314\u001b[0m                         \u001b[0;34m'data is required. Use X.toarray() to '\u001b[0m\u001b[0;34m\u001b[0m\u001b[0m\n\u001b[1;32m    315\u001b[0m                         'convert to a dense numpy array.')\n",
      "\u001b[0;31mTypeError\u001b[0m: A sparse matrix was passed, but dense data is required. Use X.toarray() to convert to a dense numpy array."
     ],
     "output_type": "error"
    }
   ],
   "source": [
    "print(\"Best GNB Test F1:\", f1_score(IMDB_test_y, best_fbow_nb.predict(IMDB_fbow_test_x.toarray())),\n",
    "      \"\\tValid:\", best_fbow_nb_score_valid, \"\\tTrain:\", f1_score(IMDB_train_y, best_fbow_nb.predict(IMDB_fbow_train_x.toarray())))\n",
    "print(\"Best LinSVC Test F1:\", f1_score(IMDB_test_y, best_fbow_svc.predict(IMDB_fbow_test_x)),\n",
    "      \"\\tValid:\", best_fbow_svc_score_valid, \"\\tTrain:\", f1_score(IMDB_train_y, best_fbow_svc.predict(IMDB_fbow_train_x)))\n",
    "print(\"Best D-tree Test F1:\", f1_score(IMDB_test_y, best_fbow_tree.predict(IMDB_fbow_test_x)),\n",
    "      \"\\tValid:\", best_fbow_tree_score_valid, \"\\tTrain:\", f1_score(IMDB_train_y, best_fbow_tree.predict(IMDB_fbow_train_x)))"
   ]
  },
  {
   "cell_type": "markdown",
   "metadata": {},
   "source": [
    "# YELP\n",
    "## BBOW"
   ]
  },
  {
   "cell_type": "code",
   "execution_count": 30,
   "metadata": {},
   "outputs": [
    {
     "data": {
      "text/plain": [
       "DummyClassifier(constant=None, random_state=None, strategy='most_frequent')"
      ]
     },
     "execution_count": 30,
     "metadata": {},
     "output_type": "execute_result"
    }
   ],
   "source": [
    "randomClassifier.fit(yelp_bbow_train_x, yelp_train_y)\n",
    "majorityClassifier.fit(yelp_bbow_train_x, yelp_train_y)"
   ]
  },
  {
   "cell_type": "code",
   "execution_count": 31,
   "metadata": {},
   "outputs": [
    {
     "name": "stdout",
     "output_type": "stream",
     "text": [
      "0.21747194496084438\n0.18238490007401925\n"
     ]
    }
   ],
   "source": [
    "yelp_bbow_test_pred = randomClassifier.predict(yelp_bbow_test_x)\n",
    "print(f1_score(yelp_test_y,yelp_bbow_test_pred,average='weighted'))\n",
    "yelp_bbow_test_pred = majorityClassifier.predict(yelp_bbow_test_x)\n",
    "print(f1_score(yelp_test_y,yelp_bbow_test_pred,average='weighted'))\n"
   ]
  },
  {
   "cell_type": "code",
   "execution_count": 32,
   "metadata": {},
   "outputs": [
    {
     "name": "stdout",
     "output_type": "stream",
     "text": [
      "-------------FITTING MODELS-------------\n"
     ]
    },
    {
     "name": "stderr",
     "output_type": "stream",
     "text": [
      "[Parallel(n_jobs=-1)]: Using backend LokyBackend with 4 concurrent workers.\n[Parallel(n_jobs=-1)]: Batch computation too fast (0.1221s.) Setting batch_size=2.\n[Parallel(n_jobs=-1)]: Done   3 out of  10 | elapsed:    0.0s remaining:    0.2s\n[Parallel(n_jobs=-1)]: Done   5 out of  10 | elapsed:    0.1s remaining:    0.1s\n[Parallel(n_jobs=-1)]: Done   7 out of  10 | elapsed:    0.1s remaining:    0.0s\n"
     ]
    },
    {
     "name": "stderr",
     "output_type": "stream",
     "text": [
      "[Parallel(n_jobs=-1)]: Done  10 out of  10 | elapsed:    0.1s finished\n[Parallel(n_jobs=-1)]: Using backend LokyBackend with 4 concurrent workers.\n[Parallel(n_jobs=-1)]: Done   3 out of  10 | elapsed:    0.0s remaining:    0.0s\n[Parallel(n_jobs=-1)]: Done  10 out of  10 | elapsed:    0.0s finished\n"
     ]
    },
    {
     "name": "stdout",
     "output_type": "stream",
     "text": [
      "-------------SCORING MODELS-------------\n"
     ]
    },
    {
     "data": {
      "image/png": "[encoded data removed]",
      "text/plain": [
       "<Figure size 576x432 with 1 Axes>"
      ]
     },
     "metadata": {},
     "output_type": "display_data"
    }
   ],
   "source": [
    "best_bbow_nb, best_bbow_nb_score_valid, all_models, all_scores = pf.bestFit(\n",
    "    BernoulliNB, params_bnb, yelp_bbow_train_x, yelp_train_y, yelp_bbow_valid_x, yelp_valid_y,\n",
    "    metric = lambda y_true, y_score, average=None, sample_weight=None, max_fpr=None: f1_score(y_true, y_score, average='weighted'))"
   ]
  },
  {
   "cell_type": "code",
   "execution_count": 33,
   "metadata": {},
   "outputs": [
    {
     "name": "stdout",
     "output_type": "stream",
     "text": [
      "BernoulliNB(alpha=1.0, binarize=0.0, class_prior=None, fit_prior=True)\n0.3705519931420435\n[BernoulliNB(alpha=1.0, binarize=0.0, class_prior=None, fit_prior=True), BernoulliNB(alpha=2.154434690031884, binarize=0.0, class_prior=None,\n      fit_prior=True), BernoulliNB(alpha=4.641588833612778, binarize=0.0, class_prior=None,\n      fit_prior=True), BernoulliNB(alpha=10.0, binarize=0.0, class_prior=None, fit_prior=True), BernoulliNB(alpha=21.544346900318832, binarize=0.0, class_prior=None,\n      fit_prior=True), BernoulliNB(alpha=46.41588833612777, binarize=0.0, class_prior=None,\n      fit_prior=True), BernoulliNB(alpha=100.0, binarize=0.0, class_prior=None, fit_prior=True), BernoulliNB(alpha=215.44346900318823, binarize=0.0, class_prior=None,\n      fit_prior=True), BernoulliNB(alpha=464.15888336127773, binarize=0.0, class_prior=None,\n      fit_prior=True), BernoulliNB(alpha=1000.0, binarize=0.0, class_prior=None, fit_prior=True)]\n[0.3705519931420435, 0.35730786311949564, 0.32915282335795815, 0.31323527905164056, 0.3007446682744597, 0.31190636195879834, 0.18692625368731566, 0.0, 0.0, 0.0]\n"
     ]
    }
   ],
   "source": [
    "print(best_bbow_nb, best_bbow_nb_score_valid, all_models, all_scores, sep='\\n')"
   ]
  },
  {
   "cell_type": "code",
   "execution_count": 34,
   "metadata": {},
   "outputs": [
    {
     "name": "stdout",
     "output_type": "stream",
     "text": [
      "-------------FITTING MODELS-------------\n"
     ]
    },
    {
     "name": "stderr",
     "output_type": "stream",
     "text": [
      "[Parallel(n_jobs=1)]: Using backend SequentialBackend with 1 concurrent workers.\n"
     ]
    },
    {
     "name": "stderr",
     "output_type": "stream",
     "text": [
      "[Parallel(n_jobs=1)]: Done   1 out of   1 | elapsed:    1.2s remaining:    0.0s\n"
     ]
    },
    {
     "name": "stderr",
     "output_type": "stream",
     "text": [
      "[Parallel(n_jobs=1)]: Done   2 out of   2 | elapsed:    2.0s remaining:    0.0s\n"
     ]
    },
    {
     "name": "stderr",
     "output_type": "stream",
     "text": [
      "[Parallel(n_jobs=1)]: Done   3 out of   3 | elapsed:    4.0s remaining:    0.0s\n"
     ]
    },
    {
     "name": "stderr",
     "output_type": "stream",
     "text": [
      "[Parallel(n_jobs=1)]: Done   4 out of   4 | elapsed:    5.5s remaining:    0.0s\n"
     ]
    },
    {
     "name": "stderr",
     "output_type": "stream",
     "text": [
      "[Parallel(n_jobs=1)]: Done   5 out of   5 | elapsed:   14.6s remaining:    0.0s\n"
     ]
    },
    {
     "name": "stderr",
     "output_type": "stream",
     "text": [
      "[Parallel(n_jobs=1)]: Done   6 out of   6 | elapsed:   16.9s remaining:    0.0s\n"
     ]
    },
    {
     "name": "stderr",
     "output_type": "stream",
     "text": [
      "[Parallel(n_jobs=1)]: Done   7 out of   7 | elapsed:   38.8s remaining:    0.0s\n"
     ]
    },
    {
     "name": "stderr",
     "output_type": "stream",
     "text": [
      "[Parallel(n_jobs=1)]: Done   8 out of   8 | elapsed:   41.8s remaining:    0.0s\n"
     ]
    },
    {
     "name": "stderr",
     "output_type": "stream",
     "text": [
      "[Parallel(n_jobs=1)]: Done   9 out of   9 | elapsed:  1.1min remaining:    0.0s\n"
     ]
    },
    {
     "name": "stderr",
     "output_type": "stream",
     "text": [
      "[Parallel(n_jobs=1)]: Done  10 out of  10 | elapsed:  1.2min finished\n[Parallel(n_jobs=1)]: Using backend SequentialBackend with 1 concurrent workers.\n[Parallel(n_jobs=1)]: Done  10 out of  10 | elapsed:    0.0s finished\n"
     ]
    },
    {
     "name": "stdout",
     "output_type": "stream",
     "text": [
      "-------------SCORING MODELS-------------\nThis model/metric cannot use predict_proba. Using predict for scoring instead.\nThis model/metric cannot use predict_proba. Using predict for scoring instead.\nThis model/metric cannot use predict_proba. Using predict for scoring instead.\nThis model/metric cannot use predict_proba. Using predict for scoring instead.\nThis model/metric cannot use predict_proba. Using predict for scoring instead.\nThis model/metric cannot use predict_proba. Using predict for scoring instead.\nThis model/metric cannot use predict_proba. Using predict for scoring instead.\nThis model/metric cannot use predict_proba. Using predict for scoring instead.\nThis model/metric cannot use predict_proba. Using predict for scoring instead.\nThis model/metric cannot use predict_proba. Using predict for scoring instead.\n"
     ]
    },
    {
     "data": {
      "image/png": "[encoded data removed]",
      "text/plain": [
       "<Figure size 144x288 with 2 Axes>"
      ]
     },
     "metadata": {},
     "output_type": "display_data"
    }
   ],
   "source": [
    "best_bbow_svc, best_bbow_svc_score_valid, all_models, all_scores = pf.bestFit(\n",
    "    LinearSVC, params_svc, yelp_bbow_train_x, yelp_train_y, yelp_bbow_valid_x, yelp_valid_y,\n",
    "    metric = lambda y_true, y_score, average=None, sample_weight=None, max_fpr=None: f1_score(y_true, y_score, average='weighted'), n_jobs=1)"
   ]
  },
  {
   "cell_type": "code",
   "execution_count": 35,
   "metadata": {},
   "outputs": [
    {
     "name": "stdout",
     "output_type": "stream",
     "text": [
      "LinearSVC(C=0.1, class_weight=None, dual=False, fit_intercept=True,\n     intercept_scaling=1, loss='squared_hinge', max_iter=1000,\n     multi_class='ovr', penalty='l2', random_state=None, tol=0.0001,\n     verbose=0)\n0.4656823924722863\n[LinearSVC(C=0.1, class_weight=None, dual=False, fit_intercept=True,\n     intercept_scaling=1, loss='squared_hinge', max_iter=1000,\n     multi_class='ovr', penalty='l2', random_state=None, tol=0.0001,\n     verbose=0), LinearSVC(C=0.1, class_weight=None, dual=True, fit_intercept=True,\n     intercept_scaling=1, loss='squared_hinge', max_iter=1000,\n     multi_class='ovr', penalty='l2', random_state=None, tol=0.0001,\n     verbose=0), LinearSVC(C=0.31622776601683794, class_weight=None, dual=False,\n     fit_intercept=True, intercept_scaling=1, loss='squared_hinge',\n     max_iter=1000, multi_class='ovr', penalty='l2', random_state=None,\n     tol=0.0001, verbose=0), LinearSVC(C=0.31622776601683794, class_weight=None, dual=True,\n     fit_intercept=True, intercept_scaling=1, loss='squared_hinge',\n     max_iter=1000, multi_class='ovr', penalty='l2', random_state=None,\n     tol=0.0001, verbose=0), LinearSVC(C=1.0, class_weight=None, dual=False, fit_intercept=True,\n     intercept_scaling=1, loss='squared_hinge', max_iter=1000,\n     multi_class='ovr', penalty='l2', random_state=None, tol=0.0001,\n     verbose=0), LinearSVC(C=1.0, class_weight=None, dual=True, fit_intercept=True,\n     intercept_scaling=1, loss='squared_hinge', max_iter=1000,\n     multi_class='ovr', penalty='l2', random_state=None, tol=0.0001,\n     verbose=0), LinearSVC(C=3.1622776601683795, class_weight=None, dual=False,\n     fit_intercept=True, intercept_scaling=1, loss='squared_hinge',\n     max_iter=1000, multi_class='ovr', penalty='l2', random_state=None,\n     tol=0.0001, verbose=0), LinearSVC(C=3.1622776601683795, class_weight=None, dual=True,\n     fit_intercept=True, intercept_scaling=1, loss='squared_hinge',\n     max_iter=1000, multi_class='ovr', penalty='l2', random_state=None,\n     tol=0.0001, verbose=0), LinearSVC(C=10.0, class_weight=None, dual=False, fit_intercept=True,\n     intercept_scaling=1, loss='squared_hinge', max_iter=1000,\n     multi_class='ovr', penalty='l2', random_state=None, tol=0.0001,\n     verbose=0), LinearSVC(C=10.0, class_weight=None, dual=True, fit_intercept=True,\n     intercept_scaling=1, loss='squared_hinge', max_iter=1000,\n     multi_class='ovr', penalty='l2', random_state=None, tol=0.0001,\n     verbose=0)]\n[0.4656823924722863, 0.4656823924722863, 0.4523593483629472, 0.4523593483629472, 0.44220694775378055, 0.4412779156728508, 0.4397433165238846, 0.4435521682499596, 0.4442970111082992, 0.43632662905134817]\n"
     ]
    }
   ],
   "source": [
    "print(best_bbow_svc, best_bbow_svc_score_valid, all_models, all_scores, sep='\\n')"
   ]
  },
  {
   "cell_type": "code",
   "execution_count": 36,
   "metadata": {},
   "outputs": [
    {
     "name": "stdout",
     "output_type": "stream",
     "text": [
      "-------------FITTING MODELS-------------\n"
     ]
    },
    {
     "name": "stderr",
     "output_type": "stream",
     "text": [
      "[Parallel(n_jobs=-1)]: Using backend LokyBackend with 4 concurrent workers.\n[Parallel(n_jobs=-1)]: Batch computation too fast (0.1709s.) Setting batch_size=2.\n"
     ]
    },
    {
     "name": "stderr",
     "output_type": "stream",
     "text": [
      "[Parallel(n_jobs=-1)]: Done   5 tasks      | elapsed:    0.3s\n[Parallel(n_jobs=-1)]: Done  14 tasks      | elapsed:    0.4s\n[Parallel(n_jobs=-1)]: Batch computation too fast (0.1893s.) Setting batch_size=4.\n"
     ]
    },
    {
     "name": "stderr",
     "output_type": "stream",
     "text": [
      "[Parallel(n_jobs=-1)]: Done  28 tasks      | elapsed:    0.7s\n"
     ]
    },
    {
     "name": "stderr",
     "output_type": "stream",
     "text": [
      "[Parallel(n_jobs=-1)]: Done  48 tasks      | elapsed:    4.0s\n"
     ]
    },
    {
     "name": "stderr",
     "output_type": "stream",
     "text": [
      "[Parallel(n_jobs=-1)]: Batch computation too slow (2.3483s.) Setting batch_size=2.\n"
     ]
    },
    {
     "name": "stderr",
     "output_type": "stream",
     "text": [
      "[Parallel(n_jobs=-1)]: Done  96 out of  96 | elapsed:   12.3s finished\n[Parallel(n_jobs=-1)]: Using backend LokyBackend with 4 concurrent workers.\n"
     ]
    },
    {
     "name": "stdout",
     "output_type": "stream",
     "text": [
      "-------------SCORING MODELS-------------\n"
     ]
    },
    {
     "name": "stdout",
     "output_type": "stream",
     "text": [
      "Too many dimensions to plot.\n"
     ]
    },
    {
     "name": "stderr",
     "output_type": "stream",
     "text": [
      "[Parallel(n_jobs=-1)]: Done  96 out of  96 | elapsed:    0.1s finished\n"
     ]
    }
   ],
   "source": [
    "best_bbow_tree, best_bbow_tree_score_valid, all_models, all_scores = pf.bestFit(\n",
    "    DecisionTreeClassifier, params_tree, yelp_bbow_train_x, yelp_train_y, yelp_bbow_valid_x, yelp_valid_y,\n",
    "    metric = lambda y_true, y_score, average=None, sample_weight=None, max_fpr=None: f1_score(y_true, y_score, average='weighted'))"
   ]
  },
  {
   "cell_type": "code",
   "execution_count": 37,
   "metadata": {
    "collapsed": true
   },
   "outputs": [
    {
     "name": "stdout",
     "output_type": "stream",
     "text": [
      "DecisionTreeClassifier(class_weight=None, criterion='gini',\n            max_depth=31.622776601683793, max_features='sqrt',\n            max_leaf_nodes=None, min_impurity_decrease=0.0,\n            min_impurity_split=None, min_samples_leaf=1,\n            min_samples_split=2, min_weight_fraction_leaf=0.0,\n            presort=False, random_state=None, splitter='random')\n0.35769063178306876\n[DecisionTreeClassifier(class_weight=None, criterion='gini', max_depth=None,\n            max_features=None, max_leaf_nodes=None,\n            min_impurity_decrease=0.0, min_impurity_split=None,\n            min_samples_leaf=1, min_samples_split=2,\n            min_weight_fraction_leaf=0.0, presort=False, random_state=None,\n            splitter='best'), DecisionTreeClassifier(class_weight=None, criterion='gini', max_depth=None,\n            max_features=None, max_leaf_nodes=None,\n            min_impurity_decrease=0.0, min_impurity_split=None,\n            min_samples_leaf=1, min_samples_split=2,\n            min_weight_fraction_leaf=0.0, presort=False, random_state=None,\n            splitter='random'), DecisionTreeClassifier(class_weight=None, criterion='gini', max_depth=None,\n            max_features='auto', max_leaf_nodes=None,\n            min_impurity_decrease=0.0, min_impurity_split=None,\n            min_samples_leaf=1, min_samples_split=2,\n            min_weight_fraction_leaf=0.0, presort=False, random_state=None,\n            splitter='best'), DecisionTreeClassifier(class_weight=None, criterion='gini', max_depth=None,\n            max_features='auto', max_leaf_nodes=None,\n            min_impurity_decrease=0.0, min_impurity_split=None,\n            min_samples_leaf=1, min_samples_split=2,\n            min_weight_fraction_leaf=0.0, presort=False, random_state=None,\n            splitter='random'), DecisionTreeClassifier(class_weight=None, criterion='gini', max_depth=None,\n            max_features='sqrt', max_leaf_nodes=None,\n            min_impurity_decrease=0.0, min_impurity_split=None,\n            min_samples_leaf=1, min_samples_split=2,\n            min_weight_fraction_leaf=0.0, presort=False, random_state=None,\n            splitter='best'), DecisionTreeClassifier(class_weight=None, criterion='gini', max_depth=None,\n            max_features='sqrt', max_leaf_nodes=None,\n            min_impurity_decrease=0.0, min_impurity_split=None,\n            min_samples_leaf=1, min_samples_split=2,\n            min_weight_fraction_leaf=0.0, presort=False, random_state=None,\n            splitter='random'), DecisionTreeClassifier(class_weight=None, criterion='gini', max_depth=None,\n            max_features='log2', max_leaf_nodes=None,\n            min_impurity_decrease=0.0, min_impurity_split=None,\n            min_samples_leaf=1, min_samples_split=2,\n            min_weight_fraction_leaf=0.0, presort=False, random_state=None,\n            splitter='best'), DecisionTreeClassifier(class_weight=None, criterion='gini', max_depth=None,\n            max_features='log2', max_leaf_nodes=None,\n            min_impurity_decrease=0.0, min_impurity_split=None,\n            min_samples_leaf=1, min_samples_split=2,\n            min_weight_fraction_leaf=0.0, presort=False, random_state=None,\n            splitter='random'), DecisionTreeClassifier(class_weight=None, criterion='gini', max_depth=1.0,\n            max_features=None, max_leaf_nodes=None,\n            min_impurity_decrease=0.0, min_impurity_split=None,\n            min_samples_leaf=1, min_samples_split=2,\n            min_weight_fraction_leaf=0.0, presort=False, random_state=None,\n            splitter='best'), DecisionTreeClassifier(class_weight=None, criterion='gini', max_depth=1.0,\n            max_features=None, max_leaf_nodes=None,\n            min_impurity_decrease=0.0, min_impurity_split=None,\n            min_samples_leaf=1, min_samples_split=2,\n            min_weight_fraction_leaf=0.0, presort=False, random_state=None,\n            splitter='random'), DecisionTreeClassifier(class_weight=None, criterion='gini', max_depth=1.0,\n            max_features='auto', max_leaf_nodes=None,\n            min_impurity_decrease=0.0, min_impurity_split=None,\n            min_samples_leaf=1, min_samples_split=2,\n            min_weight_fraction_leaf=0.0, presort=False, random_state=None,\n            splitter='best'), DecisionTreeClassifier(class_weight=None, criterion='gini', max_depth=1.0,\n            max_features='auto', max_leaf_nodes=None,\n            min_impurity_decrease=0.0, min_impurity_split=None,\n            min_samples_leaf=1, min_samples_split=2,\n            min_weight_fraction_leaf=0.0, presort=False, random_state=None,\n            splitter='random'), DecisionTreeClassifier(class_weight=None, criterion='gini', max_depth=1.0,\n            max_features='sqrt', max_leaf_nodes=None,\n            min_impurity_decrease=0.0, min_impurity_split=None,\n            min_samples_leaf=1, min_samples_split=2,\n            min_weight_fraction_leaf=0.0, presort=False, random_state=None,\n            splitter='best'), DecisionTreeClassifier(class_weight=None, criterion='gini', max_depth=1.0,\n            max_features='sqrt', max_leaf_nodes=None,\n            min_impurity_decrease=0.0, min_impurity_split=None,\n            min_samples_leaf=1, min_samples_split=2,\n            min_weight_fraction_leaf=0.0, presort=False, random_state=None,\n            splitter='random'), DecisionTreeClassifier(class_weight=None, criterion='gini', max_depth=1.0,\n            max_features='log2', max_leaf_nodes=None,\n            min_impurity_decrease=0.0, min_impurity_split=None,\n            min_samples_leaf=1, min_samples_split=2,\n            min_weight_fraction_leaf=0.0, presort=False, random_state=None,\n            splitter='best'), DecisionTreeClassifier(class_weight=None, criterion='gini', max_depth=1.0,\n            max_features='log2', max_leaf_nodes=None,\n            min_impurity_decrease=0.0, min_impurity_split=None,\n            min_samples_leaf=1, min_samples_split=2,\n            min_weight_fraction_leaf=0.0, presort=False, random_state=None,\n            splitter='random'), DecisionTreeClassifier(class_weight=None, criterion='gini',\n            max_depth=3.1622776601683795, max_features=None,\n            max_leaf_nodes=None, min_impurity_decrease=0.0,\n            min_impurity_split=None, min_samples_leaf=1,\n            min_samples_split=2, min_weight_fraction_leaf=0.0,\n            presort=False, random_state=None, splitter='best'), DecisionTreeClassifier(class_weight=None, criterion='gini',\n            max_depth=3.1622776601683795, max_features=None,\n            max_leaf_nodes=None, min_impurity_decrease=0.0,\n            min_impurity_split=None, min_samples_leaf=1,\n            min_samples_split=2, min_weight_fraction_leaf=0.0,\n            presort=False, random_state=None, splitter='random'), DecisionTreeClassifier(class_weight=None, criterion='gini',\n            max_depth=3.1622776601683795, max_features='auto',\n            max_leaf_nodes=None, min_impurity_decrease=0.0,\n            min_impurity_split=None, min_samples_leaf=1,\n            min_samples_split=2, min_weight_fraction_leaf=0.0,\n            presort=False, random_state=None, splitter='best'), DecisionTreeClassifier(class_weight=None, criterion='gini',\n            max_depth=3.1622776601683795, max_features='auto',\n            max_leaf_nodes=None, min_impurity_decrease=0.0,\n            min_impurity_split=None, min_samples_leaf=1,\n            min_samples_split=2, min_weight_fraction_leaf=0.0,\n            presort=False, random_state=None, splitter='random'), DecisionTreeClassifier(class_weight=None, criterion='gini',\n            max_depth=3.1622776601683795, max_features='sqrt',\n            max_leaf_nodes=None, min_impurity_decrease=0.0,\n            min_impurity_split=None, min_samples_leaf=1,\n            min_samples_split=2, min_weight_fraction_leaf=0.0,\n            presort=False, random_state=None, splitter='best'), DecisionTreeClassifier(class_weight=None, criterion='gini',\n            max_depth=3.1622776601683795, max_features='sqrt',\n            max_leaf_nodes=None, min_impurity_decrease=0.0,\n            min_impurity_split=None, min_samples_leaf=1,\n            min_samples_split=2, min_weight_fraction_leaf=0.0,\n            presort=False, random_state=None, splitter='random'), DecisionTreeClassifier(class_weight=None, criterion='gini',\n            max_depth=3.1622776601683795, max_features='log2',\n            max_leaf_nodes=None, min_impurity_decrease=0.0,\n            min_impurity_split=None, min_samples_leaf=1,\n            min_samples_split=2, min_weight_fraction_leaf=0.0,\n            presort=False, random_state=None, splitter='best'), DecisionTreeClassifier(class_weight=None, criterion='gini',\n            max_depth=3.1622776601683795, max_features='log2',\n            max_leaf_nodes=None, min_impurity_decrease=0.0,\n            min_impurity_split=None, min_samples_leaf=1,\n            min_samples_split=2, min_weight_fraction_leaf=0.0,\n            presort=False, random_state=None, splitter='random'), DecisionTreeClassifier(class_weight=None, criterion='gini', max_depth=10.0,\n            max_features=None, max_leaf_nodes=None,\n            min_impurity_decrease=0.0, min_impurity_split=None,\n            min_samples_leaf=1, min_samples_split=2,\n            min_weight_fraction_leaf=0.0, presort=False, random_state=None,\n            splitter='best'), DecisionTreeClassifier(class_weight=None, criterion='gini', max_depth=10.0,\n            max_features=None, max_leaf_nodes=None,\n            min_impurity_decrease=0.0, min_impurity_split=None,\n            min_samples_leaf=1, min_samples_split=2,\n            min_weight_fraction_leaf=0.0, presort=False, random_state=None,\n            splitter='random'), DecisionTreeClassifier(class_weight=None, criterion='gini', max_depth=10.0,\n            max_features='auto', max_leaf_nodes=None,\n            min_impurity_decrease=0.0, min_impurity_split=None,\n            min_samples_leaf=1, min_samples_split=2,\n            min_weight_fraction_leaf=0.0, presort=False, random_state=None,\n            splitter='best'), DecisionTreeClassifier(class_weight=None, criterion='gini', max_depth=10.0,\n            max_features='auto', max_leaf_nodes=None,\n            min_impurity_decrease=0.0, min_impurity_split=None,\n            min_samples_leaf=1, min_samples_split=2,\n            min_weight_fraction_leaf=0.0, presort=False, random_state=None,\n            splitter='random'), DecisionTreeClassifier(class_weight=None, criterion='gini', max_depth=10.0,\n            max_features='sqrt', max_leaf_nodes=None,\n            min_impurity_decrease=0.0, min_impurity_split=None,\n            min_samples_leaf=1, min_samples_split=2,\n            min_weight_fraction_leaf=0.0, presort=False, random_state=None,\n            splitter='best'), DecisionTreeClassifier(class_weight=None, criterion='gini', max_depth=10.0,\n            max_features='sqrt', max_leaf_nodes=None,\n            min_impurity_decrease=0.0, min_impurity_split=None,\n            min_samples_leaf=1, min_samples_split=2,\n            min_weight_fraction_leaf=0.0, presort=False, random_state=None,\n            splitter='random'), DecisionTreeClassifier(class_weight=None, criterion='gini', max_depth=10.0,\n            max_features='log2', max_leaf_nodes=None,\n            min_impurity_decrease=0.0, min_impurity_split=None,\n            min_samples_leaf=1, min_samples_split=2,\n            min_weight_fraction_leaf=0.0, presort=False, random_state=None,\n            splitter='best'), DecisionTreeClassifier(class_weight=None, criterion='gini', max_depth=10.0,\n            max_features='log2', max_leaf_nodes=None,\n            min_impurity_decrease=0.0, min_impurity_split=None,\n            min_samples_leaf=1, min_samples_split=2,\n            min_weight_fraction_leaf=0.0, presort=False, random_state=None,\n            splitter='random'), DecisionTreeClassifier(class_weight=None, criterion='gini',\n            max_depth=31.622776601683793, max_features=None,\n            max_leaf_nodes=None, min_impurity_decrease=0.0,\n            min_impurity_split=None, min_samples_leaf=1,\n            min_samples_split=2, min_weight_fraction_leaf=0.0,\n            presort=False, random_state=None, splitter='best'), DecisionTreeClassifier(class_weight=None, criterion='gini',\n            max_depth=31.622776601683793, max_features=None,\n            max_leaf_nodes=None, min_impurity_decrease=0.0,\n            min_impurity_split=None, min_samples_leaf=1,\n            min_samples_split=2, min_weight_fraction_leaf=0.0,\n            presort=False, random_state=None, splitter='random'), DecisionTreeClassifier(class_weight=None, criterion='gini',\n            max_depth=31.622776601683793, max_features='auto',\n            max_leaf_nodes=None, min_impurity_decrease=0.0,\n            min_impurity_split=None, min_samples_leaf=1,\n            min_samples_split=2, min_weight_fraction_leaf=0.0,\n            presort=False, random_state=None, splitter='best'), DecisionTreeClassifier(class_weight=None, criterion='gini',\n            max_depth=31.622776601683793, max_features='auto',\n            max_leaf_nodes=None, min_impurity_decrease=0.0,\n            min_impurity_split=None, min_samples_leaf=1,\n            min_samples_split=2, min_weight_fraction_leaf=0.0,\n            presort=False, random_state=None, splitter='random'), DecisionTreeClassifier(class_weight=None, criterion='gini',\n            max_depth=31.622776601683793, max_features='sqrt',\n            max_leaf_nodes=None, min_impurity_decrease=0.0,\n            min_impurity_split=None, min_samples_leaf=1,\n            min_samples_split=2, min_weight_fraction_leaf=0.0,\n            presort=False, random_state=None, splitter='best'), DecisionTreeClassifier(class_weight=None, criterion='gini',\n            max_depth=31.622776601683793, max_features='sqrt',\n            max_leaf_nodes=None, min_impurity_decrease=0.0,\n            min_impurity_split=None, min_samples_leaf=1,\n            min_samples_split=2, min_weight_fraction_leaf=0.0,\n            presort=False, random_state=None, splitter='random'), DecisionTreeClassifier(class_weight=None, criterion='gini',\n            max_depth=31.622776601683793, max_features='log2',\n            max_leaf_nodes=None, min_impurity_decrease=0.0,\n            min_impurity_split=None, min_samples_leaf=1,\n            min_samples_split=2, min_weight_fraction_leaf=0.0,\n            presort=False, random_state=None, splitter='best'), DecisionTreeClassifier(class_weight=None, criterion='gini',\n            max_depth=31.622776601683793, max_features='log2',\n            max_leaf_nodes=None, min_impurity_decrease=0.0,\n            min_impurity_split=None, min_samples_leaf=1,\n            min_samples_split=2, min_weight_fraction_leaf=0.0,\n            presort=False, random_state=None, splitter='random'), DecisionTreeClassifier(class_weight=None, criterion='gini', max_depth=100.0,\n            max_features=None, max_leaf_nodes=None,\n            min_impurity_decrease=0.0, min_impurity_split=None,\n            min_samples_leaf=1, min_samples_split=2,\n            min_weight_fraction_leaf=0.0, presort=False, random_state=None,\n            splitter='best'), DecisionTreeClassifier(class_weight=None, criterion='gini', max_depth=100.0,\n            max_features=None, max_leaf_nodes=None,\n            min_impurity_decrease=0.0, min_impurity_split=None,\n            min_samples_leaf=1, min_samples_split=2,\n            min_weight_fraction_leaf=0.0, presort=False, random_state=None,\n            splitter='random'), DecisionTreeClassifier(class_weight=None, criterion='gini', max_depth=100.0,\n            max_features='auto', max_leaf_nodes=None,\n            min_impurity_decrease=0.0, min_impurity_split=None,\n            min_samples_leaf=1, min_samples_split=2,\n            min_weight_fraction_leaf=0.0, presort=False, random_state=None,\n            splitter='best'), DecisionTreeClassifier(class_weight=None, criterion='gini', max_depth=100.0,\n            max_features='auto', max_leaf_nodes=None,\n            min_impurity_decrease=0.0, min_impurity_split=None,\n            min_samples_leaf=1, min_samples_split=2,\n            min_weight_fraction_leaf=0.0, presort=False, random_state=None,\n            splitter='random'), DecisionTreeClassifier(class_weight=None, criterion='gini', max_depth=100.0,\n            max_features='sqrt', max_leaf_nodes=None,\n            min_impurity_decrease=0.0, min_impurity_split=None,\n            min_samples_leaf=1, min_samples_split=2,\n            min_weight_fraction_leaf=0.0, presort=False, random_state=None,\n            splitter='best'), DecisionTreeClassifier(class_weight=None, criterion='gini', max_depth=100.0,\n            max_features='sqrt', max_leaf_nodes=None,\n            min_impurity_decrease=0.0, min_impurity_split=None,\n            min_samples_leaf=1, min_samples_split=2,\n            min_weight_fraction_leaf=0.0, presort=False, random_state=None,\n            splitter='random'), DecisionTreeClassifier(class_weight=None, criterion='gini', max_depth=100.0,\n            max_features='log2', max_leaf_nodes=None,\n            min_impurity_decrease=0.0, min_impurity_split=None,\n            min_samples_leaf=1, min_samples_split=2,\n            min_weight_fraction_leaf=0.0, presort=False, random_state=None,\n            splitter='best'), DecisionTreeClassifier(class_weight=None, criterion='gini', max_depth=100.0,\n            max_features='log2', max_leaf_nodes=None,\n            min_impurity_decrease=0.0, min_impurity_split=None,\n            min_samples_leaf=1, min_samples_split=2,\n            min_weight_fraction_leaf=0.0, presort=False, random_state=None,\n            splitter='random'), DecisionTreeClassifier(class_weight=None, criterion='entropy', max_depth=None,\n            max_features=None, max_leaf_nodes=None,\n            min_impurity_decrease=0.0, min_impurity_split=None,\n            min_samples_leaf=1, min_samples_split=2,\n            min_weight_fraction_leaf=0.0, presort=False, random_state=None,\n            splitter='best'), DecisionTreeClassifier(class_weight=None, criterion='entropy', max_depth=None,\n            max_features=None, max_leaf_nodes=None,\n            min_impurity_decrease=0.0, min_impurity_split=None,\n            min_samples_leaf=1, min_samples_split=2,\n            min_weight_fraction_leaf=0.0, presort=False, random_state=None,\n            splitter='random'), DecisionTreeClassifier(class_weight=None, criterion='entropy', max_depth=None,\n            max_features='auto', max_leaf_nodes=None,\n            min_impurity_decrease=0.0, min_impurity_split=None,\n            min_samples_leaf=1, min_samples_split=2,\n            min_weight_fraction_leaf=0.0, presort=False, random_state=None,\n            splitter='best'), DecisionTreeClassifier(class_weight=None, criterion='entropy', max_depth=None,\n            max_features='auto', max_leaf_nodes=None,\n            min_impurity_decrease=0.0, min_impurity_split=None,\n            min_samples_leaf=1, min_samples_split=2,\n            min_weight_fraction_leaf=0.0, presort=False, random_state=None,\n            splitter='random'), DecisionTreeClassifier(class_weight=None, criterion='entropy', max_depth=None,\n            max_features='sqrt', max_leaf_nodes=None,\n            min_impurity_decrease=0.0, min_impurity_split=None,\n            min_samples_leaf=1, min_samples_split=2,\n            min_weight_fraction_leaf=0.0, presort=False, random_state=None,\n            splitter='best'), DecisionTreeClassifier(class_weight=None, criterion='entropy', max_depth=None,\n            max_features='sqrt', max_leaf_nodes=None,\n            min_impurity_decrease=0.0, min_impurity_split=None,\n            min_samples_leaf=1, min_samples_split=2,\n            min_weight_fraction_leaf=0.0, presort=False, random_state=None,\n            splitter='random'), DecisionTreeClassifier(class_weight=None, criterion='entropy', max_depth=None,\n            max_features='log2', max_leaf_nodes=None,\n            min_impurity_decrease=0.0, min_impurity_split=None,\n            min_samples_leaf=1, min_samples_split=2,\n            min_weight_fraction_leaf=0.0, presort=False, random_state=None,\n            splitter='best'), DecisionTreeClassifier(class_weight=None, criterion='entropy', max_depth=None,\n            max_features='log2', max_leaf_nodes=None,\n            min_impurity_decrease=0.0, min_impurity_split=None,\n            min_samples_leaf=1, min_samples_split=2,\n            min_weight_fraction_leaf=0.0, presort=False, random_state=None,\n            splitter='random'), DecisionTreeClassifier(class_weight=None, criterion='entropy', max_depth=1.0,\n            max_features=None, max_leaf_nodes=None,\n            min_impurity_decrease=0.0, min_impurity_split=None,\n            min_samples_leaf=1, min_samples_split=2,\n            min_weight_fraction_leaf=0.0, presort=False, random_state=None,\n            splitter='best'), DecisionTreeClassifier(class_weight=None, criterion='entropy', max_depth=1.0,\n            max_features=None, max_leaf_nodes=None,\n            min_impurity_decrease=0.0, min_impurity_split=None,\n            min_samples_leaf=1, min_samples_split=2,\n            min_weight_fraction_leaf=0.0, presort=False, random_state=None,\n            splitter='random'), DecisionTreeClassifier(class_weight=None, criterion='entropy', max_depth=1.0,\n            max_features='auto', max_leaf_nodes=None,\n            min_impurity_decrease=0.0, min_impurity_split=None,\n            min_samples_leaf=1, min_samples_split=2,\n            min_weight_fraction_leaf=0.0, presort=False, random_state=None,\n            splitter='best'), DecisionTreeClassifier(class_weight=None, criterion='entropy', max_depth=1.0,\n            max_features='auto', max_leaf_nodes=None,\n            min_impurity_decrease=0.0, min_impurity_split=None,\n            min_samples_leaf=1, min_samples_split=2,\n            min_weight_fraction_leaf=0.0, presort=False, random_state=None,\n            splitter='random'), DecisionTreeClassifier(class_weight=None, criterion='entropy', max_depth=1.0,\n            max_features='sqrt', max_leaf_nodes=None,\n            min_impurity_decrease=0.0, min_impurity_split=None,\n            min_samples_leaf=1, min_samples_split=2,\n            min_weight_fraction_leaf=0.0, presort=False, random_state=None,\n            splitter='best'), DecisionTreeClassifier(class_weight=None, criterion='entropy', max_depth=1.0,\n            max_features='sqrt', max_leaf_nodes=None,\n            min_impurity_decrease=0.0, min_impurity_split=None,\n            min_samples_leaf=1, min_samples_split=2,\n            min_weight_fraction_leaf=0.0, presort=False, random_state=None,\n            splitter='random'), DecisionTreeClassifier(class_weight=None, criterion='entropy', max_depth=1.0,\n            max_features='log2', max_leaf_nodes=None,\n            min_impurity_decrease=0.0, min_impurity_split=None,\n            min_samples_leaf=1, min_samples_split=2,\n            min_weight_fraction_leaf=0.0, presort=False, random_state=None,\n            splitter='best'), DecisionTreeClassifier(class_weight=None, criterion='entropy', max_depth=1.0,\n            max_features='log2', max_leaf_nodes=None,\n            min_impurity_decrease=0.0, min_impurity_split=None,\n            min_samples_leaf=1, min_samples_split=2,\n            min_weight_fraction_leaf=0.0, presort=False, random_state=None,\n            splitter='random'), DecisionTreeClassifier(class_weight=None, criterion='entropy',\n            max_depth=3.1622776601683795, max_features=None,\n            max_leaf_nodes=None, min_impurity_decrease=0.0,\n            min_impurity_split=None, min_samples_leaf=1,\n            min_samples_split=2, min_weight_fraction_leaf=0.0,\n            presort=False, random_state=None, splitter='best'), DecisionTreeClassifier(class_weight=None, criterion='entropy',\n            max_depth=3.1622776601683795, max_features=None,\n            max_leaf_nodes=None, min_impurity_decrease=0.0,\n            min_impurity_split=None, min_samples_leaf=1,\n            min_samples_split=2, min_weight_fraction_leaf=0.0,\n            presort=False, random_state=None, splitter='random'), DecisionTreeClassifier(class_weight=None, criterion='entropy',\n            max_depth=3.1622776601683795, max_features='auto',\n            max_leaf_nodes=None, min_impurity_decrease=0.0,\n            min_impurity_split=None, min_samples_leaf=1,\n            min_samples_split=2, min_weight_fraction_leaf=0.0,\n            presort=False, random_state=None, splitter='best'), DecisionTreeClassifier(class_weight=None, criterion='entropy',\n            max_depth=3.1622776601683795, max_features='auto',\n            max_leaf_nodes=None, min_impurity_decrease=0.0,\n            min_impurity_split=None, min_samples_leaf=1,\n            min_samples_split=2, min_weight_fraction_leaf=0.0,\n            presort=False, random_state=None, splitter='random'), DecisionTreeClassifier(class_weight=None, criterion='entropy',\n            max_depth=3.1622776601683795, max_features='sqrt',\n            max_leaf_nodes=None, min_impurity_decrease=0.0,\n            min_impurity_split=None, min_samples_leaf=1,\n            min_samples_split=2, min_weight_fraction_leaf=0.0,\n            presort=False, random_state=None, splitter='best'), DecisionTreeClassifier(class_weight=None, criterion='entropy',\n            max_depth=3.1622776601683795, max_features='sqrt',\n            max_leaf_nodes=None, min_impurity_decrease=0.0,\n            min_impurity_split=None, min_samples_leaf=1,\n            min_samples_split=2, min_weight_fraction_leaf=0.0,\n            presort=False, random_state=None, splitter='random'), DecisionTreeClassifier(class_weight=None, criterion='entropy',\n            max_depth=3.1622776601683795, max_features='log2',\n            max_leaf_nodes=None, min_impurity_decrease=0.0,\n            min_impurity_split=None, min_samples_leaf=1,\n            min_samples_split=2, min_weight_fraction_leaf=0.0,\n            presort=False, random_state=None, splitter='best'), DecisionTreeClassifier(class_weight=None, criterion='entropy',\n            max_depth=3.1622776601683795, max_features='log2',\n            max_leaf_nodes=None, min_impurity_decrease=0.0,\n            min_impurity_split=None, min_samples_leaf=1,\n            min_samples_split=2, min_weight_fraction_leaf=0.0,\n            presort=False, random_state=None, splitter='random'), DecisionTreeClassifier(class_weight=None, criterion='entropy', max_depth=10.0,\n            max_features=None, max_leaf_nodes=None,\n            min_impurity_decrease=0.0, min_impurity_split=None,\n            min_samples_leaf=1, min_samples_split=2,\n            min_weight_fraction_leaf=0.0, presort=False, random_state=None,\n            splitter='best'), DecisionTreeClassifier(class_weight=None, criterion='entropy', max_depth=10.0,\n            max_features=None, max_leaf_nodes=None,\n            min_impurity_decrease=0.0, min_impurity_split=None,\n            min_samples_leaf=1, min_samples_split=2,\n            min_weight_fraction_leaf=0.0, presort=False, random_state=None,\n            splitter='random'), DecisionTreeClassifier(class_weight=None, criterion='entropy', max_depth=10.0,\n            max_features='auto', max_leaf_nodes=None,\n            min_impurity_decrease=0.0, min_impurity_split=None,\n            min_samples_leaf=1, min_samples_split=2,\n            min_weight_fraction_leaf=0.0, presort=False, random_state=None,\n            splitter='best'), DecisionTreeClassifier(class_weight=None, criterion='entropy', max_depth=10.0,\n            max_features='auto', max_leaf_nodes=None,\n            min_impurity_decrease=0.0, min_impurity_split=None,\n            min_samples_leaf=1, min_samples_split=2,\n            min_weight_fraction_leaf=0.0, presort=False, random_state=None,\n            splitter='random'), DecisionTreeClassifier(class_weight=None, criterion='entropy', max_depth=10.0,\n            max_features='sqrt', max_leaf_nodes=None,\n            min_impurity_decrease=0.0, min_impurity_split=None,\n            min_samples_leaf=1, min_samples_split=2,\n            min_weight_fraction_leaf=0.0, presort=False, random_state=None,\n            splitter='best'), DecisionTreeClassifier(class_weight=None, criterion='entropy', max_depth=10.0,\n            max_features='sqrt', max_leaf_nodes=None,\n            min_impurity_decrease=0.0, min_impurity_split=None,\n            min_samples_leaf=1, min_samples_split=2,\n            min_weight_fraction_leaf=0.0, presort=False, random_state=None,\n            splitter='random'), DecisionTreeClassifier(class_weight=None, criterion='entropy', max_depth=10.0,\n            max_features='log2', max_leaf_nodes=None,\n            min_impurity_decrease=0.0, min_impurity_split=None,\n            min_samples_leaf=1, min_samples_split=2,\n            min_weight_fraction_leaf=0.0, presort=False, random_state=None,\n            splitter='best'), DecisionTreeClassifier(class_weight=None, criterion='entropy', max_depth=10.0,\n            max_features='log2', max_leaf_nodes=None,\n            min_impurity_decrease=0.0, min_impurity_split=None,\n            min_samples_leaf=1, min_samples_split=2,\n            min_weight_fraction_leaf=0.0, presort=False, random_state=None,\n            splitter='random'), DecisionTreeClassifier(class_weight=None, criterion='entropy',\n            max_depth=31.622776601683793, max_features=None,\n            max_leaf_nodes=None, min_impurity_decrease=0.0,\n            min_impurity_split=None, min_samples_leaf=1,\n            min_samples_split=2, min_weight_fraction_leaf=0.0,\n            presort=False, random_state=None, splitter='best'), DecisionTreeClassifier(class_weight=None, criterion='entropy',\n            max_depth=31.622776601683793, max_features=None,\n            max_leaf_nodes=None, min_impurity_decrease=0.0,\n            min_impurity_split=None, min_samples_leaf=1,\n            min_samples_split=2, min_weight_fraction_leaf=0.0,\n            presort=False, random_state=None, splitter='random'), DecisionTreeClassifier(class_weight=None, criterion='entropy',\n            max_depth=31.622776601683793, max_features='auto',\n            max_leaf_nodes=None, min_impurity_decrease=0.0,\n            min_impurity_split=None, min_samples_leaf=1,\n            min_samples_split=2, min_weight_fraction_leaf=0.0,\n            presort=False, random_state=None, splitter='best'), DecisionTreeClassifier(class_weight=None, criterion='entropy',\n            max_depth=31.622776601683793, max_features='auto',\n            max_leaf_nodes=None, min_impurity_decrease=0.0,\n            min_impurity_split=None, min_samples_leaf=1,\n            min_samples_split=2, min_weight_fraction_leaf=0.0,\n            presort=False, random_state=None, splitter='random'), DecisionTreeClassifier(class_weight=None, criterion='entropy',\n            max_depth=31.622776601683793, max_features='sqrt',\n            max_leaf_nodes=None, min_impurity_decrease=0.0,\n            min_impurity_split=None, min_samples_leaf=1,\n            min_samples_split=2, min_weight_fraction_leaf=0.0,\n            presort=False, random_state=None, splitter='best'), DecisionTreeClassifier(class_weight=None, criterion='entropy',\n            max_depth=31.622776601683793, max_features='sqrt',\n            max_leaf_nodes=None, min_impurity_decrease=0.0,\n            min_impurity_split=None, min_samples_leaf=1,\n            min_samples_split=2, min_weight_fraction_leaf=0.0,\n            presort=False, random_state=None, splitter='random'), DecisionTreeClassifier(class_weight=None, criterion='entropy',\n            max_depth=31.622776601683793, max_features='log2',\n            max_leaf_nodes=None, min_impurity_decrease=0.0,\n            min_impurity_split=None, min_samples_leaf=1,\n            min_samples_split=2, min_weight_fraction_leaf=0.0,\n            presort=False, random_state=None, splitter='best'), DecisionTreeClassifier(class_weight=None, criterion='entropy',\n            max_depth=31.622776601683793, max_features='log2',\n            max_leaf_nodes=None, min_impurity_decrease=0.0,\n            min_impurity_split=None, min_samples_leaf=1,\n            min_samples_split=2, min_weight_fraction_leaf=0.0,\n            presort=False, random_state=None, splitter='random'), DecisionTreeClassifier(class_weight=None, criterion='entropy',\n            max_depth=100.0, max_features=None, max_leaf_nodes=None,\n            min_impurity_decrease=0.0, min_impurity_split=None,\n            min_samples_leaf=1, min_samples_split=2,\n            min_weight_fraction_leaf=0.0, presort=False, random_state=None,\n            splitter='best'), DecisionTreeClassifier(class_weight=None, criterion='entropy',\n            max_depth=100.0, max_features=None, max_leaf_nodes=None,\n            min_impurity_decrease=0.0, min_impurity_split=None,\n            min_samples_leaf=1, min_samples_split=2,\n            min_weight_fraction_leaf=0.0, presort=False, random_state=None,\n            splitter='random'), DecisionTreeClassifier(class_weight=None, criterion='entropy',\n            max_depth=100.0, max_features='auto', max_leaf_nodes=None,\n            min_impurity_decrease=0.0, min_impurity_split=None,\n            min_samples_leaf=1, min_samples_split=2,\n            min_weight_fraction_leaf=0.0, presort=False, random_state=None,\n            splitter='best'), DecisionTreeClassifier(class_weight=None, criterion='entropy',\n            max_depth=100.0, max_features='auto', max_leaf_nodes=None,\n            min_impurity_decrease=0.0, min_impurity_split=None,\n            min_samples_leaf=1, min_samples_split=2,\n            min_weight_fraction_leaf=0.0, presort=False, random_state=None,\n            splitter='random'), DecisionTreeClassifier(class_weight=None, criterion='entropy',\n            max_depth=100.0, max_features='sqrt', max_leaf_nodes=None,\n            min_impurity_decrease=0.0, min_impurity_split=None,\n            min_samples_leaf=1, min_samples_split=2,\n            min_weight_fraction_leaf=0.0, presort=False, random_state=None,\n            splitter='best'), DecisionTreeClassifier(class_weight=None, criterion='entropy',\n            max_depth=100.0, max_features='sqrt', max_leaf_nodes=None,\n            min_impurity_decrease=0.0, min_impurity_split=None,\n            min_samples_leaf=1, min_samples_split=2,\n            min_weight_fraction_leaf=0.0, presort=False, random_state=None,\n            splitter='random'), DecisionTreeClassifier(class_weight=None, criterion='entropy',\n            max_depth=100.0, max_features='log2', max_leaf_nodes=None,\n            min_impurity_decrease=0.0, min_impurity_split=None,\n            min_samples_leaf=1, min_samples_split=2,\n            min_weight_fraction_leaf=0.0, presort=False, random_state=None,\n            splitter='best'), DecisionTreeClassifier(class_weight=None, criterion='entropy',\n            max_depth=100.0, max_features='log2', max_leaf_nodes=None,\n            min_impurity_decrease=0.0, min_impurity_split=None,\n            min_samples_leaf=1, min_samples_split=2,\n            min_weight_fraction_leaf=0.0, presort=False, random_state=None,\n            splitter='random')]\n[0.00988235294117647, 0.010440677966101696, 0.010266666666666665, 0.009940828402366863, 0.014651162790697676, 0.013835294117647055, 0.005759999999999999, 0.008670967741935483, 0.30824366104973844, 0.30824366104973844, 0.19457385262133903, 0.268957333153266, 0.18692625368731566, 0.19812498247778187, 0.19243285569317797, 0.18692625368731566, 0.28114153534606534, 0.28114153534606534, 0.23874416747129867, 0.2277680504522953, 0.2655955134497612, 0.2045023536585901, 0.2627691941276073, 0.1870642066420664, 0.3560672116460579, 0.35557039433308973, 0.29674228144119, 0.2897210492498678, 0.32736753783605965, 0.3133336771203973, 0.22660829782131459, 0.24098157955440308, 0.341074594154926, 0.32466407975145783, 0.33260754394012704, 0.3015619526987502, 0.326717531473601, 0.35769063178306876, 0.2789509384677638, 0.271906541151936, 0.01569230769230769, 0.01056, 0.31100254200291294, 0.29455192609712555, 0.32512490191092064, 0.30106674785784837, 0.3511982558543222, 0.28291227066629565, 0.01431818181818182, 0.015606557377049178, 0.009391304347826087, 0.013822784810126583, 0.016508670520231212, 0.014566473988439306, 0.00854237288135593, 0.01609580838323353, 0.26049240333261475, 0.26049240333261475, 0.18692625368731566, 0.1985654761904762, 0.18692625368731566, 0.19455615615615615, 0.2442078497640126, 0.18692625368731566, 0.2925456676802055, 0.2925456676802055, 0.23482946283967085, 0.27582827545464966, 0.3053486135075941, 0.23529095455365662, 0.18653874538745388, 0.2015001492416767, 0.3300940479318215, 0.33639696230993194, 0.33510103643080946, 0.3099793272841501, 0.28926441139754655, 0.27849989625377397, 0.20490978232582144, 0.23145313767513698, 0.34886467275411226, 0.3399321761525422, 0.31479770928991135, 0.3132412083331192, 0.3035744069840599, 0.31428441373359556, 0.27449586376060786, 0.2826948769295399, 0.014374331550802137, 0.015627906976744186, 0.014933333333333333, 0.3504938377509662, 0.00910843373493976, 0.009882352941176469, 0.31763874767238015, 0.2750247188566425]\n"
     ]
    }
   ],
   "source": [
    "print(best_bbow_tree, best_bbow_tree_score_valid, all_models, all_scores, sep='\\n')"
   ]
  },
  {
   "cell_type": "code",
   "execution_count": 38,
   "metadata": {},
   "outputs": [
    {
     "name": "stdout",
     "output_type": "stream",
     "text": [
      "Best BerNB Test F1: 0.3949329247178778 \tValid: 0.3705519931420435 \tTrain: 0.5924551752726418\nBest LinSVC Test F1: 0.4690336311207927 \tValid: 0.4656823924722863 \tTrain: 0.9700451504429968\nBest D-tree Test F1: 0.34431049864297414 \tValid: 0.35769063178306876 \tTrain: 0.7413494120136667\n"
     ]
    }
   ],
   "source": [
    "print(\"Best BerNB Test F1:\", f1_score(yelp_test_y, best_bbow_nb.predict(yelp_bbow_test_x),average='weighted'),\n",
    "      \"\\tValid:\", best_bbow_nb_score_valid, \"\\tTrain:\", f1_score(yelp_train_y, best_bbow_nb.predict(yelp_bbow_train_x),average='weighted'))\n",
    "print(\"Best LinSVC Test F1:\", f1_score(yelp_test_y, best_bbow_svc.predict(yelp_bbow_test_x),average='weighted'),\n",
    "      \"\\tValid:\", best_bbow_svc_score_valid, \"\\tTrain:\", f1_score(yelp_train_y, best_bbow_svc.predict(yelp_bbow_train_x),average='weighted'))\n",
    "print(\"Best D-tree Test F1:\", f1_score(yelp_test_y, best_bbow_tree.predict(yelp_bbow_test_x),average='weighted'),\n",
    "      \"\\tValid:\", best_bbow_tree_score_valid, \"\\tTrain:\", f1_score(yelp_train_y, best_bbow_tree.predict(yelp_bbow_train_x),average='weighted'))"
   ]
  },
  {
   "cell_type": "markdown",
   "metadata": {},
   "source": [
    "## FBOW"
   ]
  },
  {
   "cell_type": "code",
   "execution_count": 39,
   "metadata": {},
   "outputs": [
    {
     "data": {
      "text/plain": [
       "DummyClassifier(constant=None, random_state=None, strategy='most_frequent')"
      ]
     },
     "execution_count": 39,
     "metadata": {},
     "output_type": "execute_result"
    }
   ],
   "source": [
    "randomClassifier.fit(yelp_fbow_train_x, yelp_train_y)\n",
    "majorityClassifier.fit(yelp_fbow_train_x, yelp_train_y)"
   ]
  },
  {
   "cell_type": "code",
   "execution_count": 40,
   "metadata": {},
   "outputs": [
    {
     "name": "stdout",
     "output_type": "stream",
     "text": [
      "0.215807242735863\n0.18238490007401925\n"
     ]
    }
   ],
   "source": [
    "yelp_fbow_test_pred = randomClassifier.predict(yelp_fbow_test_x)\n",
    "print(f1_score(yelp_test_y,yelp_fbow_test_pred,average='weighted'))\n",
    "yelp_fbow_test_pred = majorityClassifier.predict(yelp_fbow_test_x)\n",
    "print(f1_score(yelp_test_y,yelp_fbow_test_pred,average='weighted'))"
   ]
  },
  {
   "cell_type": "code",
   "execution_count": 41,
   "metadata": {},
   "outputs": [
    {
     "name": "stdout",
     "output_type": "stream",
     "text": [
      "-------------FITTING MODELS-------------\n"
     ]
    },
    {
     "name": "stderr",
     "output_type": "stream",
     "text": [
      "[Parallel(n_jobs=-1)]: Using backend LokyBackend with 4 concurrent workers.\n"
     ]
    },
    {
     "name": "stderr",
     "output_type": "stream",
     "text": [
      "[Parallel(n_jobs=-1)]: Done   5 out of  10 | elapsed:    6.7s remaining:    6.7s\n[Parallel(n_jobs=-1)]: Done   7 out of  10 | elapsed:    6.7s remaining:    2.8s\n"
     ]
    },
    {
     "name": "stderr",
     "output_type": "stream",
     "text": [
      "[Parallel(n_jobs=-1)]: Done  10 out of  10 | elapsed:    8.9s finished\n[Parallel(n_jobs=-1)]: Using backend LokyBackend with 4 concurrent workers.\n"
     ]
    },
    {
     "name": "stdout",
     "output_type": "stream",
     "text": [
      "-------------SCORING MODELS-------------\n"
     ]
    },
    {
     "name": "stderr",
     "output_type": "stream",
     "text": [
      "[Parallel(n_jobs=-1)]: Done  10 out of  10 | elapsed:    6.2s finished\n"
     ]
    },
    {
     "data": {
      "image/png": "[encoded data removed]",
      "text/plain": [
       "<Figure size 576x432 with 1 Axes>"
      ]
     },
     "metadata": {},
     "output_type": "display_data"
    }
   ],
   "source": [
    "best_fbow_nb, best_fbow_nb_score_valid, all_models, all_scores = pf.bestFit(\n",
    "    GaussianNB, params_gnb, yelp_fbow_train_x.toarray(), yelp_train_y, yelp_fbow_valid_x.toarray(), yelp_valid_y,\n",
    "    metric = lambda y_true, y_score, average=None, sample_weight=None, max_fpr=None: f1_score(y_true, y_score, average='weighted'))"
   ]
  },
  {
   "cell_type": "code",
   "execution_count": 42,
   "metadata": {},
   "outputs": [
    {
     "name": "stdout",
     "output_type": "stream",
     "text": [
      "GaussianNB(priors=None, var_smoothing=2.782559402207126e-05)\n0.33339496655161865\n[GaussianNB(priors=None, var_smoothing=1e-09), GaussianNB(priors=None, var_smoothing=1.2915496650148827e-08), GaussianNB(priors=None, var_smoothing=1.668100537200059e-07), GaussianNB(priors=None, var_smoothing=2.1544346900318865e-06), GaussianNB(priors=None, var_smoothing=2.782559402207126e-05), GaussianNB(priors=None, var_smoothing=0.00035938136638046257), GaussianNB(priors=None, var_smoothing=0.004641588833612782), GaussianNB(priors=None, var_smoothing=0.05994842503189421), GaussianNB(priors=None, var_smoothing=0.7742636826811278), GaussianNB(priors=None, var_smoothing=10.0)]\n[0.003574468085106383, 0.003574468085106383, 0.2859229572349655, 0.2870864446278546, 0.33339496655161865, 0.3046735488962551, 0.2314529196505174, 0.21540644529403244, 0.2192385918163555, 0.2679933315784856]\n"
     ]
    }
   ],
   "source": [
    "print(best_fbow_nb, best_fbow_nb_score_valid, all_models, all_scores, sep='\\n')"
   ]
  },
  {
   "cell_type": "code",
   "execution_count": 43,
   "metadata": {},
   "outputs": [
    {
     "name": "stdout",
     "output_type": "stream",
     "text": [
      "-------------FITTING MODELS-------------\n"
     ]
    },
    {
     "name": "stderr",
     "output_type": "stream",
     "text": [
      "[Parallel(n_jobs=1)]: Using backend SequentialBackend with 1 concurrent workers.\n"
     ]
    },
    {
     "name": "stderr",
     "output_type": "stream",
     "text": [
      "[Parallel(n_jobs=1)]: Done   1 out of   1 | elapsed:    4.6s remaining:    0.0s\n"
     ]
    },
    {
     "name": "stderr",
     "output_type": "stream",
     "text": [
      "[Parallel(n_jobs=1)]: Done   2 out of   2 | elapsed:    8.3s remaining:    0.0s\n"
     ]
    },
    {
     "name": "stderr",
     "output_type": "stream",
     "text": [
      "[Parallel(n_jobs=1)]: Done   3 out of   3 | elapsed:   24.3s remaining:    0.0s\n"
     ]
    },
    {
     "name": "stderr",
     "output_type": "stream",
     "text": [
      "[Parallel(n_jobs=1)]: Done   4 out of   4 | elapsed:   28.4s remaining:    0.0s\n"
     ]
    },
    {
     "name": "stderr",
     "output_type": "stream",
     "text": [
      "[Parallel(n_jobs=1)]: Done   5 out of   5 | elapsed:  1.0min remaining:    0.0s\n"
     ]
    },
    {
     "name": "stderr",
     "output_type": "stream",
     "text": [
      "[Parallel(n_jobs=1)]: Done   6 out of   6 | elapsed:  1.1min remaining:    0.0s\n"
     ]
    },
    {
     "name": "stderr",
     "output_type": "stream",
     "text": [
      "[Parallel(n_jobs=1)]: Done   7 out of   7 | elapsed:  1.7min remaining:    0.0s\n"
     ]
    },
    {
     "name": "stderr",
     "output_type": "stream",
     "text": [
      "[Parallel(n_jobs=1)]: Done   8 out of   8 | elapsed:  1.8min remaining:    0.0s\n"
     ]
    }
   ],
   "source": [
    "best_fbow_svc, best_fbow_svc_score_valid, all_models, all_scores = pf.bestFit(\n",
    "    LinearSVC, params_svc, yelp_fbow_train_x, yelp_train_y, yelp_fbow_valid_x, yelp_valid_y,\n",
    "    metric = lambda y_true, y_score, average=None, sample_weight=None, max_fpr=None: f1_score(y_true, y_score, average='weighted'), n_jobs=1)"
   ]
  },
  {
   "cell_type": "code",
   "execution_count": 44,
   "metadata": {},
   "outputs": [
    {
     "name": "stdout",
     "output_type": "stream",
     "text": [
      "LinearSVC(C=0.1, class_weight=None, dual=False, fit_intercept=True,\n     intercept_scaling=1, loss='squared_hinge', max_iter=1000,\n     multi_class='ovr', penalty='l2', random_state=None, tol=0.0001,\n     verbose=0)\n0.4748379444614566\n[LinearSVC(C=0.1, class_weight=None, dual=False, fit_intercept=True,\n     intercept_scaling=1, loss='squared_hinge', max_iter=1000,\n     multi_class='ovr', penalty='l2', random_state=None, tol=0.0001,\n     verbose=0), LinearSVC(C=0.1, class_weight=None, dual=True, fit_intercept=True,\n     intercept_scaling=1, loss='squared_hinge', max_iter=1000,\n     multi_class='ovr', penalty='l2', random_state=None, tol=0.0001,\n     verbose=0), LinearSVC(C=0.31622776601683794, class_weight=None, dual=False,\n     fit_intercept=True, intercept_scaling=1, loss='squared_hinge',\n     max_iter=1000, multi_class='ovr', penalty='l2', random_state=None,\n     tol=0.0001, verbose=0), LinearSVC(C=0.31622776601683794, class_weight=None, dual=True,\n     fit_intercept=True, intercept_scaling=1, loss='squared_hinge',\n     max_iter=1000, multi_class='ovr', penalty='l2', random_state=None,\n     tol=0.0001, verbose=0), LinearSVC(C=1.0, class_weight=None, dual=False, fit_intercept=True,\n     intercept_scaling=1, loss='squared_hinge', max_iter=1000,\n     multi_class='ovr', penalty='l2', random_state=None, tol=0.0001,\n     verbose=0), LinearSVC(C=1.0, class_weight=None, dual=True, fit_intercept=True,\n     intercept_scaling=1, loss='squared_hinge', max_iter=1000,\n     multi_class='ovr', penalty='l2', random_state=None, tol=0.0001,\n     verbose=0), LinearSVC(C=3.1622776601683795, class_weight=None, dual=False,\n     fit_intercept=True, intercept_scaling=1, loss='squared_hinge',\n     max_iter=1000, multi_class='ovr', penalty='l2', random_state=None,\n     tol=0.0001, verbose=0), LinearSVC(C=3.1622776601683795, class_weight=None, dual=True,\n     fit_intercept=True, intercept_scaling=1, loss='squared_hinge',\n     max_iter=1000, multi_class='ovr', penalty='l2', random_state=None,\n     tol=0.0001, verbose=0), LinearSVC(C=10.0, class_weight=None, dual=False, fit_intercept=True,\n     intercept_scaling=1, loss='squared_hinge', max_iter=1000,\n     multi_class='ovr', penalty='l2', random_state=None, tol=0.0001,\n     verbose=0), LinearSVC(C=10.0, class_weight=None, dual=True, fit_intercept=True,\n     intercept_scaling=1, loss='squared_hinge', max_iter=1000,\n     multi_class='ovr', penalty='l2', random_state=None, tol=0.0001,\n     verbose=0)]\n[0.4748379444614566, 0.47475827901122086, 0.4518104078136091, 0.4497737479610869, 0.43287980166759393, 0.4318841709335218, 0.4325596162480028, 0.4371859369102002, 0.43204857125625357, 0.4388796686206286]\n"
     ]
    }
   ],
   "source": [
    "print(best_fbow_svc, best_fbow_svc_score_valid, all_models, all_scores, sep='\\n')"
   ]
  },
  {
   "cell_type": "code",
   "execution_count": 45,
   "metadata": {},
   "outputs": [
    {
     "name": "stdout",
     "output_type": "stream",
     "text": [
      "-------------FITTING MODELS-------------\n"
     ]
    },
    {
     "name": "stderr",
     "output_type": "stream",
     "text": [
      "[Parallel(n_jobs=-1)]: Using backend LokyBackend with 4 concurrent workers.\n[Parallel(n_jobs=-1)]: Batch computation too fast (0.1902s.) Setting batch_size=2.\n"
     ]
    },
    {
     "name": "stderr",
     "output_type": "stream",
     "text": [
      "[Parallel(n_jobs=-1)]: Done   5 tasks      | elapsed:    0.4s\n[Parallel(n_jobs=-1)]: Done  14 tasks      | elapsed:    0.4s\n[Parallel(n_jobs=-1)]: Batch computation too fast (0.1986s.) Setting batch_size=4.\n"
     ]
    },
    {
     "name": "stderr",
     "output_type": "stream",
     "text": [
      "[Parallel(n_jobs=-1)]: Done  28 tasks      | elapsed:    1.7s\n"
     ]
    },
    {
     "name": "stderr",
     "output_type": "stream",
     "text": [
      "[Parallel(n_jobs=-1)]: Batch computation too slow (2.0788s.) Setting batch_size=2.\n[Parallel(n_jobs=-1)]: Done  50 tasks      | elapsed:    4.7s\n"
     ]
    },
    {
     "name": "stderr",
     "output_type": "stream",
     "text": [
      "[Parallel(n_jobs=-1)]: Done  76 tasks      | elapsed:    6.6s\n"
     ]
    },
    {
     "name": "stderr",
     "output_type": "stream",
     "text": [
      "[Parallel(n_jobs=-1)]: Done  96 out of  96 | elapsed:   12.7s finished\n[Parallel(n_jobs=-1)]: Using backend LokyBackend with 4 concurrent workers.\n"
     ]
    },
    {
     "name": "stdout",
     "output_type": "stream",
     "text": [
      "-------------SCORING MODELS-------------\n"
     ]
    },
    {
     "name": "stdout",
     "output_type": "stream",
     "text": [
      "Too many dimensions to plot.\n"
     ]
    },
    {
     "name": "stderr",
     "output_type": "stream",
     "text": [
      "[Parallel(n_jobs=-1)]: Done  96 out of  96 | elapsed:    0.1s finished\n"
     ]
    }
   ],
   "source": [
    "best_fbow_tree, best_fbow_tree_score_valid, all_models, all_scores = pf.bestFit(\n",
    "    DecisionTreeClassifier, params_tree, yelp_fbow_train_x, yelp_train_y, yelp_fbow_valid_x, yelp_valid_y,\n",
    "    metric = lambda y_true, y_score, average=None, sample_weight=None, max_fpr=None: f1_score(y_true, y_score, average='weighted'))"
   ]
  },
  {
   "cell_type": "code",
   "execution_count": 46,
   "metadata": {
    "collapsed": true
   },
   "outputs": [
    {
     "name": "stdout",
     "output_type": "stream",
     "text": [
      "DecisionTreeClassifier(class_weight=None, criterion='gini',\n            max_depth=31.622776601683793, max_features=None,\n            max_leaf_nodes=None, min_impurity_decrease=0.0,\n            min_impurity_split=None, min_samples_leaf=1,\n            min_samples_split=2, min_weight_fraction_leaf=0.0,\n            presort=False, random_state=None, splitter='best')\n0.37912963092907753\n[DecisionTreeClassifier(class_weight=None, criterion='gini', max_depth=None,\n            max_features=None, max_leaf_nodes=None,\n            min_impurity_decrease=0.0, min_impurity_split=None,\n            min_samples_leaf=1, min_samples_split=2,\n            min_weight_fraction_leaf=0.0, presort=False, random_state=None,\n            splitter='best'), DecisionTreeClassifier(class_weight=None, criterion='gini', max_depth=None,\n            max_features=None, max_leaf_nodes=None,\n            min_impurity_decrease=0.0, min_impurity_split=None,\n            min_samples_leaf=1, min_samples_split=2,\n            min_weight_fraction_leaf=0.0, presort=False, random_state=None,\n            splitter='random'), DecisionTreeClassifier(class_weight=None, criterion='gini', max_depth=None,\n            max_features='auto', max_leaf_nodes=None,\n            min_impurity_decrease=0.0, min_impurity_split=None,\n            min_samples_leaf=1, min_samples_split=2,\n            min_weight_fraction_leaf=0.0, presort=False, random_state=None,\n            splitter='best'), DecisionTreeClassifier(class_weight=None, criterion='gini', max_depth=None,\n            max_features='auto', max_leaf_nodes=None,\n            min_impurity_decrease=0.0, min_impurity_split=None,\n            min_samples_leaf=1, min_samples_split=2,\n            min_weight_fraction_leaf=0.0, presort=False, random_state=None,\n            splitter='random'), DecisionTreeClassifier(class_weight=None, criterion='gini', max_depth=None,\n            max_features='sqrt', max_leaf_nodes=None,\n            min_impurity_decrease=0.0, min_impurity_split=None,\n            min_samples_leaf=1, min_samples_split=2,\n            min_weight_fraction_leaf=0.0, presort=False, random_state=None,\n            splitter='best'), DecisionTreeClassifier(class_weight=None, criterion='gini', max_depth=None,\n            max_features='sqrt', max_leaf_nodes=None,\n            min_impurity_decrease=0.0, min_impurity_split=None,\n            min_samples_leaf=1, min_samples_split=2,\n            min_weight_fraction_leaf=0.0, presort=False, random_state=None,\n            splitter='random'), DecisionTreeClassifier(class_weight=None, criterion='gini', max_depth=None,\n            max_features='log2', max_leaf_nodes=None,\n            min_impurity_decrease=0.0, min_impurity_split=None,\n            min_samples_leaf=1, min_samples_split=2,\n            min_weight_fraction_leaf=0.0, presort=False, random_state=None,\n            splitter='best'), DecisionTreeClassifier(class_weight=None, criterion='gini', max_depth=None,\n            max_features='log2', max_leaf_nodes=None,\n            min_impurity_decrease=0.0, min_impurity_split=None,\n            min_samples_leaf=1, min_samples_split=2,\n            min_weight_fraction_leaf=0.0, presort=False, random_state=None,\n            splitter='random'), DecisionTreeClassifier(class_weight=None, criterion='gini', max_depth=1.0,\n            max_features=None, max_leaf_nodes=None,\n            min_impurity_decrease=0.0, min_impurity_split=None,\n            min_samples_leaf=1, min_samples_split=2,\n            min_weight_fraction_leaf=0.0, presort=False, random_state=None,\n            splitter='best'), DecisionTreeClassifier(class_weight=None, criterion='gini', max_depth=1.0,\n            max_features=None, max_leaf_nodes=None,\n            min_impurity_decrease=0.0, min_impurity_split=None,\n            min_samples_leaf=1, min_samples_split=2,\n            min_weight_fraction_leaf=0.0, presort=False, random_state=None,\n            splitter='random'), DecisionTreeClassifier(class_weight=None, criterion='gini', max_depth=1.0,\n            max_features='auto', max_leaf_nodes=None,\n            min_impurity_decrease=0.0, min_impurity_split=None,\n            min_samples_leaf=1, min_samples_split=2,\n            min_weight_fraction_leaf=0.0, presort=False, random_state=None,\n            splitter='best'), DecisionTreeClassifier(class_weight=None, criterion='gini', max_depth=1.0,\n            max_features='auto', max_leaf_nodes=None,\n            min_impurity_decrease=0.0, min_impurity_split=None,\n            min_samples_leaf=1, min_samples_split=2,\n            min_weight_fraction_leaf=0.0, presort=False, random_state=None,\n            splitter='random'), DecisionTreeClassifier(class_weight=None, criterion='gini', max_depth=1.0,\n            max_features='sqrt', max_leaf_nodes=None,\n            min_impurity_decrease=0.0, min_impurity_split=None,\n            min_samples_leaf=1, min_samples_split=2,\n            min_weight_fraction_leaf=0.0, presort=False, random_state=None,\n            splitter='best'), DecisionTreeClassifier(class_weight=None, criterion='gini', max_depth=1.0,\n            max_features='sqrt', max_leaf_nodes=None,\n            min_impurity_decrease=0.0, min_impurity_split=None,\n            min_samples_leaf=1, min_samples_split=2,\n            min_weight_fraction_leaf=0.0, presort=False, random_state=None,\n            splitter='random'), DecisionTreeClassifier(class_weight=None, criterion='gini', max_depth=1.0,\n            max_features='log2', max_leaf_nodes=None,\n            min_impurity_decrease=0.0, min_impurity_split=None,\n            min_samples_leaf=1, min_samples_split=2,\n            min_weight_fraction_leaf=0.0, presort=False, random_state=None,\n            splitter='best'), DecisionTreeClassifier(class_weight=None, criterion='gini', max_depth=1.0,\n            max_features='log2', max_leaf_nodes=None,\n            min_impurity_decrease=0.0, min_impurity_split=None,\n            min_samples_leaf=1, min_samples_split=2,\n            min_weight_fraction_leaf=0.0, presort=False, random_state=None,\n            splitter='random'), DecisionTreeClassifier(class_weight=None, criterion='gini',\n            max_depth=3.1622776601683795, max_features=None,\n            max_leaf_nodes=None, min_impurity_decrease=0.0,\n            min_impurity_split=None, min_samples_leaf=1,\n            min_samples_split=2, min_weight_fraction_leaf=0.0,\n            presort=False, random_state=None, splitter='best'), DecisionTreeClassifier(class_weight=None, criterion='gini',\n            max_depth=3.1622776601683795, max_features=None,\n            max_leaf_nodes=None, min_impurity_decrease=0.0,\n            min_impurity_split=None, min_samples_leaf=1,\n            min_samples_split=2, min_weight_fraction_leaf=0.0,\n            presort=False, random_state=None, splitter='random'), DecisionTreeClassifier(class_weight=None, criterion='gini',\n            max_depth=3.1622776601683795, max_features='auto',\n            max_leaf_nodes=None, min_impurity_decrease=0.0,\n            min_impurity_split=None, min_samples_leaf=1,\n            min_samples_split=2, min_weight_fraction_leaf=0.0,\n            presort=False, random_state=None, splitter='best'), DecisionTreeClassifier(class_weight=None, criterion='gini',\n            max_depth=3.1622776601683795, max_features='auto',\n            max_leaf_nodes=None, min_impurity_decrease=0.0,\n            min_impurity_split=None, min_samples_leaf=1,\n            min_samples_split=2, min_weight_fraction_leaf=0.0,\n            presort=False, random_state=None, splitter='random'), DecisionTreeClassifier(class_weight=None, criterion='gini',\n            max_depth=3.1622776601683795, max_features='sqrt',\n            max_leaf_nodes=None, min_impurity_decrease=0.0,\n            min_impurity_split=None, min_samples_leaf=1,\n            min_samples_split=2, min_weight_fraction_leaf=0.0,\n            presort=False, random_state=None, splitter='best'), DecisionTreeClassifier(class_weight=None, criterion='gini',\n            max_depth=3.1622776601683795, max_features='sqrt',\n            max_leaf_nodes=None, min_impurity_decrease=0.0,\n            min_impurity_split=None, min_samples_leaf=1,\n            min_samples_split=2, min_weight_fraction_leaf=0.0,\n            presort=False, random_state=None, splitter='random'), DecisionTreeClassifier(class_weight=None, criterion='gini',\n            max_depth=3.1622776601683795, max_features='log2',\n            max_leaf_nodes=None, min_impurity_decrease=0.0,\n            min_impurity_split=None, min_samples_leaf=1,\n            min_samples_split=2, min_weight_fraction_leaf=0.0,\n            presort=False, random_state=None, splitter='best'), DecisionTreeClassifier(class_weight=None, criterion='gini',\n            max_depth=3.1622776601683795, max_features='log2',\n            max_leaf_nodes=None, min_impurity_decrease=0.0,\n            min_impurity_split=None, min_samples_leaf=1,\n            min_samples_split=2, min_weight_fraction_leaf=0.0,\n            presort=False, random_state=None, splitter='random'), DecisionTreeClassifier(class_weight=None, criterion='gini', max_depth=10.0,\n            max_features=None, max_leaf_nodes=None,\n            min_impurity_decrease=0.0, min_impurity_split=None,\n            min_samples_leaf=1, min_samples_split=2,\n            min_weight_fraction_leaf=0.0, presort=False, random_state=None,\n            splitter='best'), DecisionTreeClassifier(class_weight=None, criterion='gini', max_depth=10.0,\n            max_features=None, max_leaf_nodes=None,\n            min_impurity_decrease=0.0, min_impurity_split=None,\n            min_samples_leaf=1, min_samples_split=2,\n            min_weight_fraction_leaf=0.0, presort=False, random_state=None,\n            splitter='random'), DecisionTreeClassifier(class_weight=None, criterion='gini', max_depth=10.0,\n            max_features='auto', max_leaf_nodes=None,\n            min_impurity_decrease=0.0, min_impurity_split=None,\n            min_samples_leaf=1, min_samples_split=2,\n            min_weight_fraction_leaf=0.0, presort=False, random_state=None,\n            splitter='best'), DecisionTreeClassifier(class_weight=None, criterion='gini', max_depth=10.0,\n            max_features='auto', max_leaf_nodes=None,\n            min_impurity_decrease=0.0, min_impurity_split=None,\n            min_samples_leaf=1, min_samples_split=2,\n            min_weight_fraction_leaf=0.0, presort=False, random_state=None,\n            splitter='random'), DecisionTreeClassifier(class_weight=None, criterion='gini', max_depth=10.0,\n            max_features='sqrt', max_leaf_nodes=None,\n            min_impurity_decrease=0.0, min_impurity_split=None,\n            min_samples_leaf=1, min_samples_split=2,\n            min_weight_fraction_leaf=0.0, presort=False, random_state=None,\n            splitter='best'), DecisionTreeClassifier(class_weight=None, criterion='gini', max_depth=10.0,\n            max_features='sqrt', max_leaf_nodes=None,\n            min_impurity_decrease=0.0, min_impurity_split=None,\n            min_samples_leaf=1, min_samples_split=2,\n            min_weight_fraction_leaf=0.0, presort=False, random_state=None,\n            splitter='random'), DecisionTreeClassifier(class_weight=None, criterion='gini', max_depth=10.0,\n            max_features='log2', max_leaf_nodes=None,\n            min_impurity_decrease=0.0, min_impurity_split=None,\n            min_samples_leaf=1, min_samples_split=2,\n            min_weight_fraction_leaf=0.0, presort=False, random_state=None,\n            splitter='best'), DecisionTreeClassifier(class_weight=None, criterion='gini', max_depth=10.0,\n            max_features='log2', max_leaf_nodes=None,\n            min_impurity_decrease=0.0, min_impurity_split=None,\n            min_samples_leaf=1, min_samples_split=2,\n            min_weight_fraction_leaf=0.0, presort=False, random_state=None,\n            splitter='random'), DecisionTreeClassifier(class_weight=None, criterion='gini',\n            max_depth=31.622776601683793, max_features=None,\n            max_leaf_nodes=None, min_impurity_decrease=0.0,\n            min_impurity_split=None, min_samples_leaf=1,\n            min_samples_split=2, min_weight_fraction_leaf=0.0,\n            presort=False, random_state=None, splitter='best'), DecisionTreeClassifier(class_weight=None, criterion='gini',\n            max_depth=31.622776601683793, max_features=None,\n            max_leaf_nodes=None, min_impurity_decrease=0.0,\n            min_impurity_split=None, min_samples_leaf=1,\n            min_samples_split=2, min_weight_fraction_leaf=0.0,\n            presort=False, random_state=None, splitter='random'), DecisionTreeClassifier(class_weight=None, criterion='gini',\n            max_depth=31.622776601683793, max_features='auto',\n            max_leaf_nodes=None, min_impurity_decrease=0.0,\n            min_impurity_split=None, min_samples_leaf=1,\n            min_samples_split=2, min_weight_fraction_leaf=0.0,\n            presort=False, random_state=None, splitter='best'), DecisionTreeClassifier(class_weight=None, criterion='gini',\n            max_depth=31.622776601683793, max_features='auto',\n            max_leaf_nodes=None, min_impurity_decrease=0.0,\n            min_impurity_split=None, min_samples_leaf=1,\n            min_samples_split=2, min_weight_fraction_leaf=0.0,\n            presort=False, random_state=None, splitter='random'), DecisionTreeClassifier(class_weight=None, criterion='gini',\n            max_depth=31.622776601683793, max_features='sqrt',\n            max_leaf_nodes=None, min_impurity_decrease=0.0,\n            min_impurity_split=None, min_samples_leaf=1,\n            min_samples_split=2, min_weight_fraction_leaf=0.0,\n            presort=False, random_state=None, splitter='best'), DecisionTreeClassifier(class_weight=None, criterion='gini',\n            max_depth=31.622776601683793, max_features='sqrt',\n            max_leaf_nodes=None, min_impurity_decrease=0.0,\n            min_impurity_split=None, min_samples_leaf=1,\n            min_samples_split=2, min_weight_fraction_leaf=0.0,\n            presort=False, random_state=None, splitter='random'), DecisionTreeClassifier(class_weight=None, criterion='gini',\n            max_depth=31.622776601683793, max_features='log2',\n            max_leaf_nodes=None, min_impurity_decrease=0.0,\n            min_impurity_split=None, min_samples_leaf=1,\n            min_samples_split=2, min_weight_fraction_leaf=0.0,\n            presort=False, random_state=None, splitter='best'), DecisionTreeClassifier(class_weight=None, criterion='gini',\n            max_depth=31.622776601683793, max_features='log2',\n            max_leaf_nodes=None, min_impurity_decrease=0.0,\n            min_impurity_split=None, min_samples_leaf=1,\n            min_samples_split=2, min_weight_fraction_leaf=0.0,\n            presort=False, random_state=None, splitter='random'), DecisionTreeClassifier(class_weight=None, criterion='gini', max_depth=100.0,\n            max_features=None, max_leaf_nodes=None,\n            min_impurity_decrease=0.0, min_impurity_split=None,\n            min_samples_leaf=1, min_samples_split=2,\n            min_weight_fraction_leaf=0.0, presort=False, random_state=None,\n            splitter='best'), DecisionTreeClassifier(class_weight=None, criterion='gini', max_depth=100.0,\n            max_features=None, max_leaf_nodes=None,\n            min_impurity_decrease=0.0, min_impurity_split=None,\n            min_samples_leaf=1, min_samples_split=2,\n            min_weight_fraction_leaf=0.0, presort=False, random_state=None,\n            splitter='random'), DecisionTreeClassifier(class_weight=None, criterion='gini', max_depth=100.0,\n            max_features='auto', max_leaf_nodes=None,\n            min_impurity_decrease=0.0, min_impurity_split=None,\n            min_samples_leaf=1, min_samples_split=2,\n            min_weight_fraction_leaf=0.0, presort=False, random_state=None,\n            splitter='best'), DecisionTreeClassifier(class_weight=None, criterion='gini', max_depth=100.0,\n            max_features='auto', max_leaf_nodes=None,\n            min_impurity_decrease=0.0, min_impurity_split=None,\n            min_samples_leaf=1, min_samples_split=2,\n            min_weight_fraction_leaf=0.0, presort=False, random_state=None,\n            splitter='random'), DecisionTreeClassifier(class_weight=None, criterion='gini', max_depth=100.0,\n            max_features='sqrt', max_leaf_nodes=None,\n            min_impurity_decrease=0.0, min_impurity_split=None,\n            min_samples_leaf=1, min_samples_split=2,\n            min_weight_fraction_leaf=0.0, presort=False, random_state=None,\n            splitter='best'), DecisionTreeClassifier(class_weight=None, criterion='gini', max_depth=100.0,\n            max_features='sqrt', max_leaf_nodes=None,\n            min_impurity_decrease=0.0, min_impurity_split=None,\n            min_samples_leaf=1, min_samples_split=2,\n            min_weight_fraction_leaf=0.0, presort=False, random_state=None,\n            splitter='random'), DecisionTreeClassifier(class_weight=None, criterion='gini', max_depth=100.0,\n            max_features='log2', max_leaf_nodes=None,\n            min_impurity_decrease=0.0, min_impurity_split=None,\n            min_samples_leaf=1, min_samples_split=2,\n            min_weight_fraction_leaf=0.0, presort=False, random_state=None,\n            splitter='best'), DecisionTreeClassifier(class_weight=None, criterion='gini', max_depth=100.0,\n            max_features='log2', max_leaf_nodes=None,\n            min_impurity_decrease=0.0, min_impurity_split=None,\n            min_samples_leaf=1, min_samples_split=2,\n            min_weight_fraction_leaf=0.0, presort=False, random_state=None,\n            splitter='random'), DecisionTreeClassifier(class_weight=None, criterion='entropy', max_depth=None,\n            max_features=None, max_leaf_nodes=None,\n            min_impurity_decrease=0.0, min_impurity_split=None,\n            min_samples_leaf=1, min_samples_split=2,\n            min_weight_fraction_leaf=0.0, presort=False, random_state=None,\n            splitter='best'), DecisionTreeClassifier(class_weight=None, criterion='entropy', max_depth=None,\n            max_features=None, max_leaf_nodes=None,\n            min_impurity_decrease=0.0, min_impurity_split=None,\n            min_samples_leaf=1, min_samples_split=2,\n            min_weight_fraction_leaf=0.0, presort=False, random_state=None,\n            splitter='random'), DecisionTreeClassifier(class_weight=None, criterion='entropy', max_depth=None,\n            max_features='auto', max_leaf_nodes=None,\n            min_impurity_decrease=0.0, min_impurity_split=None,\n            min_samples_leaf=1, min_samples_split=2,\n            min_weight_fraction_leaf=0.0, presort=False, random_state=None,\n            splitter='best'), DecisionTreeClassifier(class_weight=None, criterion='entropy', max_depth=None,\n            max_features='auto', max_leaf_nodes=None,\n            min_impurity_decrease=0.0, min_impurity_split=None,\n            min_samples_leaf=1, min_samples_split=2,\n            min_weight_fraction_leaf=0.0, presort=False, random_state=None,\n            splitter='random'), DecisionTreeClassifier(class_weight=None, criterion='entropy', max_depth=None,\n            max_features='sqrt', max_leaf_nodes=None,\n            min_impurity_decrease=0.0, min_impurity_split=None,\n            min_samples_leaf=1, min_samples_split=2,\n            min_weight_fraction_leaf=0.0, presort=False, random_state=None,\n            splitter='best'), DecisionTreeClassifier(class_weight=None, criterion='entropy', max_depth=None,\n            max_features='sqrt', max_leaf_nodes=None,\n            min_impurity_decrease=0.0, min_impurity_split=None,\n            min_samples_leaf=1, min_samples_split=2,\n            min_weight_fraction_leaf=0.0, presort=False, random_state=None,\n            splitter='random'), DecisionTreeClassifier(class_weight=None, criterion='entropy', max_depth=None,\n            max_features='log2', max_leaf_nodes=None,\n            min_impurity_decrease=0.0, min_impurity_split=None,\n            min_samples_leaf=1, min_samples_split=2,\n            min_weight_fraction_leaf=0.0, presort=False, random_state=None,\n            splitter='best'), DecisionTreeClassifier(class_weight=None, criterion='entropy', max_depth=None,\n            max_features='log2', max_leaf_nodes=None,\n            min_impurity_decrease=0.0, min_impurity_split=None,\n            min_samples_leaf=1, min_samples_split=2,\n            min_weight_fraction_leaf=0.0, presort=False, random_state=None,\n            splitter='random'), DecisionTreeClassifier(class_weight=None, criterion='entropy', max_depth=1.0,\n            max_features=None, max_leaf_nodes=None,\n            min_impurity_decrease=0.0, min_impurity_split=None,\n            min_samples_leaf=1, min_samples_split=2,\n            min_weight_fraction_leaf=0.0, presort=False, random_state=None,\n            splitter='best'), DecisionTreeClassifier(class_weight=None, criterion='entropy', max_depth=1.0,\n            max_features=None, max_leaf_nodes=None,\n            min_impurity_decrease=0.0, min_impurity_split=None,\n            min_samples_leaf=1, min_samples_split=2,\n            min_weight_fraction_leaf=0.0, presort=False, random_state=None,\n            splitter='random'), DecisionTreeClassifier(class_weight=None, criterion='entropy', max_depth=1.0,\n            max_features='auto', max_leaf_nodes=None,\n            min_impurity_decrease=0.0, min_impurity_split=None,\n            min_samples_leaf=1, min_samples_split=2,\n            min_weight_fraction_leaf=0.0, presort=False, random_state=None,\n            splitter='best'), DecisionTreeClassifier(class_weight=None, criterion='entropy', max_depth=1.0,\n            max_features='auto', max_leaf_nodes=None,\n            min_impurity_decrease=0.0, min_impurity_split=None,\n            min_samples_leaf=1, min_samples_split=2,\n            min_weight_fraction_leaf=0.0, presort=False, random_state=None,\n            splitter='random'), DecisionTreeClassifier(class_weight=None, criterion='entropy', max_depth=1.0,\n            max_features='sqrt', max_leaf_nodes=None,\n            min_impurity_decrease=0.0, min_impurity_split=None,\n            min_samples_leaf=1, min_samples_split=2,\n            min_weight_fraction_leaf=0.0, presort=False, random_state=None,\n            splitter='best'), DecisionTreeClassifier(class_weight=None, criterion='entropy', max_depth=1.0,\n            max_features='sqrt', max_leaf_nodes=None,\n            min_impurity_decrease=0.0, min_impurity_split=None,\n            min_samples_leaf=1, min_samples_split=2,\n            min_weight_fraction_leaf=0.0, presort=False, random_state=None,\n            splitter='random'), DecisionTreeClassifier(class_weight=None, criterion='entropy', max_depth=1.0,\n            max_features='log2', max_leaf_nodes=None,\n            min_impurity_decrease=0.0, min_impurity_split=None,\n            min_samples_leaf=1, min_samples_split=2,\n            min_weight_fraction_leaf=0.0, presort=False, random_state=None,\n            splitter='best'), DecisionTreeClassifier(class_weight=None, criterion='entropy', max_depth=1.0,\n            max_features='log2', max_leaf_nodes=None,\n            min_impurity_decrease=0.0, min_impurity_split=None,\n            min_samples_leaf=1, min_samples_split=2,\n            min_weight_fraction_leaf=0.0, presort=False, random_state=None,\n            splitter='random'), DecisionTreeClassifier(class_weight=None, criterion='entropy',\n            max_depth=3.1622776601683795, max_features=None,\n            max_leaf_nodes=None, min_impurity_decrease=0.0,\n            min_impurity_split=None, min_samples_leaf=1,\n            min_samples_split=2, min_weight_fraction_leaf=0.0,\n            presort=False, random_state=None, splitter='best'), DecisionTreeClassifier(class_weight=None, criterion='entropy',\n            max_depth=3.1622776601683795, max_features=None,\n            max_leaf_nodes=None, min_impurity_decrease=0.0,\n            min_impurity_split=None, min_samples_leaf=1,\n            min_samples_split=2, min_weight_fraction_leaf=0.0,\n            presort=False, random_state=None, splitter='random'), DecisionTreeClassifier(class_weight=None, criterion='entropy',\n            max_depth=3.1622776601683795, max_features='auto',\n            max_leaf_nodes=None, min_impurity_decrease=0.0,\n            min_impurity_split=None, min_samples_leaf=1,\n            min_samples_split=2, min_weight_fraction_leaf=0.0,\n            presort=False, random_state=None, splitter='best'), DecisionTreeClassifier(class_weight=None, criterion='entropy',\n            max_depth=3.1622776601683795, max_features='auto',\n            max_leaf_nodes=None, min_impurity_decrease=0.0,\n            min_impurity_split=None, min_samples_leaf=1,\n            min_samples_split=2, min_weight_fraction_leaf=0.0,\n            presort=False, random_state=None, splitter='random'), DecisionTreeClassifier(class_weight=None, criterion='entropy',\n            max_depth=3.1622776601683795, max_features='sqrt',\n            max_leaf_nodes=None, min_impurity_decrease=0.0,\n            min_impurity_split=None, min_samples_leaf=1,\n            min_samples_split=2, min_weight_fraction_leaf=0.0,\n            presort=False, random_state=None, splitter='best'), DecisionTreeClassifier(class_weight=None, criterion='entropy',\n            max_depth=3.1622776601683795, max_features='sqrt',\n            max_leaf_nodes=None, min_impurity_decrease=0.0,\n            min_impurity_split=None, min_samples_leaf=1,\n            min_samples_split=2, min_weight_fraction_leaf=0.0,\n            presort=False, random_state=None, splitter='random'), DecisionTreeClassifier(class_weight=None, criterion='entropy',\n            max_depth=3.1622776601683795, max_features='log2',\n            max_leaf_nodes=None, min_impurity_decrease=0.0,\n            min_impurity_split=None, min_samples_leaf=1,\n            min_samples_split=2, min_weight_fraction_leaf=0.0,\n            presort=False, random_state=None, splitter='best'), DecisionTreeClassifier(class_weight=None, criterion='entropy',\n            max_depth=3.1622776601683795, max_features='log2',\n            max_leaf_nodes=None, min_impurity_decrease=0.0,\n            min_impurity_split=None, min_samples_leaf=1,\n            min_samples_split=2, min_weight_fraction_leaf=0.0,\n            presort=False, random_state=None, splitter='random'), DecisionTreeClassifier(class_weight=None, criterion='entropy', max_depth=10.0,\n            max_features=None, max_leaf_nodes=None,\n            min_impurity_decrease=0.0, min_impurity_split=None,\n            min_samples_leaf=1, min_samples_split=2,\n            min_weight_fraction_leaf=0.0, presort=False, random_state=None,\n            splitter='best'), DecisionTreeClassifier(class_weight=None, criterion='entropy', max_depth=10.0,\n            max_features=None, max_leaf_nodes=None,\n            min_impurity_decrease=0.0, min_impurity_split=None,\n            min_samples_leaf=1, min_samples_split=2,\n            min_weight_fraction_leaf=0.0, presort=False, random_state=None,\n            splitter='random'), DecisionTreeClassifier(class_weight=None, criterion='entropy', max_depth=10.0,\n            max_features='auto', max_leaf_nodes=None,\n            min_impurity_decrease=0.0, min_impurity_split=None,\n            min_samples_leaf=1, min_samples_split=2,\n            min_weight_fraction_leaf=0.0, presort=False, random_state=None,\n            splitter='best'), DecisionTreeClassifier(class_weight=None, criterion='entropy', max_depth=10.0,\n            max_features='auto', max_leaf_nodes=None,\n            min_impurity_decrease=0.0, min_impurity_split=None,\n            min_samples_leaf=1, min_samples_split=2,\n            min_weight_fraction_leaf=0.0, presort=False, random_state=None,\n            splitter='random'), DecisionTreeClassifier(class_weight=None, criterion='entropy', max_depth=10.0,\n            max_features='sqrt', max_leaf_nodes=None,\n            min_impurity_decrease=0.0, min_impurity_split=None,\n            min_samples_leaf=1, min_samples_split=2,\n            min_weight_fraction_leaf=0.0, presort=False, random_state=None,\n            splitter='best'), DecisionTreeClassifier(class_weight=None, criterion='entropy', max_depth=10.0,\n            max_features='sqrt', max_leaf_nodes=None,\n            min_impurity_decrease=0.0, min_impurity_split=None,\n            min_samples_leaf=1, min_samples_split=2,\n            min_weight_fraction_leaf=0.0, presort=False, random_state=None,\n            splitter='random'), DecisionTreeClassifier(class_weight=None, criterion='entropy', max_depth=10.0,\n            max_features='log2', max_leaf_nodes=None,\n            min_impurity_decrease=0.0, min_impurity_split=None,\n            min_samples_leaf=1, min_samples_split=2,\n            min_weight_fraction_leaf=0.0, presort=False, random_state=None,\n            splitter='best'), DecisionTreeClassifier(class_weight=None, criterion='entropy', max_depth=10.0,\n            max_features='log2', max_leaf_nodes=None,\n            min_impurity_decrease=0.0, min_impurity_split=None,\n            min_samples_leaf=1, min_samples_split=2,\n            min_weight_fraction_leaf=0.0, presort=False, random_state=None,\n            splitter='random'), DecisionTreeClassifier(class_weight=None, criterion='entropy',\n            max_depth=31.622776601683793, max_features=None,\n            max_leaf_nodes=None, min_impurity_decrease=0.0,\n            min_impurity_split=None, min_samples_leaf=1,\n            min_samples_split=2, min_weight_fraction_leaf=0.0,\n            presort=False, random_state=None, splitter='best'), DecisionTreeClassifier(class_weight=None, criterion='entropy',\n            max_depth=31.622776601683793, max_features=None,\n            max_leaf_nodes=None, min_impurity_decrease=0.0,\n            min_impurity_split=None, min_samples_leaf=1,\n            min_samples_split=2, min_weight_fraction_leaf=0.0,\n            presort=False, random_state=None, splitter='random'), DecisionTreeClassifier(class_weight=None, criterion='entropy',\n            max_depth=31.622776601683793, max_features='auto',\n            max_leaf_nodes=None, min_impurity_decrease=0.0,\n            min_impurity_split=None, min_samples_leaf=1,\n            min_samples_split=2, min_weight_fraction_leaf=0.0,\n            presort=False, random_state=None, splitter='best'), DecisionTreeClassifier(class_weight=None, criterion='entropy',\n            max_depth=31.622776601683793, max_features='auto',\n            max_leaf_nodes=None, min_impurity_decrease=0.0,\n            min_impurity_split=None, min_samples_leaf=1,\n            min_samples_split=2, min_weight_fraction_leaf=0.0,\n            presort=False, random_state=None, splitter='random'), DecisionTreeClassifier(class_weight=None, criterion='entropy',\n            max_depth=31.622776601683793, max_features='sqrt',\n            max_leaf_nodes=None, min_impurity_decrease=0.0,\n            min_impurity_split=None, min_samples_leaf=1,\n            min_samples_split=2, min_weight_fraction_leaf=0.0,\n            presort=False, random_state=None, splitter='best'), DecisionTreeClassifier(class_weight=None, criterion='entropy',\n            max_depth=31.622776601683793, max_features='sqrt',\n            max_leaf_nodes=None, min_impurity_decrease=0.0,\n            min_impurity_split=None, min_samples_leaf=1,\n            min_samples_split=2, min_weight_fraction_leaf=0.0,\n            presort=False, random_state=None, splitter='random'), DecisionTreeClassifier(class_weight=None, criterion='entropy',\n            max_depth=31.622776601683793, max_features='log2',\n            max_leaf_nodes=None, min_impurity_decrease=0.0,\n            min_impurity_split=None, min_samples_leaf=1,\n            min_samples_split=2, min_weight_fraction_leaf=0.0,\n            presort=False, random_state=None, splitter='best'), DecisionTreeClassifier(class_weight=None, criterion='entropy',\n            max_depth=31.622776601683793, max_features='log2',\n            max_leaf_nodes=None, min_impurity_decrease=0.0,\n            min_impurity_split=None, min_samples_leaf=1,\n            min_samples_split=2, min_weight_fraction_leaf=0.0,\n            presort=False, random_state=None, splitter='random'), DecisionTreeClassifier(class_weight=None, criterion='entropy',\n            max_depth=100.0, max_features=None, max_leaf_nodes=None,\n            min_impurity_decrease=0.0, min_impurity_split=None,\n            min_samples_leaf=1, min_samples_split=2,\n            min_weight_fraction_leaf=0.0, presort=False, random_state=None,\n            splitter='best'), DecisionTreeClassifier(class_weight=None, criterion='entropy',\n            max_depth=100.0, max_features=None, max_leaf_nodes=None,\n            min_impurity_decrease=0.0, min_impurity_split=None,\n            min_samples_leaf=1, min_samples_split=2,\n            min_weight_fraction_leaf=0.0, presort=False, random_state=None,\n            splitter='random'), DecisionTreeClassifier(class_weight=None, criterion='entropy',\n            max_depth=100.0, max_features='auto', max_leaf_nodes=None,\n            min_impurity_decrease=0.0, min_impurity_split=None,\n            min_samples_leaf=1, min_samples_split=2,\n            min_weight_fraction_leaf=0.0, presort=False, random_state=None,\n            splitter='best'), DecisionTreeClassifier(class_weight=None, criterion='entropy',\n            max_depth=100.0, max_features='auto', max_leaf_nodes=None,\n            min_impurity_decrease=0.0, min_impurity_split=None,\n            min_samples_leaf=1, min_samples_split=2,\n            min_weight_fraction_leaf=0.0, presort=False, random_state=None,\n            splitter='random'), DecisionTreeClassifier(class_weight=None, criterion='entropy',\n            max_depth=100.0, max_features='sqrt', max_leaf_nodes=None,\n            min_impurity_decrease=0.0, min_impurity_split=None,\n            min_samples_leaf=1, min_samples_split=2,\n            min_weight_fraction_leaf=0.0, presort=False, random_state=None,\n            splitter='best'), DecisionTreeClassifier(class_weight=None, criterion='entropy',\n            max_depth=100.0, max_features='sqrt', max_leaf_nodes=None,\n            min_impurity_decrease=0.0, min_impurity_split=None,\n            min_samples_leaf=1, min_samples_split=2,\n            min_weight_fraction_leaf=0.0, presort=False, random_state=None,\n            splitter='random'), DecisionTreeClassifier(class_weight=None, criterion='entropy',\n            max_depth=100.0, max_features='log2', max_leaf_nodes=None,\n            min_impurity_decrease=0.0, min_impurity_split=None,\n            min_samples_leaf=1, min_samples_split=2,\n            min_weight_fraction_leaf=0.0, presort=False, random_state=None,\n            splitter='best'), DecisionTreeClassifier(class_weight=None, criterion='entropy',\n            max_depth=100.0, max_features='log2', max_leaf_nodes=None,\n            min_impurity_decrease=0.0, min_impurity_split=None,\n            min_samples_leaf=1, min_samples_split=2,\n            min_weight_fraction_leaf=0.0, presort=False, random_state=None,\n            splitter='random')]\n[0.01643478260869565, 0.011617021276595745, 0.01359537572254335, 0.00988235294117647, 0.01248, 0.010980392156862745, 0.012624277456647397, 0.011076923076923076, 0.30824366104973844, 0.1985654761904762, 0.21211340996168582, 0.18692625368731566, 0.268957333153266, 0.22570987654320987, 0.22618756992399983, 0.18692625368731566, 0.3262841955655041, 0.3122029051465847, 0.24146427550231056, 0.19359865032847878, 0.24967771594212632, 0.21497148625458462, 0.18900013458044546, 0.19091305876149745, 0.36738412456330105, 0.3476076802785823, 0.30892817755341423, 0.2763548867167061, 0.296577551145714, 0.28256115905764567, 0.23787575596816976, 0.28367271819543327, 0.37912963092907753, 0.36162495528962474, 0.31552063319421597, 0.3165823550154596, 0.35573928137360916, 0.3253506780601232, 0.28817204699997484, 0.23771331041474905, 0.011869565217391303, 0.012771929824561403, 0.34139916248294316, 0.36095244237679797, 0.32523334372754814, 0.3044060005338014, 0.3116038583515713, 0.2939619139012949, 0.011454545454545453, 0.014, 0.014657718120805368, 0.010632911392405063, 0.011325842696629214, 0.010870588235294118, 0.011065868263473055, 0.006420382165605095, 0.26049240333261475, 0.21860717288118053, 0.18692625368731566, 0.18692625368731566, 0.18692625368731566, 0.20082051282051278, 0.18692625368731566, 0.18692625368731566, 0.2761206626204454, 0.279631456736035, 0.2422617171321822, 0.21244319877698106, 0.2049881648994676, 0.18720236336779913, 0.2171296381482428, 0.18956396327099656, 0.3467066800522558, 0.36198757635222606, 0.26208032508327095, 0.29140338694034607, 0.2754226746704517, 0.2760103882738583, 0.23120694944627318, 0.21033572233491096, 0.34966680306673104, 0.33501026962796515, 0.3297876990203673, 0.29802073731941564, 0.33950178486456273, 0.2965495034336693, 0.2730871593096051, 0.2448954778986001, 0.010744186046511629, 0.012771929824561403, 0.344845675139269, 0.3193747913850169, 0.3330766162873452, 0.3579508741009516, 0.3066037476113235, 0.2884674934168458]\n"
     ]
    }
   ],
   "source": [
    "print(best_fbow_tree, best_fbow_tree_score_valid, all_models, all_scores, sep='\\n')"
   ]
  },
  {
   "cell_type": "code",
   "execution_count": 47,
   "metadata": {},
   "outputs": [
    {
     "ename": "TypeError",
     "evalue": "A sparse matrix was passed, but dense data is required. Use X.toarray() to convert to a dense numpy array.",
     "traceback": [
      "\u001b[0;31m---------------------------------------------------------------------------\u001b[0m",
      "\u001b[0;31mTypeError\u001b[0m                                 Traceback (most recent call last)",
      "\u001b[0;32m<ipython-input-47-3d331d5e1644>\u001b[0m in \u001b[0;36m<module>\u001b[0;34m()\u001b[0m\n\u001b[0;32m----> 1\u001b[0;31m print(\"Best GNB Test F1:\", f1_score(yelp_test_y, best_fbow_nb.predict(yelp_fbow_test_x),average='weighted'),\n\u001b[0m\u001b[1;32m      2\u001b[0m       \"\\tValid:\", best_fbow_nb_score_valid, \"\\tTrain:\", f1_score(yelp_train_y, best_fbow_nb.predict(yelp_fbow_train_x),average='weighted'))\n\u001b[1;32m      3\u001b[0m print(\"Best LinSVC Test F1:\", f1_score(yelp_test_y, best_fbow_svc.predict(yelp_fbow_test_x),average='weighted'),\n\u001b[1;32m      4\u001b[0m       \"\\tValid:\", best_fbow_svc_score_valid, \"\\tTrain:\", f1_score(yelp_train_y, best_fbow_svc.predict(yelp_fbow_train_x),average='weighted'))\n\u001b[1;32m      5\u001b[0m print(\"Best D-tree Test F1:\", f1_score(yelp_test_y, best_fbow_tree.predict(yelp_fbow_test_x),average='weighted'),\n",
      "\u001b[0;32mC:\\Program Files\\Python37\\lib\\site-packages\\sklearn\\naive_bayes.py\u001b[0m in \u001b[0;36mpredict\u001b[0;34m(self, X)\u001b[0m\n\u001b[1;32m     64\u001b[0m             \u001b[0mPredicted\u001b[0m \u001b[0mtarget\u001b[0m \u001b[0mvalues\u001b[0m \u001b[0;32mfor\u001b[0m \u001b[0mX\u001b[0m\u001b[0;34m\u001b[0m\u001b[0m\n\u001b[1;32m     65\u001b[0m         \"\"\"\n\u001b[0;32m---> 66\u001b[0;31m         \u001b[0mjll\u001b[0m \u001b[0;34m=\u001b[0m \u001b[0mself\u001b[0m\u001b[0;34m.\u001b[0m\u001b[0m_joint_log_likelihood\u001b[0m\u001b[0;34m(\u001b[0m\u001b[0mX\u001b[0m\u001b[0;34m)\u001b[0m\u001b[0;34m\u001b[0m\u001b[0m\n\u001b[0m\u001b[1;32m     67\u001b[0m         \u001b[0;32mreturn\u001b[0m \u001b[0mself\u001b[0m\u001b[0;34m.\u001b[0m\u001b[0mclasses_\u001b[0m\u001b[0;34m[\u001b[0m\u001b[0mnp\u001b[0m\u001b[0;34m.\u001b[0m\u001b[0margmax\u001b[0m\u001b[0;34m(\u001b[0m\u001b[0mjll\u001b[0m\u001b[0;34m,\u001b[0m \u001b[0maxis\u001b[0m\u001b[0;34m=\u001b[0m\u001b[0;36m1\u001b[0m\u001b[0;34m)\u001b[0m\u001b[0;34m]\u001b[0m\u001b[0;34m\u001b[0m\u001b[0m\n\u001b[1;32m     68\u001b[0m \u001b[0;34m\u001b[0m\u001b[0m\n",
      "\u001b[0;32mC:\\Program Files\\Python37\\lib\\site-packages\\sklearn\\naive_bayes.py\u001b[0m in \u001b[0;36m_joint_log_likelihood\u001b[0;34m(self, X)\u001b[0m\n\u001b[1;32m    430\u001b[0m         \u001b[0mcheck_is_fitted\u001b[0m\u001b[0;34m(\u001b[0m\u001b[0mself\u001b[0m\u001b[0;34m,\u001b[0m \u001b[0;34m\"classes_\"\u001b[0m\u001b[0;34m)\u001b[0m\u001b[0;34m\u001b[0m\u001b[0m\n\u001b[1;32m    431\u001b[0m \u001b[0;34m\u001b[0m\u001b[0m\n\u001b[0;32m--> 432\u001b[0;31m         \u001b[0mX\u001b[0m \u001b[0;34m=\u001b[0m \u001b[0mcheck_array\u001b[0m\u001b[0;34m(\u001b[0m\u001b[0mX\u001b[0m\u001b[0;34m)\u001b[0m\u001b[0;34m\u001b[0m\u001b[0m\n\u001b[0m\u001b[1;32m    433\u001b[0m         \u001b[0mjoint_log_likelihood\u001b[0m \u001b[0;34m=\u001b[0m \u001b[0;34m[\u001b[0m\u001b[0;34m]\u001b[0m\u001b[0;34m\u001b[0m\u001b[0m\n\u001b[1;32m    434\u001b[0m         \u001b[0;32mfor\u001b[0m \u001b[0mi\u001b[0m \u001b[0;32min\u001b[0m \u001b[0mrange\u001b[0m\u001b[0;34m(\u001b[0m\u001b[0mnp\u001b[0m\u001b[0;34m.\u001b[0m\u001b[0msize\u001b[0m\u001b[0;34m(\u001b[0m\u001b[0mself\u001b[0m\u001b[0;34m.\u001b[0m\u001b[0mclasses_\u001b[0m\u001b[0;34m)\u001b[0m\u001b[0;34m)\u001b[0m\u001b[0;34m:\u001b[0m\u001b[0;34m\u001b[0m\u001b[0m\n",
      "\u001b[0;32mC:\\Program Files\\Python37\\lib\\site-packages\\sklearn\\utils\\validation.py\u001b[0m in \u001b[0;36mcheck_array\u001b[0;34m(array, accept_sparse, accept_large_sparse, dtype, order, copy, force_all_finite, ensure_2d, allow_nd, ensure_min_samples, ensure_min_features, warn_on_dtype, estimator)\u001b[0m\n\u001b[1;32m    510\u001b[0m                                       \u001b[0mdtype\u001b[0m\u001b[0;34m=\u001b[0m\u001b[0mdtype\u001b[0m\u001b[0;34m,\u001b[0m \u001b[0mcopy\u001b[0m\u001b[0;34m=\u001b[0m\u001b[0mcopy\u001b[0m\u001b[0;34m,\u001b[0m\u001b[0;34m\u001b[0m\u001b[0m\n\u001b[1;32m    511\u001b[0m                                       \u001b[0mforce_all_finite\u001b[0m\u001b[0;34m=\u001b[0m\u001b[0mforce_all_finite\u001b[0m\u001b[0;34m,\u001b[0m\u001b[0;34m\u001b[0m\u001b[0m\n\u001b[0;32m--> 512\u001b[0;31m                                       accept_large_sparse=accept_large_sparse)\n\u001b[0m\u001b[1;32m    513\u001b[0m     \u001b[0;32melse\u001b[0m\u001b[0;34m:\u001b[0m\u001b[0;34m\u001b[0m\u001b[0m\n\u001b[1;32m    514\u001b[0m         \u001b[0;31m# If np.array(..) gives ComplexWarning, then we convert the warning\u001b[0m\u001b[0;34m\u001b[0m\u001b[0;34m\u001b[0m\u001b[0m\n",
      "\u001b[0;32mC:\\Program Files\\Python37\\lib\\site-packages\\sklearn\\utils\\validation.py\u001b[0m in \u001b[0;36m_ensure_sparse_format\u001b[0;34m(spmatrix, accept_sparse, dtype, copy, force_all_finite, accept_large_sparse)\u001b[0m\n\u001b[1;32m    311\u001b[0m \u001b[0;34m\u001b[0m\u001b[0m\n\u001b[1;32m    312\u001b[0m     \u001b[0;32mif\u001b[0m \u001b[0maccept_sparse\u001b[0m \u001b[0;32mis\u001b[0m \u001b[0;32mFalse\u001b[0m\u001b[0;34m:\u001b[0m\u001b[0;34m\u001b[0m\u001b[0m\n\u001b[0;32m--> 313\u001b[0;31m         raise TypeError('A sparse matrix was passed, but dense '\n\u001b[0m\u001b[1;32m    314\u001b[0m                         \u001b[0;34m'data is required. Use X.toarray() to '\u001b[0m\u001b[0;34m\u001b[0m\u001b[0m\n\u001b[1;32m    315\u001b[0m                         'convert to a dense numpy array.')\n",
      "\u001b[0;31mTypeError\u001b[0m: A sparse matrix was passed, but dense data is required. Use X.toarray() to convert to a dense numpy array."
     ],
     "output_type": "error"
    }
   ],
   "source": [
    "print(\"Best GNB Test F1:\", f1_score(yelp_test_y, best_fbow_nb.predict(yelp_fbow_test_x.toarray()),average='weighted'),\n",
    "      \"\\tValid:\", best_fbow_nb_score_valid, \"\\tTrain:\", f1_score(yelp_train_y, best_fbow_nb.predict(yelp_fbow_train_x.toarray()),average='weighted'))\n",
    "print(\"Best LinSVC Test F1:\", f1_score(yelp_test_y, best_fbow_svc.predict(yelp_fbow_test_x),average='weighted'),\n",
    "      \"\\tValid:\", best_fbow_svc_score_valid, \"\\tTrain:\", f1_score(yelp_train_y, best_fbow_svc.predict(yelp_fbow_train_x),average='weighted'))\n",
    "print(\"Best D-tree Test F1:\", f1_score(yelp_test_y, best_fbow_tree.predict(yelp_fbow_test_x),average='weighted'),\n",
    "      \"\\tValid:\", best_fbow_tree_score_valid, \"\\tTrain:\", f1_score(yelp_train_y, best_fbow_tree.predict(yelp_fbow_train_x),average='weighted'))"
   ]
  }
 ],
 "metadata": {
  "kernelspec": {
   "display_name": "Python 2",
   "language": "python",
   "name": "python2"
  },
  "language_info": {
   "codemirror_mode": {
    "name": "ipython",
    "version": 2
   },
   "file_extension": ".py",
   "mimetype": "text/x-python",
   "name": "python",
   "nbconvert_exporter": "python",
   "pygments_lexer": "ipython2",
   "version": "2.7.6"
  }
 },
 "nbformat": 4,
 "nbformat_minor": 0
}
